{
 "cells": [
  {
   "cell_type": "code",
   "execution_count": 0,
   "metadata": {
    "colab": {},
    "colab_type": "code",
    "id": "EkktTUPaO_yi"
   },
   "outputs": [],
   "source": [
    "import numpy as np\n",
    "import matplotlib.pyplot as plt"
   ]
  },
  {
   "cell_type": "code",
   "execution_count": 0,
   "metadata": {
    "colab": {},
    "colab_type": "code",
    "id": "K1BwtIOhO_ys"
   },
   "outputs": [],
   "source": [
    "#a\n",
    "\n",
    "\n",
    "x = np.zeros([150,4]) #features\n",
    "i = 0 \n",
    "y=[]  #labels     \n",
    "\n",
    "#diavasma dedomenwn\n",
    "with open(\"PCA.data\",\"r\") as f:  \n",
    "    for line in f:\n",
    "        cur = line.split(\",\")\n",
    "        x[i,0] = float(cur[0])\n",
    "        x[i,1] = float(cur[1])\n",
    "        x[i,2] = float(cur[2])\n",
    "        x[i,3] = float(cur[3])\n",
    "        y.append(cur[4])\n",
    "        i += 1"
   ]
  },
  {
   "cell_type": "code",
   "execution_count": 0,
   "metadata": {
    "colab": {},
    "colab_type": "code",
    "id": "LuOlf4iOO_yx",
    "outputId": "4fb85ba7-7edb-4305-b81a-10ce872117a2"
   },
   "outputs": [
    {
     "name": "stdout",
     "output_type": "stream",
     "text": [
      "Mesh timh: -4.736951571734001e-16\n",
      "Diaspora 1.0\n",
      "Mesh timh: -6.631732200427602e-16\n",
      "Diaspora 0.9999999999999998\n",
      "Mesh timh: 3.315866100213801e-16\n",
      "Diaspora 0.9999999999999997\n",
      "Mesh timh: -2.842170943040401e-16\n",
      "Diaspora 1.0000000000000002\n"
     ]
    }
   ],
   "source": [
    "\n",
    "mean = np.zeros(4) \n",
    "var = np.zeros(4)   \n",
    "for i in range(4):\n",
    "    mean[i] = np.sum(X[:,i]) / 150    \n",
    "    var[i] = np.sum((X[:,i]-mean[i])**2) / 150  \n",
    "    x[:,i] -= mean[i]  \n",
    "    x[:,i] = x[:,i] / np.sqrt(var[i])\n",
    "    \n",
    "    \n",
    "    print(\"Mean:\",np.mean(x[:,i]))\n",
    "    print(\"Variance\", np.var(x[:,i]))"
   ]
  },
  {
   "cell_type": "code",
   "execution_count": 0,
   "metadata": {
    "colab": {},
    "colab_type": "code",
    "id": "xFIDEjlMO_y5"
   },
   "outputs": [],
   "source": [
    "\n",
    "Covn = np.dot(np.transpose(X),X)/149   # Ypologizoume ton pinaka syndiakimanshs"
   ]
  },
  {
   "cell_type": "code",
   "execution_count": 0,
   "metadata": {
    "colab": {},
    "colab_type": "code",
    "id": "31enRomYO_y9"
   },
   "outputs": [],
   "source": [
    "\n",
    "U, H, V = np.linalg.svd(Covn,full_matrices=True)  # kanoume ton SVD metasxhmatismo (idiotimes me fthinousa seira)\n",
    "D = np.zeros([4,4])  # Epeidh mas dinei ton pinaka idiotimwn se mia diastash ton pername se diastash 150*150(diagwnio)\n",
    "for i in range(4):\n",
    "     D[i,i] = H[i]"
   ]
  },
  {
   "cell_type": "code",
   "execution_count": 0,
   "metadata": {
    "colab": {},
    "colab_type": "code",
    "id": "_LzVmzVPO_zC"
   },
   "outputs": [],
   "source": [
    "\n",
    "# Pairnoume tis prwtes dyo sthles tou U kai ton panw aristera ypopinaka tou D gia na meiwsoume tis diastaseis\n",
    "U_new = np.zeros([4,2])\n",
    "D_new = np.zeros([2,2])\n",
    "U_new = U[:,0:2]\n",
    "D_new = D[0:2,0:2]\n",
    "\n",
    "\n",
    "b = np.dot(U_new,D_new)     \n",
    "G = np.dot(X,b)"
   ]
  },
  {
   "cell_type": "code",
   "execution_count": 0,
   "metadata": {
    "colab": {},
    "colab_type": "code",
    "id": "0eyFFjZOO_zH",
    "outputId": "2ded4bca-1699-463a-d4d0-b64b7b186943"
   },
   "outputs": [
    {
     "data": {
      "image/png": "[encoded data removed]",
      "text/plain": [
       "<Figure size 432x288 with 1 Axes>"
      ]
     },
     "metadata": {
      "needs_background": "light",
      "tags": []
     },
     "output_type": "display_data"
    }
   ],
   "source": [
    "plt.scatter(G[0:50,0], G[0:50,1], color=\"red\")\n",
    "plt.scatter(G[50:100,0], G[50:100,1], color=\"blue\")\n",
    "plt.scatter(G[100:150,0], G[100:150,1], color=\"green\")\n",
    "plt.show()"
   ]
  },
  {
   "cell_type": "code",
   "execution_count": 0,
   "metadata": {
    "colab": {},
    "colab_type": "code",
    "id": "68hGVsRHO_zM",
    "outputId": "2527b455-f4a0-48ea-8f21-5ed862ac66d8"
   },
   "outputs": [
    {
     "name": "stdout",
     "output_type": "stream",
     "text": [
      "To pososto pou diathrei mono me thn prwth synistwsa 72.77045209380137 %\n",
      "To pososto pou diathrei me tis prwtes dyo synistwses 95.800975361482 %\n",
      "Ara o elaxistos arithmos apo apaitoumenes synistwses einai dyo\n"
     ]
    }
   ],
   "source": [
    "\n",
    "print(\" prwth synistwsa\",H[0]/np.sum(H)*100,\"%\")\n",
    "print(\" prwtes dyo synistwses\",(H[0]+H[1])/np.sum(H)*100,\"%\")\n"
   ]
  }
 ],
 "metadata": {
  "colab": {
   "collapsed_sections": [],
   "name": "Analytikh_2.ipynb",
   "provenance": []
  },
  "kernelspec": {
   "display_name": "Python 3",
   "language": "python",
   "name": "python3"
  },
  "language_info": {
   "codemirror_mode": {
    "name": "ipython",
    "version": 3
   },
   "file_extension": ".py",
   "mimetype": "text/x-python",
   "name": "python",
   "nbconvert_exporter": "python",
   "pygments_lexer": "ipython3",
   "version": "3.6.8"
  }
 },
 "nbformat": 4,
 "nbformat_minor": 1
}
