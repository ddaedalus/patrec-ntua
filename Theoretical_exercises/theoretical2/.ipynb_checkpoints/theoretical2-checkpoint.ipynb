{
 "cells": [
  {
   "cell_type": "markdown",
   "metadata": {},
   "source": [
    "<img src=\"ask1.png\">"
   ]
  },
  {
   "cell_type": "markdown",
   "metadata": {},
   "source": [
    "**Λύση**"
   ]
  },
  {
   "cell_type": "markdown",
   "metadata": {},
   "source": [
    "**(α) Forward Probabilities**"
   ]
  },
  {
   "cell_type": "markdown",
   "metadata": {},
   "source": [
    "Θέλουμε να υπολογίσουμε την πιθανότητα P(x|λ) κάνοντας χρήση του forward αλγόριθμου, δεδομένου ότι η observed sequence είναι η CGTCAG. Παρακάτω, αναπαριστούμε το HMM model."
   ]
  },
  {
   "cell_type": "markdown",
   "metadata": {},
   "source": [
    "<img src=\"hmm1.png\">"
   ]
  },
  {
   "cell_type": "markdown",
   "metadata": {},
   "source": [
    "Μένει να υπολογίσουμε τις forward probabilities $a_i(S_i)$. \n",
    "$$ a_1(s_1) = 0.05,$$\n",
    "$$a_1(s_2)=0.2 $$  \n",
    "\n",
    "$$ a_2(S_1)= P(S_1|S_1) \\cdot P(G|S_1) \\cdot a_1(S_1) + P(S_1|S_2) \\cdot P(G|S_1) \\cdot a_1(S_2) = 0.032$$\n",
    "$$ a_2(S_2)= P(S_2|S_2) \\cdot P(G|S_2) \\cdot a_1(S_2) + P(S_2|S_1) \\cdot P(G|S_2) \\cdot a_1(S_1) = 0.017$$  \n",
    "\n",
    "$$ a_3(S_1)= P(S_1|S_1) \\cdot P(T|S_1) \\cdot a_2(S_1) + P(S_1|S_2) \\cdot P(T|S_1) \\cdot a_2(S_2) = 0.029$$\n",
    "$$ a_3(S_2)= P(S_2|S_2) \\cdot P(T|S_2) \\cdot a_2(S_2) + P(S_2|S_1) \\cdot P(T|S_2) \\cdot a_2(S_1) = 0.008$$  \n",
    "\n",
    "$$ a_4(S_1)= P(S_1|S_1) \\cdot P(C|S_1) \\cdot a_3(S_1) + P(S_1|S_2) \\cdot P(C|S_1) \\cdot a_3(S_2) = 0.00248$$\n",
    "$$ a_4(S_2)= P(S_2|S_2) \\cdot P(C|S_2) \\cdot a_3(S_2) + P(S_2|S_1) \\cdot P(C|S_2) \\cdot a_3(S_1) = 0.00488$$  \n",
    "\n",
    "$$ a_5(S_1)= P(S_1|S_1) \\cdot P(A|S_1) \\cdot a_4(S_1) + P(S_1|S_2) \\cdot P(A|S_1) \\cdot a_4(S_2) = 0.0046976$$ \n",
    "$$ a_5(S_2)= P(S_2|S_2) \\cdot P(A|S_2) \\cdot a_4(S_2) + P(S_2|S_1) \\cdot P(A|S_2) \\cdot a_4(S_1) = 0.00044$$   \n",
    "\n",
    "$$ a_6(S_1)= P(S_1|S_1) \\cdot P(G|S_1) \\cdot a_5(S_1) + P(S_1|S_2) \\cdot P(G|S_1) \\cdot a_5(S_2) = 0.001538432$$\n",
    "$$ a_6(S_2)= P(S_2|S_2) \\cdot P(G|S_2) \\cdot a_5(S_2) + P(S_2|S_1) \\cdot P(G|S_2) \\cdot a_5(S_1) = 0.000129152$$  \n",
    " \n",
    " "
   ]
  },
  {
   "cell_type": "markdown",
   "metadata": {},
   "source": [
    "Έχουμε:   \n",
    "\n",
    "$ P(\\textbf x|λ) = 0.001538432 + 0.000129152 = 0.001667584 $, αποτέλεσμα που προέκυψε με κάποιες στρογγυλοποιήσεις."
   ]
  },
  {
   "cell_type": "markdown",
   "metadata": {},
   "source": [
    "**(β) $γ_i$**"
   ]
  },
  {
   "cell_type": "markdown",
   "metadata": {},
   "source": [
    "Υπολογίζουμε πρώτα τα $α_i$, $β_i$ και ύστερα τα $γ_i$.   \n",
    "Για το πρώτο state:    \n",
    "$α_1 = [0.05, 0.65306122, 0.26605505, 0.12311558, 0.60137931, 0.83628137]$   \n",
    "Για το δεύτερο state:   \n",
    "$α_2 = [0.2, 0.34693878, 0.73394495, 0.87688442, 0.39862069, 0.16371863]$   \n",
    "\n",
    "Για το πρώτο state:   \n",
    "$β_1 = [5.12546277, 0.68531469, 0.85191279, 2.29206088, 1.26748252, 1]$   \n",
    "Για το δεύτερο state:   \n",
    "$β_2 = [3.71863431, 1.59234883, 1.05368161, 0.81859317, 0.59646236, 1]$   \n",
    "\n",
    "Για το πρώτο state:  \n",
    "$γ_1 = [0.25627314, 0.44755245, 0.2266557, 0.2821884, 0.76223776, 0.83628137]$   \n",
    "Για το δεύτερο state:   \n",
    "$γ_2 = [0.74372686, 0.55244755, 0.7733443, 0.7178116, 0.23776224, 0.16371863]$"
   ]
  },
  {
   "cell_type": "markdown",
   "metadata": {},
   "source": [
    "**(γ) Viterbi algorithm**"
   ]
  },
  {
   "cell_type": "markdown",
   "metadata": {},
   "source": [
    "Αρχικοποιούμε $v_1(i) = π_i b_i$, $v_1(1) = 1/20$, $v_1(2)=1/5$.  \n",
    "\n",
    "Επαναλαμβάνουμε την διαδικασία με $v_t(j) = max [v_{t-1}(i) a_{ij} b_j(x_t)]$. Λαμβάνουμε:   \n",
    "$v_2(1) = max(\\frac{32}{2000}, \\frac{32}{2000}) $   \n",
    "\n",
    "$v_2(2) = max(\\frac{1}{1000}, \\frac{16}{1000}) $   \n",
    "\n",
    "$v_3(1) = max(\\frac{256}{200000}, \\frac{32}{100000}) $   \n",
    "\n",
    "$v_3(2) = max(\\frac{256}{200000}, \\frac{512}{100000}) $  \n",
    "\n",
    "$v_4(1) = max(\\frac{1024}{10000000}, \\frac{1024}{10000000}) $   \n",
    "\n",
    "$v_4(2) = max(\\frac{1024}{10000000}, \\frac{16384}{10000000}) $   \n",
    "\n",
    "$v_5(1) = max(\\frac{32768}{10^9}, \\frac{131072}{10^9}) $   \n",
    "\n",
    "$v_5(2) = max(\\frac{2048}{10^9}, \\frac{131072}{10^9}) $   \n",
    "\n",
    "$v_6(1) = max(\\frac{4194304}{10^{11}}, \\frac{1018576}{10^{11}}) $   \n",
    "\n",
    "$v_6(1) = max(\\frac{262141}{10^{11}}, \\frac{1018576}{10^{11}}) $   \n",
    "\n",
    "Επομένως, η πιο πιθανή ακολουθία με τον αλγόριθμο Viterbi είναι η $2->2->2->2->1->1$, με πιθανότητα να συμβεί $\\frac{4194304}{10^{11}}$."
   ]
  },
  {
   "cell_type": "markdown",
   "metadata": {},
   "source": [
    "<img src=\"ask2_1.png\">"
   ]
  },
  {
   "cell_type": "markdown",
   "metadata": {},
   "source": [
    "<img src=\"ask2_2.png\">"
   ]
  },
  {
   "cell_type": "markdown",
   "metadata": {},
   "source": [
    "**Λύση**"
   ]
  },
  {
   "cell_type": "markdown",
   "metadata": {},
   "source": [
    "**(α) Διάβασμα δεδομένων**"
   ]
  },
  {
   "cell_type": "code",
   "execution_count": 4,
   "metadata": {},
   "outputs": [
    {
     "name": "stdout",
     "output_type": "stream",
     "text": [
      "First 5 records:\n",
      "\n",
      "     0    1    2    3            4\n",
      "0  5.1  3.5  1.4  0.2  Iris-setosa\n",
      "1  4.9  3.0  1.4  0.2  Iris-setosa\n",
      "2  4.7  3.2  1.3  0.2  Iris-setosa\n",
      "3  4.6  3.1  1.5  0.2  Iris-setosa\n",
      "4  5.0  3.6  1.4  0.2  Iris-setosa\n"
     ]
    }
   ],
   "source": [
    "import pandas as pd \n",
    "import numpy as np\n",
    "\n",
    "# Read Data and take rows and columns\n",
    "df = pd.read_csv('PCA.data', na_values = '?', header = None) \n",
    "print(\"First 5 records:\\n\")\n",
    "print(df.head())\n",
    "\n",
    "# Drop the last column\n",
    "y = np.array(df[4])\n",
    "del df[4]"
   ]
  },
  {
   "cell_type": "markdown",
   "metadata": {},
   "source": [
    "**(β) Προεπεξεργασία δεδομένων**"
   ]
  },
  {
   "cell_type": "code",
   "execution_count": 5,
   "metadata": {},
   "outputs": [],
   "source": [
    "# Preprocessing \n",
    "# (X - μ) / σ\n",
    "# Standardization\n",
    "data = np.array(df)\n",
    "for i in range(4):\n",
    "    mu = np.mean(data[:,i])\n",
    "    sigma = np.sqrt(np.var(data[:,i]))\n",
    "    data[:,i] = (data[:,i] - mu) / sigma"
   ]
  },
  {
   "cell_type": "markdown",
   "metadata": {},
   "source": [
    "**(γ) Υπολογισμός δειγματικού πίνακα συνδιασπορών** "
   ]
  },
  {
   "cell_type": "code",
   "execution_count": 6,
   "metadata": {},
   "outputs": [
    {
     "name": "stdout",
     "output_type": "stream",
     "text": [
      "Δειγματικός πίνακας συνδιασπορών\n",
      "\n",
      "[[ 1.00671141 -0.11010327  0.87760486  0.82344326]\n",
      " [-0.11010327  1.00671141 -0.42333835 -0.358937  ]\n",
      " [ 0.87760486 -0.42333835  1.00671141  0.96921855]\n",
      " [ 0.82344326 -0.358937    0.96921855  1.00671141]]\n"
     ]
    }
   ],
   "source": [
    "M = len(data)\n",
    "cov = np.zeros((4,4))\n",
    "for i in range(M):\n",
    "    cov += np.matmul(np.array([data[i]]).transpose(), np.array([data[i]]))\n",
    "    \n",
    "cov = cov / (M - 1)\n",
    "print('Δειγματικός πίνακας συνδιασπορών\\n')\n",
    "print(cov)\n",
    "\n",
    "# print(np.cov(data, rowvar=False)) same result"
   ]
  },
  {
   "cell_type": "markdown",
   "metadata": {},
   "source": [
    "**(δ) Singular Value Decomposition (SVD)**"
   ]
  },
  {
   "cell_type": "code",
   "execution_count": 53,
   "metadata": {},
   "outputs": [
    {
     "name": "stdout",
     "output_type": "stream",
     "text": [
      "[[-0.52237162 -0.37231836  0.72101681  0.26199559]\n",
      " [ 0.26335492 -0.92555649 -0.24203288 -0.12413481]\n",
      " [-0.58125401 -0.02109478 -0.14089226 -0.80115427]\n",
      " [-0.56561105 -0.06541577 -0.6338014   0.52354627]]\n",
      "\n",
      "[[2.93035378 0.         0.         0.        ]\n",
      " [0.         0.92740362 0.         0.        ]\n",
      " [0.         0.         0.14834223 0.        ]\n",
      " [0.         0.         0.         0.02074601]]\n",
      "\n",
      "[[-0.52237162  0.26335492 -0.58125401 -0.56561105]\n",
      " [-0.37231836 -0.92555649 -0.02109478 -0.06541577]\n",
      " [ 0.72101681 -0.24203288 -0.14089226 -0.6338014 ]\n",
      " [ 0.26199559 -0.12413481 -0.80115427  0.52354627]]\n"
     ]
    }
   ],
   "source": [
    "u, d, vh = np.linalg.svd(cov, full_matrices=True)\n",
    "print(u)\n",
    "print()\n",
    "print(np.diag(d))\n",
    "print()\n",
    "print(vh)"
   ]
  },
  {
   "cell_type": "markdown",
   "metadata": {},
   "source": [
    "Παρατηρούμε πως ο αρχικός δειγματικός πίνακας συνδιασπορών ήταν συμμετρικός και θετικά ορισμένος. Αυτό έχει σαν αποτέλεσμα οι $U = V$ και να περιέχουν τα ιδιοδιανύσματα, ενώ ο D να είναι ένας διαγώνιος πίνακας με τις αντίστοιχες ιδιοτιμές. Στον D οι ιδιοτιμές εμφανίζονται σε φθίνουσα σειρά."
   ]
  },
  {
   "cell_type": "markdown",
   "metadata": {},
   "source": [
    "**(ε) Principal Component Analysis (PCA)**"
   ]
  },
  {
   "cell_type": "code",
   "execution_count": 54,
   "metadata": {},
   "outputs": [
    {
     "data": {
      "image/png": "[encoded data removed]",
      "text/plain": [
       "<Figure size 432x288 with 1 Axes>"
      ]
     },
     "metadata": {
      "needs_background": "light"
     },
     "output_type": "display_data"
    }
   ],
   "source": [
    "import matplotlib.pyplot as plt\n",
    "\n",
    "u_new = u[:,0:2]\n",
    "d = np.diag(d)\n",
    "d_new = d[0:2,0:2]\n",
    "\n",
    "b = np.dot(u_new, d_new)     \n",
    "dataPCA = np.dot(data, b)\n",
    "\n",
    "# Plot \n",
    "plt.title('Principal Component Analysis using SVD')\n",
    "plt.scatter(dataPCA[0:50,0], dataPCA[0:50,1], color='red', edgecolors='k', s=60, alpha=0.9)\n",
    "plt.scatter(dataPCA[50:100,0], dataPCA[50:100,1], color='yellow', edgecolors='k', s=60, alpha=0.9)\n",
    "plt.scatter(dataPCA[100:150,0], dataPCA[100:150,1], color='blue', edgecolors='k', s=60, alpha=0.9)\n",
    "plt.show()"
   ]
  },
  {
   "cell_type": "code",
   "execution_count": 16,
   "metadata": {},
   "outputs": [
    {
     "name": "stdout",
     "output_type": "stream",
     "text": [
      "['Iris-setosa' 'Iris-versicolor' 'Iris-virginica']\n"
     ]
    }
   ],
   "source": [
    "# unique labels/types\n",
    "print(pd.unique(y))"
   ]
  },
  {
   "cell_type": "code",
   "execution_count": 51,
   "metadata": {},
   "outputs": [
    {
     "data": {
      "image/png": "[encoded data removed]",
      "text/plain": [
       "<Figure size 432x288 with 1 Axes>"
      ]
     },
     "metadata": {
      "needs_background": "light"
     },
     "output_type": "display_data"
    }
   ],
   "source": [
    "from sklearn.decomposition import PCA\n",
    "import matplotlib.pyplot as plt\n",
    "\n",
    "pca = PCA(n_components=2)\n",
    "dataPCA = pca.fit_transform(data)\n",
    "\n",
    "# Plot \n",
    "X0, X1 = dataPCA[:,0], dataPCA[:,1]\n",
    "colors = {\n",
    "    'Iris-setosa': 'red',\n",
    "    'Iris-versicolor': 'yellow',\n",
    "    'Iris-virginica': 'blue'\n",
    "}\n",
    "fig, ax = plt.subplots()\n",
    "for i,label in enumerate(colors.keys()):\n",
    "    ax.scatter(\n",
    "        X0[y == label], X1[y == label],\n",
    "        c=(colors[label]),\n",
    "        s=60, alpha=0.9, edgecolors='k'\n",
    "    )\n",
    "ax.set_xlabel('Component-1')\n",
    "ax.set_ylabel('Component-2')\n",
    "ax.set_title('Principal Component Analysis using sklearn PCA')\n",
    "plt.show()"
   ]
  },
  {
   "cell_type": "markdown",
   "metadata": {},
   "source": [
    "**(στ) PCA explained variation**"
   ]
  },
  {
   "cell_type": "code",
   "execution_count": 55,
   "metadata": {},
   "outputs": [
    {
     "name": "stdout",
     "output_type": "stream",
     "text": [
      "Using PCA with SVD\n",
      "\n",
      "Explained variation for PCA(2): 0.9580097536148198\n",
      "Explained variation for PCA(1): 0.7277045209380135\n"
     ]
    }
   ],
   "source": [
    "print(\"Using PCA with SVD\\n\")\n",
    "\n",
    "print('Explained variation for PCA(2): {}'.format(np.sum((d[0] + d[1]) / np.sum(d))))\n",
    "print('Explained variation for PCA(1): {}'.format(d[0,0] / np.sum(d)))"
   ]
  },
  {
   "cell_type": "code",
   "execution_count": 21,
   "metadata": {},
   "outputs": [
    {
     "name": "stdout",
     "output_type": "stream",
     "text": [
      "Using sklearn PCA\n",
      "\n",
      "Explained variation for PCA(2): 0.9580097536148197\n",
      "Explained variation for PCA(1): 0.7277045209380132\n"
     ]
    }
   ],
   "source": [
    "print(\"Using sklearn PCA\\n\")\n",
    "var2 = np.sum(pca.explained_variance_ratio_)\n",
    "print('Explained variation for PCA(2): {}'.format(var2))\n",
    "\n",
    "pca = PCA(n_components=1)\n",
    "dataPCA = pca.fit_transform(data)\n",
    "var1 = np.sum(pca.explained_variance_ratio_)\n",
    "print('Explained variation for PCA(1): {}'.format(var1))"
   ]
  },
  {
   "cell_type": "markdown",
   "metadata": {},
   "source": [
    "Παρατηρούμε ότι και με χρήση του SVD και με χρήση του sklearn, τα δυο PCA δίνουν ακριβώς τα ίδια αποτελέσματα, όπως και περιμέναμε. Βλέπουμε ακόμα ότι ο ελάχιστος αριθμός κύριων συνιστωσών που ερμηνεύεται τουλάχιστον το 95% της πληροφορίας (variance) των τιμών ειναι για n_components $= 2$."
   ]
  },
  {
   "cell_type": "markdown",
   "metadata": {},
   "source": [
    "<img src=\"ask3.png\">"
   ]
  },
  {
   "cell_type": "markdown",
   "metadata": {},
   "source": [
    "**Λύση**"
   ]
  },
  {
   "cell_type": "markdown",
   "metadata": {},
   "source": [
    "**(α)**"
   ]
  },
  {
   "cell_type": "markdown",
   "metadata": {},
   "source": [
    "Για $Κ=2$, έχουμε:  \n",
    "$$\\textbf S_B = P(ω_1)(\\textbf μ_1 - \\textbf μ) (\\textbfμ_1 - \\textbfμ)^Τ + \n",
    "P(ω_2)(\\textbf μ_2 - \\textbf μ) (\\textbfμ_2 - \\textbfμ)^Τ $$   \n",
    "\n",
    "Γνωρίζουμε ότι το $\\textbf μ$, ως ο μέσος όρος όλων των data points μπορεί να γραφεί:   \n",
    "\n",
    "$$ \\textbf μ = \\frac {1}{N} (N_1\\textbfμ_1 + Ν_2 \\textbfμ_2) = P(ω_1)\\textbfμ_1 + Ρ(ω_2) \\textbfμ_2 $$   \n",
    "\n",
    "Ακόμη, επειδή έχουμε μόνο δυο κατηγορίες (classes) θα έχουμε ότι $ P(ω_1)= 1 - P(ω_2)$. Άρα, μπορούμε να γράψουμε:  \n",
    "\n",
    "$$\\textbf S_B = P(ω_1) \\left((1-Ρ(ω_1))\\textbf μ_1 - Ρ(ω_2)\\textbf μ_2\\right)\n",
    "                \\left((1-Ρ(ω_1))\\textbf μ_1 - Ρ(ω_2)\\textbf μ\\right) ^T  + \n",
    "                P(ω_2) \\left((1-Ρ(ω_2))\\textbf μ_2 - Ρ(ω_1)\\textbf μ_1\\right)\n",
    "                \\left((1-Ρ(ω_2))\\textbf μ_2 - Ρ(ω_1)\\textbf μ_1\\right) ^T$$   \n",
    "                \n",
    "$$ =  P(ω_1) \\left(Ρ(ω_2)\\textbf μ_1 - Ρ(ω_2)\\textbf μ_2\\right)\n",
    "      \\left(Ρ(ω_2)\\textbf μ_1 - Ρ(ω_2)\\textbf μ_2\\right) ^T  + \n",
    "      P(ω_2) \\left(Ρ(ω_1)\\textbf μ_2 - Ρ(ω_1)\\textbf μ_1\\right)\n",
    "      \\left(Ρ(ω_1)\\textbf μ_2 - Ρ(ω_1)\\textbf μ_1\\right) ^T$$\n",
    "      \n",
    "$$ =  P(ω_1)P(ω_2)(Ρ(ω_1)+P(ω_2)) \\left(\\textbf μ_1 - \\textbf μ_2\\right)\n",
    "      \\left(\\textbf μ_1 - \\textbf μ_2\\right) ^T$$  \n",
    "      \n",
    "$$ =  P(ω_1)P(ω_2) \\left(\\textbf μ_2 - \\textbf μ_1\\right)\n",
    "      \\left(\\textbf μ_2 - \\textbf μ_1\\right) ^T  $$"
   ]
  },
  {
   "cell_type": "markdown",
   "metadata": {},
   "source": [
    "**(β) Eigenvalue problem**"
   ]
  },
  {
   "cell_type": "markdown",
   "metadata": {},
   "source": [
    "Έχουμε:  \n",
    "\n",
    "$$\\textbf S_W^{-1} \\textbf S_B \\textbf x = λ \\textbf x $$   \n",
    "\n",
    "Aλλά  \n",
    "\n",
    "$$ \\textbf S_B \\textbf x = (\\textbfμ_1-\\textbfμ_2)(\\textbfμ_1-\\textbfμ_2)^T = a(\\textbfμ_1-\\textbfμ_2)$$   \n",
    "\n",
    "Αυτό σημαίνει πως το παραπάνω διάνυσμα δείχνει πάντα προς την κατεύθυνση του $\\textbfμ_1-\\textbfμ_2$, αφού ο a είναι scalar. Έτσι, επιλύουμε το πρόβλημα των ιδιοτιμών απευθείας.\n",
    "Πιο αναλυτικά:   \n",
    "\n",
    "$$ \\textbf S_W^{-1} \\textbf S_B \\textbf x = \\textbf S_W^{-1} [a(\\textbfμ_1-\\textbfμ_2)]= a[\\textbf S_W^{-1}(\\textbfμ_1-\\textbfμ_2)] $$  \n",
    "\n",
    "όπου $λ=a$, η ιδιοτιμή, και $\\textbf x= \\textbf S_W^{-1}(\\textbfμ_1-\\textbfμ_2)$, το ιδιοδιάνυσμα."
   ]
  },
  {
   "cell_type": "markdown",
   "metadata": {},
   "source": [
    "<img src=\"ask4.png\">"
   ]
  },
  {
   "cell_type": "markdown",
   "metadata": {},
   "source": [
    "**Λύση**"
   ]
  },
  {
   "cell_type": "markdown",
   "metadata": {},
   "source": [
    "Ελέγχουμε αν τα δείγματα είναι γραμμικά διαχωρίσιμα. Από την παρακάτω γραφική παράσταση, βλέπουμε φανερά πως δεν είναι και, από την άλλη, συμπεραίνουμε ότι το πρόβλημά μας είναι παρόμοιο με αυτό της XOR."
   ]
  },
  {
   "cell_type": "markdown",
   "metadata": {},
   "source": [
    "<img src=\"mlp.png\">"
   ]
  },
  {
   "cell_type": "markdown",
   "metadata": {},
   "source": [
    "Παρακάτω, σχεδιάζουμε το MLP που επιλύει πλήρως το πρόβλημά μας."
   ]
  },
  {
   "cell_type": "markdown",
   "metadata": {},
   "source": [
    "<img src=\"mlp2.png\">"
   ]
  },
  {
   "cell_type": "markdown",
   "metadata": {},
   "source": [
    "Για το παραπάνω MLP, το οποίο χρησιμοποιεί για activation function την step function: $f(x) = 1, x>0$ αλλίως $-1$, τρέχουμε όλα τα data points που έχουμε δεδομένα και δείχνουμε πως κατηγοριοποιούνται όλα σωστά.  \n",
    "\n",
    "Για το [4.5,1]: $step(4.5(10)+1(10)-40)=1$, $step(4.5(-10)+1(-10)+80)=1$, $step(1(20)+1(20)-30)=1$, αρα ορθώς κατηγοριοποιείται στην πρώτη κατηγορία.   \n",
    "Για το [5,2]: $step(5(10)+2(10)-40)=1$, $step(5(-10)+2(-10)+80)=1$, $step(1(20)+1(20)-30)=1$, αρα ορθώς κατηγοριοποιείται στην πρώτη κατηγορία.   \n",
    "Για το [5,1]: $step(5(10)+1(10)-40)=1$, $step(5(-10)+1(-10)+80)=1$, $step(1(20)+1(20)-30)=1$, αρα ορθώς κατηγοριοποιείται στην πρώτη κατηγορία.  \n",
    "Ομοίως και τα για τα υπόλοιπα data points, όλα κατηγοριοποιούνται στις σωστές κατηγορίες. "
   ]
  },
  {
   "cell_type": "markdown",
   "metadata": {},
   "source": [
    "<img src=\"ask5.png\">"
   ]
  },
  {
   "cell_type": "markdown",
   "metadata": {},
   "source": [
    "**Λύση**"
   ]
  },
  {
   "cell_type": "markdown",
   "metadata": {},
   "source": [
    "Αρχικά, θα εκτελέσουμε forward propagation για να βρούμε τα $s_1$, $s_2$, $s_3$ και το $y$:  \n",
    "\n",
    "$$s_1 = -1.7(-0.7)+0.1(1.2)=1.31$$\n",
    "$$h_1 = σ(s_1) = 0.78751$$   \n",
    "\n",
    "$$s_2 = 1.1(-0.6) + (-2)(-1.8) = 2.94 $$\n",
    "$$h_2 = σ(s_2) = 0.94979 $$  \n",
    "\n",
    "$$s_3 = h_1(-0.2) + h_2(0.5) = 0.3174$$\n",
    "$$y = σ(s_3)=0.5787$$   \n",
    "\n",
    "Στην συνέχεια, εκτελούμε το backpropagation για να βρούμε τα deltas, $δ=\\frac{\\partial L}{\\partial s}$, και τελικά το $\\frac{\\partial L}{\\partial ω_1}$:  \n",
    "Για το output unit:  \n",
    "$$δ_1^{(3)} = 2||t-y||\\cdot σ'(s_3)$$  \n",
    "\n",
    "Για το hidden unit: \n",
    "$$δ_1^{(2)} = σ'(s_1)\\cdot ω_5 \\cdot δ_1^{(3)}$$  \n",
    "\n",
    "Τελικά, υπολογίζουμε το ζητούμενο derivative:\n",
    "$$\\frac{\\partial L}{\\partial ω_1} = δ_1^{(2)} \\cdot x_1 = 8.99 \\cdot 10^{-4} $$"
   ]
  },
  {
   "cell_type": "markdown",
   "metadata": {},
   "source": [
    "<img src=\"ask6_1.png\">"
   ]
  },
  {
   "cell_type": "markdown",
   "metadata": {},
   "source": [
    "<img src=\"ask6_2.png\">"
   ]
  },
  {
   "cell_type": "markdown",
   "metadata": {},
   "source": [
    "**Λύση**"
   ]
  },
  {
   "cell_type": "markdown",
   "metadata": {},
   "source": [
    "**(α) Example**"
   ]
  },
  {
   "cell_type": "markdown",
   "metadata": {},
   "source": [
    "Έχουμε ότι $φ(\\textbf x_n)=\\textbf x_n$, και άρα μπορούμε να γράψουμε:  \n",
    "\n",
    "$$ \\textbf w = [w_1, w_2] $$\n",
    "$$ \\textbf w = \\sum_{n=1}^{N} {a_n t_n \\textbf x_n} = [2 a_1 t_1 + 2.5 a_2 t_2 + 5a_3 t_3 + 7 a_4 t_4, 2 a_1 t_1 + 2.5 a_2 t_2 + 5 a_3 t_3 + 7 a_4 t_4] $$  \n",
    "\n",
    "Άρα, λαμβάνουμε ότι $w_1 = w_2 $, και άρα μπορούμε να γράψουμε"
   ]
  },
  {
   "cell_type": "markdown",
   "metadata": {},
   "source": [
    "**(β) Support Vectors**"
   ]
  },
  {
   "cell_type": "markdown",
   "metadata": {},
   "source": [
    "Έχουμε ότι:  \n",
    "\n",
    "$-1 < Κ(\\textbf u, \\textbf v) < 1$,  \n",
    "\n",
    "$C < \\frac{1}{N-1}$   \n",
    "\n",
    "και θέλουμε να ότι όλες οι δυϊκές μεταβλητές $a_n$ είναι μη μηδενικές.  \n",
    "Υποθέτουμε πως υπάρχει κάποια δυϊκή μεταβλητή $a_j = 0$ και θέλουμε να οδηγηθούμε σε άτοπο. Λαμβάνοντας υπόψιν ότι $b_n \\geq 0$ και ότι $a_n + b_n = C$, παίρνουμε ότι:   \n",
    "\n",
    "$ a_n + b_n < \\frac{1}{N-1} => a_n < \\frac{1}{N-1}$, για κάθε $n \\in [1, N]$.   \n",
    "\n",
    "Ακόμη, επειδή $a_j = 0$ τότε $a_j + b_j = C => b_j \\neq 0 $. Και επειδή $b_j ξ_j = 0 => ξ_j=0$. Έτσι, μπορούμε να γράψουμε:   \n",
    "\n",
    "$$ ξ_j = |t_j - y(\\textbf x_j)| = 0 $$   \n",
    "\n",
    "$$ => \\left|t_j - \\sum_{n=1}^{N} {a_n t_n K(\\textbf x_j, \\textbf x_n)}\\right| = 0$$  \n",
    "$$ => t_j = \\sum_{n=1}^{N} {a_n t_n K(\\textbf x_j, \\textbf x_n)} $$   \n",
    "$$ => |t_j| = \\left|\\sum_{n=1}^{N} {a_n t_n K(\\textbf x_j, \\textbf x_n)}\\right|$$   \n",
    "$$ => 1 = \\left|\\sum_{n=1}^{N} {a_n t_n K(\\textbf x_j, \\textbf x_n)}\\right|$$    \n",
    "\n",
    "Άρκει να δείξουμε ότι η παραπάνω συνθήκη οδηγεί σε άτοπο. Aπό τριγωνική ανισότητα ισχύει ότι:    \n",
    "\n",
    "$$ \\left|\\sum_{n=1}^{N} {a_n t_n K(\\textbf x_j, \\textbf x_n)}\\right| \\leq \\sum_{n=1}^{N} {|a_n t_n K(\\textbf x_j, \\textbf x_n)|} = \\sum_{n=1}^{N} {|a_n| |t_n| |K(\\textbf x_j, \\textbf x_n)|}$$   \n",
    "\n",
    "Έχουμε ακόμη ότι:   \n",
    "\n",
    "$$|a_n| < \\frac{1}{N-1}$$    \n",
    "$$ |Κ(\\textbf u, \\textbf v)| < 1$$    \n",
    "$$ |t_n| = 1 $$   \n",
    "\n",
    "Όμως, το παραπάνω άθροισμα περιέχει όλα τα μη αρνητικά $a_n$, και άρα αθροίζει συνολικά Ν-1 όρους. Άρα προκύπτει:  \n",
    "\n",
    "$$ \\left|\\sum_{n=1}^{N} {a_n t_n K(\\textbf x_j, \\textbf x_n)}\\right| \\leq \\sum_{n=1}^{N} {|a_n t_n K(\\textbf x_j, \\textbf x_n)|} = \\sum_{n=1}^{N} {|a_n| |t_n| |K(\\textbf x_j, \\textbf x_n)|} <\\frac{Ν-1}{N-1} =1 $$\n",
    "    \n",
    "Με αυτόν τον τρόπο, οδηγούμαστε σε άτοπον και άρα δεν υπάρχει κάποια δυϊκή μεταβλητή $a_j = 0$, με αποτέλεσμα όλα τα data points να αποτελούν support vectors."
   ]
  },
  {
   "cell_type": "markdown",
   "metadata": {},
   "source": [
    "**(γ) Kernel example**"
   ]
  },
  {
   "cell_type": "markdown",
   "metadata": {},
   "source": [
    "Έχουμε ότι:  \n",
    "\n",
    "$$ Κ(\\textbf u, \\textbf v) = \\textbf u \\textbf v + 4(\\textbf u \\textbf v)^2 $$   \n",
    "$$ = x_1 y_1 + x_2 y_2 + 4 x_1^2 y_1^2 + 8 x_1 x_2 y_1 y_2 + 4 x_2^2 y_2^2$$   \n",
    "$$ = [x_1, x_2, 2x_1^2, \\sqrt{8}x_1 x_2, 2x_2^2] \\cdot [y_1, y_2, 2y_1^2, \\sqrt{8}y_1 y_2, 2y_2^2]$$  \n",
    "$$ = \\phi(\\textbf u) \\cdot \\phi(\\textbf v) $$"
   ]
  },
  {
   "cell_type": "markdown",
   "metadata": {},
   "source": [
    "<img src=\"ask7.png\">"
   ]
  },
  {
   "cell_type": "markdown",
   "metadata": {},
   "source": [
    "**Λύση**"
   ]
  },
  {
   "cell_type": "markdown",
   "metadata": {},
   "source": [
    "**(α) Maximum Likelihood and the cross-entropy error function for a binary classification problem**"
   ]
  },
  {
   "cell_type": "markdown",
   "metadata": {},
   "source": [
    "Για ένα γραμμικά διαχωρίσιμο dataset $\\{\\phi_n$, $t_n\\}$ όπου $t_n \\in \\{0,1\\}$ και $\\phi_n=\\phi(\\textbf x_n)$, και ακόμα $p(C_i | \\phi)=y(\\phi) = σ(\\textbf w^T \\phi)$, με σ(.) να είναι η logistic sigmoid function, η likelihood function μπορεί να γραφεί:   \n",
    "\n",
    "$$ p(\\textbf t | \\textbf w) = \\prod_{n=1}^{N} {y_n ^ {t_n} {(1-y_n)}^{1-t_n}} $$   \n",
    "\n",
    "Ο αρνητικός λογάριθμος της παραπάνω συνάρτησης είναι η cross-entropy error function. Άρα η μεγιστοποίηση της likelihood function ανάγεται στην ελαχιστοποίηση της cross-entropy error function.\n",
    "Δεδομένου ότι:    \n",
    "\n",
    "$$ \\frac{dσ}{da} = σ(1-σ) $$  \n",
    "\n",
    "όπου a η ανεξάρτητη μεταβλητή της logistic sigmoid.  \n",
    "\n",
    "Γνωριζούμε για τη logistic sigmoid ότι:  \n",
    "- αν $a>0$ τότε $σ(a)>0.5$,  \n",
    "- αν $a<0$ τότε $σ(a)<0.5$,  \n",
    "- αν $a=0$ τότε $σ(a)=0.5$   \n",
    "\n",
    "Οπότε η επιλογή της κλάσης  $C_i$ έναντι της $C_j$, με $i,j = \\{0,1\\}$, $i \\neq j$, κατά τη διαδικασία της πρόβλεψης, θα   είναι όταν:   \n",
    "\n",
    "$$p(C_i | \\phi) > p(C_j | \\phi)$$.  \n",
    "Έτσι, η μία θα επιλέγεται όταν $ σ(\\textbf w^T \\phi) > 0.5 $ και η άλλη όταν το $ σ(\\textbf w^T \\phi) < 0.5 $, πάντοτε με την αρχική μας προϋπόθεση ότι $p(C_i | \\phi) = 1 - p(C_j | \\phi)$. Άρα, το decision boundary θα είναι όταν:   \n",
    "\n",
    "$$ σ(\\textbf w^T \\phi) = 0.5 $$  \n",
    "\n",
    "$$ => \\textbf w^T \\phi = 0 $$   \n",
    "\n",
    "Η likelihood προκειμένου να μεγιστοποιηθεί, δηλαδή να ελαχιστοποιηθεί η cross-entropy error function, πρέπει για τα δείγματα i που $t_i = 0$ το $\\textbf w^T \\phi$ να τείνει στο $-\\infty$, ενώ για τα δείγματα j που $t_j = 1$ το $\\textbf w^T \\phi$ να τείνει στο $+\\infty$, αφού πρέπει στην πρώτη περίπτωση να ελαχιστοποιείται το $1-ln(y_i)$, ενώ στην δεύτερη να μεγιστοποιείται το $ln(y_j)$. Δεδομένου ότι μπορούμε να γράψουμε, αφού έχουμε να κάνουμε με Euclidean vectors:   \n",
    "\n",
    "$$ \\textbf w^T \\phi = ||\\textbf w^T|| \\cdot ||\\phi|| \\cdot cosθ ,$$   \n",
    "\n",
    "όπου η θ, η γωνία των δυο παραπάνω διανυσμάτων, και το $||\\phi||$ σταθερό, τότε και στις δυο περιπτώσεις το $||\\textbf w^T||$ πρέπει να τείνει στο $+\\infty$.  \n",
    "Άμεσο συμπέρασμα αυτών είναι ότι αυτή η μέθοδος του maximum likelihood είναι αρκετά ευάλωτη στο overfitting για γραμμικώς διαχωρίσιμα δείγματα, κάτι που μπορεί να αποφευχθεί με χρήση regularization ή με εισαγωγή priors και μέθοδο MAP.\n"
   ]
  },
  {
   "cell_type": "markdown",
   "metadata": {},
   "source": [
    "**(β) Logistic Regression and Hessian Matrix**"
   ]
  },
  {
   "cell_type": "markdown",
   "metadata": {},
   "source": [
    "Θεωρούμε αυθαίρετο vector $\\textbf u \\neq \\textbf 0$ μεγέθους M, όπου M ο αριθμός των χαρακτηριστικών. Προκειμένου ο $\\textbf Η$ να είναι θετικά ορισμένος (positive definite) αρκεί να δείξουμε ότι:   \n",
    "\n",
    "$$ \\textbf u^T \\textbf H \\textbf u > 0 $$  \n",
    "\n",
    "Έχουμε:   \n",
    "\n",
    "$$ \\textbf u^T \\textbf H \\textbf u = \\textbf u^T [\\sum_{n=1}^{N} { y_n (1-y_n) \\textbf φ_n \\textbf φ_n^T}] \\textbf u $$   \n",
    " \n",
    "$$ = \\sum_{n=1}^{N} { y_n (1-y_n) (\\textbf φ_n^T \\textbf u)^T (\\textbf φ_n^T \\textbf u)} $$     \n",
    "\n",
    "$$ = \\sum_{n=1}^{N} { y_n (1-y_n) c_n^2 } > 0$$   \n",
    "\n",
    "αφού $c_n^2>0$, διότι θα έχει οπωσδήποτε τουλάχιστον μια μη μηδενική τιμή, και $y_n (1-y_n) > 0 $, διότι το $y_i$ αποτελεί πιθανότητα. Άρα, ο $\\textbf Η$ ειναι positive definite και άρα η error function είναι convex και έχει global minimum."
   ]
  },
  {
   "cell_type": "markdown",
   "metadata": {},
   "source": [
    "**(γ) Iterative Reweighted Least Squares (IRLS) for Logistic Regression**"
   ]
  },
  {
   "cell_type": "code",
   "execution_count": 3,
   "metadata": {},
   "outputs": [],
   "source": [
    "# Read in the file\n",
    "with open('MLR.data', 'r') as file :\n",
    "    filedata = file.read()\n",
    "\n",
    "# Replace the \"\" string with \",\"\n",
    "filedata = filedata.replace(' ', ',')\n",
    "\n",
    "# Write the file out again\n",
    "with open('MLR.data', 'w') as file:\n",
    "    file.write(filedata)"
   ]
  },
  {
   "cell_type": "code",
   "execution_count": 5,
   "metadata": {},
   "outputs": [
    {
     "name": "stdout",
     "output_type": "stream",
     "text": [
      "First 5 records:\n",
      "\n",
      "          0         1  2\n",
      "0 -3.605388  3.012493  0\n",
      "1  8.941356  2.108067  1\n",
      "2  4.161469 -2.959369  2\n",
      "3  0.047052  4.166693  0\n",
      "4  6.749173  1.589336  1\n"
     ]
    }
   ],
   "source": [
    "import pandas as pd \n",
    "import numpy as np\n",
    "\n",
    "# Read Data and take rows and columns\n",
    "df = pd.read_csv('MLR.data', na_values = '?', header = None) \n",
    "print(\"First 5 records:\\n\")\n",
    "print(df.head())\n",
    "\n",
    "# Drop the last column\n",
    "t = np.array(df[2])\n",
    "del df[2]\n",
    "X = np.array(df)\n",
    "K = np.unique(t)"
   ]
  },
  {
   "cell_type": "code",
   "execution_count": 37,
   "metadata": {},
   "outputs": [],
   "source": [
    "from sklearn.base import BaseEstimator, ClassifierMixin\n",
    "from numpy import dot, multiply, squeeze, zeros, ones, reshape, array, identity\n",
    "import numpy as np\n",
    "\n",
    "class LogisticRegression(BaseEstimator, ClassifierMixin):\n",
    "    # Iterative Reweighted Least Squares (IRLS) for Multiclass Logistic Regression \n",
    "    def __init__(self, K, maxiter=10):\n",
    "        '''\n",
    "            K: int, classes\n",
    "            maxiter: int\n",
    "        '''\n",
    "        \n",
    "        self.W = None\n",
    "        self.K = K\n",
    "        self.maxiter = maxiter\n",
    "        \n",
    "    \n",
    "    @staticmethod\n",
    "    def stable_softmax(x):\n",
    "        '''\n",
    "            x: list of scalars\n",
    "        '''\n",
    "        z = x - max(x)\n",
    "        numerator = np.exp(z)\n",
    "        denominator = np.sum(numerator)\n",
    "        softmax = numerator / denominator\n",
    "        \n",
    "        return softmax\n",
    "\n",
    "\n",
    "    @staticmethod\n",
    "    def softmax(W, X, K):\n",
    "        '''\n",
    "            W: K x M\n",
    "            X: N x M\n",
    "            K: int\n",
    "        '''\n",
    "\n",
    "        N = X.shape[0]\n",
    "        M = X.shape[1]\n",
    "        softmax_all = zeros((N,K))\n",
    "\n",
    "        for i,xn in enumerate(X):\n",
    "            xn = reshape(xn, (M,1))  # M x 1\n",
    "\n",
    "            A = []\n",
    "            for k in range(K):\n",
    "                a_nk = squeeze(dot( reshape(W[k], (1,M)), xn )) # scalar\n",
    "                A.append(a_nk)\n",
    "\n",
    "            softmax_all[i,:] = reshape(array(stable_softmax(A)), (1,K))    \n",
    "\n",
    "        return softmax_all  # N x K\n",
    "        \n",
    "        \n",
    "        \n",
    "    def fit(self, X, t):\n",
    "        '''\n",
    "            X: N x M\n",
    "            t: list of targets\n",
    "        '''\n",
    "\n",
    "        K = self.K\n",
    "        X_t = X.transpose()\n",
    "\n",
    "        N = X.shape[0] # n_samples\n",
    "        M = X.shape[1] # n_features\n",
    "        I = np.identity(K)  # K x K\n",
    "\n",
    "        # 1-of-K coding scheme for target values\n",
    "        T = zeros((N,K))   # N x K\n",
    "        for i,k in enumerate(t):\n",
    "            T[i][k] = 1\n",
    "\n",
    "        # Initialize w, grad, hessian\n",
    "        self.W = zeros(shape=(K,M))        # K x M\n",
    "        grad = ones(shape=(K,M))      # K x M \n",
    "        H = ones(shape=(K*M,K*M))     # K*M x K*M\n",
    "\n",
    "        for iteration in range(self.maxiter):\n",
    "\n",
    "            # Y = softmax for all n,k\n",
    "            Y = softmax(W, X, K)  # N x K\n",
    "\n",
    "            # gradient of cross-entropy error function\n",
    "            grad = dot( X_t, Y - T ).transpose()   # K x M\n",
    "\n",
    "            # Hessian Matrix: K*M x K*M\n",
    "            for k in range(K):\n",
    "                for j in range(K):\n",
    "                    Ikj = I[k][j]\n",
    "                    # Diagonal R\n",
    "                    R = zeros((N,N)) \n",
    "                    for n in range(N):\n",
    "                        R[n][n] = Y[n][k] * (Ikj - Y[n][j])\n",
    "\n",
    "                    H[k*M:k*M+M, j*M:j*M+M] = dot( dot(X_t, R), X )  # M x M                \n",
    "\n",
    "            # Newton-Raphson update\n",
    "            self.W = reshape(self.W, (K*M,1))\n",
    "            grad = reshape(grad, (K*M,1))\n",
    "            Wnew = self.W - dot( np.linalg.pinv(H), grad )\n",
    "\n",
    "            # keep preferred dimensions \n",
    "            grad = reshape(grad, (K,M))\n",
    "            self.W = reshape(Wnew, (K,M))\n",
    "\n",
    "            continue\n",
    "        \n",
    "        return self\n",
    "    \n",
    "        \n",
    "    def predict(self, X):\n",
    "        # Logistic Regression predict on given test data \n",
    "        solve = softmax(W, X, self.K)\n",
    "        y_predict = np.argmax(solve, axis=1)\n",
    "        \n",
    "        return y_predict\n",
    "    \n",
    "    \n",
    "    def score(self, X, y_truth):\n",
    "        # Logistic Regression accuracy score on given test data \n",
    "        y_predict = self.predict(X)\n",
    "        \n",
    "        return ( np.sum([y_predict == y_truth]) ) / ( len(y_predict) )"
   ]
  },
  {
   "cell_type": "code",
   "execution_count": 38,
   "metadata": {},
   "outputs": [
    {
     "name": "stdout",
     "output_type": "stream",
     "text": [
      "IRLS LogisticRegression Score:\t 100.0 %\n",
      "Final W:\n",
      " [[-0.35798298  1.48913729]\n",
      " [ 0.39032115  0.39589378]\n",
      " [-0.03233817 -1.88503107]]\n"
     ]
    }
   ],
   "source": [
    "lr = LogisticRegression(K=3, maxiter=5)\n",
    "lr.fit(X, t)\n",
    "print(\"IRLS LogisticRegression Score:\\t\", lr.score(X, t) * 100, \"%\")\n",
    "print(\"Final W:\\n\", lr.W)"
   ]
  },
  {
   "cell_type": "code",
   "execution_count": 33,
   "metadata": {},
   "outputs": [],
   "source": [
    "import warnings\n",
    "warnings.filterwarnings(\"ignore\",category=DeprecationWarning)\n",
    "warnings.filterwarnings(\"ignore\",category=FutureWarning)\n",
    " \n",
    "import numpy as np\n",
    "import matplotlib.pyplot as plt\n",
    "\n",
    "def plt_decision_boundaries(clf, X, y, labels, plot_labels):\n",
    "    # Plot Decision boundaries for a 10 labels classification problem, supposed that labers are in range[0,3]\n",
    "    '''\n",
    "        clf:            classifier that has fit, predict and score methods\n",
    "        X:              X_train\n",
    "        y:              y_train\n",
    "        labels:         an numpy array of labels\n",
    "        plot_labels:    a list of the axis titles on the plot   \n",
    "    '''\n",
    "    fig, ax = plt.subplots()\n",
    "    # title for the plots\n",
    "    title = ('Decision surface of Classifier')\n",
    "    \n",
    "    # Initializations\n",
    "    X0, X1 = X[:,0], X[:,1]\n",
    "    \n",
    "    x_min, x_max = X0.min() - 0.2, X0.max() + 0.2\n",
    "    y_min, y_max = X1.min() - 0.2, X1.max() + 0.2\n",
    "    xx, yy = np.meshgrid(np.arange(x_min, x_max, .05),\n",
    "                         np.arange(y_min, y_max, .05))\n",
    "    \n",
    "    Z = clf.predict(np.c_[xx.ravel(), yy.ravel()])\n",
    "    Z = Z.reshape(xx.shape)\n",
    "    out = ax.contourf(xx, yy, Z, cmap=plt.cm.coolwarm, alpha=0.8)\n",
    "    \n",
    "    colors = ['red', 'yellow', 'blue']  \n",
    "    \n",
    "    for label in labels:\n",
    "        ax.scatter(\n",
    "            X0[y == label], X1[y == label],\n",
    "            c=(colors[int(label)]), label=int(label),\n",
    "            s=60, alpha=0.9, edgecolors='k'\n",
    "        )\n",
    "    \n",
    "    ax.set_ylabel(plot_labels[1])\n",
    "    ax.set_xlabel(plot_labels[0])\n",
    "    ax.set_xticks(())\n",
    "    ax.set_yticks(())\n",
    "    ax.set_title(title)\n",
    "    ax.legend()\n",
    "    plt.show()"
   ]
  },
  {
   "cell_type": "code",
   "execution_count": 50,
   "metadata": {},
   "outputs": [
    {
     "data": {
      "image/png": "[encoded data removed]",
      "text/plain": [
       "<Figure size 432x288 with 1 Axes>"
      ]
     },
     "metadata": {},
     "output_type": "display_data"
    }
   ],
   "source": [
    "lr = LogisticRegression(K=3, maxiter=5)\n",
    "lr.fit(X, t)\n",
    "plt_decision_boundaries(lr, X, t, np.arange(3), [\"X1\", \"X2\"])"
   ]
  },
  {
   "cell_type": "markdown",
   "metadata": {},
   "source": [
    "**Linear Regression and Mean Squared Error cost function (Normal Equations method)**"
   ]
  },
  {
   "cell_type": "code",
   "execution_count": 52,
   "metadata": {},
   "outputs": [],
   "source": [
    "from sklearn.base import BaseEstimator, ClassifierMixin\n",
    "from numpy import dot, multiply, squeeze, zeros, ones, reshape, array, identity\n",
    "import numpy as np\n",
    "\n",
    "class LinearRegression(BaseEstimator, ClassifierMixin):\n",
    "    # Normal Equations for Multiclass Logistic Regression \n",
    "    def __init__(self, K):\n",
    "        '''\n",
    "            K: int, classes\n",
    "        '''\n",
    "        \n",
    "        self.Wml = None\n",
    "        self.K = K\n",
    "        \n",
    "        \n",
    "    def fit(self, X, t):\n",
    "        '''\n",
    "            X: N x M\n",
    "            t: list of targets\n",
    "        '''\n",
    "        \n",
    "        K = self.K\n",
    "        N = X.shape[0] # n_samples\n",
    "        M = X.shape[1] # n_features    \n",
    "\n",
    "        X_t = X.transpose()\n",
    "\n",
    "        # 1-of-K coding scheme for target values\n",
    "        T = zeros((N,K))   # N x K\n",
    "        for i,k in enumerate(t):\n",
    "            T[i][k] = 1\n",
    "\n",
    "        # Mean Squared Error cost function - Maximum Likelihood solution\n",
    "        pseudo_inv = dot( np.linalg.pinv(dot(X_t, X)), X_t ) # pseudo-inverse\n",
    "        self.Wml = dot( pseudo_inv, T)\n",
    "        \n",
    "        return self\n",
    "    \n",
    "        \n",
    "    def predict(self, X):\n",
    "        # Linear Regression predict on given test data \n",
    "        Y = dot( X, self.Wml )\n",
    "        y_predict = np.argmax(Y, axis=1)\n",
    "        \n",
    "        return y_predict\n",
    "    \n",
    "    \n",
    "    def score(self, X, y_truth):\n",
    "        # Linear Regression accuracy score on given test data \n",
    "        y_predict = self.predict(X)\n",
    "        \n",
    "        return ( np.sum([y_predict == y_truth]) ) / ( len(y_predict) )"
   ]
  },
  {
   "cell_type": "code",
   "execution_count": 45,
   "metadata": {},
   "outputs": [
    {
     "name": "stdout",
     "output_type": "stream",
     "text": [
      "Normal Equations LinearRegression Score:\t 99.16666666666667 %\n",
      "Wml:\n",
      " [[-0.03973394  0.09163179  0.00441572]\n",
      " [ 0.15567397  0.0324988  -0.08580454]]\n"
     ]
    }
   ],
   "source": [
    "lr = LinearRegression(K=3)\n",
    "lr.fit(X, t)\n",
    "print(\"Normal Equations LinearRegression Score:\\t\", lr.score(X, t) * 100, \"%\")\n",
    "print(\"Wml:\\n\", lr.Wml)"
   ]
  },
  {
   "cell_type": "code",
   "execution_count": 53,
   "metadata": {},
   "outputs": [
    {
     "data": {
      "image/png": "[encoded data removed]",
      "text/plain": [
       "<Figure size 432x288 with 1 Axes>"
      ]
     },
     "metadata": {},
     "output_type": "display_data"
    }
   ],
   "source": [
    "lr = LinearRegression(K=3)\n",
    "lr.fit(X, t)\n",
    "plt_decision_boundaries(lr, X, t, np.arange(3), [\"X1\", \"X2\"])"
   ]
  },
  {
   "cell_type": "markdown",
   "metadata": {},
   "source": [
    "Παρατηρούμε πως και τα δυο μοντέλα δίνουν σχεδόν άριστα ποσοστά. Το Logistic Regression δίνει 100%, ενώ το Linear Regression δίνει 99.17%. Αυτό οφείλεται στην διαφορετική cost function καθώς και στην activation function που χρησιμοποιούν. Βλέπουμε πως αν και τα δείγματα είναι linearly seperable, η χρήση της softmax και της cross-entropy καταφέρνουν να μην κάνουν κανένα λάθος, τοποθετώντας τα δείγματα πιο κεντρικά στην αντίστοιχη περιοχή απόφασης, σε αντίθεση με τη χρήση των normal equations και της mean-squared που κάποια δείγματα τοποθετούνται πολύ κοντά στο desicion boundary, με αποτέλεσμα ένα να γίνεται misclassified."
   ]
  }
 ],
 "metadata": {
  "kernelspec": {
   "display_name": "Python 3",
   "language": "python",
   "name": "python3"
  },
  "language_info": {
   "codemirror_mode": {
    "name": "ipython",
    "version": 3
   },
   "file_extension": ".py",
   "mimetype": "text/x-python",
   "name": "python",
   "nbconvert_exporter": "python",
   "pygments_lexer": "ipython3",
   "version": "3.6.8"
  }
 },
 "nbformat": 4,
 "nbformat_minor": 2
}
