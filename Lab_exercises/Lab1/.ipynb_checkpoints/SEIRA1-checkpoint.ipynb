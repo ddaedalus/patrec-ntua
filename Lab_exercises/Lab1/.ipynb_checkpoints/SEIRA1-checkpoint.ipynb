{
 "cells": [
  {
   "cell_type": "markdown",
   "metadata": {},
   "source": [
    "### Ομάδα:  \n",
    "*Κοντογιάννης Ανδρέας (ΑΜ 03115187)*  \n",
    "*Πολλάτος Βασίλης (ΑΜ 03115011)*  \n",
    "  \n",
    "### Προπαρασκευή 1ης Εργαστηριακής Άσκησης:  Οπτική Αναγνώριση Ψηφίων  \n",
    " \n",
    "Στα πλαίσια της παρούσας εργασίας προσπαθούμε να λύσουμε το πρόβλημα της ταξινόμησης εικόνων που περιέχουν χειρόγραφα σκίτσα ψηφίων, δηλαδή αριθμών από το 0 ως το 9, σε δέκα κατηγορίες ανάλογα με το ψηφίο που απεικονίζουν. Για το σκοπό αυτό αξιοποιείται ένα dataset από τέτοιες labeled εικόνες που μας δίνεται σε raw μορφή (.txt αρχεία). Η αναπαράσταση των εικόνων είναι raster με ένα κανάλι και το μέγεθος 16x16. Το dataset είναι χωρισμένο σε υποσύνολα train και test. Θα χρησιμοποιήσουμε λοιπόν supervised learning και συγκεκριμένα υλοποιούμε *Euclidean Classifier*  με κέντρα τις μέσες τιμές των δειγμάτων του επιλεγμένου train set.\n"
   ]
  },
  {
   "cell_type": "markdown",
   "metadata": {},
   "source": [
    "Αρχικά εγκαθιστούμε τα παρακάτω modules που θα χρησιμοποιήσουμε στην πορεία της άσκησης. "
   ]
  },
  {
   "cell_type": "code",
   "execution_count": 2,
   "metadata": {},
   "outputs": [
    {
     "name": "stdout",
     "output_type": "stream",
     "text": [
      "Requirement already satisfied: sklearn in /home/bill/.local/lib/python3.5/site-packages (0.0)\n",
      "Requirement already satisfied: scikit-learn in /home/bill/.local/lib/python3.5/site-packages (from sklearn) (0.21.3)\n",
      "Requirement already satisfied: scipy>=0.17.0 in /home/bill/.local/lib/python3.5/site-packages (from scikit-learn->sklearn) (1.3.1)\n",
      "Requirement already satisfied: joblib>=0.11 in /home/bill/.local/lib/python3.5/site-packages (from scikit-learn->sklearn) (0.14.0)\n",
      "Requirement already satisfied: numpy>=1.11.0 in /home/bill/.local/lib/python3.5/site-packages (from scikit-learn->sklearn) (1.17.1)\n",
      "Requirement already satisfied: scikit-image in /home/bill/.local/lib/python3.5/site-packages (0.15.0)\n",
      "Requirement already satisfied: imageio>=2.0.1 in /home/bill/.local/lib/python3.5/site-packages (from scikit-image) (2.6.1)\n",
      "Requirement already satisfied: PyWavelets>=0.4.0 in /home/bill/.local/lib/python3.5/site-packages (from scikit-image) (1.1.1)\n",
      "Requirement already satisfied: networkx>=2.0 in /home/bill/.local/lib/python3.5/site-packages (from scikit-image) (2.4)\n",
      "Requirement already satisfied: matplotlib!=3.0.0,>=2.0.0 in /home/bill/.local/lib/python3.5/site-packages (from scikit-image) (3.0.3)\n",
      "Requirement already satisfied: pillow>=4.3.0 in /home/bill/.local/lib/python3.5/site-packages (from scikit-image) (6.2.1)\n",
      "Requirement already satisfied: scipy>=0.17.0 in /home/bill/.local/lib/python3.5/site-packages (from scikit-image) (1.3.1)\n",
      "Requirement already satisfied: numpy in /home/bill/.local/lib/python3.5/site-packages (from imageio>=2.0.1->scikit-image) (1.17.1)\n",
      "Requirement already satisfied: decorator>=4.3.0 in /home/bill/.local/lib/python3.5/site-packages (from networkx>=2.0->scikit-image) (4.4.1)\n",
      "Requirement already satisfied: kiwisolver>=1.0.1 in /home/bill/.local/lib/python3.5/site-packages (from matplotlib!=3.0.0,>=2.0.0->scikit-image) (1.1.0)\n",
      "Requirement already satisfied: cycler>=0.10 in /home/bill/.local/lib/python3.5/site-packages (from matplotlib!=3.0.0,>=2.0.0->scikit-image) (0.10.0)\n",
      "Requirement already satisfied: pyparsing!=2.0.4,!=2.1.2,!=2.1.6,>=2.0.1 in /home/bill/.local/lib/python3.5/site-packages (from matplotlib!=3.0.0,>=2.0.0->scikit-image) (2.4.2)\n",
      "Requirement already satisfied: python-dateutil>=2.1 in /home/bill/.local/lib/python3.5/site-packages (from matplotlib!=3.0.0,>=2.0.0->scikit-image) (2.8.0)\n",
      "Requirement already satisfied: setuptools in /home/bill/.local/lib/python3.5/site-packages (from kiwisolver>=1.0.1->matplotlib!=3.0.0,>=2.0.0->scikit-image) (41.4.0)\n",
      "Requirement already satisfied: six in /home/bill/.local/lib/python3.5/site-packages (from cycler>=0.10->matplotlib!=3.0.0,>=2.0.0->scikit-image) (1.12.0)\n",
      "Requirement already satisfied: numpy in /home/bill/.local/lib/python3.5/site-packages (1.17.1)\n",
      "Requirement already satisfied: matplotlib in /home/bill/.local/lib/python3.5/site-packages (3.0.3)\n",
      "Requirement already satisfied: numpy>=1.10.0 in /home/bill/.local/lib/python3.5/site-packages (from matplotlib) (1.17.1)\n",
      "Requirement already satisfied: pyparsing!=2.0.4,!=2.1.2,!=2.1.6,>=2.0.1 in /home/bill/.local/lib/python3.5/site-packages (from matplotlib) (2.4.2)\n",
      "Requirement already satisfied: python-dateutil>=2.1 in /home/bill/.local/lib/python3.5/site-packages (from matplotlib) (2.8.0)\n",
      "Requirement already satisfied: cycler>=0.10 in /home/bill/.local/lib/python3.5/site-packages (from matplotlib) (0.10.0)\n",
      "Requirement already satisfied: kiwisolver>=1.0.1 in /home/bill/.local/lib/python3.5/site-packages (from matplotlib) (1.1.0)\n",
      "Requirement already satisfied: six>=1.5 in /home/bill/.local/lib/python3.5/site-packages (from python-dateutil>=2.1->matplotlib) (1.12.0)\n",
      "Requirement already satisfied: setuptools in /home/bill/.local/lib/python3.5/site-packages (from kiwisolver>=1.0.1->matplotlib) (41.4.0)\n",
      "Requirement already satisfied: pandas in /home/bill/.local/lib/python3.5/site-packages (0.24.2)\n",
      "Requirement already satisfied: pytz>=2011k in /home/bill/.local/lib/python3.5/site-packages (from pandas) (2019.3)\n",
      "Requirement already satisfied: python-dateutil>=2.5.0 in /home/bill/.local/lib/python3.5/site-packages (from pandas) (2.8.0)\n",
      "Requirement already satisfied: numpy>=1.12.0 in /home/bill/.local/lib/python3.5/site-packages (from pandas) (1.17.1)\n",
      "Requirement already satisfied: six>=1.5 in /home/bill/.local/lib/python3.5/site-packages (from python-dateutil>=2.5.0->pandas) (1.12.0)\n",
      "Collecting torch\n",
      "\u001b[?25l  Downloading https://files.pythonhosted.org/packages/24/33/ccfe4e16bfa1f2ca10e22bca05b313cba31800f9597f5f282020cd6ba45e/torch-1.3.1-cp35-cp35m-manylinux1_x86_64.whl (734.6MB)\n",
      "\u001b[K     |██████████████████▏             | 417.3MB 242kB/s eta 0:21:50    |█▉                              | 42.0MB 164kB/s eta 1:10:08     |██▉                             | 64.8MB 291kB/s eta 0:38:19     |███▎                            | 74.8MB 228kB/s eta 0:48:08     |███▍                            | 78.9MB 271kB/s eta 0:40:13     |██████                          | 137.5MB 271kB/s eta 0:36:42\u001b[31mERROR: Exception:\n",
      "Traceback (most recent call last):\n",
      "  File \"/usr/local/lib/python3.5/dist-packages/pip/_vendor/urllib3/response.py\", line 425, in _error_catcher\n",
      "    yield\n",
      "  File \"/usr/local/lib/python3.5/dist-packages/pip/_vendor/urllib3/response.py\", line 507, in read\n",
      "    data = self._fp.read(amt) if not fp_closed else b\"\"\n",
      "  File \"/usr/local/lib/python3.5/dist-packages/pip/_vendor/cachecontrol/filewrapper.py\", line 62, in read\n",
      "    data = self.__fp.read(amt)\n",
      "  File \"/usr/lib/python3.5/http/client.py\", line 458, in read\n",
      "    n = self.readinto(b)\n",
      "  File \"/usr/lib/python3.5/http/client.py\", line 498, in readinto\n",
      "    n = self.fp.readinto(b)\n",
      "  File \"/usr/lib/python3.5/socket.py\", line 575, in readinto\n",
      "    return self._sock.recv_into(b)\n",
      "  File \"/usr/lib/python3.5/ssl.py\", line 929, in recv_into\n",
      "    return self.read(nbytes, buffer)\n",
      "  File \"/usr/lib/python3.5/ssl.py\", line 791, in read\n",
      "    return self._sslobj.read(len, buffer)\n",
      "  File \"/usr/lib/python3.5/ssl.py\", line 575, in read\n",
      "    v = self._sslobj.read(len, buffer)\n",
      "ConnectionResetError: [Errno 104] Connection reset by peer\n",
      "\n",
      "During handling of the above exception, another exception occurred:\n",
      "\n",
      "Traceback (most recent call last):\n",
      "  File \"/usr/local/lib/python3.5/dist-packages/pip/_internal/cli/base_command.py\", line 153, in _main\n",
      "    status = self.run(options, args)\n",
      "  File \"/usr/local/lib/python3.5/dist-packages/pip/_internal/commands/install.py\", line 382, in run\n",
      "    resolver.resolve(requirement_set)\n",
      "  File \"/usr/local/lib/python3.5/dist-packages/pip/_internal/legacy_resolve.py\", line 201, in resolve\n",
      "    self._resolve_one(requirement_set, req)\n",
      "  File \"/usr/local/lib/python3.5/dist-packages/pip/_internal/legacy_resolve.py\", line 365, in _resolve_one\n",
      "    abstract_dist = self._get_abstract_dist_for(req_to_install)\n",
      "  File \"/usr/local/lib/python3.5/dist-packages/pip/_internal/legacy_resolve.py\", line 313, in _get_abstract_dist_for\n",
      "    req, self.session, self.finder, self.require_hashes\n",
      "  File \"/usr/local/lib/python3.5/dist-packages/pip/_internal/operations/prepare.py\", line 194, in prepare_linked_requirement\n",
      "    progress_bar=self.progress_bar\n",
      "  File \"/usr/local/lib/python3.5/dist-packages/pip/_internal/download.py\", line 465, in unpack_url\n",
      "    progress_bar=progress_bar\n",
      "  File \"/usr/local/lib/python3.5/dist-packages/pip/_internal/download.py\", line 316, in unpack_http_url\n",
      "    progress_bar)\n",
      "  File \"/usr/local/lib/python3.5/dist-packages/pip/_internal/download.py\", line 551, in _download_http_url\n",
      "    _download_url(resp, link, content_file, hashes, progress_bar)\n",
      "  File \"/usr/local/lib/python3.5/dist-packages/pip/_internal/download.py\", line 253, in _download_url\n",
      "    hashes.check_against_chunks(downloaded_chunks)\n",
      "  File \"/usr/local/lib/python3.5/dist-packages/pip/_internal/utils/hashes.py\", line 80, in check_against_chunks\n",
      "    for chunk in chunks:\n",
      "  File \"/usr/local/lib/python3.5/dist-packages/pip/_internal/download.py\", line 223, in written_chunks\n",
      "    for chunk in chunks:\n",
      "  File \"/usr/local/lib/python3.5/dist-packages/pip/_internal/utils/ui.py\", line 160, in iter\n",
      "    for x in it:\n",
      "  File \"/usr/local/lib/python3.5/dist-packages/pip/_internal/download.py\", line 212, in resp_read\n",
      "    decode_content=False):\n",
      "  File \"/usr/local/lib/python3.5/dist-packages/pip/_vendor/urllib3/response.py\", line 564, in stream\n",
      "    data = self.read(amt=amt, decode_content=decode_content)\n",
      "  File \"/usr/local/lib/python3.5/dist-packages/pip/_vendor/urllib3/response.py\", line 529, in read\n",
      "    raise IncompleteRead(self._fp_bytes_read, self.length_remaining)\n",
      "  File \"/usr/lib/python3.5/contextlib.py\", line 77, in __exit__\n",
      "    self.gen.throw(type, value, traceback)\n",
      "  File \"/usr/local/lib/python3.5/dist-packages/pip/_vendor/urllib3/response.py\", line 443, in _error_catcher\n",
      "    raise ProtocolError(\"Connection broken: %r\" % e, e)\n",
      "pip._vendor.urllib3.exceptions.ProtocolError: (\"Connection broken: ConnectionResetError(104, 'Connection reset by peer')\", ConnectionResetError(104, 'Connection reset by peer'))\u001b[0m\n"
     ]
    },
    {
     "name": "stdout",
     "output_type": "stream",
     "text": [
      "Collecting torchvision\n",
      "  Using cached https://files.pythonhosted.org/packages/92/02/24e322f5e4a07dd41e52854519128569da15116179a47deaaba860ab1a26/torchvision-0.4.2-cp35-cp35m-manylinux1_x86_64.whl\n",
      "Requirement already satisfied: six in /home/bill/.local/lib/python3.5/site-packages (from torchvision) (1.12.0)\n",
      "Collecting torch==1.3.1\n",
      "\u001b[33m  WARNING: Retrying (Retry(total=4, connect=None, read=None, redirect=None, status=None)) after connection broken by 'ReadTimeoutError(\"HTTPSConnectionPool(host='files.pythonhosted.org', port=443): Read timed out. (read timeout=15)\",)': /packages/24/33/ccfe4e16bfa1f2ca10e22bca05b313cba31800f9597f5f282020cd6ba45e/torch-1.3.1-cp35-cp35m-manylinux1_x86_64.whl\u001b[0m\n",
      "\u001b[?25l  Downloading https://files.pythonhosted.org/packages/24/33/ccfe4e16bfa1f2ca10e22bca05b313cba31800f9597f5f282020cd6ba45e/torch-1.3.1-cp35-cp35m-manylinux1_x86_64.whl (734.6MB)\n",
      "\u001b[K     |████████████████████████████████| 734.6MB 34kB/s  eta 0:00:01    |█▋                              | 37.9MB 298kB/s eta 0:38:56     |██▏                             | 50.2MB 356kB/s eta 0:31:59     |██▌                             | 58.5MB 202kB/s eta 0:55:38     |███▎                            | 74.4MB 189kB/s eta 0:58:04     |████▋                           | 106.3MB 272kB/s eta 0:38:29     |███████                         | 163.0MB 150kB/s eta 1:03:24     |█████████████████████▍          | 490.4MB 445kB/s eta 0:09:09     |███████████████████████████▌    | 631.8MB 520kB/s eta 0:03:18\n",
      "\u001b[?25hRequirement already satisfied (use --upgrade to upgrade): torch==1.3.1 from https://files.pythonhosted.org/packages/24/33/ccfe4e16bfa1f2ca10e22bca05b313cba31800f9597f5f282020cd6ba45e/torch-1.3.1-cp35-cp35m-manylinux1_x86_64.whl#sha256=458f1d87e5b7064b2c39e36675d84e163be3143dd2fc806057b7878880c461bc in /home/bill/.local/lib/python3.5/site-packages (from torchvision)\n",
      "Requirement already satisfied: numpy in /home/bill/.local/lib/python3.5/site-packages (from torchvision) (1.17.1)\n",
      "Requirement already satisfied: pillow>=4.1.1 in /home/bill/.local/lib/python3.5/site-packages (from torchvision) (6.2.1)\n",
      "Installing collected packages: torchvision\n",
      "Successfully installed torchvision-0.4.2\n"
     ]
    }
   ],
   "source": [
    "!pip install --user sklearn\n",
    "!pip install --user scikit-image\n",
    "!pip install --user numpy\n",
    "!pip install --user matplotlib\n",
    "!pip install --user pandas\n",
    "!pip install --user torch\n",
    "!pip install --user torchvision"
   ]
  },
  {
   "cell_type": "markdown",
   "metadata": {},
   "source": [
    "### Βήμα 1  \n",
    "Εδώ γίνεται η ανάγνωση των αρχείων. Είναι οργανωμένα σε γραμμές και στήλες με κάθε γραμμή να περιέχει τα 'χαρακτηριστικά' της κάθε εικόνας, δηλαδή το label αρχικά και στη συνέχεια τις τιμές των 256 pixels. Τα pixels γίνονται unroll από το δισδιάσταο χώρο σε μια διάσταση παραθέτοντας τις γραμμές της εικόνας τη μια μετά την άλλη. Οι τιμές των pixels είναι πραγματικοί αριθμοί στο διάστημα [-1, +1] και τα labels ακέραιοι από 0 μέχρι το 9. Το train set περιέχει 7291 εικόνες και το test 2007. Τα δεδομένα αποθηκεύτηκαν σε δομή δεδομένων np array και οργανώθηκαν σε πίνακες χαρακτηριστικών X και παράλληλους με αυτούς πίνακες με τα label Y. Συνολικά έχουμε 4 πίνακες X_train, Y_train, X_test και Y_test."
   ]
  },
  {
   "cell_type": "code",
   "execution_count": 2,
   "metadata": {},
   "outputs": [
    {
     "name": "stdout",
     "output_type": "stream",
     "text": [
      "[[-1.    -1.    -1.    ... -1.    -1.    -1.   ]\n",
      " [-1.    -1.    -1.    ... -0.671 -0.828 -1.   ]\n",
      " [-1.    -1.    -1.    ... -1.    -1.    -1.   ]\n",
      " ...\n",
      " [-1.    -1.    -1.    ... -1.    -1.    -1.   ]\n",
      " [-1.    -1.    -1.    ... -1.    -1.    -1.   ]\n",
      " [-1.    -1.    -1.    ... -1.    -1.    -1.   ]]\n",
      "[6. 5. 4. ... 3. 0. 1.]\n"
     ]
    }
   ],
   "source": [
    "import numpy as np\n",
    "\n",
    "# Read train.txt\n",
    "# X_train, Y_train\n",
    "with open('train.txt', 'r') as f:\n",
    "    l = [[(num) for num in line.split(' ')] for line in f]\n",
    "DATA = np.zeros( (len(l), len(l[0])-1) )\n",
    "for i in range(len(l)):\n",
    "    for j in range(len(l[0])-1):\n",
    "        DATA[i][j]=float(l[i][j][:])\n",
    "\n",
    "X_train = DATA[:,1:]\n",
    "Y_train = DATA[0:,0]\n",
    "print(X_train)\n",
    "print(Y_train)"
   ]
  },
  {
   "cell_type": "code",
   "execution_count": 3,
   "metadata": {},
   "outputs": [
    {
     "name": "stdout",
     "output_type": "stream",
     "text": [
      "[[-1. -1. -1. ... -1. -1. -1.]\n",
      " [-1. -1. -1. ... -1. -1. -1.]\n",
      " [-1. -1. -1. ... -1. -1. -1.]\n",
      " ...\n",
      " [-1. -1. -1. ... -1. -1. -1.]\n",
      " [-1. -1. -1. ... -1. -1. -1.]\n",
      " [-1. -1. -1. ... -1. -1. -1.]]\n",
      "[9. 6. 3. ... 4. 0. 1.]\n"
     ]
    }
   ],
   "source": [
    "import numpy as np\n",
    "\n",
    "# Read text.txt\n",
    "# X_test, Y_test\n",
    "with open('test.txt', 'r') as f:\n",
    "    l = [[(num) for num in line.split(' ')] for line in f]\n",
    "TEST = np.zeros( (len(l), len(l[0])-1) )\n",
    "for i in range(len(l)):\n",
    "    for j in range(len(l[0])-1):\n",
    "        TEST[i][j]=float(l[i][j][:])\n",
    "\n",
    "X_test = TEST[:,1:]\n",
    "Y_test = TEST[0:,0]\n",
    "print(X_test)\n",
    "print(Y_test)\n"
   ]
  },
  {
   "cell_type": "markdown",
   "metadata": {},
   "source": [
    "### Βήμα 2  \n",
    "Εκτυπώνουμε την εικόνα υπ'αριθμόν 131 του train set. Βλέπουμε πως είναι το ψηφίο 0. Παρατηρούμε ότι η χρωματική κλίμακα του plot πηγαίνει από μοβ (χαμηλές τιμές στα pixel) σε κίτρινο (υψηλές τιμές). Το σχέδιο εντοπίζεται εκεί που οι τιμές των pixels είναι υψηλότερες.\n"
   ]
  },
  {
   "cell_type": "code",
   "execution_count": 6,
   "metadata": {},
   "outputs": [
    {
     "name": "stdout",
     "output_type": "stream",
     "text": [
      "Image 131: 16x16\n",
      "3 first rows:\n",
      "[[-1.    -1.    -1.     0.068  1.     0.219 -1.    -1.    -1.    -1.\n",
      "  -1.    -1.    -1.    -1.    -1.    -1.   ]\n",
      " [-1.    -1.     0.171  0.993  1.     0.948 -0.899 -1.    -1.    -1.\n",
      "  -1.    -1.    -1.    -1.    -1.    -1.   ]\n",
      " [-1.    -0.996  0.446  1.     1.     1.     0.93   0.915  0.656  0.059\n",
      "  -0.714 -1.    -1.    -1.    -1.    -1.   ]]\n"
     ]
    },
    {
     "data": {
      "text/plain": [
       "<function matplotlib.pyplot.show(*args, **kw)>"
      ]
     },
     "execution_count": 6,
     "metadata": {},
     "output_type": "execute_result"
    }
   ],
   "source": [
    "# 131th training example\n",
    "ex131 = X_train[130,:]\n",
    "image131 = np.reshape(ex131, (16,16))\n",
    "print(\"Image 131: 16x16\")\n",
    "print(\"3 first rows:\")\n",
    "print(image131[0:3])\n",
    "\n",
    "# Plot Image\n",
    "import matplotlib.pyplot as plt\n",
    "# 16x16 image\n",
    "plt.imshow(image131)\n",
    "plt.title('imageNO131')\n",
    "plt.show"
   ]
  },
  {
   "cell_type": "markdown",
   "metadata": {},
   "source": [
    "### Βήμα 3  \n",
    "Εκτυπώνουμε ένα δείγμα από κάθε label σε κοινό γράφημα. Παρατηρούμε ότι υπάρχει μια αταξία στα σχήματα, χωρίς αυτό να τα καθιστά όμως δυσνόητα στον άνθρωπο. Οι εικόνες είναι κεντραρισμένες στο ψηφίο που απεικονίζουν ενώ η κλίμακα είναι κάθε φορά τέτοια ώστε τα άκρα του σκίτσου να ακουμπάνε στα άκρα της εικόνας. Το κεντράρισμα και η εστίαση έχουν μεγάλη σημασία για τη διαδικασία της μάθησης και αν δεν ήταν έτοιμα στο dataset θα έπρεπε να τα ρυθμίσουμε οι ίδιοι. Το ίδιο ισχύει και για τη φωτεινότητα των pixels, τα οποία όπως ελέγξαμε έχουν τιμές κανονικοποιημένες στο [-1, 1] (χωρίς NAN). "
   ]
  },
  {
   "cell_type": "code",
   "execution_count": 8,
   "metadata": {},
   "outputs": [
    {
     "data": {
      "image/png": "[encoded data removed]",
      "text/plain": [
       "<Figure size 1152x1152 with 10 Axes>"
      ]
     },
     "metadata": {
      "needs_background": "light"
     },
     "output_type": "display_data"
    }
   ],
   "source": [
    "idxs = [50, 71, 63, 31, 84, 120, 51, 26, 60, 87]\n",
    "fig = plt.figure(figsize=(16, 16))\n",
    "columns = 10\n",
    "rows = 5\n",
    "i = 0\n",
    "for idx in idxs:\n",
    "    i += 1\n",
    "    im = X_train[idx-1,:]\n",
    "    img = np.reshape(im, (16,16))\n",
    "    fig.add_subplot(rows, columns, i)\n",
    "    plt.imshow(img)\n",
    "fig.suptitle('Example token images for each label', fontsize=42)\n",
    "\n",
    "plt.show()"
   ]
  },
  {
   "cell_type": "markdown",
   "metadata": {},
   "source": [
    "### Βήμα 4  \n",
    "Υπολογίζουμε τη μέση τιμή των χαρακτηριστικών του pixel (10, 10) για το ψηφίο «0» με βάση τα train δεδομένα.\n",
    "Το αποτέλεσμα είναι ένας αριθμός της τάξης του -0.93, δηλαδή μια πολύ μικρή τιμή δεδομένης της κλίμακας [-1,1]. Αυτό σημαίνει πως στη συγκεκριμένη θέση σπάνια βρίσκεται μέρος του σχεδίου του μηδέν, κάτι που είναι αναμενόμενο, μιας και η θέση αυτή είναι κεντρική και το σχήμα του μηδέν έχει κενό στο κέντρο. Σημειώνεται πως το offset στη γραμμή των πινάκων για ένα pixel (I,J) με τα (I,J) να ξεκινούν την αρίθμηση από 1 υπολογίζεται ως i$\\cdot$16 + j.\n",
    "Χρησιμοποιήθηκε η συνιστώμενη τεχνική του vectorization."
   ]
  },
  {
   "cell_type": "code",
   "execution_count": 10,
   "metadata": {},
   "outputs": [
    {
     "data": {
      "text/plain": [
       "-0.9272646566164154"
      ]
     },
     "execution_count": 10,
     "metadata": {},
     "output_type": "execute_result"
    }
   ],
   "source": [
    "xzeros = X_train[Y_train==0]\n",
    "np.mean(xzeros[:,9*16+9])\n"
   ]
  },
  {
   "cell_type": "markdown",
   "metadata": {},
   "source": [
    "### Βήμα 5  \n",
    "Στη συνέχεια υπολογίζουμε τη διασπορά των τιμών για το ίδιο pixel στα ψηφία μηδέν και αυτή με vectorization. Η διαπορά βγαίνει 0.084 και επομένως η τυπική απόκλιση 0.29. Είναι στο εν τρίτο περίπου της ακτίνας του διαστήματος τιμών."
   ]
  },
  {
   "cell_type": "code",
   "execution_count": 11,
   "metadata": {},
   "outputs": [
    {
     "data": {
      "text/plain": [
       "0.08392455977262078"
      ]
     },
     "execution_count": 11,
     "metadata": {},
     "output_type": "execute_result"
    }
   ],
   "source": [
    "xzeros = X_train[Y_train==0]\n",
    "np.std(xzeros[:,9*16+9])**2\n"
   ]
  },
  {
   "cell_type": "markdown",
   "metadata": {},
   "source": [
    "### Βήμα 6\n",
    "Υπολογίζουμε τα ίδια μεγέθη για όλα τα pixel των εικόνων του ψηφίου μηδέν.\n",
    "Για επαλήθευση τα εκτυπώνουμε για το pixel(10,10) και βγαίνουν ίδια με πριν όπως και έπρεπε."
   ]
  },
  {
   "cell_type": "code",
   "execution_count": 12,
   "metadata": {},
   "outputs": [
    {
     "name": "stdout",
     "output_type": "stream",
     "text": [
      "-0.927264656616415\n",
      "0.08392455977261963\n"
     ]
    }
   ],
   "source": [
    "xzeros = X_train[Y_train==0]\n",
    "avg = np.reshape(np.mean(xzeros, axis=0),(16,16))\n",
    "print(avg[9][9])\n",
    "dev = np.reshape(np.std(xzeros, axis=0),(16,16))\n",
    "var = dev**2\n",
    "print(var[9][9])"
   ]
  },
  {
   "cell_type": "markdown",
   "metadata": {},
   "source": [
    "### Βήμα 7\n",
    "Στο παρακάτω plot βλέπουμε την απεικόνιση της μέσης τιμής των pixels για το ψηφίο μηδέν. Η απεικόνιση αυτή έχει τη μορφή του ψηφίου αυτού και είναι πιο καθαρή σε σχέση με τα δείγματα (πιο συμμετρικο, πιο ομαλες καμπύλες, ενιαίο πάχος). Ωστόσο το πάχος έχει αυξηθεί (difusion) και οι τιμές των pixels έχουν μειωθεί στο εσωτερικό του σχήματος (λιγότερο κίρτινα σε σχέση με πριν)."
   ]
  },
  {
   "cell_type": "code",
   "execution_count": 13,
   "metadata": {},
   "outputs": [
    {
     "data": {
      "text/plain": [
       "Text(0.5, 1.0, 'average pixel values')"
      ]
     },
     "execution_count": 13,
     "metadata": {},
     "output_type": "execute_result"
    },
    {
     "data": {
      "image/png": "[encoded data removed]",
      "text/plain": [
       "<Figure size 432x288 with 1 Axes>"
      ]
     },
     "metadata": {
      "needs_background": "light"
     },
     "output_type": "display_data"
    }
   ],
   "source": [
    "plt.imshow(avg)\n",
    "plt.show\n",
    "plt.title('average pixel values')\n"
   ]
  },
  {
   "cell_type": "markdown",
   "metadata": {},
   "source": [
    "### Βήμα 8  \n",
    "Η απεικόνιση που προκύπτει από τη διασπορά είναι πιο διεσταλμένη, αλλά έχει παρόμοια μορφή με αυτή της μέσης τιμής.Η διασπορά είναι μεγαλύτερη εκεί που οι τιμές των εικόνων είναι μεγαλύτερες, δηλαδή εκεί που υπάρχει σκίτσο, όπως και αναμέναμε."
   ]
  },
  {
   "cell_type": "code",
   "execution_count": 14,
   "metadata": {},
   "outputs": [
    {
     "data": {
      "text/plain": [
       "Text(0.5, 1.0, 'pixel variance')"
      ]
     },
     "execution_count": 14,
     "metadata": {},
     "output_type": "execute_result"
    },
    {
     "data": {
      "image/png": "[encoded data removed]",
      "text/plain": [
       "<Figure size 432x288 with 1 Axes>"
      ]
     },
     "metadata": {
      "needs_background": "light"
     },
     "output_type": "display_data"
    }
   ],
   "source": [
    "plt.imshow(var)\n",
    "plt.show\n",
    "plt.title('pixel variance')\n"
   ]
  },
  {
   "cell_type": "markdown",
   "metadata": {},
   "source": [
    "### Βήμα 9  \n",
    "Υπολογίζουμε μέση τιμή και διασπορά για όλα τα pixels για κάθε είδος ψηφίου και τα αποθηκεύουμε σε ενα πίνακα με εξωτερική διάσταση 10 και εσωτερικές 16x16, οπότε έχουμε συνολικά 10 απεικονίσεις. Εδώ δεν εφαρμόσαμε vectorisation αλλά υπολογίσαμε τα μεγέθη από τον ορισμό με iterations πάνω στο dataset. Τυπώνουμε τις εικόνες των μέσων τιμών των pixels σε κοινό figure. Βλέπουμε και πάλι πως τα ψηφία είναι εύκολα αναγνωρίσιμα, με ομαλές καμπύλες, αλλά difused. Το ψηφίο 1 έχει την πιο καθαρή απεικόνιση προφανώς λόγω της απλότητας του σχήματός του ενώ το 2 την πιο συγκεχυμένη."
   ]
  },
  {
   "cell_type": "code",
   "execution_count": 15,
   "metadata": {},
   "outputs": [
    {
     "data": {
      "image/png": "[encoded data removed]",
      "text/plain": [
       "<Figure size 1152x1152 with 10 Axes>"
      ]
     },
     "metadata": {
      "needs_background": "light"
     },
     "output_type": "display_data"
    }
   ],
   "source": [
    "avg = np.zeros((10,16,16))\n",
    "avgq = np.zeros((10,16,16))\n",
    "cnt = np.zeros((10,16,16))\n",
    "for k in range(len(X_train)):\n",
    "    for i in range(0,16):\n",
    "        for j in range(0,16):\n",
    "            cnt[int(Y_train[k])][i][j] += 1\n",
    "            avg[int(Y_train[k])][i][j] += X_train[k][i*16 + j]\n",
    "            avgq[int(Y_train[k])][i][j] += X_train[k][i*16 + j]**2\n",
    "#element wise\n",
    "avg = np.true_divide(avg, cnt) \n",
    "avgq = np.true_divide(avgq, cnt)\n",
    "var = avgq - np.multiply(avg, avg)\n",
    "\n",
    "fig = plt.figure(figsize=(16, 16))\n",
    "columns = 10\n",
    "rows = 5\n",
    "i = 0\n",
    "for k in range(10):\n",
    "    i += 1\n",
    "    im = avg[k,:,:]\n",
    "    img = np.reshape(im, (16,16))\n",
    "    fig.add_subplot(rows, columns, i)\n",
    "    plt.imshow(img)\n",
    "fig.suptitle('average value images for each label', fontsize=42)\n",
    "\n",
    "plt.show()\n"
   ]
  },
  {
   "cell_type": "markdown",
   "metadata": {},
   "source": [
    "### Βήματα 10-11  \n",
    "Χρησιμοποποιούμε τις εικόνες με τις μέσες τιμές των pixels για κάθε label σαν κέντρα και αναθέτουμε σε κάθε εικόνα του test set το label του κέντρου από το οποίο απέχει λιγότερο με βάση την Ευκλείδια απόσταση των διανυσμάτων τους. Δηλαδή το label που ελαχιστοποιεί το τετραγωνικό άθροισμα των διαφορών των τιμών των αντίστοιχων pixel. Η μέθοδος αυτή είχε ποσοστό επιτυχίας 81.4% επί του συνολικού test set. Για παράδειγμα,η εκατοστή πρώτη εικόνα ταξινομήθηκε σωστά στα μηδενικά.\n"
   ]
  },
  {
   "cell_type": "code",
   "execution_count": 16,
   "metadata": {},
   "outputs": [
    {
     "name": "stdout",
     "output_type": "stream",
     "text": [
      "hit rate equals 0.8141504733432985\n",
      "Image NO 101 was given label 0\n",
      "It's real label is 0\n"
     ]
    }
   ],
   "source": [
    "classify=[]\n",
    "for test in X_test:\n",
    "    dist=[]\n",
    "    for label in avg:\n",
    "        dist.append(np.linalg.norm(np.reshape(label, 256)-test))\n",
    "    classify.append(np.argmin(dist))\n",
    "    \n",
    "hits = sum(classify == Y_test) \n",
    "total = len(Y_test)\n",
    "print(\"hit rate equals\", hits / total)\n",
    "\n",
    "print('Image NO 101 was given label', classify[100])\n",
    "print(\"It's real label is\", int(Y_test[100]))"
   ]
  },
  {
   "cell_type": "markdown",
   "metadata": {},
   "source": [
    "### Βήμα 12\n",
    "Υλοποιούμε τον ταξινομητή ευκλείδιας απόστασης σαν ένα scikit-learn estimator. Στη μέθοδο fit υπολογίζουμε τις μέσες τιμές όπως πριν με δεδομένο στα ορίσματα ένα train set. Στην predict αξιοποιούμε τον πίνακα με τις μέσες τιμές (κέντρα) που υπάρχει στην κλάση για για να υπολογίσουμε τα labels για ένα test set που δίνεται στα ορίσματα της μεθόδου.Η μέθοδος επιστρέφει ένα πίνακα με τα labels για καθεμία από τις γραμμές του test. Η μέθοδος score παίρνει ως όρισμα ένα test set χαρακτηριστικών καθώς και τα πραγματικά labels των στοιχείων, καλεί την predict δίνοντας της το συγκεκριμένο test set αι υπολογίζει το ποστό επιτυχίας ταξινόμησης. Ο ταξινομητής μπορεί να δεχτεί δεδομένα σε μορφή δισδιάσταων πινάκων με αυθαίρετο (αλλά φυσικά κοινό) πλήθος χαρακτηριστικών."
   ]
  },
  {
   "cell_type": "code",
   "execution_count": 17,
   "metadata": {},
   "outputs": [],
   "source": [
    "from sklearn.base import BaseEstimator, ClassifierMixin\n",
    "from sklearn.utils.validation import check_X_y, check_array, check_is_fitted\n",
    "from sklearn.utils.multiclass import unique_labels\n",
    "from sklearn.model_selection import learning_curve\n",
    "import numpy as np\n",
    "\n",
    "class EuclideanClassifier(BaseEstimator, ClassifierMixin):  \n",
    "    \"\"\"Classify samples based on the Euclidean distance from the mean feature value\"\"\"\n",
    "\n",
    "    def __init__(self, classes=None):\n",
    "        # Χ_mean: numpy.ndarray of shape (n_classes, n_features)\n",
    "        self.X_mean_ = None\n",
    "        self.classes = None\n",
    "\n",
    "\n",
    "\n",
    "    def fit(self, X, y):\n",
    "        \"\"\"\n",
    "        This should fit classifier. All the \"work\" should be done here.\n",
    "        \n",
    "        Calculates self.X_mean_ based on the mean \n",
    "        feature values in X for each class.\n",
    "        \n",
    "        self.X_mean_ becomes a numpy.ndarray of shape \n",
    "        (n_classes, n_features)\n",
    "        \n",
    "        fit always returns self.\n",
    "        \"\"\"\n",
    "        ## X: (n_training examples)x(n_features)\n",
    "        ## y is an 1d vector: 1x(number of training examples)\n",
    "        \n",
    "        # Check that X and y have correct shape\n",
    "        (X,y) = check_X_y(X, y)\n",
    "        # Store the classes seen during fit\n",
    "        self.classes = unique_labels(y)\n",
    "        \n",
    "        # Number of features\n",
    "        (_, n_features) = X.shape\n",
    "        # Initialization\n",
    "        self.X_mean_ = np.zeros(( (len(self.classes)), n_features ))\n",
    "        \n",
    "        # Compute X_mean_\n",
    "        for label in self.classes:\n",
    "            label = int(label)\n",
    "            labelX = X[y == label]\n",
    "            labelX = np.mean(labelX, axis=0)\n",
    "            self.X_mean_[label] = np.add(self.X_mean_[label], labelX) \n",
    "        \n",
    "        return self\n",
    "\n",
    "\n",
    "    def predict(self, X):\n",
    "        \"\"\"\n",
    "        Make predictions for X based on the\n",
    "        euclidean distance from self.X_mean_\n",
    "        \"\"\"\n",
    "        ## X: (n_tests)x(n_features)\n",
    "        \n",
    "        # Input validation\n",
    "        X = check_array(X)\n",
    "        \n",
    "        # Initialize y_predict\n",
    "        (n_tests, _) = X.shape \n",
    "        y_predict = np.zeros((n_tests, 1))\n",
    "        \n",
    "        for test in range(len(X)):\n",
    "            eucl_classify = []\n",
    "            for train in self.X_mean_:\n",
    "                # Euclidean distance\n",
    "                \n",
    "                eucl_classify.append( np.linalg.norm(train - X[test]) )\n",
    "            # Predict the min euclidean distance for each test\n",
    "            y_predict[test] = np.argmin(eucl_classify)\n",
    "                \n",
    "        return y_predict\n",
    "    \n",
    "    \n",
    "    def score(self, X, y_truth):\n",
    "        \"\"\"\n",
    "        Return accuracy score on the predictions\n",
    "        for X based on ground truth y_truth\n",
    "        \"\"\"\n",
    "        y_predict = self.predict(X)\n",
    "        return ( np.sum([y_predict == y_truth]) ) / ( len(y_predict) )"
   ]
  },
  {
   "cell_type": "markdown",
   "metadata": {},
   "source": [
    "### Βήμα 13(α) \n",
    "Θα χρησιμοποιήσουμε cross validation και θα βγάλουμε ποσοστά επιτυχίας για διαφορετικούς διαχωρισμούς των δεδομένων σε train και test. Συνενώνουμε τα test και train set που μας δίνονται σε ένα συνολικό διάνυσμα δεδομένων και κάθε φορά παίρνουμε διαφορετικό κομμάτι του συνολικού διανύσματος σαν train set. Πάνω σε αυτό εκπαιδεύουμε τον ταξινομητή και στη συνέχεια χρησιμοποιούμε τα υπόλοιπα δεδομένα σαν test. Αυτό το επαναλαμβάνουμε για 5 διαφορετικά σπασίματα των δεδομένων, βρίσκουμε κάθε φορά το ποσοστό επιτυχίας και τελικά παίρνουμε το μέσο όρο αυτών για να έχουμε κι ένα συνολικό ποσοστό. Με τη μέθοδο αυτή αξιοποιούμε καλύτερα τα διαθέσιμα δεδομένα για την εξαγωγή ενός αντιπροσωπευτικού ποσοστού επιτυχίας μιας και κάθε example χρησιμοποιείται τελικά και ως train στοιχείο και ως test. Φυσικά αυτοί οι 2 ρόλοι απαγορεύεται να συνυπάρξουν για ένα στοιχείο στην ίδια επανάληψη, γιατί νοθεύεται έτσι η διαδικασία πρόβλεψης."
   ]
  },
  {
   "cell_type": "code",
   "execution_count": 18,
   "metadata": {},
   "outputs": [
    {
     "name": "stdout",
     "output_type": "stream",
     "text": [
      "scores on each of the 5 splits:  [0.85860215 0.83494624 0.84784946 0.84561592 0.81656805]\n",
      "CV Average Score: 0.8407163638677286\n"
     ]
    }
   ],
   "source": [
    "import warnings\n",
    "warnings.filterwarnings(\"ignore\",category=DeprecationWarning)\n",
    "warnings.filterwarnings(\"ignore\",category=FutureWarning)\n",
    "\n",
    "import numpy as np\n",
    "from sklearn.model_selection import KFold\n",
    "from sklearn.model_selection import cross_val_score\n",
    "\n",
    "# Read train.txt\n",
    "# X_train, Y_train\n",
    "train = []\n",
    "with open(\"train.txt\", 'r') as f:\n",
    "    for line in f:\n",
    "        line = line.split(\" \")\n",
    "        del line[-1]\n",
    "        for i in range(0, len(line)):\n",
    "            line[i] = float(line[i])\n",
    "        train.append(line.copy())\n",
    "   \n",
    "train = np.asarray(train)\n",
    "\n",
    "y_train = train[0:,0]\n",
    "X_train = train[:,1:]\n",
    "\n",
    "import numpy as np\n",
    "\n",
    "# Read text.txt\n",
    "# X_test, Y_test\n",
    "with open('test.txt', 'r') as f:\n",
    "    l = [[(num) for num in line.split(' ')] for line in f]\n",
    "TEST = np.zeros( (len(l), len(l[0])-1) )\n",
    "for i in range(len(l)):\n",
    "    for j in range(len(l[0])-1):\n",
    "        TEST[i][j]=float(l[i][j][:])\n",
    "TEST[0:2][0:2589999]\n",
    "\n",
    "X_test = TEST[:,1:]\n",
    "Y_test = TEST[0:,0]\n",
    "\n",
    "X = np.concatenate((X_train,X_test), axis=0)\n",
    "y = np.concatenate((y_train,Y_test), axis=0) \n",
    "\n",
    "# 5-Fold Cross Validation\n",
    "scores = cross_val_score(EuclideanClassifier(), X, y, \n",
    "                         cv=KFold(n_splits=5, random_state=32), \n",
    "                         scoring=\"accuracy\")\n",
    "print('scores on each of the 5 splits: ',scores)\n",
    "print(\"CV Average Score: \" + str(np.mean(scores)))"
   ]
  },
  {
   "cell_type": "markdown",
   "metadata": {},
   "source": [
    "### Βήμα 13(β) \n",
    "Στο σημείο αυτό θα προσπαθήσουμε να απεικονίσουμε τις περιοχές απόφασης του ταξινομητή. Για το σκοπό αυτό θα πρέπει να απομονώσουμε 2 χαρακτηριστικά που να καταφέρνουν όσο το δυνατόν καλύτερα να διαχωρίσουν τα δείγματα. Τα χαρακτηριστικά που δίνονται στο dataset είναι ξεχωριστά. Με τις τιμές 2 pixel μόνο δε μπορούμε να περιμένουμε καλά αποτελέσματα. Θα πρέπει να χρησιμοποιήσουμε καποιους συνδυασμούς των pixels ώστε να πάρουμε ένα κατάλληλο για το διαχωρισμό ενδιάμεσο embedding. Σε κάθε περίπτωση καλό είναι να κανονικοποιήσουμε τις τιμές των χαρακτηριστικών. Δοκιμάζουμε δύο διαφορετικά embeddings.\n",
    "\n",
    "Το πρώτο είναι μια ευριστική απεικόνιση που γίνεται πάνω σε δύο χαρακτηριστικά του σκελετού των σκίτσων: το μήκος του σκελετού που υπολογίζεται ως το άθροισμα των pixels του (boolean τιμές) και ένα μέγεθος που εκφράζει τη διασπορά της \"μάζας\" του σκελετού γύρω από το κέντρο του και υπολογίζεται όπως η ροπή αδρανείας των φυσικών σωμάτων. Ο ταξινομητής καταφέρνει σε αυτό το embedding να ταξινομήσει τα δείγματα με ένα ποσοστό επιτυχίας 25%. Είναι καλύτερο από το εντελώς τυχαίο 10% αλλά πολύ χειρότερο από το 84% του ταξινομητή που αξιοποιεί και τα 256 χαρακτηριστικά.\n",
    "\n",
    "Στο δεύτερο embedding απεικονίσαμε τα 256 χαρακτηριστικά σε 2 διαστάσεις εφαρμόζοντας pca. Ο ταξινομητής πέτυχε σε αυτή την περίπτωση ποσοστό 51%. Είναι εμφανώς χειρότερο από το ποσοστό όταν χρησιμοποιήθηκε πλήρης αριθμός χαρακτηριστικών, ωστόσο για 2 μόνο διαστάσεις είναι ένα ικανοποιητικό αποτέλεσμα.\n",
    "\n",
    " \n",
    "Στα διαγράμματα των περιοχών απόφασης βλέπουμε με συνεχές χρώμα (contour) τις περιοχές απόφασης, δηλαδή για κάθε label το γεωμετρικό τόπο του x-y επιπέδου όπου ο ταξινομητής δεχόμενος την τούπλα [x,y] δίνει ως έξοδο το label αυτό. Επίσης βλέπουμε την απεικόνιση των δειγμάτων του train πάνω στο x-y επίπεδο (scatter). Κάθε σημείο του train πηγαίνει στην κατάλληλη θέση x,y ανάλογα με τις τιμές των χαρακτηριστικών του κι έχει το χρώμα που αντιστοιχεί στο label του. Όσο πιο ομαδοποιημένα είναι τα σημεία και όσο λιγότερο επικαλύπτεται η κάθε ομάδα με τις υπόλοιπες τόσο καλύτερο classification έχουμε πετύχει. Στην περίπτωση των χαρακτηριστικών του σκελετού οι ομάδες που δημιουργούνται έχουν μεγάλη επικάλυψη και γι'αυτό υπάρχει και υψηλό ποσοστό λάθους. Επίσης παρατηρούμε ότι τα δύο χαρακτηριστικά είναι σε κάποιο βαθμό συσχετισμένα με αποτέλεσμα τα σημεία να μην απλώνονται σε όλο το x-y επίπεδο, αλλά να είναι συγκεντρωμένα γύρω από μια ευθεία y=ax. Αντίθετα, στην περίπτωση του pca τα δείγματα κατανέμονται σε όλο το επίπεδο και δημιουργούνται ομάδες με μικρότερη επικάλυψη.\n",
    "\n",
    "Επίσης τυπώνουμε τις τιμές των χαρακτηριστικών για κάθε κέντρο στην περίπτωση του σκελετού και του pca και βλέπουμε πόσο variance έχουν αυτά. Και στις 2 περιπτώσεις υπάρχει μεταβλητότητα από κέντρο σε κέντρο και στην περίπτωση του pca αυτή είναι μεγαλύτερη."
   ]
  },
  {
   "cell_type": "code",
   "execution_count": 19,
   "metadata": {},
   "outputs": [],
   "source": [
    "import warnings\n",
    "warnings.filterwarnings(\"ignore\",category=DeprecationWarning)\n",
    "warnings.filterwarnings(\"ignore\",category=FutureWarning)\n",
    " \n",
    "import numpy as np\n",
    "import matplotlib.pyplot as plt\n",
    "\n",
    "def plot_clf(clf, X, y, labels, plot_labels):\n",
    "    # function that plots decision regions\n",
    "    fig, ax = plt.subplots()\n",
    "    # title for the plots\n",
    "    title = ('Decision surface of Classifier')\n",
    "    \n",
    "    # Initializations\n",
    "    # X0: Skeleton area\n",
    "    # X1: Skeleton variance\n",
    "    X0, X1 = X[:,0], X[:,1]\n",
    "    \n",
    "    x_min, x_max = X0.min() - 0.2, X0.max() + 0.2\n",
    "    y_min, y_max = X1.min() - 0.2, X1.max() + 0.2\n",
    "    xx, yy = np.meshgrid(np.arange(x_min, x_max, .05),\n",
    "                         np.arange(y_min, y_max, .05))\n",
    "    \n",
    "    Z = clf.predict(np.c_[xx.ravel(), yy.ravel()])\n",
    "    Z = Z.reshape(xx.shape)\n",
    "    out = ax.contourf(xx, yy, Z, cmap=plt.cm.coolwarm, alpha=0.8)\n",
    "    \n",
    "    colors = ['red', 'yellow', 'blue', 'green', 'black', 'purple', 'orange', 'silver', 'grey', 'brown']  \n",
    "    \n",
    "    for label in labels:\n",
    "        ax.scatter(\n",
    "            X0[y == label], X1[y == label],\n",
    "            c=(colors[int(label)]), label=int(label),\n",
    "            s=60, alpha=0.9, edgecolors='k'\n",
    "        )\n",
    "    \n",
    "    ax.set_ylabel(plot_labels[1])\n",
    "    ax.set_xlabel(plot_labels[0])\n",
    "    ax.set_xticks(())\n",
    "    ax.set_yticks(())\n",
    "    ax.set_title(title)\n",
    "    ax.legend()\n",
    "    plt.show()\n"
   ]
  },
  {
   "cell_type": "code",
   "execution_count": 20,
   "metadata": {},
   "outputs": [],
   "source": [
    "import warnings\n",
    "warnings.filterwarnings(\"ignore\",category=DeprecationWarning)\n",
    "warnings.filterwarnings(\"ignore\",category=FutureWarning)\n",
    "\n",
    "import numpy as np\n",
    "import matplotlib.pyplot as plt\n",
    "\n",
    "def znorm(x, axis=0):\n",
    "    return (x - x.min(axis=axis)) / (x.max(axis=axis) - (x.min(axis=axis)))\n",
    "\n",
    "# Descriptor 1: Skeleton Area\n",
    "def area_skeleton(skeleton):\n",
    "    # Area of the image skeleton\n",
    "    area_skeleton = sum(sum(skeleton))    \n",
    "    \n",
    "    return area_skeleton\n",
    "\n",
    "# Descriptor 2: Skeleton Variance\n",
    "def variance_skeleton(skeleton, area_skeleton):\n",
    "    # Rx, Ry\n",
    "    Ri = 0\n",
    "    Rj = 0\n",
    "    for i in range(16):\n",
    "        for j in range(16):\n",
    "            if (skeleton[i][j] == True):\n",
    "                Ri += i\n",
    "                Rj += j\n",
    "    Ri /= area_skeleton\n",
    "    Rj /= area_skeleton\n",
    "\n",
    "    # Moment of Inertia, Angular Mass\n",
    "    I = 0\n",
    "    for i in range(16):\n",
    "        for j in range(16):\n",
    "            if (skeleton[i][j] == True):\n",
    "                I += (Ri - i)**2 + (Rj - j)**2\n",
    "                \n",
    "    return I"
   ]
  },
  {
   "cell_type": "code",
   "execution_count": 21,
   "metadata": {},
   "outputs": [
    {
     "name": "stdout",
     "output_type": "stream",
     "text": [
      "feature values for each center:\n",
      "[[0.51523575 0.45013227]\n",
      " [0.18880068 0.07921207]\n",
      " [0.36909509 0.28291601]\n",
      " [0.393326   0.34217179]\n",
      " [0.27835792 0.14145521]\n",
      " [0.41332466 0.35345816]\n",
      " [0.32075109 0.20279671]\n",
      " [0.27725548 0.19402933]\n",
      " [0.34898328 0.24784081]\n",
      " [0.27494384 0.15785788]]\n",
      "scores on each of the 5 splits:  [0.24742975 0.27572016 0.2345679  0.22702332 0.24348422]\n",
      "CV Average Score: 0.245645071365377\n"
     ]
    },
    {
     "data": {
      "image/png": "[encoded data removed]",
      "text/plain": [
       "<Figure size 432x288 with 1 Axes>"
      ]
     },
     "metadata": {},
     "output_type": "display_data"
    }
   ],
   "source": [
    "X_tr = X_train[:,:]\n",
    "y_tr = y_train[:]\n",
    "\n",
    "# Initializations\n",
    "# X0: Skeleton area\n",
    "# X1: Skeleton variance\n",
    "X0, X1 = np.zeros((len(X_tr), 1)), np.zeros((len(X_tr), 1))\n",
    " \n",
    "from skimage.morphology import skeletonize\n",
    "\n",
    "# Produce descriptor features for plot\n",
    "for i in range(len(X_tr)):\n",
    "    img = ((X_tr[i].reshape(16,16)) + np.ones((16,16))) / 2\n",
    "    skeleton = skeletonize(img) \n",
    "    X0[i] = area_skeleton(skeleton)\n",
    "    X1[i] = variance_skeleton(skeleton, X0[i])\n",
    "      \n",
    "# Normalization and Concatenation        \n",
    "X = np.concatenate((znorm(X0), znorm(X1)), axis=1)\n",
    "\n",
    "clf = EuclideanClassifier()\n",
    "clf.fit(X, y_tr)  \n",
    "print('feature values for each center:')\n",
    "print(clf.X_mean_)\n",
    "\n",
    "# 5-Fold Cross Validation\n",
    "scores = cross_val_score(EuclideanClassifier(), X, y_tr, \n",
    "                         cv=KFold(n_splits=5, random_state=22), \n",
    "                         scoring=\"accuracy\")\n",
    "print('scores on each of the 5 splits: ',scores)\n",
    "print(\"CV Average Score: \" + str(np.mean(scores)))\n",
    "\n",
    "\n",
    "plot_clf(clf, X, y_tr, clf.classes, [\"area\", \"variance\"])"
   ]
  },
  {
   "cell_type": "code",
   "execution_count": 22,
   "metadata": {},
   "outputs": [
    {
     "name": "stdout",
     "output_type": "stream",
     "text": [
      "feature values for each center:\n",
      "[[ 9.13878345 -1.97268522]\n",
      " [-7.99260998 -2.46554278]\n",
      " [ 1.05846674 -0.49165186]\n",
      " [ 1.47803408  0.61560111]\n",
      " [-2.20735064  2.33435672]\n",
      " [ 2.27891177 -0.7316747 ]\n",
      " [ 0.85914989 -5.29417789]\n",
      " [-2.82662208  7.26222408]\n",
      " [-1.70981281  0.5201006 ]\n",
      " [-3.53088211  3.44985132]]\n",
      "scores on each of the 5 splits:  [0.50582591 0.56652949 0.5048011  0.47050754 0.49931413]\n",
      "CV Average Score: 0.5093956343061514\n"
     ]
    },
    {
     "data": {
      "image/png": "[encoded data removed]",
      "text/plain": [
       "<Figure size 432x288 with 1 Axes>"
      ]
     },
     "metadata": {},
     "output_type": "display_data"
    }
   ],
   "source": [
    "import warnings\n",
    "warnings.filterwarnings(\"ignore\",category=DeprecationWarning)\n",
    "warnings.filterwarnings(\"ignore\",category=FutureWarning)\n",
    "\n",
    "import pandas as pd\n",
    "from sklearn.preprocessing import StandardScaler\n",
    "from sklearn.decomposition import PCA\n",
    "\n",
    "X_t = pd.DataFrame(data=X_train)\n",
    "X_t = StandardScaler().fit_transform(X_t)\n",
    "pca = PCA(n_components=2)\n",
    "principalComponents = pca.fit_transform(X_t)\n",
    "\n",
    "principalDf = pd.DataFrame(data = principalComponents\n",
    "             , columns = ['principal component 1', 'principal component 2'])\n",
    "X_tr = np.array(principalDf)\n",
    "X = X_tr\n",
    "''' \n",
    "# Normalization and Concatenation  \n",
    "X0, X1 = (np.reshape(X_tr[:,0], (len(X_tr), 1))), (np.reshape(X_tr[:,1], (len(X_tr), 1)))\n",
    "X = np.concatenate((znorm(X0), znorm(X1)), axis=1)\n",
    "'''  \n",
    "\n",
    "# Euclidean Classifier\n",
    "clf = EuclideanClassifier()\n",
    "clf.fit(X, y_tr)  \n",
    "\n",
    "print('feature values for each center:')\n",
    "print(clf.X_mean_)\n",
    "\n",
    "# 5-Fold Cross Validation\n",
    "scores = cross_val_score(EuclideanClassifier(), X, y_tr, \n",
    "                         cv=KFold(n_splits=5, random_state=32), \n",
    "                         scoring=\"accuracy\")\n",
    "print('scores on each of the 5 splits: ',scores)\n",
    "print(\"CV Average Score: \" + str(np.mean(scores)))\n",
    "\n",
    "plot_clf(clf, X, y_tr, clf.classes, [\"PCA Component 1\", \"PCA Component 2\"])"
   ]
  },
  {
   "cell_type": "markdown",
   "metadata": {},
   "source": [
    "### Βήμα 13(γ) \n",
    "Τέλος κάνουμε plot το learning curve.\n",
    "To διάγραμμα αυτό μας δείχνει πως μεταβάλλεται το training score και το cross-validation score καθώς προσθέτουμε δείγματα στη μάθηση. Υψηλό training score δείχνει καλό fitting (lower bias), αν όμως αυτό συνοδεύεται με χαμηλό validation score σημαίνει πως υπάρχει υψηλό variance και overfitting. Θέλουμε να βρούμε μια καλή ισορροπία μεταξύ αυτών των παραμέτρων ώστε να επιτυγχάνονται καλά score και γενίκευση. Με τη βοήθεια αυτής της καμπύλης βλέπουμε πότε έχει νόημα να σταματήσουμε την εκπαίδευση λόγω κορεσμού (τα score συγκλίνουν σε συγκεκριμένες τιμές καθώς προσθέτουμε δείγματα). Επίσης βλέπουμε αν ο estimator πάσχει από bias error, οπότε τα μεγέθη συγκλίνουν σε κακές τιμές είτε variance error, οπότε το training score είναι πολύ ψηλότερο από το cross-validation score. Στην πρώτη περίπτωση έχει πρόβλημα το μοντέλο μας είτε η παραμετροποίησή του ενώ στη δεύτερη περιμένουμε ότι αύξηση του αριθμού των δειγμάτων μάθησης θα βελτίωνε την ικανότητα γενίκευσης.\n",
    "\n",
    "Στο δικό μας παράδειγμα το training score πέφτει (ελαφρώς) και το validation score αυξάνει καθώς προσθέτουμε δείγματα ξεκινώντας από 1000, ενώ μετά τα 4000 δείγματα επέρχεται σύγκλιση. Ξεκινάμε την εκπαίδευση από ένα ποσοστό της τάξης του 10% των δειγμάτων και φροντίζουμε στο αρχικό ποσοστό να υπάρχουν δείγματα από όλες τις πιθανές κλάσεις. Αν θέλουμε να μην είναι υποχρεωτικό αυτό πρέπει να ξαναορίσουμε τον ταξινομητή ώστε να έχει προκαθορισμένες κλάσεις αντί να μαθαίνει δυναμικά ποιες είναι αυτές καθώς έρχονται νέα δείγματα. Το κάνουμε στο τέλος και αυτό για να έχουμε μια εικόνα του τι συμβαίνει για πολύ μικρό αριθμό δειγμάτων. Για μικρό αριθμό δειγμάτων το training score είναι πολύ υψηλό και το cross validation score πολύ χαμηλό."
   ]
  },
  {
   "cell_type": "code",
   "execution_count": 23,
   "metadata": {},
   "outputs": [],
   "source": [
    "import warnings\n",
    "\n",
    "from sklearn.model_selection import learning_curve\n",
    "import numpy as np\n",
    "\n",
    "X = np.concatenate((X_train,X_test), axis=0)\n",
    "y = np.concatenate((y_train,Y_test), axis=0) \n",
    "\n",
    "train_sizes, train_scores, test_scores = learning_curve(\n",
    "    EuclideanClassifier(), X, y, cv=5, n_jobs=-1, scoring = \"accuracy\",\n",
    "    train_sizes=np.linspace(0.11, 1.0, 5))"
   ]
  },
  {
   "cell_type": "code",
   "execution_count": 24,
   "metadata": {},
   "outputs": [
    {
     "data": {
      "text/plain": [
       "<module 'matplotlib.pyplot' from '/home/bill/.local/lib/python3.5/site-packages/matplotlib/pyplot.py'>"
      ]
     },
     "execution_count": 24,
     "metadata": {},
     "output_type": "execute_result"
    },
    {
     "data": {
      "image/png": "[encoded data removed]",
      "text/plain": [
       "<Figure size 432x288 with 1 Axes>"
      ]
     },
     "metadata": {
      "needs_background": "light"
     },
     "output_type": "display_data"
    }
   ],
   "source": [
    "\n",
    "import matplotlib.pyplot as plt \n",
    "\n",
    "def plot_learning_curve(train_scores, test_scores, train_sizes, ylim=(0, 1)):\n",
    "    plt.figure()\n",
    "    plt.title(\"Learning Curve\")\n",
    "    if ylim is not None:\n",
    "        plt.ylim(*ylim)\n",
    "    plt.xlabel(\"Training examples\")\n",
    "    plt.ylabel(\"Score\")\n",
    "    \n",
    "    \n",
    "    \n",
    "    train_scores_mean = np.mean(train_scores, axis=1)\n",
    "    train_scores_std = np.std(train_scores, axis=1)\n",
    "    test_scores_mean = np.mean(test_scores, axis=1)\n",
    "    test_scores_std = np.std(test_scores, axis=1)\n",
    "    plt.grid()\n",
    "\n",
    "    plt.fill_between(train_sizes, train_scores_mean - train_scores_std,\n",
    "                     train_scores_mean + train_scores_std, alpha=0.1,\n",
    "                     color=\"r\")\n",
    "    plt.fill_between(train_sizes, test_scores_mean - test_scores_std,\n",
    "                     test_scores_mean + test_scores_std, alpha=0.1, color=\"g\")\n",
    "    plt.plot(train_sizes, train_scores_mean, 'o-', color=\"r\",\n",
    "             label=\"Training score\")\n",
    "    plt.plot(train_sizes, test_scores_mean, 'o-', color=\"g\",\n",
    "             label=\"Cross-validation score\")\n",
    "\n",
    "    plt.legend(loc=\"best\")\n",
    "    return plt\n",
    "\n",
    "plot_learning_curve(train_scores, test_scores, train_sizes, ylim=(.6, 1))"
   ]
  },
  {
   "cell_type": "code",
   "execution_count": 25,
   "metadata": {},
   "outputs": [
    {
     "data": {
      "text/plain": [
       "<module 'matplotlib.pyplot' from '/home/bill/.local/lib/python3.5/site-packages/matplotlib/pyplot.py'>"
      ]
     },
     "execution_count": 25,
     "metadata": {},
     "output_type": "execute_result"
    },
    {
     "data": {
      "image/png": "[encoded data removed]",
      "text/plain": [
       "<Figure size 432x288 with 1 Axes>"
      ]
     },
     "metadata": {
      "needs_background": "light"
     },
     "output_type": "display_data"
    }
   ],
   "source": [
    "from sklearn.base import BaseEstimator, ClassifierMixin\n",
    "from sklearn.utils.validation import check_X_y, check_array, check_is_fitted\n",
    "from sklearn.utils.multiclass import unique_labels\n",
    "from sklearn.model_selection import learning_curve\n",
    "import numpy as np\n",
    "\n",
    "\n",
    "#redifining the euclidean estimator to have a predefined number of classes so that we can start from a low number of training samples for the learning curve\n",
    "\n",
    "\n",
    "class EuclideanClassifier(BaseEstimator, ClassifierMixin):  \n",
    "    \"\"\"Classify samples based on the Euclidean distance from the mean feature value\"\"\"\n",
    "\n",
    "    def __init__(self, classes=None):\n",
    "        # Χ_mean: numpy.ndarray of shape (n_classes, n_features)\n",
    "        self.X_mean_ = None\n",
    "        self.classes = None\n",
    "\n",
    "\n",
    "\n",
    "    def fit(self, X, y):\n",
    "        \"\"\"\n",
    "        This should fit classifier. All the \"work\" should be done here.\n",
    "        \n",
    "        Calculates self.X_mean_ based on the mean \n",
    "        feature values in X for each class.\n",
    "        \n",
    "        self.X_mean_ becomes a numpy.ndarray of shape \n",
    "        (n_classes, n_features)\n",
    "        \n",
    "        fit always returns self.\n",
    "        \"\"\"\n",
    "        ## X: (n_training examples)x(n_features)\n",
    "        ## y is an 1d vector: 1x(number of training examples)\n",
    "        \n",
    "        # Check that X and y have correct shape\n",
    "        (X,y) = check_X_y(X, y)\n",
    "        # Store the classes seen during fit\n",
    "        self.classes =  np.linspace(0, 9, num=10)\n",
    "        \n",
    "        # Number of features\n",
    "        (_, n_features) = X.shape\n",
    "        # Initialization\n",
    "        self.X_mean_ = np.zeros(( (len(self.classes)), n_features ))\n",
    "        \n",
    "        # Compute X_mean_\n",
    "        for label in self.classes:\n",
    "            label = int(label)\n",
    "            labelX = X[y == label]\n",
    "            labelX = np.mean(labelX, axis=0)\n",
    "            self.X_mean_[label] = np.add(self.X_mean_[label], labelX) \n",
    "        \n",
    "        return self\n",
    "\n",
    "\n",
    "    def predict(self, X):\n",
    "        \"\"\"\n",
    "        Make predictions for X based on the\n",
    "        euclidean distance from self.X_mean_\n",
    "        \"\"\"\n",
    "        ## X: (n_tests)x(n_features)\n",
    "        \n",
    "        # Input validation\n",
    "        X = check_array(X)\n",
    "        \n",
    "        # Initialize y_predict\n",
    "        (n_tests, _) = X.shape \n",
    "        y_predict = np.zeros((n_tests, 1))\n",
    "        \n",
    "        for test in range(len(X)):\n",
    "            eucl_classify = []\n",
    "            for train in self.X_mean_:\n",
    "                # Euclidean distance\n",
    "                \n",
    "                eucl_classify.append( np.linalg.norm(train - X[test]) )\n",
    "            # Predict the min euclidean distance for each test\n",
    "            y_predict[test] = np.argmin(eucl_classify)\n",
    "                \n",
    "        return y_predict\n",
    "    \n",
    "    \n",
    "    def score(self, X, y_truth):\n",
    "        \"\"\"\n",
    "        Return accuracy score on the predictions\n",
    "        for X based on ground truth y_truth\n",
    "        \"\"\"\n",
    "        y_predict = self.predict(X)\n",
    "        return ( np.sum([y_predict == y_truth]) ) / ( len(y_predict) )\n",
    "    \n",
    "    \n",
    "train_sizes, train_scores, test_scores = learning_curve(\n",
    "    EuclideanClassifier(), X, y, cv=30, n_jobs=-1, scoring = \"accuracy\",\n",
    "    train_sizes=np.linspace(0.01, 1.0, 10))\n",
    "\n",
    "\n",
    "plot_learning_curve(train_scores, test_scores, train_sizes, ylim=(0.4, 1))\n",
    "\n"
   ]
  },
  {
   "cell_type": "markdown",
   "metadata": {},
   "source": [
    "### Βημα 14\n",
    "Βρίσκουμε τις a priori πιθανότητες για κάθε κλάση/label που μπορεί ένα δείγμα να ταξινομηθεί, δηλαδή από το Y_train βρίσκουμε για κάθε κλάση c το $P(Y_c) = \\dfrac {N_c}{N}$. Προφανώς, περιμένουμε το άθροισμα τους να ισούται με 1."
   ]
  },
  {
   "cell_type": "code",
   "execution_count": 26,
   "metadata": {},
   "outputs": [
    {
     "name": "stdout",
     "output_type": "stream",
     "text": [
      "[0.16376354409546015, 0.13784117405019888, 0.10026059525442327, 0.09024825126868742, 0.08942531888629818, 0.07625840076807022, 0.09107118365107666, 0.08846523110684405, 0.07433822520916199, 0.08832807570977919]\n",
      "1.0\n"
     ]
    }
   ],
   "source": [
    "# Find the a priori probalities for each class/label \n",
    "labels = [([Y_train == label]) for label in unique_labels(Y_train)]\n",
    "Y_train_size = len(Y_train)\n",
    "a_priori = [(np.sum(label, axis=1) / Y_train_size)[0] for label in labels]\n",
    "print(a_priori)\n",
    "\n",
    "# Checked sum(a_priori = 1)\n",
    "print(sum(a_priori))"
   ]
  },
  {
   "cell_type": "markdown",
   "metadata": {},
   "source": [
    "### Βήμα 15\n",
    "H βασική ιδέα λειτουργίας του ταξινομητή είναι α) ο γνωστός νόμος του Bayes $$P(A\\mid B)={\\frac {P(B\\mid A)\\,P(A)}{P(B)}}$$\n",
    "​\n",
    "και β) η (naive) υπόθεση ότι τα χαρακτηριστικά είναι όλα ανεξάρτητα μεταξύ τους (στην περίπτωσή μας τα χαρακτηριστικά είναι τα pixel των εικόνων και για τα γειτονικά pixel δεν ισχύει η υπόθεση της ανεξαρτησίας). \n",
    "​\n",
    "Με δεδομένα μια μεταβλητή κατηγορίας (κλάσης) $y$ και ένα εξαρτώμενο διάνυσμα χαρακτηριστικών $x_1$ μέχρι $x_n$, σύμφωνα με το θεώρημα του Bayes θα ισχύει \n",
    "$$P(y \\mid x_1, \\dots, x_n) = \\frac{P(y) P(x_1, \\dots x_n \\mid y)}{P(x_1, \\dots, x_n)}$$\n",
    "Ισχύει ότι $P(x_1, \\dots, x_i, \\dots, x_n \\mid y) =  \\prod_{i=1}^{n} P(x_i | y, x_1, \\dots, x_{i-1}, x_{i+1}, \\dots, x_n)$ και κάνουμε την αφελή υπόθεση ότι το χαρακτηριστικό $x_i$ για κάθε $i$ εξαρτάται μόνο από τo label $y$ και όχι από οποιοδήποτε άλλο χαρακτηριστικό\n",
    "$$P(x_i | y, x_1, \\dots, x_{i-1}, x_{i+1}, \\dots, x_n) = P(x_i | y)$$\n",
    "αυτό οδηγεί στην απλοποίηση\n",
    "$$P(y \\mid x_1, \\dots, x_n) = \\frac{P(y) \\prod_{i=1}^{n} P(x_i \\mid y)}{P(x_1, \\dots, x_n)}$$\n",
    "Με δεδομένη είσοδο, το $P(x_1, \\dots, x_n)$ είναι σταθερό. Συνεπώς μπορούμε να χρησιμοποιήσουμε τον ακόλουθο κανόνα ταξινόμησης $$P(y \\mid x_1, \\dots, x_n) \\propto P(y) \\prod_{i=1}^{n} P(x_i \\mid y)$$ \n",
    "$$\\Downarrow$$\n",
    "$$\\hat{y} = \\arg\\max_y P(y) \\prod_{i=1}^{n} P(x_i \\mid y)\\quad (1) $$\n",
    "Το $P(y)$ είναι η υπόθεσή μας και ισούται με τη σχετική συχνότητα του label $y$ στο training set. To $P(x_i \\mid y)$ είναι η πιθανοφάνεια δηλαδή η πιθανότητα του δείγματος με δεδομένη την υπόθεσή μας και μπορεί επίσης να υπολογιστεί απλά από το training set. Οι διάφοροι Naive Bayes classifiers διαφοροποιούνται κυρίως από τις υποθέσεις που κάνουν ως προς την κατανομή $P(x_i \\mid y)$. Το label $\\hat{y}$ που ανατίθεται σε ένα νέο δείγμα είναι αυτή που μεγιστοποιεί το δεξί μέλος της σχέσης.\n",
    "​\n",
    "Στην περίπτωσή μας τα χαρακτηριστικά (τιμές pixels) παίρνουν συνεχείς τιμές. Θα δουλέψουμε λοιπόν με τις πυκνότητες πιθανότητας των χαρακτηριστικών: $$P(x_i \\mid y) = \\frac{1}{\\sqrt{2\\pi\\sigma^2_y}} \\exp\\left(-\\frac{(x_i - \\mu_y)^2}{2\\sigma^2_y}\\right)$$ και τις apriori πιθανότητες των labels, εφαρμόζοντας τον ίδιο τύπο.\n",
    "​\n",
    "Υλοποιούμε τον Bayesian Classifier σαν έναν scikit-learn εκτιμητή. \n",
    "Ο εκτιμητής αυτός υπολογίζει στη μέθοδο fit τις δεσμευμένες κατανομές των χαρακτηριστικών δεδομένου του κάθε label και τις a priori κατανομές των labels. Γίνεται η υπόθεση πως οι κατανομές των χαρακτηριστικών είναι κανονικές. Έτσι η κάθε κατανομή προσδιορίζεται πλήρως από τη μέση τιμή και τη διασπορά της. Η μέση τιμή και η διασπορά παίρνουν ως τιμές τις πειραματικές (στατιστικές) τιμές τους με βάση τα δείγματα του train. Αυτά τα μεγέθη υπολογίζονται στη fit.\n",
    "​\n",
    "Στην predict υπολογίζονται οι δεσμευμένες πιθανότητες των labels, δεδομένων των χαρακτηριστικών του test sample και επιλέγεται αυτό με τη μεγαλύτερη πιθανότητα, όπως ορίζει ο τύπος (1). Ισοδύναμα μπορούμε να επιλέξουμε το label που έχει τη μεγαλύτερη λογαριθμική πιθανοφάνεια, δηλαδή να πάρουμε το λογάριθμο της έκφρασης (1):\n",
    "$$\\hat{y} = \\arg\\max_y \\{log(P(y))+ \\sum_{i=1}^{n} log(P(x_i \\mid y))\\} \\quad=\\quad \\arg\\max_y \\{ log(P(y))+ \\sum_{i=1}^{n} log(\\frac{1}{\\sqrt{2\\pi\\sigma^2_y}})+ \\sum_{i=1}^{n}\\left(-\\frac{(x_i - \\mu_y)^2}{2\\sigma^2_y}\\right)\\}$$"
   ]
  },
  {
   "cell_type": "code",
   "execution_count": 27,
   "metadata": {},
   "outputs": [],
   "source": [
    "class BayesianClassifier(BaseEstimator, ClassifierMixin):\n",
    "    # Bayesian Classifier\n",
    "    def __init__(self):\n",
    "        # Χ_mean: numpy.ndarray of shape (n_classes, n_features)\n",
    "        self.a_priori = None\n",
    "        n_labels = None\n",
    "        n_features = None\n",
    "        var = None\n",
    "        sigma = None\n",
    "        avg = None\n",
    "    \n",
    "    def fit(self, X, y):\n",
    "        self.n_labels = len(unique_labels(y))\n",
    "        self.n_features = X.shape[1]\n",
    "        \n",
    "        # Find a priori probabilities\n",
    "        labels = [([y == label]) for label in unique_labels(y)]\n",
    "        y_train_size = len(y)\n",
    "        self.a_priori = [(np.sum(label, axis=1) / y_train_size)[0] for label in labels]\n",
    "\n",
    "        # Find mean,var for each class/label\n",
    "        self.avg = np.zeros((self.n_labels, self.n_features))\n",
    "        avgq = np.zeros((self.n_labels, self.n_features))\n",
    "        cnt = np.zeros((self.n_labels, self.n_features))\n",
    "        for k in range(len(X)):\n",
    "            for i in range(self.n_features):\n",
    "                cnt[int(y[k])][i] += 1\n",
    "                self.avg[int(y[k])][i] += X[k][i]\n",
    "                avgq[int(y[k])][i] += X[k][i]**2\n",
    "        # μ\n",
    "        self.avg = np.true_divide(self.avg, cnt) \n",
    "        avgq = np.true_divide(avgq, cnt)\n",
    "        # σ^2, σ\n",
    "        self.var = avgq - (self.avg)**2\n",
    "        self.sigma = (self.var)**0.5\n",
    "        \n",
    "        return self\n",
    "    \n",
    "        \n",
    "    def predict(self, X):\n",
    "        # Bayes Classifier predict on given test data \n",
    "        # return [np.argmin( (np.sum(np.log(self.sigma + 0.0001), axis=1) + np.sum(np.true_divide((X[i] - self.avg)**2, self.var + 0.0001), axis=1)) - np.log(self.a_priori) ) for i in len(X)]\n",
    "        y_predict = np.zeros(len(X))\n",
    "        i = 0\n",
    "        log_a_priori = np.log(self.a_priori)\n",
    "        for x in X:\n",
    "            expPart = np.true_divide((x - self.avg)**2, self.var + 0.0001)\n",
    "            sumPart = np.sum(expPart, axis=1)\n",
    "            varPart = np.sum(np.log(self.sigma + 0.0001), axis=1)\n",
    "            res = (varPart + sumPart) - log_a_priori\n",
    "            y_predict[i] = np.argmin(res)\n",
    "            i += 1\n",
    "        \n",
    "        return y_predict\n",
    "    \n",
    "    \n",
    "    def score(self, X, y_truth):\n",
    "        y_predict = self.predict(X)\n",
    "        \n",
    "        return ( np.sum([y_predict == y_truth]) ) / ( len(y_predict) )\n",
    "            \n",
    "        \n",
    "    def predict_proba(self, X):\n",
    "        # Returns probability estimates for the test vector X.\n",
    "        prob_predict = np.zeros(len(X), n_labels)\n",
    "        i = 0\n",
    "        log_a_priori = np.log(self.a_priori)\n",
    "        for x in X:\n",
    "            expPart = np.true_divide((x - self.avg)**2, self.var + 0.0001)\n",
    "            sumPart = np.sum(expPart, axis=1)\n",
    "            varPart = np.sum(np.log(self.sigma + 0.0001), axis=1)\n",
    "            res = (varPart + sumPart) - log_a_priori\n",
    "            prob_predict[i] = res\n",
    "            i += 1\n",
    "        \n",
    "        return prob_predict        "
   ]
  },
  {
   "cell_type": "markdown",
   "metadata": {},
   "source": [
    "### Βήμα 15(α)"
   ]
  },
  {
   "cell_type": "code",
   "execution_count": 28,
   "metadata": {},
   "outputs": [
    {
     "name": "stdout",
     "output_type": "stream",
     "text": [
      "[9. 6. 3. ... 4. 0. 1.]\n"
     ]
    }
   ],
   "source": [
    "clf = BayesianClassifier()\n",
    "clf.fit(X_train, Y_train)\n",
    "y_predict = clf.predict(X_test)\n",
    "print(y_predict)"
   ]
  },
  {
   "cell_type": "markdown",
   "metadata": {},
   "source": [
    "### Βήμα 15(β)  \n",
    "Κανουμε cross-validation, ενω δεν το θελει..."
   ]
  },
  {
   "cell_type": "code",
   "execution_count": 29,
   "metadata": {},
   "outputs": [
    {
     "name": "stdout",
     "output_type": "stream",
     "text": [
      "Current Score: 0.7787742899850523\n",
      "Bayesian Classifier scores on each of the 5 splits:  [0.83225806 0.81935484 0.77849462 0.80688542 0.77945132]\n",
      "CV Average Score: 0.8032888534129228\n"
     ]
    }
   ],
   "source": [
    "print(\"Current Score: \" + str(clf.score(X_test, Y_test)))\n",
    "# 5-Fold Cross Validation\n",
    "scores = cross_val_score(BayesianClassifier(), X, y, \n",
    "                         cv=KFold(n_splits=5, random_state=32), \n",
    "                         scoring=\"accuracy\")\n",
    "print('Bayesian Classifier scores on each of the 5 splits: ',scores)\n",
    "print(\"CV Average Score: \" + str(np.mean(scores)))"
   ]
  },
  {
   "cell_type": "markdown",
   "metadata": {},
   "source": [
    "### Βήμα 15(γ)  \n",
    "Σύγκριση με ετοιμο Naive Bayes (sklearn).  \n",
    "To παταμε!!!"
   ]
  },
  {
   "cell_type": "code",
   "execution_count": 30,
   "metadata": {},
   "outputs": [
    {
     "name": "stdout",
     "output_type": "stream",
     "text": [
      "scores on each of the 5 splits:  [0.77956989 0.75806452 0.69892473 0.7380312  0.71382464]\n",
      "CV Average Score: 0.7376829952512335\n"
     ]
    }
   ],
   "source": [
    "from sklearn.naive_bayes import GaussianNB\n",
    "\n",
    "# 5-Fold Cross Validation\n",
    "scores = cross_val_score(GaussianNB(), X, y, \n",
    "                         cv=KFold(n_splits=5, random_state=32), \n",
    "                         scoring=\"accuracy\")\n",
    "print('scores on each of the 5 splits: ',scores)\n",
    "print(\"CV Average Score: \" + str(np.mean(scores)))"
   ]
  },
  {
   "cell_type": "markdown",
   "metadata": {},
   "source": [
    "### Βήμα 16"
   ]
  },
  {
   "cell_type": "markdown",
   "metadata": {},
   "source": [
    "Επαναλαμβάνουμε το 15(α) με $var = 1$"
   ]
  },
  {
   "cell_type": "code",
   "execution_count": 31,
   "metadata": {},
   "outputs": [
    {
     "name": "stdout",
     "output_type": "stream",
     "text": [
      "[9. 2. 3. ... 4. 0. 1.]\n"
     ]
    }
   ],
   "source": [
    "clf = BayesianClassifier()\n",
    "clf.fit(X_train, Y_train)\n",
    "clf.var = np.ones((clf.n_labels, clf.n_features))\n",
    "clf.sigma = np.ones((clf.n_labels, clf.n_features))\n",
    "y_predict = clf.predict(X_test)\n",
    "print(y_predict)"
   ]
  },
  {
   "cell_type": "markdown",
   "metadata": {},
   "source": [
    "Επαναλαμβάνουμε το 15(β) με $var = 1$"
   ]
  },
  {
   "cell_type": "code",
   "execution_count": 32,
   "metadata": {},
   "outputs": [
    {
     "name": "stdout",
     "output_type": "stream",
     "text": [
      "Current Score: 0.8131539611360239\n"
     ]
    }
   ],
   "source": [
    "print(\"Current Score: \" + str(clf.score(X_test, Y_test)))"
   ]
  },
  {
   "cell_type": "markdown",
   "metadata": {},
   "source": [
    "### Βήμα 17"
   ]
  },
  {
   "cell_type": "markdown",
   "metadata": {},
   "source": [
    "K-Nearest-Neighbors, ευρεση k με CV\n",
    "Καναμε πειραματα με κ=1,5,10,50,100 και η ψηλοτερες τιμες ηταν για μικρα κ, ενω η μικροτερες για ηψηλα κ (κ=100)"
   ]
  },
  {
   "cell_type": "code",
   "execution_count": 33,
   "metadata": {},
   "outputs": [
    {
     "name": "stdout",
     "output_type": "stream",
     "text": [
      "KNN Score:\n",
      "0.9436970602889886\n"
     ]
    }
   ],
   "source": [
    "from sklearn.neighbors import KNeighborsClassifier\n",
    "from sklearn.metrics import accuracy_score\n",
    "\n",
    "# k=1 (High Variance)\n",
    "knn = KNeighborsClassifier(n_neighbors=1)\n",
    "knn.fit(X_train, Y_train)\n",
    "y_predict = knn.predict(X_test)\n",
    "print(\"KNN Score:\")\n",
    "print(accuracy_score(Y_test, y_predict))"
   ]
  },
  {
   "cell_type": "markdown",
   "metadata": {},
   "source": [
    "SVM, ευρεση k"
   ]
  },
  {
   "cell_type": "code",
   "execution_count": 34,
   "metadata": {
    "scrolled": false
   },
   "outputs": [
    {
     "name": "stdout",
     "output_type": "stream",
     "text": [
      "# Tuning hyper-parameters for accuracy\n",
      "\n",
      "Best parameters set found on development set:\n",
      "\n",
      "{'C': 10, 'kernel': 'poly'}\n",
      "\n",
      "Grid scores on development set:\n",
      "\n",
      "0.955 (+/-0.007) for {'gamma': 0.001, 'C': 1, 'kernel': 'rbf'}\n",
      "0.913 (+/-0.015) for {'gamma': 0.0001, 'C': 1, 'kernel': 'rbf'}\n",
      "0.968 (+/-0.007) for {'gamma': 0.001, 'C': 10, 'kernel': 'rbf'}\n",
      "0.953 (+/-0.006) for {'gamma': 0.0001, 'C': 10, 'kernel': 'rbf'}\n",
      "0.968 (+/-0.011) for {'gamma': 0.001, 'C': 100, 'kernel': 'rbf'}\n",
      "0.963 (+/-0.010) for {'gamma': 0.0001, 'C': 100, 'kernel': 'rbf'}\n",
      "0.968 (+/-0.011) for {'gamma': 0.001, 'C': 1000, 'kernel': 'rbf'}\n",
      "0.959 (+/-0.009) for {'gamma': 0.0001, 'C': 1000, 'kernel': 'rbf'}\n",
      "0.955 (+/-0.010) for {'C': 1, 'kernel': 'linear'}\n",
      "0.955 (+/-0.010) for {'C': 10, 'kernel': 'linear'}\n",
      "0.955 (+/-0.010) for {'C': 100, 'kernel': 'linear'}\n",
      "0.955 (+/-0.010) for {'C': 1000, 'kernel': 'linear'}\n",
      "0.943 (+/-0.007) for {'C': 1, 'kernel': 'sigmoid'}\n",
      "0.929 (+/-0.015) for {'C': 10, 'kernel': 'sigmoid'}\n",
      "0.895 (+/-0.020) for {'C': 100, 'kernel': 'sigmoid'}\n",
      "0.886 (+/-0.022) for {'C': 1000, 'kernel': 'sigmoid'}\n",
      "0.974 (+/-0.003) for {'C': 1, 'kernel': 'poly'}\n",
      "0.981 (+/-0.006) for {'C': 10, 'kernel': 'poly'}\n",
      "0.980 (+/-0.007) for {'C': 100, 'kernel': 'poly'}\n",
      "0.980 (+/-0.007) for {'C': 1000, 'kernel': 'poly'}\n",
      "\n",
      "Detailed classification report:\n",
      "\n",
      "The model is trained on the full development set.\n",
      "The scores are computed on the full evaluation set.\n",
      "\n",
      "              precision    recall  f1-score   support\n",
      "\n",
      "         0.0       0.98      0.99      0.98       359\n",
      "         1.0       1.00      0.97      0.98       264\n",
      "         2.0       0.94      0.94      0.94       198\n",
      "         3.0       0.95      0.91      0.93       166\n",
      "         4.0       0.90      0.94      0.92       200\n",
      "         5.0       0.93      0.94      0.93       160\n",
      "         6.0       0.96      0.96      0.96       170\n",
      "         7.0       0.99      0.93      0.96       147\n",
      "         8.0       0.91      0.94      0.93       166\n",
      "         9.0       0.95      0.97      0.96       177\n",
      "\n",
      "    accuracy                           0.95      2007\n",
      "   macro avg       0.95      0.95      0.95      2007\n",
      "weighted avg       0.95      0.95      0.95      2007\n",
      "\n",
      "\n"
     ]
    }
   ],
   "source": [
    "from sklearn.model_selection import train_test_split\n",
    "from sklearn.model_selection import GridSearchCV\n",
    "from sklearn.metrics import classification_report\n",
    "from sklearn.svm import SVC\n",
    "\n",
    "# Set the parameters by cross-validation\n",
    "tuned_parameters = [{'kernel': ['rbf'], 'gamma': [1e-3, 1e-4],\n",
    "                     'C': [1, 10, 100, 1000]},\n",
    "                    {'kernel': ['linear'], 'C': [1, 10, 100, 1000]},\n",
    "                   {'kernel': ['sigmoid'], 'C': [1, 10, 100, 1000]},\n",
    "                   {'kernel': ['poly'], 'C': [1, 10, 100, 1000]}]\n",
    "\n",
    "scores = ['accuracy']\n",
    "\n",
    "for score in scores:\n",
    "    print(\"# Tuning hyper-parameters for %s\" % score)\n",
    "    print()\n",
    "\n",
    "    # GridSearchCV \n",
    "    clf = GridSearchCV(SVC(), tuned_parameters, cv=5,\n",
    "                       scoring=score)\n",
    "    clf.fit(X_train, Y_train)\n",
    "\n",
    "    print(\"Best parameters set found on development set:\")\n",
    "    print()\n",
    "    print(clf.best_params_)\n",
    "    print()\n",
    "    print(\"Grid scores on development set:\")\n",
    "    print()\n",
    "    means = clf.cv_results_['mean_test_score']\n",
    "    stds = clf.cv_results_['std_test_score']\n",
    "    for mean, std, params in zip(means, stds, clf.cv_results_['params']):\n",
    "        print(\"%0.3f (+/-%0.03f) for %r\"\n",
    "              % (mean, std * 2, params))\n",
    "    print()\n",
    "\n",
    "    print(\"Detailed classification report:\")\n",
    "    print()\n",
    "    print(\"The model is trained on the full development set.\")\n",
    "    print(\"The scores are computed on the full evaluation set.\")\n",
    "    print()\n",
    "    y_true, y_predict = Y_test, clf.predict(X_test)\n",
    "    print(classification_report(y_true, y_predict))\n",
    "    print()"
   ]
  },
  {
   "cell_type": "markdown",
   "metadata": {},
   "source": [
    "Αρα, **SVM > KNN > Euclidean Classifier > Bayesian Classifier**"
   ]
  },
  {
   "cell_type": "markdown",
   "metadata": {},
   "source": [
    "### Βήμα 18(α)\n",
    "Στο βήμα αυτό χρησιμοποιείται η τεχνική ensembling, δηλαδή ο συνδυασμός ταξινομητών με αρκετά καλή επίδοση με στόχο\n",
    "να επιτευχθεί επίδοση υψηλότερη των επιμέρους επιδόσεων, με τον κάθε ταξινομητή να εκπαιδεύεται σε όλο το training set. Είναι σημαντικό οι ταξινομητές που θα συνδυαστούν να χαρακτηρίζονται από διαφορετικό τύπο λαθών, προκειμένου να επιτευχθεί μια μικρή βελτίωση του score, η οποία βέβαια θα είναι αρκετά ασημάντη σε σχέση με το υπολογιστικό κόστος. Συνδυάζουμε επτά ταξινομητές που έχουμε δει στα παραπάνω ερωτήματα, τους Polynomial SVM με C=10,100,1000, τον knn με κ=1,5 και τον rbf SVM με gamma=0.001 και C=100,1000. Θέτουμε για κάθε SVM το probability=True προκειμένου να επιστρέφει για καθέ sample τις επιμέρους πιθανότητες αυτό να ανηκεί σε κάθεμια κλάση και όχι το μόνο τον ασσό για την πιο πιθανή κλάση και 0 για τις λιγότερο πιθανές. Χρησιμοποιούμε τον VotingClassifier σε δυο modes: hard και soft. Στον hard επιλέγεται με μορφή tournament η κλάση που πιστεύει η πλειοψηφία των classifiers και για αυτό το λόγο και επιλέγουμε μονό αριθμό classifiers προκειμένου να αποφευχθεί η πιθανότητα ισοπαλίας, καθώς οι ταξινομητές συνήθως δυσκολεύονται να αποφασίσουν μεταξύ δύο κλάσεων. Από την άλλη, στο soft mode κάθε ταξινομητής παράγει τις πιθανότητες για κάθε sample αυτό να ανηκεί σε κάθε κλάση, συγκεκριμένα στην άσκησή μας για κάθε sample παράγονται 10 πιθανότητες για κάθε digit (0-9). Στην συνέχεια, για κάθε κλάση προσθέτονται οι επιμέρους πιθανότητες όλων των ταξινομητών (έμβαρα) και επιλέγεται η κλάση με το μεγαλύτερο άθροισμα. Αρχικά, για το soft mode επιλέξαμε για βάρος κάθε ταξινομητή το accuracy score του, πάνω στο ίδιο training και test set που χρησιμοποιούμε και στον VotingClassifier, και είδαμε πως το accuracy score με ensembling δεν βελτίωνε αισθητά το καλύτερο score από τους επιμέρους ταξινομητές. Έτσι, αφήσαμε την default επιλογή και είδαμε πως το παραγομένο score με soft ensembling ήταν κατά 0.3% καλύτερο από το καλύτερο επιμέρους score των ταξινομητών."
   ]
  },
  {
   "cell_type": "code",
   "execution_count": 35,
   "metadata": {},
   "outputs": [
    {
     "name": "stdout",
     "output_type": "stream",
     "text": [
      "clf1 accuracy score: 0.9531639262580966\n",
      "clf2 accuracy score: 0.9526656701544594\n",
      "clf3 accuracy score: 0.9526656701544594\n",
      "clf4 accuracy score: 0.9436970602889886\n",
      "clf5 accuracy score: 0.9446935724962631\n",
      "clf6 accuracy score: 0.9436970602889886\n",
      "clf7 accuracy score: 0.9431988041853513\n",
      "\n",
      "clf1 accuracy score: 0.9531639262580966\n",
      "clf2 accuracy score: 0.9526656701544594\n",
      "clf3 accuracy score: 0.9526656701544594\n",
      "clf4 accuracy score: 0.9436970602889886\n",
      "clf5 accuracy score: 0.9446935724962631\n",
      "clf6 accuracy score: 0.9436970602889886\n",
      "clf7 accuracy score: 0.9431988041853513\n",
      "Hard VotingClassifier score: 0.9531639262580966\n",
      "Soft VotingClassifier score: 0.9566517189835575\n"
     ]
    }
   ],
   "source": [
    "from sklearn.ensemble import VotingClassifier\n",
    "from sklearn.svm import SVC\n",
    "from sklearn.neighbors import KNeighborsClassifier\n",
    "from sklearn.naive_bayes import GaussianNB\n",
    "from sklearn.metrics import accuracy_score\n",
    "\n",
    "clf1 = SVC(C=10, kernel='poly', probability=True)     # 95.31 %\n",
    "clf2 = SVC(C=100, kernel='poly', probability=True)    # 95.27 %\n",
    "clf3 = SVC(C=1000, kernel='poly', probability=True)   # 95.27 %\n",
    "clf4 = KNeighborsClassifier(n_neighbors=1)\n",
    "clf5 = KNeighborsClassifier(n_neighbors=5)\n",
    "clf6 = SVC(C=100, gamma=0.001, kernel='rbf', probability=True)\n",
    "clf7 = SVC(C=1000, gamma=0.001, kernel='rbf', probability=True)\n",
    "\n",
    "clf1.fit(X_train, Y_train)\n",
    "y_pre1 = clf1.predict(X_test)\n",
    "acc_score1 = accuracy_score(Y_test, y_pre1)\n",
    "print(\"clf1 accuracy score: \" + str(acc_score1))\n",
    "\n",
    "clf2.fit(X_train, Y_train)\n",
    "y_pre2 = clf2.predict(X_test)\n",
    "acc_score2 = accuracy_score(Y_test, y_pre2)\n",
    "print(\"clf2 accuracy score: \" + str(acc_score2))\n",
    "\n",
    "clf3.fit(X_train, Y_train)\n",
    "y_pre3 = clf3.predict(X_test)\n",
    "acc_score3 = accuracy_score(Y_test, y_pre3)\n",
    "print(\"clf3 accuracy score: \" + str(acc_score3))\n",
    "\n",
    "clf4.fit(X_train, Y_train)\n",
    "y_pre4 = clf4.predict(X_test)\n",
    "acc_score4 = accuracy_score(Y_test, y_pre4)\n",
    "print(\"clf4 accuracy score: \" + str(acc_score4))\n",
    "\n",
    "clf5.fit(X_train, Y_train)\n",
    "y_pre5 = clf5.predict(X_test)\n",
    "acc_score5 = accuracy_score(Y_test, y_pre5)\n",
    "print(\"clf5 accuracy score: \" + str(acc_score5))\n",
    "\n",
    "clf6.fit(X_train, Y_train)\n",
    "y_pre6 = clf6.predict(X_test)\n",
    "acc_score6 = accuracy_score(Y_test, y_pre6)\n",
    "print(\"clf6 accuracy score: \" + str(acc_score6))\n",
    "\n",
    "clf7.fit(X_train, Y_train)\n",
    "y_pre7 = clf7.predict(X_test)\n",
    "acc_score7 = accuracy_score(Y_test, y_pre7)\n",
    "print(\"clf7 accuracy score: \" + str(acc_score7))\n",
    "\n",
    "print() \n",
    "\n",
    "# Hard VotingClassifier\n",
    "eclf1 = VotingClassifier(estimators=[\n",
    "    ('svm1', clf1), ('svm2', clf2), ('svm3', clf3), ('knn', clf4), ('knn2', clf5), ('svm4', clf6), ('svm5', clf7)], \n",
    "        voting='hard')\n",
    "eclf1 = eclf1.fit(X_train, Y_train)\n",
    "\n",
    "y_predict = eclf1.predict(X_test)\n",
    "print(\"Hard VotingClassifier score: \" + str(accuracy_score(Y_test, y_predict)))\n",
    "\n",
    "# Soft VotingClassifier\n",
    "eclf2 = VotingClassifier(estimators=[\n",
    "    ('svm1', clf1), ('svm2', clf2), ('svm3', clf3), ('knn', clf4), ('knn2', clf5), ('svm4', clf6), ('svm5', clf7)], \n",
    "        voting='soft')\n",
    "eclf2 = eclf2.fit(X_train, Y_train)\n",
    "\n",
    "y_predict = eclf2.predict(X_test)\n",
    "print(\"Soft VotingClassifier score: \" + str(accuracy_score(Y_test, y_predict)))"
   ]
  },
  {
   "cell_type": "markdown",
   "metadata": {},
   "source": [
    "### Βήμα 18(β)\n",
    "Στο παρακάτω ερώτημα γίνεται χρήση της τεχνικής bagging που αφορά στο χωρισμό του training dataset σε τυχαία\n",
    "υποσύνολα, με πιθανές επικαλύψεις και την εφαρμογή ενός ταξινομητή σε κάθε ένα από αυτά. Η τελική\n",
    "απόφαση βγαίνει μέσω ψηφοφορίας ή μέσου όρου των προβλέψεων των επιμέρους ταξινομητών. To bagging είναι κατάλληλο για ασταθείς ταξινομητές, δηλαδή όταν διαφορετικά tests μπορεί να δώσουν έντονα διαφορετικές απαντήσεις, και σκοπεύουν να χαμηλώσουν το variance. Ωστοσό, στην άσκησή μας έχουμε το αντίθετο, δηλαδή με χρήση του bagging παίρνουμε high variance αφού οι ταξινομητές μας είναι αρκετά σταθεροί. "
   ]
  },
  {
   "cell_type": "markdown",
   "metadata": {},
   "source": [
    "Αρχικά, δοκιμάζουμε bagging με knn(k=1) με επτά estimators, δηλαδή σπάμε το dataset σε επτά κομμάτια, μπορεί και επικαλυπτόμενα, και κάνουμε train στο καθενά χωριστά, και στην συνέχεια ακολουθεί το ensembling. Όπως βλέπουμε παρακάτω, τρέχοντας για τεστ το train dataset φθάνουμε σε ποσοστό κοντα 100%, ενώ όταν τρέχουμε για test dataset παίρνουμε περίπου 94%, σκορ που είναι λίγο χειρότερο απο το σκορ του knn(k=1)"
   ]
  },
  {
   "cell_type": "code",
   "execution_count": 36,
   "metadata": {},
   "outputs": [
    {
     "name": "stdout",
     "output_type": "stream",
     "text": [
      "Train Bagging score: 0.996708270470443\n",
      "Test Bagging score: 0.9436970602889886\n"
     ]
    }
   ],
   "source": [
    "from sklearn.ensemble import BaggingClassifier \n",
    "\n",
    "# BaggingClassifier -- KNN\n",
    "bagging = BaggingClassifier(base_estimator = KNeighborsClassifier(n_neighbors=1), \n",
    "                          n_estimators = 7, \n",
    "                          random_state = 32) \n",
    "\n",
    "bagging.fit(X_train, Y_train)\n",
    "y_predict_train = bagging.predict(X_train)\n",
    "print(\"Train Bagging score: \" + str(accuracy_score(Y_train, y_predict_train)))\n",
    "y_predict = bagging.predict(X_test)\n",
    "print(\"Test Bagging score: \" + str(accuracy_score(Y_test, y_predict)))"
   ]
  },
  {
   "cell_type": "markdown",
   "metadata": {},
   "source": [
    "Ομοίως, δοκιμάσαμε να χρησιμοποιήσουμε το bagging με SVM (τον καλύτερο SVM που είχαμε διαλέξει σε προηγούμενο βήμα) με δυο estimators, και το αποτέλεσμα ήταν ξανά όταν τρέξαμε για το train set το σκορ ήταν κοντά στο 100%, ενώ όταν τρέξαμε για το test set το σκορ ήταν ελάχιστα χαμηλότερο από το σκορ του SVM. Άρα, πάλι δεν βελτιώσαμε την επίδοση."
   ]
  },
  {
   "cell_type": "code",
   "execution_count": 37,
   "metadata": {},
   "outputs": [
    {
     "name": "stdout",
     "output_type": "stream",
     "text": [
      "Train Bagging score: 0.9965711150733781\n",
      "Test Bagging score: 0.9516691579471849\n"
     ]
    }
   ],
   "source": [
    "from sklearn.ensemble import BaggingClassifier \n",
    "from sklearn.svm import SVC\n",
    "\n",
    "# BaggingClassifier -- SVM\n",
    "bagging = BaggingClassifier(base_estimator = SVC(C=1000, kernel='poly', probability=True), \n",
    "                          n_estimators = 2, \n",
    "                          random_state = 32) \n",
    "\n",
    "bagging.fit(X_train, Y_train)\n",
    "y_predict_train = bagging.predict(X_train)\n",
    "print(\"Train Bagging score: \" + str(accuracy_score(Y_train, y_predict_train)))\n",
    "y_predict = bagging.predict(X_test)\n",
    "print(\"Test Bagging score: \" + str(accuracy_score(Y_test, y_predict)))"
   ]
  },
  {
   "cell_type": "markdown",
   "metadata": {},
   "source": [
    "Τέλος, δοκιμάσαμε το bagging με Decision Tree Classifier, δηλαδή τον ταξινομητή Random Forest. Βλέπουμε ότι το σκορ του Random Forest όταν τρέχουμε το train set είναι και αυτό κοντά στο 100% (αναμενόμενο), ενώ όταν τρέχει για το test set είναι περιπού στο 87% που ειναι σαφώς βελτιωμένο από το σκορ του Decision Tree classifier που ειναι περίπου 83%. "
   ]
  },
  {
   "cell_type": "code",
   "execution_count": 5,
   "metadata": {
    "scrolled": false
   },
   "outputs": [
    {
     "name": "stdout",
     "output_type": "stream",
     "text": [
      "Decision Tree Classifier accuracy score: 0.833582461385152\n",
      "Train Random Forest score: 0.996708270470443\n",
      "Test Random Forest score: 0.874439461883408\n"
     ]
    }
   ],
   "source": [
    "from sklearn.ensemble import BaggingClassifier \n",
    "from sklearn.tree import DecisionTreeClassifier \n",
    "from sklearn.metrics import accuracy_score\n",
    "\n",
    "dt = DecisionTreeClassifier()\n",
    "\n",
    "dt.fit(X_train, Y_train)\n",
    "y_pre1 = dt.predict(X_test)\n",
    "acc_score1 = accuracy_score(Y_test, y_pre1)\n",
    "print(\"Decision Tree Classifier accuracy score: \" + str(acc_score1))\n",
    "\n",
    "\n",
    "# BaggingClassifier -- Random Forest\n",
    "bagging = BaggingClassifier(base_estimator = DecisionTreeClassifier(), \n",
    "                          n_estimators = 7, \n",
    "                          random_state = 32) \n",
    "\n",
    "bagging.fit(X_train, Y_train)\n",
    "y_predict_train = bagging.predict(X_train)\n",
    "print(\"Train Random Forest score: \" + str(accuracy_score(Y_train, y_predict_train)))\n",
    "y_predict = bagging.predict(X_test)\n",
    "print(\"Test Random Forest score: \" + str(accuracy_score(Y_test, y_predict)))"
   ]
  },
  {
   "cell_type": "markdown",
   "metadata": {},
   "source": [
    "### Βήμα 18(γ)\n",
    "Βλέπουμε ότι ο μόνο Decision Tree ταξινομητής βελτιώνεται (περιπού κατά 4 ποσοστιαίες μονάδες) με χρήση του bagging, γεγονός που οφείλεται στο ότι είναι αρκετά πιο ασταθής σε σχέση με τους υπόλοιπους (SVM, knn), με αποτέλεσμα στον Random Forest να είναι μειώμενο το Variance σε σχέση με τον Decision Tree. "
   ]
  },
  {
   "cell_type": "markdown",
   "metadata": {},
   "source": [
    "### Βήμα 19 (extra) (a)\n",
    "Ένα από τα προβλήματα που προκύπτουν στο learning είναι πώς θα διαχειριζόμαστε το μεγάλο όγκο δεδομένων. Συγκεκριμένα, μπορεί ο όγκος να είναι τέτοιος ώστε να μην χωράνε όλα ταυτόχρονα στη RAM. Έτσι, πρέπει να αξιοποιήσουμε μεθόδους για να φορτώνουμε αποδοτικά τα δεδομένα κατά τη διαρκεία του training, αλλά και του testing, ώστε η διαδικασία του dataloading να μην αποτελέσει bottleneck για το συνολικό learning. Οι dataloaders φορτώνουν τα data σε batches, δηλαδή σε κομμάτια μη επικαλυπτόμενα του αρχικου dataset και μάλιστα αυτά μπορούν να δημιουργηθούν με παράλληλο τρόπο από το σύστημα (num workers). Στο παρακάτω μέρος, θα χρησιμοποιήσουμε neural networks, στην εκπαίδευση των οποίων γίνεται τροφοδότηση του δικτύου με batches και όχι με το κάθε sample χωριστά. Για αυτό το λόγο, θα χρησιμοποιήσουμε Dataloaders για την τροφοδότηση των data. Επιπλέον, αξίζει να τονιστεί ότι ένας άλλος λόγος χρήσης του dataloader είναι η λειτουργία του shuffling, που στοχεύει στην ανάμειξη των αρχικών data και άρα στην ομογενοποίησή τους. Ο dataloader που χρησιμοποιούμε προέρχεται από την βιβλιοθήκη της Pytorch, ενώ το dataset που δημιουργούμε (και στο οποίο εφαρμόζεται ο dataloader) κληρονομεί απο το dataset της pytorch. Στα πλαίσια της εφαρμογής μας, ο όγκος των δεδομένων είναι μικρός και έτσι δεν χρειάζεται να φορτώνουμε από τον δίσκο, αλλά από έναν πίνακα στην RAM. Έτσι, το indexing, που υλοποιήσαμε, δεν είναι indexing σε αρχεία, αλλά σε καταχωρήσεις πίνακα."
   ]
  },
  {
   "cell_type": "code",
   "execution_count": 4,
   "metadata": {},
   "outputs": [],
   "source": [
    "import numpy as np\n",
    "\n",
    "def readRawText(text):\n",
    "    # Argument text: string of dataset filename\n",
    "    with open(text, 'r') as f:\n",
    "        l = [[(num) for num in line.split(' ')] for line in f]\n",
    "    DATA = np.zeros( (len(l), len(l[0])-1) )\n",
    "    for i in range(len(l)):\n",
    "        for j in range(len(l[0])-1):\n",
    "            DATA[i][j]=float(l[i][j][:])\n",
    "    return DATA"
   ]
  },
  {
   "cell_type": "code",
   "execution_count": 5,
   "metadata": {},
   "outputs": [],
   "source": [
    "from torch.utils.data import Dataset, DataLoader\n",
    "from torchvision import transforms, utils\n",
    "import pandas as pd\n",
    "import torch\n",
    "\n",
    "class DigitDataset(Dataset):\n",
    "    \"\"\"Digit Recognition Dataset.\"\"\"\n",
    "\n",
    "    def __init__(self, data_file, transform=None):\n",
    "        \"\"\"\n",
    "        Args:\n",
    "            data_file: filename of the first data file            \n",
    "            transform (callable, optional): Optional transform to be applied\n",
    "                on a sample.\n",
    "        \"\"\"\n",
    "        self.dataset = readRawText(data_file)\n",
    "        self.transform = transform\n",
    "\n",
    "        \n",
    "    # Return the number of samples\n",
    "    def __len__(self):\n",
    "        return len(self.dataset)\n",
    "\n",
    "    \n",
    "    # Get the sample with index equal to idx\n",
    "    def __getitem__(self, idx):\n",
    "        if torch.is_tensor(idx):\n",
    "            idx = idx.tolist()\n",
    "\n",
    "        sample = np.array(self.dataset[idx])\n",
    "\n",
    "        if self.transform:\n",
    "            sample = self.transform(sample)\n",
    "\n",
    "        return sample[1:], sample[0]\n"
   ]
  },
  {
   "cell_type": "code",
   "execution_count": 6,
   "metadata": {},
   "outputs": [],
   "source": [
    "from torch.utils.data import Dataset, DataLoader\n",
    "                            \n",
    "Train_dataset = DigitDataset(\"train.txt\")\n",
    "Test_dataset = DigitDataset(\"test.txt\")\n",
    "\n",
    "train_loader = DataLoader(Train_dataset, batch_size=100,\n",
    "                    shuffle=True, num_workers=4)\n",
    "test_loader = DataLoader(Test_dataset, batch_size=100,\n",
    "                    shuffle=True, num_workers=4)"
   ]
  },
  {
   "cell_type": "markdown",
   "metadata": {},
   "source": [
    "### Βήμα 19 (extra) (β)\n",
    "Θα υλοποιήσουμε ένα feed-forward Fully-connected Neural Network για να λύσουμε το πρόβλημα της ταξινόμησης των digits(0-9) που εξετάσαμε και παραπάνω. Θα χρησιμοποιησούμε την βιβλιοθήκη pytorch που μας προσφέρει μεγάλη ευελιξία στον σχεδιασμό του δικτύου μας και φθάνει σε ένα σχετικό βάθος της υλοποίησης. Συγκεριμένα, μας προσφέρει τους tensors και Variables που μπορούν να αναπαραστήσουν multi-diamensional arrays και δεν διαθέτουν τον χαρακτήρα απλών προγραμματιστικών μεταβλητών αλλά μαθηματικών μεταβλητών που μπορούμε να εφαρμόσουμε μεθόδους backward() που μελετούν το ιστορικό των μεταβολών τους και επιτρέπουν την εφαρμογή του backpropagation. Επίσης, διαθέτουν μεθόδους που υλοποιούν ένα ενδιάμεσο layer του neural network."
   ]
  },
  {
   "cell_type": "code",
   "execution_count": 7,
   "metadata": {},
   "outputs": [],
   "source": [
    "import torch\n",
    "import torch.nn as nn\n",
    "import torch.nn.functional as F\n",
    "\n",
    "# Fully-connected Neural Network\n",
    "class Net(nn.Module):\n",
    "    def __init__(self):\n",
    "        super(Net, self).__init__()\n",
    "        self.fc1 = nn.Linear(256, 400)\n",
    "        self.fc2 = nn.Linear(400, 100)\n",
    "        self.fc3 = nn.Linear(100, 50)\n",
    "        self.fc4 = nn.Linear(50, 10)\n",
    "  \n",
    "    def forward(self, x):\n",
    "        x = F.relu(self.fc1(x))\n",
    "        x = F.relu(self.fc2(x))\n",
    "        x = F.relu(self.fc3(x))\n",
    "        x = self.fc4(x)\n",
    "        return F.log_softmax(x)"
   ]
  },
  {
   "cell_type": "code",
   "execution_count": 8,
   "metadata": {},
   "outputs": [
    {
     "name": "stdout",
     "output_type": "stream",
     "text": [
      "Net(\n",
      "  (fc1): Linear(in_features=256, out_features=400, bias=True)\n",
      "  (fc2): Linear(in_features=400, out_features=100, bias=True)\n",
      "  (fc3): Linear(in_features=100, out_features=50, bias=True)\n",
      "  (fc4): Linear(in_features=50, out_features=10, bias=True)\n",
      ")\n",
      "Train Epoch: 0 [0/7291 (0%)]\tLoss: 2.273638\n"
     ]
    },
    {
     "name": "stderr",
     "output_type": "stream",
     "text": [
      "/home/ddaedalus/Documents/files/Patrec_ntua/patrec19/lib/python3.6/site-packages/ipykernel_launcher.py:19: UserWarning: Implicit dimension choice for log_softmax has been deprecated. Change the call to include dim=X as an argument.\n"
     ]
    },
    {
     "name": "stdout",
     "output_type": "stream",
     "text": [
      "Train Epoch: 0 [500/7291 (7%)]\tLoss: 2.258439\n",
      "Train Epoch: 0 [1000/7291 (14%)]\tLoss: 2.214821\n",
      "Train Epoch: 0 [1500/7291 (21%)]\tLoss: 2.101614\n",
      "Train Epoch: 0 [2000/7291 (27%)]\tLoss: 1.814667\n",
      "Train Epoch: 0 [2500/7291 (34%)]\tLoss: 1.385813\n",
      "Train Epoch: 0 [3000/7291 (41%)]\tLoss: 0.910768\n",
      "Train Epoch: 0 [3500/7291 (48%)]\tLoss: 1.284979\n",
      "Train Epoch: 0 [4000/7291 (55%)]\tLoss: 0.605782\n",
      "Train Epoch: 0 [4500/7291 (62%)]\tLoss: 0.439414\n",
      "Train Epoch: 0 [5000/7291 (68%)]\tLoss: 0.415442\n",
      "Train Epoch: 0 [5500/7291 (75%)]\tLoss: 0.430293\n",
      "Train Epoch: 0 [6000/7291 (82%)]\tLoss: 0.508394\n",
      "Train Epoch: 0 [6500/7291 (89%)]\tLoss: 0.142142\n",
      "Train Epoch: 0 [7000/7291 (96%)]\tLoss: 0.185020\n",
      "Train Epoch: 1 [0/7291 (0%)]\tLoss: 0.226919\n",
      "Train Epoch: 1 [500/7291 (7%)]\tLoss: 0.164843\n",
      "Train Epoch: 1 [1000/7291 (14%)]\tLoss: 0.269661\n",
      "Train Epoch: 1 [1500/7291 (21%)]\tLoss: 0.161120\n",
      "Train Epoch: 1 [2000/7291 (27%)]\tLoss: 0.106349\n",
      "Train Epoch: 1 [2500/7291 (34%)]\tLoss: 0.219505\n",
      "Train Epoch: 1 [3000/7291 (41%)]\tLoss: 0.207812\n",
      "Train Epoch: 1 [3500/7291 (48%)]\tLoss: 0.278040\n",
      "Train Epoch: 1 [4000/7291 (55%)]\tLoss: 0.199907\n",
      "Train Epoch: 1 [4500/7291 (62%)]\tLoss: 0.195340\n",
      "Train Epoch: 1 [5000/7291 (68%)]\tLoss: 0.160560\n",
      "Train Epoch: 1 [5500/7291 (75%)]\tLoss: 0.333613\n",
      "Train Epoch: 1 [6000/7291 (82%)]\tLoss: 0.168309\n",
      "Train Epoch: 1 [6500/7291 (89%)]\tLoss: 0.176838\n",
      "Train Epoch: 1 [7000/7291 (96%)]\tLoss: 0.178661\n",
      "Train Epoch: 2 [0/7291 (0%)]\tLoss: 0.124712\n",
      "Train Epoch: 2 [500/7291 (7%)]\tLoss: 0.082458\n",
      "Train Epoch: 2 [1000/7291 (14%)]\tLoss: 0.056317\n",
      "Train Epoch: 2 [1500/7291 (21%)]\tLoss: 0.078834\n",
      "Train Epoch: 2 [2000/7291 (27%)]\tLoss: 0.273206\n",
      "Train Epoch: 2 [2500/7291 (34%)]\tLoss: 0.054330\n",
      "Train Epoch: 2 [3000/7291 (41%)]\tLoss: 0.093751\n",
      "Train Epoch: 2 [3500/7291 (48%)]\tLoss: 0.105194\n",
      "Train Epoch: 2 [4000/7291 (55%)]\tLoss: 0.110369\n",
      "Train Epoch: 2 [4500/7291 (62%)]\tLoss: 0.201449\n",
      "Train Epoch: 2 [5000/7291 (68%)]\tLoss: 0.189638\n",
      "Train Epoch: 2 [5500/7291 (75%)]\tLoss: 0.135820\n",
      "Train Epoch: 2 [6000/7291 (82%)]\tLoss: 0.141272\n",
      "Train Epoch: 2 [6500/7291 (89%)]\tLoss: 0.111372\n",
      "Train Epoch: 2 [7000/7291 (96%)]\tLoss: 0.105952\n",
      "Train Epoch: 3 [0/7291 (0%)]\tLoss: 0.044033\n",
      "Train Epoch: 3 [500/7291 (7%)]\tLoss: 0.166622\n",
      "Train Epoch: 3 [1000/7291 (14%)]\tLoss: 0.135963\n",
      "Train Epoch: 3 [1500/7291 (21%)]\tLoss: 0.027589\n",
      "Train Epoch: 3 [2000/7291 (27%)]\tLoss: 0.096143\n",
      "Train Epoch: 3 [2500/7291 (34%)]\tLoss: 0.102050\n",
      "Train Epoch: 3 [3000/7291 (41%)]\tLoss: 0.092196\n",
      "Train Epoch: 3 [3500/7291 (48%)]\tLoss: 0.049127\n",
      "Train Epoch: 3 [4000/7291 (55%)]\tLoss: 0.153691\n",
      "Train Epoch: 3 [4500/7291 (62%)]\tLoss: 0.056479\n",
      "Train Epoch: 3 [5000/7291 (68%)]\tLoss: 0.077381\n",
      "Train Epoch: 3 [5500/7291 (75%)]\tLoss: 0.019243\n",
      "Train Epoch: 3 [6000/7291 (82%)]\tLoss: 0.045437\n",
      "Train Epoch: 3 [6500/7291 (89%)]\tLoss: 0.043381\n",
      "Train Epoch: 3 [7000/7291 (96%)]\tLoss: 0.101847\n",
      "Train Epoch: 4 [0/7291 (0%)]\tLoss: 0.024877\n",
      "Train Epoch: 4 [500/7291 (7%)]\tLoss: 0.042095\n",
      "Train Epoch: 4 [1000/7291 (14%)]\tLoss: 0.092708\n",
      "Train Epoch: 4 [1500/7291 (21%)]\tLoss: 0.072883\n",
      "Train Epoch: 4 [2000/7291 (27%)]\tLoss: 0.138925\n",
      "Train Epoch: 4 [2500/7291 (34%)]\tLoss: 0.108246\n",
      "Train Epoch: 4 [3000/7291 (41%)]\tLoss: 0.086775\n",
      "Train Epoch: 4 [3500/7291 (48%)]\tLoss: 0.070222\n",
      "Train Epoch: 4 [4000/7291 (55%)]\tLoss: 0.007340\n",
      "Train Epoch: 4 [4500/7291 (62%)]\tLoss: 0.026408\n",
      "Train Epoch: 4 [5000/7291 (68%)]\tLoss: 0.101676\n",
      "Train Epoch: 4 [5500/7291 (75%)]\tLoss: 0.113698\n",
      "Train Epoch: 4 [6000/7291 (82%)]\tLoss: 0.072788\n",
      "Train Epoch: 4 [6500/7291 (89%)]\tLoss: 0.061281\n",
      "Train Epoch: 4 [7000/7291 (96%)]\tLoss: 0.028963\n",
      "Train Epoch: 5 [0/7291 (0%)]\tLoss: 0.017402\n",
      "Train Epoch: 5 [500/7291 (7%)]\tLoss: 0.029379\n",
      "Train Epoch: 5 [1000/7291 (14%)]\tLoss: 0.046340\n",
      "Train Epoch: 5 [1500/7291 (21%)]\tLoss: 0.059001\n",
      "Train Epoch: 5 [2000/7291 (27%)]\tLoss: 0.088299\n",
      "Train Epoch: 5 [2500/7291 (34%)]\tLoss: 0.022787\n",
      "Train Epoch: 5 [3000/7291 (41%)]\tLoss: 0.017282\n",
      "Train Epoch: 5 [3500/7291 (48%)]\tLoss: 0.032040\n",
      "Train Epoch: 5 [4000/7291 (55%)]\tLoss: 0.002987\n",
      "Train Epoch: 5 [4500/7291 (62%)]\tLoss: 0.036756\n",
      "Train Epoch: 5 [5000/7291 (68%)]\tLoss: 0.027126\n",
      "Train Epoch: 5 [5500/7291 (75%)]\tLoss: 0.060411\n",
      "Train Epoch: 5 [6000/7291 (82%)]\tLoss: 0.017387\n",
      "Train Epoch: 5 [6500/7291 (89%)]\tLoss: 0.036441\n",
      "Train Epoch: 5 [7000/7291 (96%)]\tLoss: 0.067202\n",
      "Train Epoch: 6 [0/7291 (0%)]\tLoss: 0.017335\n",
      "Train Epoch: 6 [500/7291 (7%)]\tLoss: 0.042537\n",
      "Train Epoch: 6 [1000/7291 (14%)]\tLoss: 0.058952\n",
      "Train Epoch: 6 [1500/7291 (21%)]\tLoss: 0.029970\n",
      "Train Epoch: 6 [2000/7291 (27%)]\tLoss: 0.038963\n",
      "Train Epoch: 6 [2500/7291 (34%)]\tLoss: 0.056031\n",
      "Train Epoch: 6 [3000/7291 (41%)]\tLoss: 0.071734\n",
      "Train Epoch: 6 [3500/7291 (48%)]\tLoss: 0.020149\n",
      "Train Epoch: 6 [4000/7291 (55%)]\tLoss: 0.040918\n",
      "Train Epoch: 6 [4500/7291 (62%)]\tLoss: 0.015296\n",
      "Train Epoch: 6 [5000/7291 (68%)]\tLoss: 0.038086\n",
      "Train Epoch: 6 [5500/7291 (75%)]\tLoss: 0.010774\n",
      "Train Epoch: 6 [6000/7291 (82%)]\tLoss: 0.049494\n",
      "Train Epoch: 6 [6500/7291 (89%)]\tLoss: 0.013798\n",
      "Train Epoch: 6 [7000/7291 (96%)]\tLoss: 0.013335\n",
      "Train Epoch: 7 [0/7291 (0%)]\tLoss: 0.004195\n",
      "Train Epoch: 7 [500/7291 (7%)]\tLoss: 0.005449\n",
      "Train Epoch: 7 [1000/7291 (14%)]\tLoss: 0.024415\n",
      "Train Epoch: 7 [1500/7291 (21%)]\tLoss: 0.005984\n",
      "Train Epoch: 7 [2000/7291 (27%)]\tLoss: 0.012221\n",
      "Train Epoch: 7 [2500/7291 (34%)]\tLoss: 0.025281\n",
      "Train Epoch: 7 [3000/7291 (41%)]\tLoss: 0.015017\n",
      "Train Epoch: 7 [3500/7291 (48%)]\tLoss: 0.008781\n",
      "Train Epoch: 7 [4000/7291 (55%)]\tLoss: 0.060768\n",
      "Train Epoch: 7 [4500/7291 (62%)]\tLoss: 0.005978\n",
      "Train Epoch: 7 [5000/7291 (68%)]\tLoss: 0.013314\n",
      "Train Epoch: 7 [5500/7291 (75%)]\tLoss: 0.017573\n",
      "Train Epoch: 7 [6000/7291 (82%)]\tLoss: 0.010855\n",
      "Train Epoch: 7 [6500/7291 (89%)]\tLoss: 0.052093\n",
      "Train Epoch: 7 [7000/7291 (96%)]\tLoss: 0.020394\n",
      "Train Epoch: 8 [0/7291 (0%)]\tLoss: 0.062208\n",
      "Train Epoch: 8 [500/7291 (7%)]\tLoss: 0.016924\n",
      "Train Epoch: 8 [1000/7291 (14%)]\tLoss: 0.006931\n",
      "Train Epoch: 8 [1500/7291 (21%)]\tLoss: 0.056602\n",
      "Train Epoch: 8 [2000/7291 (27%)]\tLoss: 0.003956\n",
      "Train Epoch: 8 [2500/7291 (34%)]\tLoss: 0.032239\n",
      "Train Epoch: 8 [3000/7291 (41%)]\tLoss: 0.029020\n",
      "Train Epoch: 8 [3500/7291 (48%)]\tLoss: 0.011959\n",
      "Train Epoch: 8 [4000/7291 (55%)]\tLoss: 0.029350\n",
      "Train Epoch: 8 [4500/7291 (62%)]\tLoss: 0.023203\n",
      "Train Epoch: 8 [5000/7291 (68%)]\tLoss: 0.020755\n",
      "Train Epoch: 8 [5500/7291 (75%)]\tLoss: 0.013513\n",
      "Train Epoch: 8 [6000/7291 (82%)]\tLoss: 0.002660\n",
      "Train Epoch: 8 [6500/7291 (89%)]\tLoss: 0.084680\n",
      "Train Epoch: 8 [7000/7291 (96%)]\tLoss: 0.017586\n",
      "Train Epoch: 9 [0/7291 (0%)]\tLoss: 0.004482\n",
      "Train Epoch: 9 [500/7291 (7%)]\tLoss: 0.001817\n",
      "Train Epoch: 9 [1000/7291 (14%)]\tLoss: 0.010174\n",
      "Train Epoch: 9 [1500/7291 (21%)]\tLoss: 0.014403\n",
      "Train Epoch: 9 [2000/7291 (27%)]\tLoss: 0.011531\n",
      "Train Epoch: 9 [2500/7291 (34%)]\tLoss: 0.005107\n",
      "Train Epoch: 9 [3000/7291 (41%)]\tLoss: 0.015476\n",
      "Train Epoch: 9 [3500/7291 (48%)]\tLoss: 0.005862\n",
      "Train Epoch: 9 [4000/7291 (55%)]\tLoss: 0.068574\n",
      "Train Epoch: 9 [4500/7291 (62%)]\tLoss: 0.006386\n",
      "Train Epoch: 9 [5000/7291 (68%)]\tLoss: 0.028290\n",
      "Train Epoch: 9 [5500/7291 (75%)]\tLoss: 0.010634\n",
      "Train Epoch: 9 [6000/7291 (82%)]\tLoss: 0.006152\n",
      "Train Epoch: 9 [6500/7291 (89%)]\tLoss: 0.004775\n",
      "Train Epoch: 9 [7000/7291 (96%)]\tLoss: 0.008147\n",
      "\n",
      "Test set: Average loss: 0.0034, Accuracy: 1888/2007 (94%)\n",
      "\n"
     ]
    },
    {
     "name": "stderr",
     "output_type": "stream",
     "text": [
      "/home/ddaedalus/Documents/files/Patrec_ntua/patrec19/lib/python3.6/site-packages/ipykernel_launcher.py:41: UserWarning: volatile was removed and now has no effect. Use `with torch.no_grad():` instead.\n"
     ]
    }
   ],
   "source": [
    "import torch\n",
    "import torch.nn as nn\n",
    "import torch.nn.functional as F\n",
    "from torch.autograd import Variable\n",
    "\n",
    "net = Net()\n",
    "#net.cuda()\n",
    "print(net)\n",
    "    \n",
    "# create a stochastic gradient descent optimizer\n",
    "optimizer = torch.optim.SGD(net.parameters(), lr=0.05, momentum=0.9)\n",
    "# create a loss function\n",
    "criterion = nn.NLLLoss()     \n",
    "# run the main training loop\n",
    "epochs = 10\n",
    "log_interval = epochs / 4\n",
    "for epoch in range(epochs):\n",
    "    for batch_idx, (data, target) in enumerate(train_loader):\n",
    "        data, target = Variable(data), Variable(target)\n",
    "        # resize data from (batch_size, 1, 28, 28) to (batch_size, 16*16)\n",
    "        data = data.float()\n",
    "        target = target.long()\n",
    "        data = data.view(-1, 16*16)\n",
    "        optimizer.zero_grad()\n",
    "        net_out = net(data)\n",
    "        loss = criterion(net_out, target)\n",
    "        loss.backward()\n",
    "        optimizer.step()\n",
    "        if batch_idx % log_interval == 0:\n",
    "            print('Train Epoch: {} [{}/{} ({:.0f}%)]\\tLoss: {:.6f}'.format(\n",
    "                    epoch, batch_idx * len(data), len(train_loader.dataset),\n",
    "                           100. * batch_idx / len(train_loader), loss.item()))\n",
    "    \n",
    "    \n",
    "# run tests\n",
    "test_loss = 0\n",
    "correct = 0\n",
    "for data, target in test_loader:\n",
    "    data = data.float()\n",
    "    target = target.long()\n",
    "    data, target = Variable(data, volatile=True), Variable(target)\n",
    "    data = data.view(-1, 16 * 16)\n",
    "    net_out = net(data)\n",
    "    # sum up batch loss\n",
    "    test_loss += criterion(net_out, target).item()\n",
    "    pred = net_out.data.max(1)[1]  # get the index of the max log-probability\n",
    "    correct += pred.eq(target.data).sum()\n",
    "\n",
    "#     if (pred.eq(target.data) == 0):\n",
    "#         plt.imshow(data.reshape(16.16))\n",
    "\n",
    "test_loss /= len(test_loader.dataset)\n",
    "print('\\nTest set: Average loss: {:.4f}, Accuracy: {}/{} ({:.0f}%)\\n'.format(\n",
    "        test_loss, correct, len(test_loader.dataset),\n",
    "        100. * correct / len(test_loader.dataset)))"
   ]
  },
  {
   "cell_type": "markdown",
   "metadata": {},
   "source": [
    "Sxoliasmos apotelesmatwn"
   ]
  },
  {
   "cell_type": "code",
   "execution_count": 9,
   "metadata": {},
   "outputs": [],
   "source": [
    "from torch.utils.data import Dataset, DataLoader\n",
    "\n",
    "Test_dataset = DigitDataset(\"test.txt\")\n",
    "\n",
    "test_loader = DataLoader(Test_dataset, batch_size=1,\n",
    "                    shuffle=True, num_workers=4)"
   ]
  },
  {
   "cell_type": "code",
   "execution_count": 34,
   "metadata": {
    "scrolled": false
   },
   "outputs": [
    {
     "data": {
      "image/png": "[encoded data removed]",
      "text/plain": [
       "<Figure size 1152x1152 with 50 Axes>"
      ]
     },
     "metadata": {
      "needs_background": "light"
     },
     "output_type": "display_data"
    },
    {
     "name": "stdout",
     "output_type": "stream",
     "text": [
      "\n",
      "Test set: Average loss: 0.3275, Accuracy: 1888/2007 (94%)\n",
      "\n"
     ]
    }
   ],
   "source": [
    "import matplotlib.pyplot as plt\n",
    "import warnings\n",
    "warnings.filterwarnings(\"ignore\",category=UserWarning)\n",
    "\n",
    "# run tests\n",
    "test_loss = 0\n",
    "correct = 0\n",
    "columns = 10\n",
    "rows = 6\n",
    "i = 1\n",
    "fig = plt.figure(figsize=(16, 16))\n",
    "for data, target in test_loader:\n",
    "    data = data.float()\n",
    "    target = target.long()\n",
    "    data, target = Variable(data, volatile=True), Variable(target)\n",
    "    data = data.view(-1, 16 * 16)\n",
    "    net_out = net(data)\n",
    "    # sum up batch loss\n",
    "    test_loss += criterion(net_out, target).item()\n",
    "    pred = net_out.data.max(1)[1]  # get the index of the max log-probability\n",
    "    correct += pred.eq(target.data).sum()\n",
    "\n",
    "    # Plot some misclassified digits\n",
    "    if (pred.eq(target.data).sum() == 0):\n",
    "        fig.add_subplot(rows, columns, i)\n",
    "        plt.imshow(np.reshape(data,(16,16)))\n",
    "        i += 1\n",
    "        if(i == 51):\n",
    "            i = 1\n",
    "plt.show()\n",
    "\n",
    "test_loss /= len(test_loader.dataset)\n",
    "print('\\nTest set: Average loss: {:.4f}, Accuracy: {}/{} ({:.0f}%)\\n'.format(\n",
    "        test_loss, correct, len(test_loader.dataset),\n",
    "        100. * correct / len(test_loader.dataset)))"
   ]
  },
  {
   "cell_type": "markdown",
   "metadata": {},
   "source": [
    "### (c)"
   ]
  },
  {
   "cell_type": "code",
   "execution_count": 46,
   "metadata": {},
   "outputs": [],
   "source": [
    "import torch\n",
    "import torch.nn as nn\n",
    "import torch.nn.functional as F\n",
    "from torch.autograd import Variable\n",
    "from torch.utils.data import Dataset, DataLoader\n",
    "from sklearn.base import BaseEstimator, ClassifierMixin\n",
    "from sklearn.utils.validation import check_X_y, check_array, check_is_fitted\n",
    "from sklearn.utils.multiclass import unique_labels\n",
    "from sklearn.model_selection import learning_curve\n",
    "import numpy as np\n",
    "\n",
    "class ScikitDataset(Dataset):\n",
    "    \"\"\"Dataset for scikit-learn package use.\"\"\"\n",
    "    def __init__(self, dataset, transform=None):\n",
    "        \"\"\"\n",
    "        Args:\n",
    "            data_file: np.array of dataset           \n",
    "            transform (callable, optional): Optional transform to be applied\n",
    "            on a sample.\n",
    "        \"\"\"\n",
    "        self.dataset = dataset\n",
    "        self.transform = transform\n",
    "\n",
    "    def __len__(self):\n",
    "        # Return the number of samples\n",
    "        return len(self.dataset)\n",
    "\n",
    "    def __getitem__(self, idx):\n",
    "        # Get the sample with index equal to idx\n",
    "        if torch.is_tensor(idx):\n",
    "            idx = idx.tolist()\n",
    "        sample = np.array(self.dataset[idx])\n",
    "        if self.transform:\n",
    "            sample = self.transform(sample)\n",
    "        return sample[1:], sample[0]  \n",
    "\n",
    "\n",
    "class ScikitDataset_test(Dataset):\n",
    "    \"\"\"Dataset for scikit-learn package use.\"\"\"\n",
    "    def __init__(self, dataset, transform=None):\n",
    "        \"\"\"\n",
    "        Args:\n",
    "            data_file: np.array of dataset           \n",
    "            transform (callable, optional): Optional transform to be applied\n",
    "            on a sample.\n",
    "        \"\"\"\n",
    "        self.dataset = dataset\n",
    "        self.transform = transform\n",
    "\n",
    "    def __len__(self):\n",
    "        # Return the number of samples\n",
    "        return len(self.dataset)\n",
    "\n",
    "    def __getitem__(self, idx):\n",
    "        # Get the sample with index equal to idx\n",
    "        if torch.is_tensor(idx):\n",
    "            idx = idx.tolist()\n",
    "        sample = np.array(self.dataset[idx])\n",
    "        if self.transform:\n",
    "            sample = self.transform(sample)\n",
    "        return sample     \n",
    "    \n",
    "\n",
    "class Net(nn.Module):\n",
    "    def __init__(self, layers_size, activation_functions):\n",
    "        self.activation_functions = activation_functions\n",
    "        super(Net, self).__init__()\n",
    "        self.fc0 = 0\n",
    "        self.fc1 = 0\n",
    "        self.fc2 = 0\n",
    "        self.fc3 = 0\n",
    "        self.fc4 = 0\n",
    "        self.fc5 = 0\n",
    "        self.fc6 = 0\n",
    "        self.fc7 = 0\n",
    "        self.fc8 = 0\n",
    "        self.fc9 = 0\n",
    "        for i in range(len(layers_size)-1):\n",
    "            if (i == 0):\n",
    "                self.fc0 = nn.Linear(layers_size[i], layers_size[i+1])\n",
    "            elif (i == 1):\n",
    "                self.fc1 = nn.Linear(layers_size[i], layers_size[i+1])\n",
    "            elif (i == 2):\n",
    "                self.fc2 = nn.Linear(layers_size[i], layers_size[i+1])\n",
    "            elif (i == 3):\n",
    "                self.fc3 = nn.Linear(layers_size[i], layers_size[i+1])            \n",
    "            elif (i == 4):\n",
    "                self.fc4 = nn.Linear(layers_size[i], layers_size[i+1])        \n",
    "            elif (i == 5):\n",
    "                self.fc5 = nn.Linear(layers_size[i], layers_size[i+1]) \n",
    "            elif (i == 6):\n",
    "                self.fc6 = nn.Linear(layers_size[i], layers_size[i+1]) \n",
    "            elif (i == 7):\n",
    "                self.fc7 = nn.Linear(layers_size[i], layers_size[i+1])    \n",
    "            elif (i == 8):\n",
    "                self.fc8 = nn.Linear(layers_size[i], layers_size[i+1])  \n",
    "                \n",
    "                \n",
    "    def forward(self, x):\n",
    "        i = 0\n",
    "        for af in self.activation_functions:\n",
    "            if (i == 0):\n",
    "                x = af(self.fc0(x))\n",
    "            elif (i == 1):\n",
    "                x = af(self.fc1(x))\n",
    "            elif (i == 2):\n",
    "                x = af(self.fc2(x))\n",
    "            elif (i == 3):\n",
    "                x = af(self.fc3(x))           \n",
    "            elif (i == 4):\n",
    "                x = af(self.fc4(x))       \n",
    "            elif (i == 5):\n",
    "                x = af(self.fc5(x)) \n",
    "            elif (i == 6):\n",
    "                x = af(self.fc6(x)) \n",
    "            elif (i == 7):\n",
    "                x = af(self.fc7(x))   \n",
    "            elif (i == 8):\n",
    "                x = af(self.fc8(x)) \n",
    "            elif (i == 9):\n",
    "                x = af(self.fc9(x))       \n",
    "            i += 1\n",
    "\n",
    "        return x     \n",
    "    \n",
    "\n",
    "class NeuralNetwork(BaseEstimator, ClassifierMixin):\n",
    "    # Fully-connected Neural Network compatible with sklearn\n",
    "    def __init__(self, n_features, n_classes, layers_size=[10,10,10], n_layers=2, lr=0.05, epochs=10):\n",
    "        '''\n",
    "            n_features:    number of features\n",
    "            n_classes:     number of classes\n",
    "            layers_size:   list of layers sizes\n",
    "            n_layers:      number of layers (hidden and output)\n",
    "        '''\n",
    "        self.net = None   \n",
    "        self.n_layers = n_layers\n",
    "        self.layers_size = layers_size\n",
    "        self.activation_functions = []\n",
    "        self.n_features = n_features\n",
    "        self.n_classes = n_classes\n",
    "        self.lr = lr\n",
    "        self.criterion = None\n",
    "        self.optimizer = None\n",
    "        self.epochs = epochs\n",
    "        # relu - relu -...- log_softmax activation functions \n",
    "        for layer in range(n_layers-1):\n",
    "            relu = lambda x : F.relu(x)\n",
    "            self.activation_functions.append(relu)\n",
    "        log_softmax = lambda x : F.log_softmax(x)\n",
    "        self.activation_functions.append(log_softmax)   \n",
    "        \n",
    "    \n",
    "    def fit(self, X, y):\n",
    "        # Training\n",
    "        dataAll = np.c_[y, X]\n",
    "        # DataLoader\n",
    "        dataset = ScikitDataset(dataAll)\n",
    "        train_loader = DataLoader(dataset, batch_size=100,\n",
    "                    shuffle=True, num_workers=4) \n",
    "        \n",
    "        # Neural Network \n",
    "        self.net = Net(self.layers_size, self.activation_functions)\n",
    "        #print(self.net)\n",
    "        \n",
    "        # create a stochastic gradient descent optimizer\n",
    "        self.optimizer = torch.optim.SGD(self.net.parameters(), lr=self.lr, momentum=0.9)\n",
    "        # create a loss function\n",
    "        self.criterion = nn.NLLLoss()     \n",
    "        # run the main training loop\n",
    "        log_interval = self.epochs / 4\n",
    "        for epoch in range(self.epochs):\n",
    "            for batch_idx, (data, target) in enumerate(train_loader):\n",
    "                data, target = Variable(data), Variable(target)\n",
    "                data = data.float()\n",
    "                target = target.long()\n",
    "                data = data.view(-1, self.n_features)\n",
    "                self.optimizer.zero_grad()\n",
    "                net_out = self.net(data)\n",
    "                loss = self.criterion(net_out, target)\n",
    "                loss.backward()\n",
    "                self.optimizer.step()\n",
    "#                 if batch_idx % log_interval == 0:\n",
    "#                      print('Train Epoch: {} [{}/{} ({:.0f}%)]\\tLoss: {:.6f}'.format(\n",
    "#                              epoch, batch_idx * len(data), len(train_loader.dataset),\n",
    "#                                     100. * batch_idx / len(train_loader), loss.item()))\n",
    "        return self\n",
    "\n",
    "\n",
    "    def predict(self, X):\n",
    "        dataset = ScikitDataset_test(X)\n",
    "        test_loader = DataLoader(dataset, batch_size=1,\n",
    "                    shuffle=True, num_workers=4) \n",
    "        \n",
    "        y_predict = []\n",
    "        for data in test_loader:\n",
    "            data = data.float()\n",
    "            data = Variable(data, volatile=True)\n",
    "            data = data.view(-1, self.n_features)\n",
    "            net_out = self.net(data)\n",
    "            y_predict.append(net_out.data.max(1)[1].item())  # get the index of the max log-probability         \n",
    "            \n",
    "        return y_predict\n",
    "    \n",
    "    \n",
    "    def score(self, X, y_truth):       \n",
    "        y_predict = self.predict(X)       \n",
    "        return ( np.sum([y_predict == y_truth]) ) / ( len(y_predict) )"
   ]
  },
  {
   "cell_type": "code",
   "execution_count": 47,
   "metadata": {},
   "outputs": [
    {
     "name": "stderr",
     "output_type": "stream",
     "text": [
      "/home/bill/.local/lib/python3.5/site-packages/ipykernel_launcher.py:150: UserWarning: Implicit dimension choice for log_softmax has been deprecated. Change the call to include dim=X as an argument.\n",
      "/home/bill/.local/lib/python3.5/site-packages/ipykernel_launcher.py:198: UserWarning: volatile was removed and now has no effect. Use `with torch.no_grad():` instead.\n"
     ]
    },
    {
     "name": "stdout",
     "output_type": "stream",
     "text": [
      "0.9322371699053313\n"
     ]
    }
   ],
   "source": [
    "net = NeuralNetwork(256, 10, [256,400,100,50,10], 4)\n",
    "net.fit(X_train, Y_train)\n",
    "print(net.score(X_test, Y_test))"
   ]
  },
  {
   "cell_type": "code",
   "execution_count": 48,
   "metadata": {},
   "outputs": [
    {
     "name": "stdout",
     "output_type": "stream",
     "text": [
      "# Tuning hyper-parameters for accuracy\n",
      "\n"
     ]
    },
    {
     "name": "stderr",
     "output_type": "stream",
     "text": [
      "/home/bill/.local/lib/python3.5/site-packages/ipykernel_launcher.py:150: UserWarning: Implicit dimension choice for log_softmax has been deprecated. Change the call to include dim=X as an argument.\n",
      "/home/bill/.local/lib/python3.5/site-packages/ipykernel_launcher.py:198: UserWarning: volatile was removed and now has no effect. Use `with torch.no_grad():` instead.\n"
     ]
    },
    {
     "name": "stdout",
     "output_type": "stream",
     "text": [
      "Best parameters set found on development set:\n",
      "\n",
      "{'layers_size': [256, 250, 180, 10], 'epochs': 30, 'lr': 0.05, 'n_layers': 3}\n",
      "\n",
      "Grid scores on development set:\n",
      "\n",
      "0.407 (+/-0.088) for {'layers_size': [256, 200, 120, 10], 'epochs': 10, 'lr': 0.5, 'n_layers': 3}\n",
      "0.965 (+/-0.010) for {'layers_size': [256, 350, 10], 'epochs': 10, 'lr': 0.05, 'n_layers': 2}\n",
      "0.970 (+/-0.007) for {'layers_size': [256, 250, 180, 10], 'epochs': 30, 'lr': 0.05, 'n_layers': 3}\n",
      "0.964 (+/-0.009) for {'layers_size': [256, 100, 20, 10], 'epochs': 100, 'lr': 0.005, 'n_layers': 4}\n",
      "\n",
      "Detailed classification report:\n",
      "\n",
      "The model is trained on the full development set.\n",
      "The scores are computed on the full evaluation set.\n",
      "\n",
      "              precision    recall  f1-score   support\n",
      "\n",
      "         0.0       0.97      0.98      0.97       359\n",
      "         1.0       0.99      0.96      0.98       264\n",
      "         2.0       0.93      0.92      0.93       198\n",
      "         3.0       0.90      0.90      0.90       166\n",
      "         4.0       0.91      0.92      0.92       200\n",
      "         5.0       0.92      0.93      0.92       160\n",
      "         6.0       0.96      0.95      0.96       170\n",
      "         7.0       0.96      0.93      0.94       147\n",
      "         8.0       0.90      0.91      0.91       166\n",
      "         9.0       0.92      0.97      0.94       177\n",
      "\n",
      "    accuracy                           0.94      2007\n",
      "   macro avg       0.94      0.94      0.94      2007\n",
      "weighted avg       0.94      0.94      0.94      2007\n",
      "\n",
      "\n"
     ]
    }
   ],
   "source": [
    "from sklearn.model_selection import train_test_split\n",
    "from sklearn.model_selection import GridSearchCV\n",
    "from sklearn.metrics import classification_report\n",
    "\n",
    "# Set the parameters by cross-validation\n",
    "tuned_parameters = [{'lr': [0.5], 'epochs': [10], 'n_layers': [3], 'layers_size': [[256, 200, 120, 10]]},\n",
    "                    {'lr': [0.05], 'epochs': [10], 'n_layers': [2], 'layers_size': [[256, 350, 10]]},\n",
    "                    {'lr': [0.05], 'epochs': [30], 'n_layers': [3], 'layers_size': [[256, 250, 180, 10]]},\n",
    "                    {'lr': [0.005], 'epochs': [100], 'n_layers': [4], 'layers_size': [[256, 100, 20, 10]]}]\n",
    "\n",
    "scores = ['accuracy']\n",
    "\n",
    "for score in scores:\n",
    "    print(\"# Tuning hyper-parameters for %s\" % score)\n",
    "    print()\n",
    "\n",
    "    # GridSearchCV \n",
    "    clf = GridSearchCV(NeuralNetwork(n_features=256, n_classes=10), tuned_parameters, cv=5,\n",
    "                       scoring=score)\n",
    "    clf.fit(X_train, Y_train)\n",
    "\n",
    "    print(\"Best parameters set found on development set:\")\n",
    "    print()\n",
    "    print(clf.best_params_)\n",
    "    print()\n",
    "    print(\"Grid scores on development set:\")\n",
    "    print()\n",
    "    means = clf.cv_results_['mean_test_score']\n",
    "    stds = clf.cv_results_['std_test_score']\n",
    "    for mean, std, params in zip(means, stds, clf.cv_results_['params']):\n",
    "        print(\"%0.3f (+/-%0.03f) for %r\"\n",
    "              % (mean, std * 2, params))\n",
    "    print()\n",
    "\n",
    "    print(\"Detailed classification report:\")\n",
    "    print()\n",
    "    print(\"The model is trained on the full development set.\")\n",
    "    print(\"The scores are computed on the full evaluation set.\")\n",
    "    print()\n",
    "    y_true, y_predict = Y_test, clf.predict(X_test)\n",
    "    print(classification_report(y_true, y_predict))\n",
    "    print()"
   ]
  },
  {
   "cell_type": "code",
   "execution_count": null,
   "metadata": {},
   "outputs": [],
   "source": []
  }
 ],
 "metadata": {
  "kernelspec": {
   "display_name": "Python 3",
   "language": "python",
   "name": "python3"
  },
  "language_info": {
   "codemirror_mode": {
    "name": "ipython",
    "version": 3
   },
   "file_extension": ".py",
   "mimetype": "text/x-python",
   "name": "python",
   "nbconvert_exporter": "python",
   "pygments_lexer": "ipython3",
   "version": "3.6.7"
  }
 },
 "nbformat": 4,
 "nbformat_minor": 2
}
