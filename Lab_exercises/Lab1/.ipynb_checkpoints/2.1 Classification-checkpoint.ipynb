{
 "cells": [
  {
   "cell_type": "code",
   "execution_count": 1,
   "metadata": {
    "colab": {
     "base_uri": "https://localhost:8080/",
     "height": 1000
    },
    "colab_type": "code",
    "executionInfo": {
     "elapsed": 82186,
     "status": "ok",
     "timestamp": 1573480642757,
     "user": {
      "displayName": "Γιώργος Αλεξανδρίδης",
      "photoUrl": "https://lh3.googleusercontent.com/a-/AAuE7mAHgjbkpnVZpMkbe7ihkb3km8rd5_Hm0fOfRa_yBg=s64",
      "userId": "16422904839632337525"
     },
     "user_tz": -120
    },
    "id": "gd8SH8deJKzA",
    "outputId": "809fcf2c-1ffe-4bd2-e599-2c2fda127773",
    "scrolled": true
   },
   "outputs": [
    {
     "name": "stdout",
     "output_type": "stream",
     "text": [
      "Requirement already up-to-date: pip in /usr/local/lib/python3.6/dist-packages (19.3.1)\n",
      "Requirement already up-to-date: scikit-learn in /usr/local/lib/python3.6/dist-packages (0.21.3)\n",
      "Requirement already satisfied, skipping upgrade: scipy>=0.17.0 in /usr/local/lib/python3.6/dist-packages (from scikit-learn) (1.3.1)\n",
      "Requirement already satisfied, skipping upgrade: numpy>=1.11.0 in /usr/local/lib/python3.6/dist-packages (from scikit-learn) (1.17.3)\n",
      "Requirement already satisfied, skipping upgrade: joblib>=0.11 in /usr/local/lib/python3.6/dist-packages (from scikit-learn) (0.14.0)\n",
      "Requirement already up-to-date: pandas in /usr/local/lib/python3.6/dist-packages (0.25.3)\n",
      "Requirement already satisfied, skipping upgrade: pytz>=2017.2 in /usr/local/lib/python3.6/dist-packages (from pandas) (2018.9)\n",
      "Requirement already satisfied, skipping upgrade: python-dateutil>=2.6.1 in /usr/local/lib/python3.6/dist-packages (from pandas) (2.6.1)\n",
      "Requirement already satisfied, skipping upgrade: numpy>=1.13.3 in /usr/local/lib/python3.6/dist-packages (from pandas) (1.17.3)\n",
      "Requirement already satisfied, skipping upgrade: six>=1.5 in /usr/local/lib/python3.6/dist-packages (from python-dateutil>=2.6.1->pandas) (1.12.0)\n",
      "Collecting numpy\n",
      "\u001b[?25l  Downloading https://files.pythonhosted.org/packages/d2/ab/43e678759326f728de861edbef34b8e2ad1b1490505f20e0d1f0716c3bf4/numpy-1.17.4-cp36-cp36m-manylinux1_x86_64.whl (20.0MB)\n",
      "\u001b[K     |████████████████████████████████| 20.0MB 114kB/s \n",
      "\u001b[31mERROR: datascience 0.10.6 has requirement folium==0.2.1, but you'll have folium 0.8.3 which is incompatible.\u001b[0m\n",
      "\u001b[31mERROR: albumentations 0.1.12 has requirement imgaug<0.2.7,>=0.2.5, but you'll have imgaug 0.2.9 which is incompatible.\u001b[0m\n",
      "\u001b[?25hInstalling collected packages: numpy\n",
      "  Found existing installation: numpy 1.17.3\n",
      "    Uninstalling numpy-1.17.3:\n",
      "      Successfully uninstalled numpy-1.17.3\n",
      "Successfully installed numpy-1.17.4\n"
     ]
    },
    {
     "data": {
      "application/vnd.colab-display-data+json": {
       "pip_warning": {
        "packages": [
         "numpy"
        ]
       }
      }
     },
     "metadata": {
      "tags": []
     },
     "output_type": "display_data"
    },
    {
     "name": "stdout",
     "output_type": "stream",
     "text": [
      "Collecting scipy\n",
      "\u001b[?25l  Downloading https://files.pythonhosted.org/packages/80/72/a26272b99220804038d8ac4aabe8383cfd969ec548695b0df258058ee919/scipy-1.3.2-cp36-cp36m-manylinux1_x86_64.whl (25.2MB)\n",
      "\u001b[K     |████████████████████████████████| 25.2MB 94kB/s \n",
      "\u001b[?25hRequirement already satisfied, skipping upgrade: numpy>=1.13.3 in /usr/local/lib/python3.6/dist-packages (from scipy) (1.17.4)\n",
      "\u001b[31mERROR: albumentations 0.1.12 has requirement imgaug<0.2.7,>=0.2.5, but you'll have imgaug 0.2.9 which is incompatible.\u001b[0m\n",
      "Installing collected packages: scipy\n",
      "  Found existing installation: scipy 1.3.1\n",
      "    Uninstalling scipy-1.3.1:\n",
      "      Successfully uninstalled scipy-1.3.1\n",
      "Successfully installed scipy-1.3.2\n",
      "Collecting tensorflow\n",
      "\u001b[?25l  Downloading https://files.pythonhosted.org/packages/46/0f/7bd55361168bb32796b360ad15a25de6966c9c1beb58a8e30c01c8279862/tensorflow-2.0.0-cp36-cp36m-manylinux2010_x86_64.whl (86.3MB)\n",
      "\u001b[K     |████████████████████████████████| 86.3MB 109kB/s \n",
      "\u001b[?25hRequirement already satisfied, skipping upgrade: astor>=0.6.0 in /usr/local/lib/python3.6/dist-packages (from tensorflow) (0.8.0)\n",
      "Requirement already satisfied, skipping upgrade: wheel>=0.26 in /usr/local/lib/python3.6/dist-packages (from tensorflow) (0.33.6)\n",
      "Requirement already satisfied, skipping upgrade: protobuf>=3.6.1 in /usr/local/lib/python3.6/dist-packages (from tensorflow) (3.10.0)\n",
      "Requirement already satisfied, skipping upgrade: gast==0.2.2 in /usr/local/lib/python3.6/dist-packages (from tensorflow) (0.2.2)\n",
      "Requirement already satisfied, skipping upgrade: absl-py>=0.7.0 in /usr/local/lib/python3.6/dist-packages (from tensorflow) (0.8.1)\n",
      "Requirement already satisfied, skipping upgrade: keras-applications>=1.0.8 in /usr/local/lib/python3.6/dist-packages (from tensorflow) (1.0.8)\n",
      "Requirement already satisfied, skipping upgrade: google-pasta>=0.1.6 in /usr/local/lib/python3.6/dist-packages (from tensorflow) (0.1.7)\n",
      "Requirement already satisfied, skipping upgrade: numpy<2.0,>=1.16.0 in /usr/local/lib/python3.6/dist-packages (from tensorflow) (1.17.4)\n",
      "Requirement already satisfied, skipping upgrade: opt-einsum>=2.3.2 in /usr/local/lib/python3.6/dist-packages (from tensorflow) (3.1.0)\n",
      "Collecting tensorflow-estimator<2.1.0,>=2.0.0\n",
      "\u001b[?25l  Downloading https://files.pythonhosted.org/packages/fc/08/8b927337b7019c374719145d1dceba21a8bb909b93b1ad6f8fb7d22c1ca1/tensorflow_estimator-2.0.1-py2.py3-none-any.whl (449kB)\n",
      "\u001b[K     |████████████████████████████████| 450kB 48.5MB/s \n",
      "\u001b[?25hRequirement already satisfied, skipping upgrade: termcolor>=1.1.0 in /usr/local/lib/python3.6/dist-packages (from tensorflow) (1.1.0)\n",
      "Collecting tensorboard<2.1.0,>=2.0.0\n",
      "\u001b[?25l  Downloading https://files.pythonhosted.org/packages/d3/9e/a48cd34dd7b672ffc227b566f7d16d63c62c58b542d54efa45848c395dd4/tensorboard-2.0.1-py3-none-any.whl (3.8MB)\n",
      "\u001b[K     |████████████████████████████████| 3.8MB 38.3MB/s \n",
      "\u001b[?25hRequirement already satisfied, skipping upgrade: keras-preprocessing>=1.0.5 in /usr/local/lib/python3.6/dist-packages (from tensorflow) (1.1.0)\n",
      "Requirement already satisfied, skipping upgrade: wrapt>=1.11.1 in /usr/local/lib/python3.6/dist-packages (from tensorflow) (1.11.2)\n",
      "Requirement already satisfied, skipping upgrade: grpcio>=1.8.6 in /usr/local/lib/python3.6/dist-packages (from tensorflow) (1.15.0)\n",
      "Requirement already satisfied, skipping upgrade: six>=1.10.0 in /usr/local/lib/python3.6/dist-packages (from tensorflow) (1.12.0)\n",
      "Requirement already satisfied, skipping upgrade: setuptools in /usr/local/lib/python3.6/dist-packages (from protobuf>=3.6.1->tensorflow) (41.4.0)\n",
      "Requirement already satisfied, skipping upgrade: h5py in /usr/local/lib/python3.6/dist-packages (from keras-applications>=1.0.8->tensorflow) (2.8.0)\n",
      "Requirement already satisfied, skipping upgrade: google-auth-oauthlib<0.5,>=0.4.1 in /usr/local/lib/python3.6/dist-packages (from tensorboard<2.1.0,>=2.0.0->tensorflow) (0.4.1)\n",
      "Requirement already satisfied, skipping upgrade: werkzeug>=0.11.15 in /usr/local/lib/python3.6/dist-packages (from tensorboard<2.1.0,>=2.0.0->tensorflow) (0.16.0)\n",
      "Requirement already satisfied, skipping upgrade: markdown>=2.6.8 in /usr/local/lib/python3.6/dist-packages (from tensorboard<2.1.0,>=2.0.0->tensorflow) (3.1.1)\n",
      "Collecting google-auth<2,>=1.6.3\n",
      "\u001b[?25l  Downloading https://files.pythonhosted.org/packages/2f/81/d1e7d9974ba7c886f6d133a8baae18cb8d92b2d09bcc4f46328306825de0/google_auth-1.7.0-py2.py3-none-any.whl (74kB)\n",
      "\u001b[K     |████████████████████████████████| 81kB 9.2MB/s \n",
      "\u001b[?25hRequirement already satisfied, skipping upgrade: requests-oauthlib>=0.7.0 in /usr/local/lib/python3.6/dist-packages (from google-auth-oauthlib<0.5,>=0.4.1->tensorboard<2.1.0,>=2.0.0->tensorflow) (1.2.0)\n",
      "Requirement already satisfied, skipping upgrade: rsa<4.1,>=3.1.4 in /usr/local/lib/python3.6/dist-packages (from google-auth<2,>=1.6.3->tensorboard<2.1.0,>=2.0.0->tensorflow) (4.0)\n",
      "Requirement already satisfied, skipping upgrade: cachetools<3.2,>=2.0.0 in /usr/local/lib/python3.6/dist-packages (from google-auth<2,>=1.6.3->tensorboard<2.1.0,>=2.0.0->tensorflow) (3.1.1)\n",
      "Requirement already satisfied, skipping upgrade: pyasn1-modules>=0.2.1 in /usr/local/lib/python3.6/dist-packages (from google-auth<2,>=1.6.3->tensorboard<2.1.0,>=2.0.0->tensorflow) (0.2.7)\n",
      "Requirement already satisfied, skipping upgrade: oauthlib>=3.0.0 in /usr/local/lib/python3.6/dist-packages (from requests-oauthlib>=0.7.0->google-auth-oauthlib<0.5,>=0.4.1->tensorboard<2.1.0,>=2.0.0->tensorflow) (3.1.0)\n",
      "Requirement already satisfied, skipping upgrade: requests>=2.0.0 in /usr/local/lib/python3.6/dist-packages (from requests-oauthlib>=0.7.0->google-auth-oauthlib<0.5,>=0.4.1->tensorboard<2.1.0,>=2.0.0->tensorflow) (2.21.0)\n",
      "Requirement already satisfied, skipping upgrade: pyasn1>=0.1.3 in /usr/local/lib/python3.6/dist-packages (from rsa<4.1,>=3.1.4->google-auth<2,>=1.6.3->tensorboard<2.1.0,>=2.0.0->tensorflow) (0.4.7)\n",
      "Requirement already satisfied, skipping upgrade: certifi>=2017.4.17 in /usr/local/lib/python3.6/dist-packages (from requests>=2.0.0->requests-oauthlib>=0.7.0->google-auth-oauthlib<0.5,>=0.4.1->tensorboard<2.1.0,>=2.0.0->tensorflow) (2019.9.11)\n",
      "Requirement already satisfied, skipping upgrade: chardet<3.1.0,>=3.0.2 in /usr/local/lib/python3.6/dist-packages (from requests>=2.0.0->requests-oauthlib>=0.7.0->google-auth-oauthlib<0.5,>=0.4.1->tensorboard<2.1.0,>=2.0.0->tensorflow) (3.0.4)\n",
      "Requirement already satisfied, skipping upgrade: urllib3<1.25,>=1.21.1 in /usr/local/lib/python3.6/dist-packages (from requests>=2.0.0->requests-oauthlib>=0.7.0->google-auth-oauthlib<0.5,>=0.4.1->tensorboard<2.1.0,>=2.0.0->tensorflow) (1.24.3)\n",
      "Requirement already satisfied, skipping upgrade: idna<2.9,>=2.5 in /usr/local/lib/python3.6/dist-packages (from requests>=2.0.0->requests-oauthlib>=0.7.0->google-auth-oauthlib<0.5,>=0.4.1->tensorboard<2.1.0,>=2.0.0->tensorflow) (2.8)\n",
      "\u001b[31mERROR: tensorboard 2.0.1 has requirement grpcio>=1.24.3, but you'll have grpcio 1.15.0 which is incompatible.\u001b[0m\n",
      "\u001b[31mERROR: google-colab 1.0.0 has requirement google-auth~=1.4.0, but you'll have google-auth 1.7.0 which is incompatible.\u001b[0m\n",
      "Installing collected packages: tensorflow-estimator, google-auth, tensorboard, tensorflow\n",
      "  Found existing installation: tensorflow-estimator 1.15.1\n",
      "    Uninstalling tensorflow-estimator-1.15.1:\n",
      "      Successfully uninstalled tensorflow-estimator-1.15.1\n",
      "  Found existing installation: google-auth 1.4.2\n",
      "    Uninstalling google-auth-1.4.2:\n",
      "      Successfully uninstalled google-auth-1.4.2\n",
      "  Found existing installation: tensorboard 1.15.0\n",
      "    Uninstalling tensorboard-1.15.0:\n",
      "      Successfully uninstalled tensorboard-1.15.0\n",
      "  Found existing installation: tensorflow 1.15.0\n",
      "    Uninstalling tensorflow-1.15.0:\n",
      "      Successfully uninstalled tensorflow-1.15.0\n",
      "Successfully installed google-auth-1.7.0 tensorboard-2.0.1 tensorflow-2.0.0 tensorflow-estimator-2.0.1\n"
     ]
    },
    {
     "data": {
      "application/vnd.colab-display-data+json": {
       "pip_warning": {
        "packages": [
         "google"
        ]
       }
      }
     },
     "metadata": {
      "tags": []
     },
     "output_type": "display_data"
    }
   ],
   "source": [
    "!pip install --upgrade pip\n",
    "!pip install --upgrade scikit-learn\n",
    "!pip install --upgrade pandas\n",
    "!pip install --upgrade numpy\n",
    "!pip install --upgrade scipy\n",
    "!pip install --upgrade tensorflow"
   ]
  },
  {
   "cell_type": "markdown",
   "metadata": {
    "colab_type": "text",
    "id": "_oZdbODzJKzF"
   },
   "source": [
    "# Εισαγωγή και επισκόπηση των δεδομένων.\n",
    "\n",
    "## Ένα dataset αναγνώρισης αντικειμένων σε εικόνα\n",
    "\n",
    "Σε αυτή την άσκηση θα προεπεξεργαστούμε μια σειρά χαρακτηριστικών χαμηλού επιπέδου που έχουν εξαχθεί από τμήματα εικόνων, και στη συνέχεια θα εκπαιδεύσουμε έναν νευρωνικό δίκτυο που θα τις κατατάσσει σε μία από τις 5 διαφορετικές κατηγορίες στις οποίες μπορεί να ανήκουν.\n",
    "\n",
    "![alt text](https://cdn-images-1.medium.com/max/1600/1*r9ELExnk1B1zHnRReDW9Ow.png)\n",
    "\n",
    "Ένα από τα πιο δημοφιλή προβλήματα στο χώρο της σημασιολογικής ανάλυσης πολυμεσικού υλικού αποτελεί η ταξινόμηση τμημάτων εικόνων με βάση το περιεχόμενο. Μια συνηθισμένη διαδικασία για την επίτευξη αυτού του σκοπού έχει ως εξής. Αρχικά ένας αλγόριθμος τμηματοποίησης επεξεργάζεται την εικόνα και τη χωρίζει σε περιοχές με παρόμοια χαρακτηριστικά χαμηλού επιπέδου (για παράδειγμα ιστογράμματα χρώματος, αναγνώριση ακμών κλπ). Τα τμήματα αυτά ταξινομούνται χειροκίνητα σύμφωνα με το περιεχόμενο τους σε κάποιες κατηγορίες. Με αυτό το τρόπο δημιουργείται ένα σύνολο εκπαίδευσης (χαρακτηριστικά και επιθυμητές αποκρίσεις) το οποίο χρησιμοποιείται από ένα νευρωνικό δίκτυο για την ταξινόμηση των τμημάτων της εικόνας. \n",
    "\n",
    "Σύμφωνα με την περιγραφή του dataset, οι πίνακες που μας δίνονται για την εκπαίδευση του δικτύου έχουν τα εξής περιεχόμενα:\n",
    "\n",
    "1. Κάθε στήλη του πίνακα TrainData αντιστοιχεί στο τμήμα μίας εικόνας ενώ κάθε γραμμή περιέχει χαρακτηριστικά χαμηλού επιπέδου (που αντιστοιχούν σε Descriptors) του τμήματος αυτού. Σύμφωνα με την περιγραφή του dataset το σύνολο τμημάτων εικόνας (δειγμάτων) στο train set είναι 645 και το σύνολο των χαρακτηριστικών είναι 586 \n",
    "2. Κάθε στήλη του πίνακα TrainDataTargets αντιστοιχεί στο τμήμα μίας εικόνας ενώ κάθε γραμμή αντιστοιχεί σε μία από τις κατηγορίες «Άλογο», «Σκύλος», «Πρόσωπο», «Αυτοκίνητο», «Ποδήλατο», «Λουλούδι» κ.ά. Γνωρίζουμε ότι το σύνολο των στηλών - δειγμάτων στο test set είναι 159 και ότι το σύνολο των κατηγοριών - γραμμών είναι 5 (Για την υλοποίηση της άσκησης έχουν δηλαδή επιλεξεί 5 μόνο κατηγορίες αντικειμένων). Στην περίπτωση που το τμήμα μιας εικόνας ανήκει σε μία από τις κατηγορίες τότε η αντίστοιχη γραμμή θα έχει την τιμή 1 ενώ οι υπόλοιπες γραμμές θα πάρουν την τιμή 0.\n",
    "\n",
    "Τα δεδομένα των πινάκων TrainData, TrainDataTargets θα χρησιμοποιηθούν για την εκπαίδευση του νευρωνικού δικτύου ενώ τα δεδομένα των πινάκων TestData, TestDataTargets θα χρησιμοποιηθούν ως μέτρο των επιδόσεων του νευρωνικού δικτύου. Προφανώς τα δεδομένα των πινάκων TestData και TestDataTargets έχουν αντίστοιχη δομή με τα δεδομένα των πινάκων TrainData και TrainDataTargets. \n",
    "\n",
    "Οι πίνακες των χαρακτηριστικών και ετικετών του train και test set στην περίπτωση αυτή μας δίνονται έτοιμοι και δεν κάνουμε εμείς split του dataset.\n",
    "\n",
    "Το πρώτο βήμα όταν διαχειριζόμαστε datasets είναι να τα εισάγουμε σωστά στο περιβάλλον μας και να βεβαιωθούμε ότι οι πίνακες έχουν τη σωστή μορφή.\n",
    "\n",
    "## Εισαγωγή dataset\n",
    "\n",
    "Θα εισάγουμε τα δεδομένα σε dataframes απευθείας από τα URL όπου είναι αποθηκευμένα."
   ]
  },
  {
   "cell_type": "code",
   "execution_count": 0,
   "metadata": {
    "colab": {},
    "colab_type": "code",
    "id": "4W8Eo5R-iIrv"
   },
   "outputs": [],
   "source": [
    "import pandas as pd\n",
    "trainData = pd.read_csv(\"http://mycourses.ntua.gr/document/goto/?url=%2F%C5%F1%E3%E1%F3%F4%DE%F1%E9%EF_2018_-_2019%2FLab_4%2Fdata_files%2FtrainData.csv&cidReq=ECE1078\").values\n",
    "trainDataTargets = pd.read_csv(\"http://mycourses.ntua.gr/document/goto/?url=%2F%C5%F1%E3%E1%F3%F4%DE%F1%E9%EF_2018_-_2019%2FLab_4%2Fdata_files%2FtrainDataTargets.csv&cidReq=ECE1078\").values\n",
    "testData = pd.read_csv(\"http://mycourses.ntua.gr/document/goto/?url=%2F%C5%F1%E3%E1%F3%F4%DE%F1%E9%EF_2018_-_2019%2FLab_4%2Fdata_files%2FtestData.csv&cidReq=ECE1078\").values\n",
    "testDataTargets = pd.read_csv(\"http://mycourses.ntua.gr/document/goto/?url=%2F%C5%F1%E3%E1%F3%F4%DE%F1%E9%EF_2018_-_2019%2FLab_4%2Fdata_files%2FtestDataTargets.csv&cidReq=ECE1078\").values"
   ]
  },
  {
   "cell_type": "markdown",
   "metadata": {
    "colab_type": "text",
    "id": "s9fiXqGYJKzL"
   },
   "source": [
    "Γνωρίζουμε ότι το csv μας περιέχουν μόνο αριθμητικά δεδομένα οπότε καλώντας τη μέθοδο .values τα δεδομένα μετατρέπονται αυτόματα σε πίνακα numpy αντί για data_frame. Προσοχή: σε csv που περιέχουν συνδυασμό strings και αριθμών ακολουθούμε τη μεθοδολογία με διαφορετικά dataframes ανάλογα τον τύπο δεδομένων που είδαμε στο τελευταίο section του notebook \"Classification 1.1.\" \n",
    "\n",
    "## Επισκόπηση του Dataset\n",
    "\n",
    "Αφού εισάγουμε τα δεδομένα και έχουμε τις κλάσεις με τις οποίες επιθυμούμε να δουλέψουμε, πρέπει να κάνουμε έναν αρχικό έλεγχο και να δούμε αν είναι σε κατάλληλη μορφή. Πολλές φορές τα δεδομένα έχουν αντίστροφα από το επιθυμητό τις σειρές και τις στήλες ή περιέχουν κατηγορίες (indexes) που κατά λάθος μπορεί να περάσουμε σαν έξτρα σειρές στους πίνακές μας. \n",
    "\n",
    "Σημείωση: ένας από τους λόγους που πολλοί επιστήμονες δεδομένων επιλέγουν να δουλεύουν με panda data_frames αντί απλά arrays είναι το ότι διαχειρίζονται αυτόματα τα indexes των δεδομένων. \n",
    "\n",
    "Πρέπει πάντοτε να κάνουμε μια επισκόπηση των πινάκων να δούμε αν είναι στη σωστή μορφή, ειδικά όταν δεν έχουμε dataset description (δηλαδή τι σημαίνουν οι κολώνες και οι γραμμές), όπως στην περίπτωση αυτή."
   ]
  },
  {
   "cell_type": "code",
   "execution_count": 2,
   "metadata": {
    "colab": {
     "base_uri": "https://localhost:8080/",
     "height": 885
    },
    "colab_type": "code",
    "executionInfo": {
     "elapsed": 1612,
     "status": "ok",
     "timestamp": 1573480870885,
     "user": {
      "displayName": "Γιώργος Αλεξανδρίδης",
      "photoUrl": "https://lh3.googleusercontent.com/a-/AAuE7mAHgjbkpnVZpMkbe7ihkb3km8rd5_Hm0fOfRa_yBg=s64",
      "userId": "16422904839632337525"
     },
     "user_tz": -120
    },
    "id": "aWcZ1BLcJKzN",
    "outputId": "e338034d-9db0-4140-89a8-525a3c977420"
   },
   "outputs": [
    {
     "name": "stdout",
     "output_type": "stream",
     "text": [
      "(586, 646)\n",
      "(5, 646)\n",
      "(586, 160)\n",
      "(5, 160)\n",
      "\n",
      "\n",
      "[[   1  -66 -168 ...  -44 -124 -107]\n",
      " [   2  -72   70 ...   49   69   38]\n",
      " [   3 -124   70 ...    0   60    7]\n",
      " ...\n",
      " [ 584  129   25 ...   88   92  116]\n",
      " [ 585  127    5 ...   92  101  123]\n",
      " [ 586  139    5 ...  114  126  154]]\n",
      "[[1 1 0 ... 0 0 0]\n",
      " [2 0 0 ... 0 0 0]\n",
      " [3 0 0 ... 1 1 1]\n",
      " [4 0 0 ... 0 0 0]\n",
      " [5 0 1 ... 0 0 0]]\n",
      "[[   1 -153 -164 ...  -62  -96  -82]\n",
      " [   2   70   69 ...  -29  -16  -16]\n",
      " [   3   65   64 ... -126  -94 -108]\n",
      " ...\n",
      " [ 584   36   35 ...  139  130  139]\n",
      " [ 585    3    0 ...  150  128  144]\n",
      " [ 586    5    8 ...  177  141  165]]\n",
      "[[1 0 0 0 0 0 0 0 0 0 0 0 0 0 0 0 0 0 0 0 0 0 0 0 0 0 0 0 0 0 0 0 0 0 0 0\n",
      "  0 0 1 1 0 1 0 1 0 1 0 0 0 0 1 0 1 0 0 0 0 0 0 0 0 0 0 0 0 0 1 0 0 0 0 0\n",
      "  1 0 0 0 0 0 0 0 0 0 0 0 0 0 0 0 0 0 0 1 0 0 0 0 0 0 0 0 0 0 0 0 0 0 0 0\n",
      "  0 0 1 0 0 0 0 0 0 0 0 0 1 0 1 0 0 0 0 0 0 0 1 1 1 1 1 1 1 1 1 1 1 1 1 1\n",
      "  1 1 1 1 1 1 1 1 0 1 1 1 1 1 1 1]\n",
      " [2 0 0 0 0 0 0 0 0 0 0 0 0 0 0 0 0 0 0 0 0 0 0 0 0 0 0 0 0 0 0 0 0 0 0 0\n",
      "  0 0 0 0 0 0 0 0 0 0 0 0 0 0 0 0 0 0 1 1 0 0 0 1 0 1 1 1 1 1 0 0 0 0 0 1\n",
      "  0 0 1 1 1 1 0 1 0 1 0 1 0 1 0 1 0 0 0 0 0 0 1 0 1 0 1 0 0 1 0 0 1 0 1 0\n",
      "  1 0 0 0 0 0 0 0 0 1 0 0 0 1 0 1 1 0 0 1 0 0 0 0 0 0 0 0 0 0 0 0 0 0 0 0\n",
      "  0 0 0 0 0 0 0 0 0 0 0 0 0 0 0 0]\n",
      " [3 0 0 0 0 0 0 0 0 0 0 0 0 0 0 0 0 0 0 0 0 0 0 0 0 0 0 0 0 0 0 0 0 0 0 0\n",
      "  0 0 0 0 0 0 0 0 0 0 0 0 0 0 0 0 0 0 0 0 0 0 0 0 0 0 0 0 0 0 0 0 0 0 0 0\n",
      "  0 0 0 0 0 0 1 0 1 0 1 0 1 0 1 0 1 1 1 0 1 1 0 1 0 1 0 1 0 0 1 1 0 1 0 1\n",
      "  0 1 0 1 1 0 1 1 1 0 1 1 0 0 0 0 0 1 1 0 1 1 0 0 0 0 0 0 0 0 0 0 0 0 0 0\n",
      "  0 0 0 0 0 0 0 0 1 0 0 0 0 0 0 0]\n",
      " [4 0 0 0 0 0 0 0 0 0 0 1 0 0 0 0 0 1 0 0 0 0 1 0 0 1 0 1 0 0 0 0 0 0 1 1\n",
      "  0 1 0 0 1 0 0 0 1 0 1 1 1 1 0 1 0 1 0 0 1 1 1 0 1 0 0 0 0 0 0 1 0 1 1 0\n",
      "  0 1 0 0 0 0 0 0 0 0 0 0 0 0 0 0 0 0 0 0 0 0 0 0 0 0 0 0 1 0 0 0 0 0 0 0\n",
      "  0 0 0 0 0 1 0 0 0 0 0 0 0 0 0 0 0 0 0 0 0 0 0 0 0 0 0 0 0 0 0 0 0 0 0 0\n",
      "  0 0 0 0 0 0 0 0 0 0 0 0 0 0 0 0]\n",
      " [5 1 1 1 1 1 1 1 1 1 1 0 1 1 1 1 1 0 1 1 1 1 0 1 1 0 1 0 1 1 1 1 1 1 0 0\n",
      "  1 0 0 0 0 0 1 0 0 0 0 0 0 0 0 0 0 0 0 0 0 0 0 0 0 0 0 0 0 0 0 0 1 0 0 0\n",
      "  0 0 0 0 0 0 0 0 0 0 0 0 0 0 0 0 0 0 0 0 0 0 0 0 0 0 0 0 0 0 0 0 0 0 0 0\n",
      "  0 0 0 0 0 0 0 0 0 0 0 0 0 0 0 0 0 0 0 0 0 0 0 0 0 0 0 0 0 0 0 0 0 0 0 0\n",
      "  0 0 0 0 0 0 0 0 0 0 0 0 0 0 0 0]]\n"
     ]
    }
   ],
   "source": [
    "# παίρνουμε πρώτα τις διαστάσεις όλων των πινάκων\n",
    "print(trainData.shape)\n",
    "print(trainDataTargets.shape)\n",
    "print(testData.shape)\n",
    "print(testDataTargets.shape)\n",
    "print(\"\\n\")\n",
    "\n",
    "# κάνουμε μια πρώτη εκτύπωση των χαρακτηριστικών\n",
    "print( trainData)\n",
    "print(trainDataTargets)\n",
    "print(testData)\n",
    "print(testDataTargets)"
   ]
  },
  {
   "cell_type": "markdown",
   "metadata": {
    "colab_type": "text",
    "id": "ip4laBb1HH_6"
   },
   "source": [
    "### Multi-class dataset format\n",
    "\n",
    "Όταν έχουμε c διαφορετικές κλάσεις το scikit περιμένει το dataset να έχει την ακόλουθη μορφή:\n",
    "\n",
    "- ο πίνακας των δεδομένων να έχει σχήμα (n samples, m features)\n",
    "- ο πίνακας των ετικετών να έχει σχήμα(n samples, c κλάσεις)\n",
    "\n",
    "Εάν έχουμε 3 κλάσεις και ένα δείγμα ανήκει στη δεύτερη (index 1) τότε η ετικέτα του θα είναι [0 1 0]. Αυτή είναι η πυκνή αναπαράσταση (dense). Μπορούμε επίσης να έχουμε την αραιή (sparse) αναπαράσταση:\n",
    "\n",
    "- ο πίνακας των δεδομένων να έχει σχήμα (n samples, m features)\n",
    "- ο πίνακας των ετικετών να έχει σχήμα (n samples, ετικέτα κλάσης)\n",
    "\n",
    "ένα δείγμα της κατηγορίας 3 θα έχει ετικέτα '2' (δηλαδή 3 ξεκινώνατας το index από το 0). \n",
    "\n",
    "Το scikit καταλαβαίνει και τις δύο συμβάσεις για τις ετικέτες πολλών κατηγοριών. Τα ονόματα δεν χρειάζεται καν να είναι 0, 1, 2 κλπ, μπορούν να είναι και string αρκεί να είναι μοναδικά. Γενικά προτιμάται η αναπαράσταση sparse. H dense μετατρέπεται εσωτερικά σε sparse.\n"
   ]
  },
  {
   "cell_type": "markdown",
   "metadata": {
    "colab_type": "text",
    "id": "gSc_xcxnJKzR"
   },
   "source": [
    "## Συμβατότητα με scikit-learn\n",
    "Οι παρατηρήσεις που κάνουμε για τα δείγματα και τα χαρακτηριστικά  είναι δύο:\n",
    "* Πρώτον, τα χαρακτηριστικά είναι σε γραμμές και τα δείγματα σε κολόνες. Αυτό είναι ασύμβατο με το scikit-learn \n",
    "* Δεύτερον, οι κολόνες - δείγματα αντί να είναι 645 όπως λέει η περιγραφή είναι 646. Από το print λοιπόν βλέπουμε ότι η διάσταση αυτή δεν συμπίπτει με την περιγραφή γιατί η πρώτη κολώνα είναι ένα index από 1 μέχρι το 586 των χαρακτηριστικών (και όχι δείγμα). \n",
    "\n",
    "Συνεπώς θα πρέπει να αφαιρέσουμε  αυτό το index (δεν αποτελεί δείγμα) και εν συνεχεία να κάνουμε αναστροφή στους πίνακες (που γινεται με τη μέθοδο \".Τ\") ώστε να έχουμε δείγματα στις γραμμές και χαρακτηριστικά στις κολώνες (standard στο scikit-kearn). \n",
    "\n",
    "Παρόμοια για τις ετικέτες των κατηγοριών, αφενός η πρώτη κολόνα είναι πάλι ένα index από 1 έως 5 των κατηγοριών (που δεν το θέλουμε) και αφετέρου θέλουμε να έχουμε τα δείγματα σε γραμμές και τα 0 και 1 των κατηγοριών σε 5 κολόνες, οπότε θα χρειαστούμε και εκεί αναστροφή των πινάκων."
   ]
  },
  {
   "cell_type": "code",
   "execution_count": 3,
   "metadata": {
    "colab": {
     "base_uri": "https://localhost:8080/",
     "height": 469
    },
    "colab_type": "code",
    "executionInfo": {
     "elapsed": 770,
     "status": "ok",
     "timestamp": 1573481099252,
     "user": {
      "displayName": "Γιώργος Αλεξανδρίδης",
      "photoUrl": "https://lh3.googleusercontent.com/a-/AAuE7mAHgjbkpnVZpMkbe7ihkb3km8rd5_Hm0fOfRa_yBg=s64",
      "userId": "16422904839632337525"
     },
     "user_tz": -120
    },
    "id": "f6QGego7JKzS",
    "outputId": "b84937ba-71f1-4f80-d83f-bf137966fe04"
   },
   "outputs": [
    {
     "name": "stdout",
     "output_type": "stream",
     "text": [
      "(645, 586)\n",
      "(645, 5)\n",
      "(159, 586)\n",
      "(159, 5)\n",
      "\n",
      "\n",
      "[[ -66  -72 -124   54   26]\n",
      " [-168   70   70    8    8]\n",
      " [-172   72   54   18    8]\n",
      " [ -63  -23  -99   54  -18]\n",
      " [ -62   43  -18   63    8]]\n",
      "[[1 0 0 0 0]\n",
      " [0 0 0 0 1]\n",
      " [0 0 0 0 1]\n",
      " [0 1 0 0 0]\n",
      " [0 1 0 0 0]]\n",
      "[[-153   70   65    3    5]\n",
      " [-164   69   64   15    8]\n",
      " [-157   73   71    2    8]\n",
      " [-133   63   71   -2    1]\n",
      " [-137   65   71    4    8]]\n",
      "[[0 0 0 0 1]\n",
      " [0 0 0 0 1]\n",
      " [0 0 0 0 1]\n",
      " [0 0 0 0 1]\n",
      " [0 0 0 0 1]]\n"
     ]
    }
   ],
   "source": [
    "# C for Corrected\n",
    "C_trainData = trainData.T[1:,]\n",
    "C_testData = testData.T[1:,]\n",
    "C_trainDataTargets = trainDataTargets.T[1:,]\n",
    "C_testDataTargets = testDataTargets.T[1:,]\n",
    "\n",
    "print(C_trainData.shape)\n",
    "print(C_trainDataTargets.shape)\n",
    "print(C_testData.shape)\n",
    "print(C_testDataTargets.shape)\n",
    "print(\"\\n\")\n",
    "\n",
    "#τυπώνουμε τις 5 πρώτες γραμμές και κολόνες\n",
    "print(C_trainData[:5,:5])\n",
    "print(C_trainDataTargets[:5,:5])\n",
    "print(C_testData[:5,:5])\n",
    "print(C_testDataTargets[:5,:5])"
   ]
  },
  {
   "cell_type": "markdown",
   "metadata": {
    "colab_type": "text",
    "id": "u-Odl2r4JKzX"
   },
   "source": [
    "Συμερασματικά: είναι πάντα καλή πρακτική να κάνουμε μια ποιοτική επισκόπηση του dataset και να εξετάζουμε αν οι πίνακες των δεδομένων είναι στη σωστή μορφή και να τους διορθώνουμε αν χρειαστεί. Μπορούμε να έχουμε ή να μην έχουμε ονόματα χαρακτηριστικών στην πρώτη γραμμή η κολώνα, αρίθμηση σειρών, να λείπουν τιμές χαρακτηριστικών, να έχουμε μαζί αριθμητικές και κατηγορικές μεταβλητές (strings) \n",
    "\n",
    "## Ένα απλό Multi Layer Perceptron (MLP)\n",
    "Στη συνέχει θα κάνουμε κάποιες διαδικασίες προεπεξεργασίας στα δεδομένα για να βελτιώσουμε την απόδοση των ταξινομητών. Για να δούμε τη διαφορά πριν και μετά την προεπεξεργασία, κάνουμε εκπαίδευση σε ένα Multi Layer Perceptron (MLP) με παραμέτρους (σταθερές, που δεν τις βελτιστοποιούμε) και μη επεξεργασμένα δεδομένα και υπολογίζουμε precision, recall, f1. Θα δούμε ότι το MLP αδυνατεί να μάθει να κάνει προβλέψεις. Σημειώστε επίσης ότι καλούμε τη μέθοδο fit στα δεδομένα train, και τη μέθοδο predict στα δεδομένα test."
   ]
  },
  {
   "cell_type": "code",
   "execution_count": 4,
   "metadata": {
    "colab": {
     "base_uri": "https://localhost:8080/",
     "height": 298
    },
    "colab_type": "code",
    "executionInfo": {
     "elapsed": 1375,
     "status": "ok",
     "timestamp": 1573481206704,
     "user": {
      "displayName": "Γιώργος Αλεξανδρίδης",
      "photoUrl": "https://lh3.googleusercontent.com/a-/AAuE7mAHgjbkpnVZpMkbe7ihkb3km8rd5_Hm0fOfRa_yBg=s64",
      "userId": "16422904839632337525"
     },
     "user_tz": -120
    },
    "id": "0loPbjyDJKzZ",
    "outputId": "36da0430-e433-466f-e35f-d13834982a4e"
   },
   "outputs": [
    {
     "name": "stdout",
     "output_type": "stream",
     "text": [
      "              precision    recall  f1-score   support\n",
      "\n",
      "           0       0.00      0.00      0.00        42\n",
      "           1       0.00      0.00      0.00        30\n",
      "           2       0.19      1.00      0.32        30\n",
      "           3       0.00      0.00      0.00        26\n",
      "           4       0.00      0.00      0.00        31\n",
      "\n",
      "   micro avg       0.19      0.19      0.19       159\n",
      "   macro avg       0.04      0.20      0.06       159\n",
      "weighted avg       0.04      0.19      0.06       159\n",
      " samples avg       0.19      0.19      0.19       159\n",
      "\n"
     ]
    },
    {
     "name": "stderr",
     "output_type": "stream",
     "text": [
      "/usr/local/lib/python3.6/dist-packages/sklearn/metrics/classification.py:1437: UndefinedMetricWarning: Precision and F-score are ill-defined and being set to 0.0 in labels with no predicted samples.\n",
      "  'precision', 'predicted', average, warn_for)\n"
     ]
    }
   ],
   "source": [
    "from sklearn.neural_network import MLPClassifier\n",
    "from sklearn.metrics import classification_report\n",
    "\n",
    "clf = MLPClassifier(solver='lbfgs', alpha=1e-5,\n",
    "                    hidden_layer_sizes=(5,), random_state=1)\n",
    "clf.fit(C_trainData, C_trainDataTargets)\n",
    "preds = clf.predict(C_testData)\n",
    "print(classification_report(C_testDataTargets, preds))"
   ]
  },
  {
   "cell_type": "markdown",
   "metadata": {
    "colab_type": "text",
    "id": "hlSlLOCTJKze"
   },
   "source": [
    "Το μοντέλο **δεν λειτουργεί ** για δύο βασικούς λόγους:\n",
    "1. δεν έχει γίνει επαρκής προεπεξεργασία στα πρότυπα εισόδου\n",
    "2. οι υπερπαράμετροι του μοντέλου, όπως ο αριθμός των νευρώνων του κρυμμένου επιπέδου, δεν είναι βελτιστοποιημένοι. Σημειώστε ότι το MLP έχει ένα [πάρα πολύ μεγάλο πλήθος υπερπαραμέτρων](http://scikit-learn.org/stable/modules/generated/sklearn.neural_network.MLPClassifier.html)"
   ]
  },
  {
   "cell_type": "markdown",
   "metadata": {
    "colab_type": "text",
    "id": "_rNmB92OJKzf"
   },
   "source": [
    "# Προεπεξεργασία δεδομένων\n",
    "\n",
    "Αφού εισάγαμε τα δεδομένα και κάναμε μια πρώτη επισκόπηση και τα φέραμε στη σωστή μορφοποίηση, περνάμε στο επόμενο στάδιο, αυτό της προεπεξεργασίας (data preprocessing). Σε πολλά προβλήματα ταξινόμησης (και machine learning γενικότερα) η προεπεξεργασία είναι ένα πολύ σημαντικό κομμάτι (και συχνά πολύ χρονοβόρο) ολόκληρης της διαδικασίας το οποίο όμως συχνά έχει πολύ μεγάλο αντίκτυπο στην επίδοση του συστήματος. \n",
    "\n",
    "Τα βήματα προεπεξεργασίας στοχεύουν:\n",
    "* Στην αφαίρεση η αντικατάσταση απουσιάζουσων τιμών από το dataset\n",
    "* Στη μετατροπή των κατηγορικών μεταβλητών κατάλληλα ώστε να μπορούν να τους διαχειριστούν αλγόριθμοι μηχανικής μάθησης\n",
    "* Στην επιλογή ή εξαγωγή των κατάλληλων χαρακτηριστικών για το μοντέλο μας"
   ]
  },
  {
   "cell_type": "markdown",
   "metadata": {
    "colab_type": "text",
    "id": "BQOQYnhOotJ9"
   },
   "source": [
    "## Απουσιάζουσες τιμές χαρακτηριστικών\n",
    "\n",
    "Επειδή τα datasets δημιουργούνται από μετρήσεις ή αντικείμενα του πραγματικού κόσμου, δεν είναι σπάνιο να υπάρχουν απουσιάζουσες τιμές κάποιων χαρακτηριστικών σε έναν αριθμό δειγμάτων. Ωστόσο η είσοδος στους αλγόριθμους ΜΜ πρέπει να είναι πληρης. \n",
    "\n"
   ]
  },
  {
   "cell_type": "code",
   "execution_count": 5,
   "metadata": {
    "colab": {
     "base_uri": "https://localhost:8080/",
     "height": 156
    },
    "colab_type": "code",
    "executionInfo": {
     "elapsed": 955,
     "status": "ok",
     "timestamp": 1573481340537,
     "user": {
      "displayName": "Γιώργος Αλεξανδρίδης",
      "photoUrl": "https://lh3.googleusercontent.com/a-/AAuE7mAHgjbkpnVZpMkbe7ihkb3km8rd5_Hm0fOfRa_yBg=s64",
      "userId": "16422904839632337525"
     },
     "user_tz": -120
    },
    "id": "uaa8-2ciNv9c",
    "outputId": "7daf24d9-14d6-46c0-bda8-bbf0b10eddb4"
   },
   "outputs": [
    {
     "name": "stdout",
     "output_type": "stream",
     "text": [
      "A,B,C,D \n",
      " 1.0,2.0,3.0,4.0 \n",
      " 5.0,6.0,,8.0 \n",
      " 10.0,11.0,12.0,\n",
      "      A     B     C   D \n",
      "0   1.0   2.0   3.0  4.0\n",
      "1   5.0   6.0   NaN  8.0\n",
      "2  10.0  11.0  12.0  NaN\n"
     ]
    }
   ],
   "source": [
    "from io import StringIO\n",
    "\n",
    "csv_data = '''A,B,C,D \\n 1.0,2.0,3.0,4.0 \\n 5.0,6.0,,8.0 \\n 10.0,11.0,12.0,'''\n",
    "print(csv_data)\n",
    "\n",
    "df = pd.read_csv(StringIO(csv_data))\n",
    "print(df)"
   ]
  },
  {
   "cell_type": "markdown",
   "metadata": {
    "colab_type": "text",
    "id": "4CNKdT9HNu5r"
   },
   "source": [
    "Με την StringIO διαβάζουμε σε ένα dataframe από ένα string ως να ήταν CSV αρχείο στο δίσκο. Παρατηρούμε ότι στο CSV λείπουν δύο τιμές τις οποίες το dataframe αντιλαμβάνεται και αντικαθιστά με \"NaN\" (\"Not A Number\").\n",
    "\n",
    "Μια στρατηγική θα ήταν να αφαιρέσουμε τα δείγματα (γραμμές) που έχουν χαρακτηριστικά με απουσιάζουσες τιμές ή παρόμοια τα χαρακτηριστικά αν σε κάποια δείγματα απουσιάζουν\n",
    "\n"
   ]
  },
  {
   "cell_type": "code",
   "execution_count": 6,
   "metadata": {
    "colab": {
     "base_uri": "https://localhost:8080/",
     "height": 81
    },
    "colab_type": "code",
    "executionInfo": {
     "elapsed": 687,
     "status": "ok",
     "timestamp": 1573481399208,
     "user": {
      "displayName": "Γιώργος Αλεξανδρίδης",
      "photoUrl": "https://lh3.googleusercontent.com/a-/AAuE7mAHgjbkpnVZpMkbe7ihkb3km8rd5_Hm0fOfRa_yBg=s64",
      "userId": "16422904839632337525"
     },
     "user_tz": -120
    },
    "id": "Sjb8ROJ0QMRw",
    "outputId": "1ee57515-6a0f-4b20-e6c8-a058acb86f35"
   },
   "outputs": [
    {
     "data": {
      "text/html": [
       "<div>\n",
       "<style scoped>\n",
       "    .dataframe tbody tr th:only-of-type {\n",
       "        vertical-align: middle;\n",
       "    }\n",
       "\n",
       "    .dataframe tbody tr th {\n",
       "        vertical-align: top;\n",
       "    }\n",
       "\n",
       "    .dataframe thead th {\n",
       "        text-align: right;\n",
       "    }\n",
       "</style>\n",
       "<table border=\"1\" class=\"dataframe\">\n",
       "  <thead>\n",
       "    <tr style=\"text-align: right;\">\n",
       "      <th></th>\n",
       "      <th>A</th>\n",
       "      <th>B</th>\n",
       "      <th>C</th>\n",
       "      <th>D</th>\n",
       "    </tr>\n",
       "  </thead>\n",
       "  <tbody>\n",
       "    <tr>\n",
       "      <th>0</th>\n",
       "      <td>1.0</td>\n",
       "      <td>2.0</td>\n",
       "      <td>3.0</td>\n",
       "      <td>4.0</td>\n",
       "    </tr>\n",
       "  </tbody>\n",
       "</table>\n",
       "</div>"
      ],
      "text/plain": [
       "     A    B    C   D \n",
       "0  1.0  2.0  3.0  4.0"
      ]
     },
     "execution_count": 6,
     "metadata": {
      "tags": []
     },
     "output_type": "execute_result"
    }
   ],
   "source": [
    "df.dropna(axis=0) # κρατάμε μόνο τα δείγματα με αριθμητικές τιμές"
   ]
  },
  {
   "cell_type": "code",
   "execution_count": 7,
   "metadata": {
    "colab": {
     "base_uri": "https://localhost:8080/",
     "height": 143
    },
    "colab_type": "code",
    "executionInfo": {
     "elapsed": 1145,
     "status": "ok",
     "timestamp": 1573481419085,
     "user": {
      "displayName": "Γιώργος Αλεξανδρίδης",
      "photoUrl": "https://lh3.googleusercontent.com/a-/AAuE7mAHgjbkpnVZpMkbe7ihkb3km8rd5_Hm0fOfRa_yBg=s64",
      "userId": "16422904839632337525"
     },
     "user_tz": -120
    },
    "id": "Cft8yPHzRFNT",
    "outputId": "811ade35-ae7e-4e40-ff2a-530bba82f9e6"
   },
   "outputs": [
    {
     "data": {
      "text/html": [
       "<div>\n",
       "<style scoped>\n",
       "    .dataframe tbody tr th:only-of-type {\n",
       "        vertical-align: middle;\n",
       "    }\n",
       "\n",
       "    .dataframe tbody tr th {\n",
       "        vertical-align: top;\n",
       "    }\n",
       "\n",
       "    .dataframe thead th {\n",
       "        text-align: right;\n",
       "    }\n",
       "</style>\n",
       "<table border=\"1\" class=\"dataframe\">\n",
       "  <thead>\n",
       "    <tr style=\"text-align: right;\">\n",
       "      <th></th>\n",
       "      <th>A</th>\n",
       "      <th>B</th>\n",
       "    </tr>\n",
       "  </thead>\n",
       "  <tbody>\n",
       "    <tr>\n",
       "      <th>0</th>\n",
       "      <td>1.0</td>\n",
       "      <td>2.0</td>\n",
       "    </tr>\n",
       "    <tr>\n",
       "      <th>1</th>\n",
       "      <td>5.0</td>\n",
       "      <td>6.0</td>\n",
       "    </tr>\n",
       "    <tr>\n",
       "      <th>2</th>\n",
       "      <td>10.0</td>\n",
       "      <td>11.0</td>\n",
       "    </tr>\n",
       "  </tbody>\n",
       "</table>\n",
       "</div>"
      ],
      "text/plain": [
       "      A     B\n",
       "0   1.0   2.0\n",
       "1   5.0   6.0\n",
       "2  10.0  11.0"
      ]
     },
     "execution_count": 7,
     "metadata": {
      "tags": []
     },
     "output_type": "execute_result"
    }
   ],
   "source": [
    "df.dropna(axis=1) # κρατάμε μόνο τα χαρακτηριστικά με αριθμητικές τιμές"
   ]
  },
  {
   "cell_type": "markdown",
   "metadata": {
    "colab_type": "text",
    "id": "_UuI2_OFQK73"
   },
   "source": [
    "(η μέθοδος dropna έχει πολλά ακόμη [options](https://pandas.pydata.org/pandas-docs/stable/generated/pandas.DataFrame.dropna.html))\n",
    "\n",
    "Σημειώστε ότι αυτή μεθοδολογία είναι η μόνη μορφή προεπεξεργασίας που καλύτερο είναι να γίνει πριν διαχωρίσουμε σε train και test. Aν έχουμε κάνει το διαχωρισμό θα πρέπει ότι χαρακτηριστικό (στήλη) αφαιρέσουμε στο ένα, να το αφαιρέσουμε και στο άλλο.\n",
    "\n",
    "Μπορεί αυτή η προσέγγιση να είναι μοιάζει απλή, ωστόσο ειδικά αν απουσιάζουν πολλές τιμές, συνήθως δεν θέλουμε να θυσιάσουμε δεδομένα (δείγματα ) ούτε να αφαιρέσουμε χαρακτηριστικά που μπορεί να περιλαμβάνουν σημαντική πληροφορία για το διαχωρισμό των κλάσσεων.\n",
    "\n",
    "Πρακτικά συνήθως χρησιμοποιούμε το μετασχηματιστή “[Imputer](http://scikit-learn.org/stable/modules/impute.html)” του scikit learn που αντικαθιστά κάθε απουσιάζουσα τιμή χαρακτηριστικού με τη μέση τιμή (συνεχείς μεταβλητές) ή την πιο συχνή τιμή (κατηγορικές μεταβλητές) του χαρακτηριστικού στο train set. \n",
    "\n",
    "\n",
    "Αν θεωρήσουμε ότι το df είναι το training set τότε:\n"
   ]
  },
  {
   "cell_type": "code",
   "execution_count": 8,
   "metadata": {
    "colab": {
     "base_uri": "https://localhost:8080/",
     "height": 124
    },
    "colab_type": "code",
    "executionInfo": {
     "elapsed": 820,
     "status": "ok",
     "timestamp": 1573481551437,
     "user": {
      "displayName": "Γιώργος Αλεξανδρίδης",
      "photoUrl": "https://lh3.googleusercontent.com/a-/AAuE7mAHgjbkpnVZpMkbe7ihkb3km8rd5_Hm0fOfRa_yBg=s64",
      "userId": "16422904839632337525"
     },
     "user_tz": -120
    },
    "id": "TsO-2v-Tif-v",
    "outputId": "b9163a02-b475-444a-ae9c-6a461fd302f3"
   },
   "outputs": [
    {
     "name": "stderr",
     "output_type": "stream",
     "text": [
      "/usr/local/lib/python3.6/dist-packages/sklearn/utils/deprecation.py:66: DeprecationWarning: Class Imputer is deprecated; Imputer was deprecated in version 0.20 and will be removed in 0.22. Import impute.SimpleImputer from sklearn instead.\n",
      "  warnings.warn(msg, category=DeprecationWarning)\n"
     ]
    },
    {
     "data": {
      "text/plain": [
       "array([[ 1. ,  2. ,  3. ,  4. ],\n",
       "       [ 5. ,  6. ,  7.5,  8. ],\n",
       "       [10. , 11. , 12. ,  6. ]])"
      ]
     },
     "execution_count": 8,
     "metadata": {
      "tags": []
     },
     "output_type": "execute_result"
    }
   ],
   "source": [
    "from sklearn.preprocessing import Imputer\n",
    "imr = Imputer(missing_values='NaN', strategy='mean', axis=0)\n",
    "imr = imr.fit(df.values)\n",
    "imputed_data = imr.transform(df.values)\n",
    "imputed_data"
   ]
  },
  {
   "cell_type": "markdown",
   "metadata": {
    "colab_type": "text",
    "id": "svtRRwr7jt_N"
   },
   "source": [
    "Αν τώρα έχουμε ένα test set με missing values οι τιμές θα αντικατασταθούν με τις μέσες / πιο συχνές τιμές που έχουν υπολογιστεί στο **train set**."
   ]
  },
  {
   "cell_type": "code",
   "execution_count": 9,
   "metadata": {
    "colab": {
     "base_uri": "https://localhost:8080/",
     "height": 104
    },
    "colab_type": "code",
    "executionInfo": {
     "elapsed": 767,
     "status": "ok",
     "timestamp": 1573481566909,
     "user": {
      "displayName": "Γιώργος Αλεξανδρίδης",
      "photoUrl": "https://lh3.googleusercontent.com/a-/AAuE7mAHgjbkpnVZpMkbe7ihkb3km8rd5_Hm0fOfRa_yBg=s64",
      "userId": "16422904839632337525"
     },
     "user_tz": -120
    },
    "id": "QhYZwc11kK2e",
    "outputId": "14603f1f-555f-44e6-aa8e-5e18d908e004"
   },
   "outputs": [
    {
     "name": "stdout",
     "output_type": "stream",
     "text": [
      "     A    B     C   D \n",
      "0  3.0  4.0   NaN  1.0\n",
      "1  5.0  2.0  10.0  6.0\n"
     ]
    },
    {
     "data": {
      "text/plain": [
       "array([[ 3. ,  4. ,  7.5,  1. ],\n",
       "       [ 5. ,  2. , 10. ,  6. ]])"
      ]
     },
     "execution_count": 9,
     "metadata": {
      "tags": []
     },
     "output_type": "execute_result"
    }
   ],
   "source": [
    "csv_data = '''A,B,C,D \\n 3.0,4.0,,1.0 \\n 5.0,2.0,10.0,6.0'''\n",
    "\n",
    "test_df = pd.read_csv(StringIO(csv_data))\n",
    "print(test_df)\n",
    "imputed_test_data = imr.transform(test_df.values)\n",
    "imputed_test_data"
   ]
  },
  {
   "cell_type": "markdown",
   "metadata": {
    "colab_type": "text",
    "id": "eI4ctBONifGA"
   },
   "source": [
    "Ο μετασχηματισμός με Imputer γίνεται στην απόλυτη αρχή της προεπεξεργασίας."
   ]
  },
  {
   "cell_type": "markdown",
   "metadata": {
    "colab_type": "text",
    "id": "OMR7d5XLlbWR"
   },
   "source": [
    "## Μετασχηματικές και Εκτιμητές στο scikit-learn\n",
    "\n",
    "Η κλάση Imputer που είδαμε προηγουμένως ανήκει στο scikit στη κατηγορία των λεγόμενων μετασχηματιστών (**transformers**). Οι μετασχηματιστές έχουν δύο βασικές μεθόδους, την fit και την transform. Με την fit μαθαίνουν κάποιες παραμέτρους (πχ προηγουμένως τη μέση τιμή) με βάση τα δεδομένα train και με την transform μπορούν να μετασχηματίσουν τα δεδομένα (train ή test) βάσει των παραμέτρων που έχουν μάθει.\n",
    "![alt text](https://i.imgur.com/uqtJyI8.jpg)\n",
    "\n",
    "Η δεύτερη μεγάλη κλάση του scikit learn είναι οι εκτιμητές (**estimators**). Αυτό που τους διαφοροποιεί είναι ότι ενώ έχουν τις δικές τους μεθόδους fit και σε κάποιες περιπτώσεις και transform, έχουν επιπλέον τη μέθοδο predict, που κάνει τις προβλέψεις πάνω στα δεδομένα του test set. Οι ταξινομητές στην επιβλεπόμενη μάθηση είναι λοιπόν όλοι τους εκτιμητές, αφόσον κάνουν fit πάνω στα δεδομένα train και predict στα δεδομένα test.\n",
    "\n",
    "![alt text](https://i.imgur.com/jhExL9i.jpg)\n",
    "\n",
    "Θα δούμε στη συνέχεια ότι μπορούμε να σχηματίζουμε αλυσίδες πολλών διαδοχικών μετασχηματιστών που καταλήγουν σε έναν εκτιμητή, τα λεγόμενα pipelines."
   ]
  },
  {
   "cell_type": "markdown",
   "metadata": {
    "colab_type": "text",
    "id": "2UwCejs5JKzg"
   },
   "source": [
    "## Αριθμητικά και κατηγορικά χαρακτηριστικά\n",
    "Σε κάποιες περιπτώσεις τα datasets περιέχουν εκτός από αριθμητικά και κατηγορικά χαρακτηριστικά στη μορφή string. Για παράδειγμα:"
   ]
  },
  {
   "cell_type": "code",
   "execution_count": 10,
   "metadata": {
    "colab": {
     "base_uri": "https://localhost:8080/",
     "height": 69
    },
    "colab_type": "code",
    "executionInfo": {
     "elapsed": 663,
     "status": "ok",
     "timestamp": 1573481664031,
     "user": {
      "displayName": "Γιώργος Αλεξανδρίδης",
      "photoUrl": "https://lh3.googleusercontent.com/a-/AAuE7mAHgjbkpnVZpMkbe7ihkb3km8rd5_Hm0fOfRa_yBg=s64",
      "userId": "16422904839632337525"
     },
     "user_tz": -120
    },
    "id": "My-3PGZqJKzi",
    "outputId": "9f676afa-3eb7-48e4-cf0f-4b839cd6740d"
   },
   "outputs": [
    {
     "name": "stdout",
     "output_type": "stream",
     "text": [
      "[['John' '25' '63.2' 'UK']\n",
      " ['Maria' '62' '54.3' 'US']\n",
      " ['Nick' '18' '70.3' 'US']]\n"
     ]
    }
   ],
   "source": [
    "import numpy as np\n",
    "# Όνομα Ηλικία Βάρος Κάτοικος\n",
    "MixedType = np.array([\n",
    "    ['John', 25, 63.2, 'UK'],\n",
    "    ['Maria', 62, 54.3, 'US'],\n",
    "    ['Nick', 18, 70.3, 'US'],\n",
    "])\n",
    "print(MixedType)"
   ]
  },
  {
   "cell_type": "markdown",
   "metadata": {
    "colab_type": "text",
    "id": "c8qZnadWJKzp"
   },
   "source": [
    "Για να μπορέσει ο αλγόριθμος να λειτουργήσει, θα μπορούσε κανείς να σκεφτεί να αντικαταστήσει κάθε διαφορετική τιμή κάθε κατηγορικού χαρακτηριστικού με μια αριθμητική τιμή. Στο προηγούμενο παράδειγμα να θέσει John=0, Maria=1, Nick=2 και Europe=0, US=1. Αυτό όμως είναι λάθος γιατί θεωρεί ότι το σύνολο τιμών των δύο κατηγορικών μεταβλητών είναι διατεταγμένο (ordered) κάτι που προφανώς δεν ισχύει και θα οδηγήσει τον ταξινομητή σε λάθη.\n",
    "\n",
    "Μια λύση είναι να μετατρέψουμε κάθε κατηγορικό χαρακτηριστικό με m τιμές σε m binary χαρακτηριστικά από τα οποία μόνο ένα είναι ενεργό κάθε φορά:"
   ]
  },
  {
   "cell_type": "code",
   "execution_count": 11,
   "metadata": {
    "colab": {
     "base_uri": "https://localhost:8080/",
     "height": 208
    },
    "colab_type": "code",
    "executionInfo": {
     "elapsed": 788,
     "status": "ok",
     "timestamp": 1573481764676,
     "user": {
      "displayName": "Γιώργος Αλεξανδρίδης",
      "photoUrl": "https://lh3.googleusercontent.com/a-/AAuE7mAHgjbkpnVZpMkbe7ihkb3km8rd5_Hm0fOfRa_yBg=s64",
      "userId": "16422904839632337525"
     },
     "user_tz": -120
    },
    "id": "JC_DDUZ9JKzr",
    "outputId": "c311bf85-14ac-4538-8568-bdc0287ee2e4"
   },
   "outputs": [
    {
     "name": "stdout",
     "output_type": "stream",
     "text": [
      "       0   1     2   3\n",
      "0   John  25  63.2  UK\n",
      "1  Maria  62  54.3  US\n",
      "2   Nick  18  70.3  US\n",
      "    1     2  0_John  0_Maria  0_Nick  3_UK  3_US\n",
      "0  25  63.2       1        0       0     1     0\n",
      "1  62  54.3       0        1       0     0     1\n",
      "2  18  70.3       0        0       1     0     1\n",
      "[[25.  63.2  1.   0.   0.   1.   0. ]\n",
      " [62.  54.3  0.   1.   0.   0.   1. ]\n",
      " [18.  70.3  0.   0.   1.   0.   1. ]]\n"
     ]
    }
   ],
   "source": [
    "# μετατρέπουμε σε dataframe και τυπώνουμε\n",
    "mtdf = pd.DataFrame(MixedType)\n",
    "print(mtdf)\n",
    "# οι κολόνες 1 και 4 έχουν κατηγορικές μεταβλητές. \n",
    "# Με την \"get_dummies\" κάνουμε τη μετατροπή σε binary χαρακτηριστικά που περιγράψαμε\n",
    "dummies = pd.get_dummies(mtdf, columns=[0,3])\n",
    "print(dummies)\n",
    "# Μετατρέπουμε σε αριθμητικές τιμές (pd.to_numeric) και σε numpy array (.values)\n",
    "np_dummies = dummies.apply(pd.to_numeric).values\n",
    "print(np_dummies)"
   ]
  },
  {
   "cell_type": "markdown",
   "metadata": {
    "colab_type": "text",
    "id": "93R8pvUiJKzv"
   },
   "source": [
    "Θα πρέπει εδώ να σημειώσουμε την ειδική περίπτωση όπου ένα αριθμητικό χαρακτηριστικό είναι και αυτό κατηγορικό. Αν κάποια χαρακτηριστικά είναι αριθμητικά και αναφέρονται ως κατηγορικά, σημαίνει ότι έχουν ένα ορισμένο και πεπερασμένο σύνολο τιμών. Διακρίνουμε δύο περιπτώσεις: αν το σύνολο τιμών είναι διατεταγμένο (πχ size: \"10\" \"20\" \"30\") δεν χρειάζεται μετατροπή σε δυαδικά χαρακτηριστικά. Αν όμως το σύνολο τιμών είναι αριθμητικό αλλά μη διατεταγμένο, τότε χρειάζεται. Παράδειγμα person: \"1\" \"2\" \"3\", όπου 1 σημαίνει \"γυναίκα\", 2 \"άνδρας\" και 3 \"παιδί\".\n",
    "\n",
    "Τέλος, τα ονομαστικά χαρακτηριστικά μπορούν να είναι και αυτά διατεταγμένα πχ οι τιμές \"(M)edium\", \"(L)arge\", \"E(X)tra Large\": \n"
   ]
  },
  {
   "cell_type": "code",
   "execution_count": 12,
   "metadata": {
    "colab": {
     "base_uri": "https://localhost:8080/",
     "height": 143
    },
    "colab_type": "code",
    "executionInfo": {
     "elapsed": 778,
     "status": "ok",
     "timestamp": 1573481820607,
     "user": {
      "displayName": "Γιώργος Αλεξανδρίδης",
      "photoUrl": "https://lh3.googleusercontent.com/a-/AAuE7mAHgjbkpnVZpMkbe7ihkb3km8rd5_Hm0fOfRa_yBg=s64",
      "userId": "16422904839632337525"
     },
     "user_tz": -120
    },
    "id": "3-isPnb2RJT4",
    "outputId": "1c1debca-cb2c-4f03-c2e4-e2bf7862e12a"
   },
   "outputs": [
    {
     "data": {
      "text/html": [
       "<div>\n",
       "<style scoped>\n",
       "    .dataframe tbody tr th:only-of-type {\n",
       "        vertical-align: middle;\n",
       "    }\n",
       "\n",
       "    .dataframe tbody tr th {\n",
       "        vertical-align: top;\n",
       "    }\n",
       "\n",
       "    .dataframe thead th {\n",
       "        text-align: right;\n",
       "    }\n",
       "</style>\n",
       "<table border=\"1\" class=\"dataframe\">\n",
       "  <thead>\n",
       "    <tr style=\"text-align: right;\">\n",
       "      <th></th>\n",
       "      <th>color</th>\n",
       "      <th>size</th>\n",
       "      <th>price</th>\n",
       "      <th>classlabel</th>\n",
       "    </tr>\n",
       "  </thead>\n",
       "  <tbody>\n",
       "    <tr>\n",
       "      <th>0</th>\n",
       "      <td>green</td>\n",
       "      <td>M</td>\n",
       "      <td>10.1</td>\n",
       "      <td>class1</td>\n",
       "    </tr>\n",
       "    <tr>\n",
       "      <th>1</th>\n",
       "      <td>red</td>\n",
       "      <td>L</td>\n",
       "      <td>13.5</td>\n",
       "      <td>class2</td>\n",
       "    </tr>\n",
       "    <tr>\n",
       "      <th>2</th>\n",
       "      <td>blue</td>\n",
       "      <td>XL</td>\n",
       "      <td>15.3</td>\n",
       "      <td>class1</td>\n",
       "    </tr>\n",
       "  </tbody>\n",
       "</table>\n",
       "</div>"
      ],
      "text/plain": [
       "   color size  price classlabel\n",
       "0  green    M   10.1     class1\n",
       "1    red    L   13.5     class2\n",
       "2   blue   XL   15.3     class1"
      ]
     },
     "execution_count": 12,
     "metadata": {
      "tags": []
     },
     "output_type": "execute_result"
    }
   ],
   "source": [
    "cdf = pd.DataFrame([\n",
    "['green', 'M', 10.1, 'class1'],\n",
    "['red', 'L', 13.5, 'class2'],\n",
    "['blue', 'XL', 15.3, 'class1']])\n",
    "cdf.columns = ['color', 'size', 'price', 'classlabel']\n",
    "cdf"
   ]
  },
  {
   "cell_type": "markdown",
   "metadata": {
    "colab_type": "text",
    "id": "yA7omPbzRoze"
   },
   "source": [
    "Σε αυτήν την περίπτωση μπορούμε να αποφύγουμε τη μετατροπή σε δυαδικά χαρακτηριστικά, αλλά θα πρέπει να ορίσουμε ρητά μια αντιστοίχιση που να σέβεται την διάταξη των κατηγορικών τιμών:"
   ]
  },
  {
   "cell_type": "code",
   "execution_count": 13,
   "metadata": {
    "colab": {
     "base_uri": "https://localhost:8080/",
     "height": 143
    },
    "colab_type": "code",
    "executionInfo": {
     "elapsed": 618,
     "status": "ok",
     "timestamp": 1573481899542,
     "user": {
      "displayName": "Γιώργος Αλεξανδρίδης",
      "photoUrl": "https://lh3.googleusercontent.com/a-/AAuE7mAHgjbkpnVZpMkbe7ihkb3km8rd5_Hm0fOfRa_yBg=s64",
      "userId": "16422904839632337525"
     },
     "user_tz": -120
    },
    "id": "_-GtXjEPR9N-",
    "outputId": "a6094786-c6fd-4822-d1be-c0e81ea4a986"
   },
   "outputs": [
    {
     "data": {
      "text/html": [
       "<div>\n",
       "<style scoped>\n",
       "    .dataframe tbody tr th:only-of-type {\n",
       "        vertical-align: middle;\n",
       "    }\n",
       "\n",
       "    .dataframe tbody tr th {\n",
       "        vertical-align: top;\n",
       "    }\n",
       "\n",
       "    .dataframe thead th {\n",
       "        text-align: right;\n",
       "    }\n",
       "</style>\n",
       "<table border=\"1\" class=\"dataframe\">\n",
       "  <thead>\n",
       "    <tr style=\"text-align: right;\">\n",
       "      <th></th>\n",
       "      <th>color</th>\n",
       "      <th>size</th>\n",
       "      <th>price</th>\n",
       "      <th>classlabel</th>\n",
       "    </tr>\n",
       "  </thead>\n",
       "  <tbody>\n",
       "    <tr>\n",
       "      <th>0</th>\n",
       "      <td>green</td>\n",
       "      <td>1</td>\n",
       "      <td>10.1</td>\n",
       "      <td>class1</td>\n",
       "    </tr>\n",
       "    <tr>\n",
       "      <th>1</th>\n",
       "      <td>red</td>\n",
       "      <td>2</td>\n",
       "      <td>13.5</td>\n",
       "      <td>class2</td>\n",
       "    </tr>\n",
       "    <tr>\n",
       "      <th>2</th>\n",
       "      <td>blue</td>\n",
       "      <td>3</td>\n",
       "      <td>15.3</td>\n",
       "      <td>class1</td>\n",
       "    </tr>\n",
       "  </tbody>\n",
       "</table>\n",
       "</div>"
      ],
      "text/plain": [
       "   color  size  price classlabel\n",
       "0  green     1   10.1     class1\n",
       "1    red     2   13.5     class2\n",
       "2   blue     3   15.3     class1"
      ]
     },
     "execution_count": 13,
     "metadata": {
      "tags": []
     },
     "output_type": "execute_result"
    }
   ],
   "source": [
    "size_mapping = {'XL': 3, 'L': 2, 'M': 1}\n",
    "cdf['size'] = cdf['size'].map(size_mapping)\n",
    "cdf"
   ]
  },
  {
   "cell_type": "markdown",
   "metadata": {
    "colab_type": "text",
    "id": "mT9vWqt-iKiG"
   },
   "source": [
    "Οι μετατροπές χαρακτηριστικών πρέπει να είναι οι ίδιες στο train και test set και γίνονται μετά τη διαχείριση τιμών που απουσιάζουν."
   ]
  },
  {
   "cell_type": "markdown",
   "metadata": {
    "colab_type": "text",
    "id": "469akvZYS-1v"
   },
   "source": [
    "## Κωδικοποίηση των ετικετών των κατηγοριών\n",
    "\n",
    "Πολλές βιβλιοθήκες μηχανικής μάθησης απαιτούν οι ετικέτες κλάσης να κωδικοποιούνται ως ακέραιοι αριθμοι. Αν και οι περισσότεροι εκτιμητές για ταξινόμηση στο scikit-learn μετατρέπουν εσωτερικά τις \n",
    "ετικέτες σε ακέραιους αριθμούς, θεωρείται καλή πρακτική η παροχή ετικετών κλάσης ως ακέραιους\n",
    "για να αποφευχθούν τυχόν  δυσλειτουργίες. Για την κωδικοποίηση των ετικετών κλάσης, μπορούμε να χρησιμοποιήσουμε μια προσέγγιση παρόμοια με την αντιστοίχιση των διατεταγμένων χαρακτηριστικών που κάναμε προηγουμένως. Οι ετικέτες κλάσης δεν είναι διατεταγμένες και άρα δεν έχει σημασία ο ακέραιος αριθμός που εκχωρούμε σε μια συγκεκριμένη ετικέτα, αρκεί να είναι μοναδικός. Έτσι, μπορούμε απλά να απαριθμήσουμε το ετικέτες κλάσης, ξεκινώντας από το 0:"
   ]
  },
  {
   "cell_type": "code",
   "execution_count": 14,
   "metadata": {
    "colab": {
     "base_uri": "https://localhost:8080/",
     "height": 143
    },
    "colab_type": "code",
    "executionInfo": {
     "elapsed": 673,
     "status": "ok",
     "timestamp": 1573481965904,
     "user": {
      "displayName": "Γιώργος Αλεξανδρίδης",
      "photoUrl": "https://lh3.googleusercontent.com/a-/AAuE7mAHgjbkpnVZpMkbe7ihkb3km8rd5_Hm0fOfRa_yBg=s64",
      "userId": "16422904839632337525"
     },
     "user_tz": -120
    },
    "id": "k1TQyzAHUk4b",
    "outputId": "0d83573f-aed5-4da4-93b8-8b89ecb48b7a"
   },
   "outputs": [
    {
     "data": {
      "text/html": [
       "<div>\n",
       "<style scoped>\n",
       "    .dataframe tbody tr th:only-of-type {\n",
       "        vertical-align: middle;\n",
       "    }\n",
       "\n",
       "    .dataframe tbody tr th {\n",
       "        vertical-align: top;\n",
       "    }\n",
       "\n",
       "    .dataframe thead th {\n",
       "        text-align: right;\n",
       "    }\n",
       "</style>\n",
       "<table border=\"1\" class=\"dataframe\">\n",
       "  <thead>\n",
       "    <tr style=\"text-align: right;\">\n",
       "      <th></th>\n",
       "      <th>color</th>\n",
       "      <th>size</th>\n",
       "      <th>price</th>\n",
       "      <th>classlabel</th>\n",
       "    </tr>\n",
       "  </thead>\n",
       "  <tbody>\n",
       "    <tr>\n",
       "      <th>0</th>\n",
       "      <td>green</td>\n",
       "      <td>1</td>\n",
       "      <td>10.1</td>\n",
       "      <td>0</td>\n",
       "    </tr>\n",
       "    <tr>\n",
       "      <th>1</th>\n",
       "      <td>red</td>\n",
       "      <td>2</td>\n",
       "      <td>13.5</td>\n",
       "      <td>1</td>\n",
       "    </tr>\n",
       "    <tr>\n",
       "      <th>2</th>\n",
       "      <td>blue</td>\n",
       "      <td>3</td>\n",
       "      <td>15.3</td>\n",
       "      <td>0</td>\n",
       "    </tr>\n",
       "  </tbody>\n",
       "</table>\n",
       "</div>"
      ],
      "text/plain": [
       "   color  size  price  classlabel\n",
       "0  green     1   10.1           0\n",
       "1    red     2   13.5           1\n",
       "2   blue     3   15.3           0"
      ]
     },
     "execution_count": 14,
     "metadata": {
      "tags": []
     },
     "output_type": "execute_result"
    }
   ],
   "source": [
    "# βρίσκουμε τις μοναδικές ετικέτες\n",
    "class_mapping = {label:idx for idx,label in enumerate(np.unique(cdf['classlabel']))}\n",
    "class_mapping\n",
    "# και κάνουμε την μετατροπή\n",
    "cdf['classlabel'] = cdf['classlabel'].map(class_mapping)  \n",
    "cdf"
   ]
  },
  {
   "cell_type": "markdown",
   "metadata": {
    "colab_type": "text",
    "id": "s8T3pG4bJKzw"
   },
   "source": [
    "## Η κατάρα της διαστατικότητας (Curse of dimensionality)\n",
    "\n",
    "Μια πολύ σημαντική παράμετρος για την απόδοση των ταξινομητών είναι η διασταστικότητα των δεδομένων, ιδιαίτερα σε σχέση με τον διαθέσιμο αριθμό δειγμάτων. Γενικά και ανεξάρτητα από το μοντέλο του ταξινομητή, η απόδοση αυξάνεται όσο αυξάνεται το πλήθος και η ποιότητα των δεδομένων και όσο μειώνεται η διαστατικότητα. Αντίστροφα, τα προβλήματα δυσκολεύουν όσο η διαστατικότητα αυξάνεται και τα δείγματα δεν επαρκούν για να καλύψουν όλες τις κατηγορίες του προβλήματος. Αναφερόμαστε στο πρόβλημα αυτό ως την κατάρα της διαστατικότητας (the curse of dimensionality): όσο αυξάνει η διαστατικότητα, τόσο τα διαθέσιμα δεδομένα γίνονται αραιά (sparse). \n",
    "\n",
    "Ας πούμε ότι έχουμε n-διαστάσεων κατηγορικές μεταβλητές, με δυαδικές τιμές $x_n = 0$ ή $x_n = 1$, που περιγράφουν πχ. εικόνες. Θέλουμε να μετρήσουμε πόσα αντιπροσωπευτικά παραδείγματα πρέπει να έχουμε για να καλύψουμε όλες τις κατηγορίες. Αν n=1, θέλουμε 2 παραδείγματα, αν n=2 θέλουμε 4 κ.ο.κ. δηλαδή θέλουμε $n^2$ παραδείγματα ανάλογα την διάσταση. Εάν όμως έχουμε πάνω από 2 κατηγορίες σε κάθε μεταβλητή, δηλαδή $x_n = r, r >2$, τότε αντίστοιχα έχουμε $n^r$ δυνατές *περιοχές* που χωρίζουμε τον υπερχώρο.\n",
    "\n",
    "Στο παράδειγμα μας οι μεταβλητές έχουν διάσταση n = 586 με πραγματικές τιμές και μόνο 645 δείγματα, επομένως καταλαβαίνει κανείς ότι χωρίς μείωση της διάστασης των μεταβλητών εισόδου με κάποιον τρόπο, η απόδοση όποιου ταξινομητή και να χρησιμοποιήσουμε θα υπονομεύεται από τον μικρό αριθμό παραδειγμάτων, δεδομένης της διαστατικότητας.\n",
    "\n",
    "\n",
    "![alt text](https://www.kdnuggets.com/wp-content/uploads/curse-dimensionality-2.png)\n",
    "\n",
    "\n",
    "Σε γενικές γραμμές λοιπόν οι πολύ μεγάλες διαστάσεις του χώρου εισόδου (χαρακτηριστικών) κάνουν δυσκολότερο για τον ταξινομητή να υπολογίσει το σύνορο απόφασης μεταξύ των κλάσεων και αυξάνουν τις απαιτήσεις χώρου και χρόνου εκπαίδευσης ή/και ταξινόμησης. \n",
    "\n",
    "Για να μειωθεί η διαστατικότητα των δεδομένων χρησιμοποιούμε τεχνικές **μείωσης διαστατικότητας (dimensionality reduction)**. To dimensionality reduction γίνεται με τεχνικές επιλογής χαρακτηριστικών (feature selection) όπου ουσιαστικά αφαιρούμε κάποια χαρακτηριστικά με βάση ένα κριτήριο χωρίς μετασχηματισμό των τιμών τους και τεχνικές εξαγωγής χαρακτηριστικών (feature extraction), όπου μετασχηματίζουμε τις τιμές των χαρακτηριστικών σε νέες (εξάγουμε δηλαδή νέα χαρακτηριστικά) αλλά σε ένα χώρο μικρότερων διαστάσεων."
   ]
  },
  {
   "cell_type": "markdown",
   "metadata": {
    "colab_type": "text",
    "id": "ALlm5XPDJKzx"
   },
   "source": [
    "## Μείωση διαστάσεων εισόδου με επιλογή χαρακτηριστικών\n",
    "\n",
    "Για την επιλογή χαρακτηριστικών υπάρχουν πολλές διαφορετικές τεχνικές (πχ [εδώ](http://scikit-learn.org/stable/modules/classes.html#module-sklearn.feature_selection) οι επιλογές του scikit-learn). Μια απλή τεχνική επιλογής χαρακτηριστικών είναι το ελάχιστο κατώφλι της διακύμανσης (Variance threshold). Σε γενικές γραμμές αν η διακύμανση ενός χαρακτηριστικού εισόδου είναι πολύ χαμηλή, δεν μπορεί να προσφέρει σημαντικά στη διαχωριστική ικανότητα του ταξινομητή. Ειδικά στην περίπτωση που η διακύμανση είναι 0, δηλαδή το χαρακτηριστικό εχει σταθερή τιμή για όλα τα δείγματα εκπαίδευσης, δεν χρησιμεύει καθόλου στον ταξινομητή για να αποφασίσει αν ένα δείγμα ανήκει σε μία κλάση ή σε μια άλλη και επιπλέον μπορεί να δυσκολέψει άλλες διαδικασίες της προεπεξεργασίας όπως η κανονικοποίηση των χαρακτηριστικών. \n",
    "\n",
    "Μπορούμε να χρησιμοποιήσουμε τη συνάρτηση VarianceThreshold για να αφαιρέσουμε τα  χαρκτηριστικά στο training set που έχουν μηδενική διακύμανση (default) ή πολύ χαμηλή. Πρέπει επίσης να πάρουμε μια μάσκα (index) των χαρακτηριστικών που επιλέγουμε, ώστε να την εφαρμόσουμε και στα δεδομένα train ώστε να έχουν τις ίδιες διαστάσεις. Αυτό δεν σπάει τον κανόνα ότι δεν χρησιμοποιούμε τα δεδομένα test γιατί μπορούμε να θεωρήσουμε ότι ο ταξινομητής απλώς αγνοεί τις εισόδους που δεν περιλαμβάνονται στη μάσκα.  Ας δούμε τη VarianceThreshold σε ένα toy dataset:"
   ]
  },
  {
   "cell_type": "code",
   "execution_count": 15,
   "metadata": {
    "colab": {
     "base_uri": "https://localhost:8080/",
     "height": 243
    },
    "colab_type": "code",
    "executionInfo": {
     "elapsed": 982,
     "status": "ok",
     "timestamp": 1573482284057,
     "user": {
      "displayName": "Γιώργος Αλεξανδρίδης",
      "photoUrl": "https://lh3.googleusercontent.com/a-/AAuE7mAHgjbkpnVZpMkbe7ihkb3km8rd5_Hm0fOfRa_yBg=s64",
      "userId": "16422904839632337525"
     },
     "user_tz": -120
    },
    "id": "nV_smzezJKzz",
    "outputId": "b67f223a-a257-4e6e-9e91-ab61d09efb40",
    "scrolled": true
   },
   "outputs": [
    {
     "name": "stdout",
     "output_type": "stream",
     "text": [
      "[[2 2 0 3]\n",
      " [3 1 4 3]\n",
      " [0 1 1 3]]\n",
      "[[2 2 0]\n",
      " [3 1 4]\n",
      " [0 1 1]]\n",
      "[ True  True  True False]\n",
      "[[1 2 5 3]\n",
      " [3 4 0 3]\n",
      " [0 3 2 0]]\n",
      "[[1 2 5]\n",
      " [3 4 0]\n",
      " [0 3 2]]\n"
     ]
    }
   ],
   "source": [
    "from sklearn.feature_selection import VarianceThreshold\n",
    "\n",
    "train = np.array([[2, 2, 0, 3], [3, 1, 4, 3], [0, 1, 1, 3]])\n",
    "print(train)\n",
    "# αρχικοποιούμε έναν selector\n",
    "selector = VarianceThreshold()\n",
    "# όπως κάναμε και με τους ταξινομητές τον κάνουμε fit στα δεδομένα εκπαίδευσης\n",
    "train_reduced = selector.fit_transform(train)\n",
    "print(train_reduced)\n",
    "# φτιάχνουμε μια μάσκα που μας λέει αν ο selector κρατάει ένα χαρακτηριστικό ή όχι\n",
    "mask = selector.get_support()\n",
    "print(mask)\n",
    "\n",
    "test = np.array([[1, 2, 5, 3], [3, 4, 0, 3], [0, 3, 2, 0]])\n",
    "print(test)\n",
    "# καθώς δεν ξέρουμε τι θα συμβεί στο test set μπορεί η υπόθεση της μηδενικής διακύμανσης του 4ου χαρακτηριστικού να μην είναι απόλυτα σωστή. Ωστόσο θα είναι πρακτικά αμελητέα.\n",
    "\n",
    "#test_reduced = test[:,mask]\n",
    "\n",
    "test_reduced = selector.transform(test)\n",
    "print(test_reduced)"
   ]
  },
  {
   "cell_type": "markdown",
   "metadata": {
    "colab_type": "text",
    "id": "Xn_80U2-JKz4"
   },
   "source": [
    "Ενώ οι σταθερές τιμές πρέπει να αφαιρούνται κατά κανόνα πάντα, μπορεί κανείς να δοκιμάσει με μεγαλύτερα κατώφλια από μηδέν, αφαιρώντας και χαρακτηριστικά που έχουν κάποια διακύμανση και να αξιολογεί την επίδραση που έχει η περαιτέρω μείωση των διαστάσεων στην επίδοση του ταξινομητή. Για να καταλάβουμε τι τιμές μπορούμε να δοκιμάζουμε στο κατώφλι πρέπει να δούμε τη διακύμανση όλων των μεταβλητών: \n"
   ]
  },
  {
   "cell_type": "code",
   "execution_count": 16,
   "metadata": {
    "colab": {
     "base_uri": "https://localhost:8080/",
     "height": 34
    },
    "colab_type": "code",
    "executionInfo": {
     "elapsed": 892,
     "status": "ok",
     "timestamp": 1573482368927,
     "user": {
      "displayName": "Γιώργος Αλεξανδρίδης",
      "photoUrl": "https://lh3.googleusercontent.com/a-/AAuE7mAHgjbkpnVZpMkbe7ihkb3km8rd5_Hm0fOfRa_yBg=s64",
      "userId": "16422904839632337525"
     },
     "user_tz": -120
    },
    "id": "YvvcPPhy6ueR",
    "outputId": "ef09aa92-40bb-45bd-ed58-828a36b7c8c8"
   },
   "outputs": [
    {
     "name": "stdout",
     "output_type": "stream",
     "text": [
      "[1.55555556 0.22222222 2.88888889 0.        ]\n"
     ]
    }
   ],
   "source": [
    "X = [[2, 2, 0, 3], [3, 1, 4, 3], [0, 1, 1, 3]]\n",
    "Xvar = np.var(X, axis=0)\n",
    "print(Xvar)"
   ]
  },
  {
   "cell_type": "markdown",
   "metadata": {
    "colab_type": "text",
    "id": "Oyb5eNNq6tuj"
   },
   "source": [
    "\n",
    "Με αυτό τον τρόπο αφαιρούμε τις κολόνες με 0 variance (σταθερές) από το αρχικό dataset αναγνώρισης αντικειμένων μας:"
   ]
  },
  {
   "cell_type": "code",
   "execution_count": 18,
   "metadata": {
    "colab": {
     "base_uri": "https://localhost:8080/",
     "height": 52
    },
    "colab_type": "code",
    "executionInfo": {
     "elapsed": 713,
     "status": "ok",
     "timestamp": 1573482499031,
     "user": {
      "displayName": "Γιώργος Αλεξανδρίδης",
      "photoUrl": "https://lh3.googleusercontent.com/a-/AAuE7mAHgjbkpnVZpMkbe7ihkb3km8rd5_Hm0fOfRa_yBg=s64",
      "userId": "16422904839632337525"
     },
     "user_tz": -120
    },
    "id": "2MfXXfEHJKz_",
    "outputId": "78b33651-d336-4420-d80f-656463574595"
   },
   "outputs": [
    {
     "name": "stdout",
     "output_type": "stream",
     "text": [
      "(645, 326)\n",
      "(159, 326)\n"
     ]
    }
   ],
   "source": [
    "selector = VarianceThreshold(threshold=0.5)\n",
    "train_reduced = selector.fit_transform(C_trainData)\n",
    "mask = selector.get_support()\n",
    "test_reduced = C_testData[:,mask]\n",
    "\n",
    "print(train_reduced.shape)\n",
    "print(test_reduced.shape)\n",
    "# διαπιστώνουμε σημαντική μείωση του αριθμού χαρακτηριστικών από 586 που ήταν αρχικά"
   ]
  },
  {
   "cell_type": "markdown",
   "metadata": {
    "colab_type": "text",
    "id": "9UcyrQ6NJK0C"
   },
   "source": [
    "## Κανονικοποίηση χαρακτηριστικών\n",
    "\n",
    "Μετά την επιλογή χαρακτηριστικών η επόμενη τεχνική προεπεξεργασίας που μπορούμε να κάνουμε είναι η κανονικοποίηση των χαρακτηριστικών. Χαρακτηριστικά με πολύ μεγάλες διαφορές στις απόλυτες τιμές τους μπορούν να προκαλέσουν προβλήματα στην εκπαίδευση και να δώσουν ταξινομητές με μη βέλτιστη απόδοση. Για παράδειγμα, ένα χαρακτηριστικό με πολύ μεγάλες τιμές θα έχει μεγαλύτερη επίδραση στον υπολογισμό της απόστασης στον kNN από τι ένα με μικρές τιμές, χωρίς αυτό να σημαίνει απαραίτητα ότι είναι περισσότερο καθοριστικό για το διαχωρισμό των κλάσεων. Η κανονικοποίηση μετασχηματίζει τις τιμές των χαρακτηριστικών ώστε να αμβλυνθούν αυτές οι διαφορές.\n",
    "\n",
    "Η κανονικοποίηση των χαρακτηριστικών μπορεί να γίνει με 2 βασικούς τρόπους, γνωστούς και από τη στατιστική. Με την διαίρεση με τη διαφορά μεγίστου-ελαχίστου (feature scaling) οπότε οι τιμές όλων των χαρακτηριστικών κλιμακώνονται γραμμικά στο διάστημα [0,1] ή με το z-score (ή standard score) του κάθε χαρακτηριστικού (standardization), που κάνει το χαρακτηριστικό να έχει μέση τιμή μηδέν και διακύμανση μονάδα, σαν την κανονική κατανομή. \n",
    "\n",
    "Η μετατροπή μεγίστου ελαχίστου γίνεται με τον τύπο: $$X' = {X - X_{min} \\over X_{max} - X_{min}}$$Η μετατροπή σε standard score γίνεται με τον τύπο: $$z = {X- \\mu \\over \\sigma}$$ όπου: $μ$ είναι η μέση τιμή του χαρακτηριστικού και $σ$ η απόκλιση. \n",
    "\n",
    "Στην πράξη, δεν μας ενδιαφέρει αν η πραγματική κατανομή των χαρακτηριστικών είναι κανονική, απλά αφαιρούμε τη μέση τιμή και διαιρούμε με την απόκλιση για να έχουν τα χαρακτηριστικά της.\n",
    "\n",
    "H μετατροπή σε standard score είναι απαραίτητη σε πολλούς ταξινομητές για να συμπεριφερθούν σωστά. Επίσης είναι πιο ανθεκτική από την min-max σε τιμές outliers δηλαδή σποραδικές τιμές που είναι πολύ μακριά απο τη μέση τιμή και τις υπόλοιπες τιμές του χαρακτηριστικού (η min-max θα συμπιέσει τις περισσότερες τιμές σε ένα μικρό διάστημα)\n",
    "\n",
    "Από την άλλη, η κλιμάκωση σε [0,1] είναι λιγότερο ευαίσθητη σε πολύ μικρές αποκλίσεις και επίσης σε αραιά (sparse) διανύσματα χαρακτηριστικών (δηλαδή με πολλές μηδενικές τιμές) η εφαρμογή της διατηρεί τα μηδέν, κάτι που μπορεί να είναι καθοριστικό για την ταχύτητα εκπαίδευσης."
   ]
  },
  {
   "cell_type": "code",
   "execution_count": 19,
   "metadata": {
    "colab": {
     "base_uri": "https://localhost:8080/",
     "height": 1000
    },
    "colab_type": "code",
    "executionInfo": {
     "elapsed": 1375,
     "status": "ok",
     "timestamp": 1573482732166,
     "user": {
      "displayName": "Γιώργος Αλεξανδρίδης",
      "photoUrl": "https://lh3.googleusercontent.com/a-/AAuE7mAHgjbkpnVZpMkbe7ihkb3km8rd5_Hm0fOfRa_yBg=s64",
      "userId": "16422904839632337525"
     },
     "user_tz": -120
    },
    "id": "MQy9EHw8JK0D",
    "outputId": "a3e1b2e6-133a-405e-ea7b-3c1e513f0aed"
   },
   "outputs": [
    {
     "name": "stdout",
     "output_type": "stream",
     "text": [
      "10 τυχαίες τιμές από -30 ως 30\n"
     ]
    },
    {
     "data": {
      "image/png": "[encoded data removed]",
      "text/plain": [
       "<Figure size 432x288 with 1 Axes>"
      ]
     },
     "metadata": {
      "tags": []
     },
     "output_type": "display_data"
    },
    {
     "name": "stdout",
     "output_type": "stream",
     "text": [
      "οι προηγούμενες 10 τιμές από -30 ως 30 και το οutlier 100\n"
     ]
    },
    {
     "data": {
      "image/png": "[encoded data removed]",
      "text/plain": [
       "<Figure size 432x288 with 1 Axes>"
      ]
     },
     "metadata": {
      "tags": []
     },
     "output_type": "display_data"
    },
    {
     "name": "stdout",
     "output_type": "stream",
     "text": [
      "οι προηγούμενες 11 τιμές κανονικοποιημένες στο [0,1]\n"
     ]
    },
    {
     "data": {
      "image/png": "[encoded data removed]",
      "text/plain": [
       "<Figure size 432x288 with 1 Axes>"
      ]
     },
     "metadata": {
      "tags": []
     },
     "output_type": "display_data"
    },
    {
     "name": "stdout",
     "output_type": "stream",
     "text": [
      "οι προηγούμενες 11 standarized\n"
     ]
    },
    {
     "data": {
      "image/png": "[encoded data removed]",
      "text/plain": [
       "<Figure size 432x288 with 1 Axes>"
      ]
     },
     "metadata": {
      "tags": []
     },
     "output_type": "display_data"
    }
   ],
   "source": [
    "import matplotlib.pyplot as plt\n",
    "from scipy import stats as st\n",
    "\n",
    "x= np.random.randint(-30,30, size=10)\n",
    "y = [0]*len(x)\n",
    "plt.scatter(x,y)\n",
    "print(\"10 τυχαίες τιμές από -30 ως 30\")\n",
    "plt.show()\n",
    "\n",
    "# προσθέτουμε τον outlier 100\n",
    "x = np.append(x,100)\n",
    "y = [0]*len(x)\n",
    "plt.scatter(x,y)\n",
    "print(\"οι προηγούμενες 10 τιμές από -30 ως 30 και το οutlier 100\")\n",
    "plt.show()\n",
    "\n",
    "# κανονικοποίηση στο [0,1] με min max\n",
    "min_max_x = (x - np.min(x) )/ (np.max(x) - np.min(x))\n",
    "plt.scatter(min_max_x,y)\n",
    "print(\"οι προηγούμενες 11 τιμές κανονικοποιημένες στο [0,1]\")\n",
    "plt.show()\n",
    "\n",
    "# standardization\n",
    "std_x = st.zscore(x)\n",
    "plt.scatter(std_x,y)\n",
    "print(\"οι προηγούμενες 11 standarized\")\n",
    "plt.show()"
   ]
  },
  {
   "cell_type": "markdown",
   "metadata": {
    "colab_type": "text",
    "id": "KmDQPEq6JK0L"
   },
   "source": [
    "Παρατηρούμε ότι το min-max scaling μας στέλνει τις τιμές εκτός του outlier πολύ κοντά στο μηδέν και τις πιέζει εντός του \\[0, 0.4\\] περίπου , ενώ το z-score διατηρεί μεν το μακρινό outlier, αλλά αφήνει και τις υπόλοιπες τιμές να έχουν ένα εύρος περίπου στο \\[-1, 0.5\\] και να διαφοροποιούνται. Αλγόριθμοι όπως ο backpropagation για τα νευρωνικά δίκτυα συγκλίνουν γενικά καλύτερα με την κανονικοποίηση z-score.\n",
    "\n",
    "Ας εφαρμόσουμε τις δύο κανονικοποιήσεις σε ένα toy dataset:"
   ]
  },
  {
   "cell_type": "code",
   "execution_count": 20,
   "metadata": {
    "colab": {
     "base_uri": "https://localhost:8080/",
     "height": 104
    },
    "colab_type": "code",
    "executionInfo": {
     "elapsed": 726,
     "status": "ok",
     "timestamp": 1573482829110,
     "user": {
      "displayName": "Γιώργος Αλεξανδρίδης",
      "photoUrl": "https://lh3.googleusercontent.com/a-/AAuE7mAHgjbkpnVZpMkbe7ihkb3km8rd5_Hm0fOfRa_yBg=s64",
      "userId": "16422904839632337525"
     },
     "user_tz": -120
    },
    "id": "B8irr8xnJK0N",
    "outputId": "fe6b1df4-f842-4464-fa2a-2bc644ecfca8"
   },
   "outputs": [
    {
     "name": "stdout",
     "output_type": "stream",
     "text": [
      "[[ 0.         -1.22474487  1.33630621]\n",
      " [ 1.22474487  0.         -0.26726124]\n",
      " [-1.22474487  1.22474487 -1.06904497]]\n",
      "[0. 0. 0.]\n",
      "[1. 1. 1.]\n"
     ]
    }
   ],
   "source": [
    "from sklearn import preprocessing\n",
    "X_train = np.array([[ 1., -1.,  2.],\n",
    "                    [ 2.,  0.,  0.],\n",
    "                    [ 0.,  1., -1.]])\n",
    "\n",
    "X_test = np.array([[ -3., -1.,  4.],\n",
    "                  [ 3., 4., 2.]])\n",
    "\n",
    "# standardization των features του training set\n",
    "X_train_scaled = preprocessing.scale(X_train)\n",
    "print(X_train_scaled)\n",
    "# μέση τιμη και απόκλιση των scaled χαρακτηριστικών\n",
    "print(X_train_scaled.mean(axis=0))\n",
    "print(X_train_scaled.std(axis=0))"
   ]
  },
  {
   "cell_type": "markdown",
   "metadata": {
    "colab_type": "text",
    "id": "hdp9Ff8gJK0W"
   },
   "source": [
    "**Προσοχή:** ό,τι μετασχηματισμό κανονικοποίησης κάνουμε στο train set, θα τον κάνουμε και στο test set, χρησιμοποιώντας όμως απαραίτητα το max ή τα $μ$ και $σ$ που έχουμε βρει στο train set, πράγμα που σημαίνει ότι στο test set μετά την κανονικοποίηση δεν θα έχουμε απαραίτητα παντού τιμές μεταξύ 0 και 1 και αντίστοιχα ούτε μέση τιμή 0 και διακύμανση 1."
   ]
  },
  {
   "cell_type": "code",
   "execution_count": 21,
   "metadata": {
    "colab": {
     "base_uri": "https://localhost:8080/",
     "height": 86
    },
    "colab_type": "code",
    "executionInfo": {
     "elapsed": 635,
     "status": "ok",
     "timestamp": 1573482890624,
     "user": {
      "displayName": "Γιώργος Αλεξανδρίδης",
      "photoUrl": "https://lh3.googleusercontent.com/a-/AAuE7mAHgjbkpnVZpMkbe7ihkb3km8rd5_Hm0fOfRa_yBg=s64",
      "userId": "16422904839632337525"
     },
     "user_tz": -120
    },
    "id": "-9sXZ4HLJK0X",
    "outputId": "c591d766-5abd-4f64-a0f7-73ecea0e6148"
   },
   "outputs": [
    {
     "name": "stdout",
     "output_type": "stream",
     "text": [
      "[[-4.89897949 -1.22474487  2.93987366]\n",
      " [ 2.44948974  4.89897949  1.33630621]]\n",
      "[-1.22474487  1.83711731  2.13808994]\n",
      "[3.67423461 3.06186218 0.80178373]\n"
     ]
    }
   ],
   "source": [
    "# όριζουμε ένα αντικείμενο scaler και το κάνουμε fit στο train set\n",
    "scaler = preprocessing.StandardScaler().fit(X_train)\n",
    "# εφαρμόζουμε τον scaler στα δεδομένα test. ΠΡΟΣΟΧΗ μέθοδος transform, όχι fit!\n",
    "X_test_scaled = scaler.transform(X_test)\n",
    "print(X_test_scaled)\n",
    "\n",
    "# και τυπώνουμε τη μέση τιμ;h και απόκλιση του test set \n",
    "print(X_test_scaled.mean(axis=0))\n",
    "print(X_test_scaled.std(axis=0))\n"
   ]
  },
  {
   "cell_type": "code",
   "execution_count": 22,
   "metadata": {
    "colab": {
     "base_uri": "https://localhost:8080/",
     "height": 121
    },
    "colab_type": "code",
    "executionInfo": {
     "elapsed": 634,
     "status": "ok",
     "timestamp": 1573482912022,
     "user": {
      "displayName": "Γιώργος Αλεξανδρίδης",
      "photoUrl": "https://lh3.googleusercontent.com/a-/AAuE7mAHgjbkpnVZpMkbe7ihkb3km8rd5_Hm0fOfRa_yBg=s64",
      "userId": "16422904839632337525"
     },
     "user_tz": -120
    },
    "id": "A2-AHrXGJK0d",
    "outputId": "e7d8d36e-f6b6-4ab8-a8d8-623cdae68586"
   },
   "outputs": [
    {
     "name": "stdout",
     "output_type": "stream",
     "text": [
      "[[0.5        0.         1.        ]\n",
      " [1.         0.5        0.33333333]\n",
      " [0.         1.         0.        ]] \n",
      "\n",
      "[[-1.5         0.          1.66666667]\n",
      " [ 1.5         2.5         1.        ]]\n"
     ]
    }
   ],
   "source": [
    "# το ίδιο με  min max scaling\n",
    "min_max_scaler = preprocessing.MinMaxScaler()\n",
    "X_train_minmax = min_max_scaler.fit_transform(X_train)\n",
    "print(X_train_minmax, \"\\n\")\n",
    "X_test_minmax = min_max_scaler.transform(X_test)\n",
    "print(X_test_minmax)\n",
    "# παρατηρούμε ότι στο test set έχουμε τιμές εκτός [0,1] γιατί στο train set το min ήταν -1 και το max 2"
   ]
  },
  {
   "cell_type": "markdown",
   "metadata": {
    "colab_type": "text",
    "id": "sRbTEYvMJK0j"
   },
   "source": [
    "Θα εφαρμόσουμε κανονικοποίηση με standardization στο (διορθωμένο και με επιλογή χαρακτηριστικών) dataset μας. Παρατηρήστε ότι μετασχηματίζουμε και τα δεδομένα του test, ΟΜΩΣ με το μετασχηματιστή που έχουμε μάθει στο training set. Έτσι δεν κάνουμε το λάθος να χρησιμοποιήσουμε δεδομένα test για εκπαίδευση."
   ]
  },
  {
   "cell_type": "code",
   "execution_count": 0,
   "metadata": {
    "colab": {},
    "colab_type": "code",
    "id": "gYE575p9JK0l"
   },
   "outputs": [],
   "source": [
    "scaler = preprocessing.StandardScaler().fit(train_reduced)\n",
    "train_scaled = scaler.transform(train_reduced)\n",
    "test_scaled = scaler.transform(test_reduced)"
   ]
  },
  {
   "cell_type": "markdown",
   "metadata": {
    "colab_type": "text",
    "id": "Na9oAdUhBWhx"
   },
   "source": [
    "**ΠΡΟΣΟΧΗ**\n",
    "* Aν θέλουμε να δοκιμάσουμε κατώφλια μεγαλύτερα του 0 στο VarianceThreshold, πρέπει πρώτα να εφαρμόσουμε τον minmaxscaler (γιατί οι μεταβλητές με μεγάλες μέσες τιμές θα δώσουν γενικά μεγαλύτερη τιμή variance)\n",
    "* H εφαρμογή του VarianceThreshold δεν έχει προφανώς νόημα μετά το StandarScaler (γιατί όλες οι μεταβλητές έχουν variance 1 μετά το transform)"
   ]
  },
  {
   "cell_type": "markdown",
   "metadata": {
    "colab_type": "text",
    "id": "rZtgsSrpJK0r"
   },
   "source": [
    "## Εξισορρόπηση μη ισορροπημένων datasets\n",
    "\n",
    "Με τον όρο μη ισορροπημένο dataset εννούμε ένα dataset στο οποίο τα πλήθη των δειγμάτων της κάθε κλάσης διαφέρουν σημαντικά μεταξύ τους. Χωρίς να υπάρχει κάποια συνολική απάντηση, όταν ο λόγος μεταξύ του αριθμού των δειγμάτων δύο κλάσεων αρχίζει να είναι μεγαλύτερος από 2:3, μπορούμε να αρχίζουμε να θεωρούμε το dataset μη ισορροπημένο (imbalanced). Στα πραγματικά datasets αυτό είναι κάτι πολύ κοινό. Οι περισσότεροι ταξινομητές ωστόσο εκπαιδεύονται καλύτερα όταν τα δείγματα όλων των κλάσεων είναι σχετικά ισάριθμα.  \n",
    "\n",
    "Για να δούμε αν το dataset μας είναι ισορροπημένο ή μη, θα δούμε πόσα δείγματα έχουμε ανά κατηγορία στο training set. Εφόσον κάθε δείγμα ανήκει σε μια μόνο από τις 5 κατηγορίες κάνουμε απλά: "
   ]
  },
  {
   "cell_type": "code",
   "execution_count": 24,
   "metadata": {
    "colab": {
     "base_uri": "https://localhost:8080/",
     "height": 34
    },
    "colab_type": "code",
    "executionInfo": {
     "elapsed": 761,
     "status": "ok",
     "timestamp": 1573483005182,
     "user": {
      "displayName": "Γιώργος Αλεξανδρίδης",
      "photoUrl": "https://lh3.googleusercontent.com/a-/AAuE7mAHgjbkpnVZpMkbe7ihkb3km8rd5_Hm0fOfRa_yBg=s64",
      "userId": "16422904839632337525"
     },
     "user_tz": -120
    },
    "id": "aM6IKPrMJK0s",
    "outputId": "e3ba5367-2aa5-46fd-b736-20992980e88d"
   },
   "outputs": [
    {
     "name": "stdout",
     "output_type": "stream",
     "text": [
      "[170 122 120 107 126]\n"
     ]
    }
   ],
   "source": [
    "summ = C_trainDataTargets.T.sum(axis=1)\n",
    "print(summ)"
   ]
  },
  {
   "cell_type": "markdown",
   "metadata": {
    "colab_type": "text",
    "id": "Vf-Rtz4hJK0x"
   },
   "source": [
    "Τα δεδομένα εκπαίδευσης δεν έχουν ισορροπημένα πλήθη ανά κατηγορία με την πιο συχνή κατηγορία να διαφέρει σημαντικά από τη λιγότερο συχνή.\n",
    "\n",
    "Έχουμε δύο βασικούς τρόπους για να εξισσοροπούμε ένα dataset, την υποδειγματοληψία (undersampling) και την υπερδειγματοληψία (oversampling). Εν ολίγοις, στο undersampling απλά αφαιρούμε τυχαία δείγματα από όλες τις κατηγορίες που έχουν μεγαλύτερο πλήθος από τη μικρότερη, ενώ στο oversampling επιλέγουμε τυχαία ορισμένα παραδείγματα από τις λιγότερο συχνές κατηγορίες και τα επαναλαμβάνουμε. Στην πρώτη δηλαδή αφαιρούμε δεδομένα ενώ στην άλλη προσθέτουμε. \n",
    "\n",
    "Γενικά το oversampling ενδείκνυται περισσότερο, αφού δεν χάνουμε δεδομένα εκπαίδευσης. Επίσης, σε κάποιους αλγορίθμους όπως πχ. random forests, έχει παρατηρηθεί ότι τα αποτελέσματα βελτιώνονται ακόμα και με oversampling με παράγοντες άνω του 2, δηλαδή αντιγράφοντας τα ίδια δεδομένα μπορεί να βοηθάμε τη σύγκλιση. Τα προηγούμενα βέβαια δεν παρατηρούνται σε όλες τις περιπτώσεις.\n",
    "\n",
    " Η βιβλιοθήκη [imbalanced-learn (ή imblearn)](https://github.com/scikit-learn-contrib/imbalanced-learn) προσφέρει πολλές μεθόδους εξισορρόπησης datasets. Αφού εγκαταστήσουμε την imblearn θα κάνουμε ένα απλό random oversampling στο training set μας."
   ]
  },
  {
   "cell_type": "code",
   "execution_count": 25,
   "metadata": {
    "colab": {
     "base_uri": "https://localhost:8080/",
     "height": 245
    },
    "colab_type": "code",
    "executionInfo": {
     "elapsed": 5744,
     "status": "ok",
     "timestamp": 1573483171799,
     "user": {
      "displayName": "Γιώργος Αλεξανδρίδης",
      "photoUrl": "https://lh3.googleusercontent.com/a-/AAuE7mAHgjbkpnVZpMkbe7ihkb3km8rd5_Hm0fOfRa_yBg=s64",
      "userId": "16422904839632337525"
     },
     "user_tz": -120
    },
    "id": "C4i0qcdqJK0z",
    "outputId": "8a933744-06ee-4049-80c4-f32cbdde5e64"
   },
   "outputs": [
    {
     "name": "stdout",
     "output_type": "stream",
     "text": [
      "Collecting imbalanced-learn\n",
      "\u001b[?25l  Downloading https://files.pythonhosted.org/packages/e6/62/08c14224a7e242df2cef7b312d2ef821c3931ec9b015ff93bb52ec8a10a3/imbalanced_learn-0.5.0-py3-none-any.whl (173kB)\n",
      "\r",
      "\u001b[K     |██                              | 10kB 17.7MB/s eta 0:00:01\r",
      "\u001b[K     |███▉                            | 20kB 3.3MB/s eta 0:00:01\r",
      "\u001b[K     |█████▊                          | 30kB 4.7MB/s eta 0:00:01\r",
      "\u001b[K     |███████▋                        | 40kB 3.0MB/s eta 0:00:01\r",
      "\u001b[K     |█████████▌                      | 51kB 3.7MB/s eta 0:00:01\r",
      "\u001b[K     |███████████▍                    | 61kB 4.4MB/s eta 0:00:01\r",
      "\u001b[K     |█████████████▎                  | 71kB 5.1MB/s eta 0:00:01\r",
      "\u001b[K     |███████████████▏                | 81kB 5.8MB/s eta 0:00:01\r",
      "\u001b[K     |█████████████████               | 92kB 6.4MB/s eta 0:00:01\r",
      "\u001b[K     |███████████████████             | 102kB 4.9MB/s eta 0:00:01\r",
      "\u001b[K     |████████████████████▉           | 112kB 4.9MB/s eta 0:00:01\r",
      "\u001b[K     |██████████████████████▊         | 122kB 4.9MB/s eta 0:00:01\r",
      "\u001b[K     |████████████████████████▋       | 133kB 4.9MB/s eta 0:00:01\r",
      "\u001b[K     |██████████████████████████▌     | 143kB 4.9MB/s eta 0:00:01\r",
      "\u001b[K     |████████████████████████████▍   | 153kB 4.9MB/s eta 0:00:01\r",
      "\u001b[K     |██████████████████████████████▎ | 163kB 4.9MB/s eta 0:00:01\r",
      "\u001b[K     |████████████████████████████████| 174kB 4.9MB/s \n",
      "\u001b[?25hRequirement already satisfied, skipping upgrade: numpy>=1.11 in /usr/local/lib/python3.6/dist-packages (from imbalanced-learn) (1.17.4)\n",
      "Requirement already satisfied, skipping upgrade: joblib>=0.11 in /usr/local/lib/python3.6/dist-packages (from imbalanced-learn) (0.14.0)\n",
      "Requirement already satisfied, skipping upgrade: scipy>=0.17 in /usr/local/lib/python3.6/dist-packages (from imbalanced-learn) (1.3.2)\n",
      "Requirement already satisfied, skipping upgrade: scikit-learn>=0.21 in /usr/local/lib/python3.6/dist-packages (from imbalanced-learn) (0.21.3)\n",
      "Installing collected packages: imbalanced-learn\n",
      "  Found existing installation: imbalanced-learn 0.4.3\n",
      "    Uninstalling imbalanced-learn-0.4.3:\n",
      "      Successfully uninstalled imbalanced-learn-0.4.3\n",
      "Successfully installed imbalanced-learn-0.5.0\n"
     ]
    }
   ],
   "source": [
    "!pip install -U imbalanced-learn"
   ]
  },
  {
   "cell_type": "code",
   "execution_count": 26,
   "metadata": {
    "colab": {
     "base_uri": "https://localhost:8080/",
     "height": 225
    },
    "colab_type": "code",
    "executionInfo": {
     "elapsed": 2825,
     "status": "ok",
     "timestamp": 1573483262917,
     "user": {
      "displayName": "Γιώργος Αλεξανδρίδης",
      "photoUrl": "https://lh3.googleusercontent.com/a-/AAuE7mAHgjbkpnVZpMkbe7ihkb3km8rd5_Hm0fOfRa_yBg=s64",
      "userId": "16422904839632337525"
     },
     "user_tz": -120
    },
    "id": "vPEU3yPXJK03",
    "outputId": "067f1e12-6944-4b85-95ef-9cda4ce98a5e"
   },
   "outputs": [
    {
     "name": "stderr",
     "output_type": "stream",
     "text": [
      "Using TensorFlow backend.\n"
     ]
    },
    {
     "name": "stdout",
     "output_type": "stream",
     "text": [
      "(850, 326)\n",
      "(850, 5)\n",
      "[[1 0 0 0 0]\n",
      " [0 0 0 0 1]\n",
      " [0 0 0 0 1]\n",
      " ...\n",
      " [0 0 0 0 1]\n",
      " [0 0 0 0 1]\n",
      " [0 0 0 0 1]]\n",
      "[170 170 170 170 170]\n",
      "850\n"
     ]
    }
   ],
   "source": [
    "from imblearn.over_sampling import RandomOverSampler\n",
    "from sklearn.preprocessing import MultiLabelBinarizer\n",
    "# αρχικοποίηση του RandomOverSampler\n",
    "ros = RandomOverSampler(random_state=0)\n",
    "# o RandomOverSampler θέλει τις ετικέτες όχι ως δυαδικό διάνυσμα αλλά ως αριθμό κλάσης. \n",
    "# το [0 0 1 0 0] πρέπει να γίνει 2 κοκ\n",
    "\n",
    "mlb = MultiLabelBinarizer().fit(['0', '1', '2', '3', '4'])\n",
    "tmplabels = np.asarray(mlb.inverse_transform(C_trainDataTargets)).flatten()\n",
    "train_resampled, trainTargets_resampled = ros.fit_sample(train_scaled,tmplabels)\n",
    "# ξαναφέρνουμε τα labels σε binary μορφή\n",
    "trainTargets_resampled = mlb.transform(trainTargets_resampled)\n",
    "\n",
    "# εκτυπώνουμε τις νέες διαστάσεις του train set\n",
    "print(train_resampled.shape)\n",
    "print(trainTargets_resampled.shape)\n",
    "# επιβεβαιώνουμε ότι τα labels είναι στη binary μορφή\n",
    "print(trainTargets_resampled)\n",
    "# επιβεβαιώνουμε ότι το training set έχει εξισορροπηθεί με oversampling\n",
    "summ = trainTargets_resampled.T.sum(axis=1)\n",
    "print(summ) #πλήθος ανα κλάση \n",
    "print(summ.sum()) #σύνολο δειγμάτων"
   ]
  },
  {
   "cell_type": "markdown",
   "metadata": {
    "colab_type": "text",
    "id": "WDODKrZdJK09"
   },
   "source": [
    "Σημειώστε ότι δεν κάνουμε καμία επέμβαση sampling στο test set.\n",
    "\n",
    "Ας ξαναδοκιμάσουμε το αρχικό MLP με ακριβώς ίδες υπερπαραμέτρους, απλώς αυτή τη φορά στα προεπεξεργασμένα δεδομένα (variance threshold, standard scaler, oversampling) και ας τυπώσουμε τις μετρικές απόδοσης:"
   ]
  },
  {
   "cell_type": "code",
   "execution_count": 27,
   "metadata": {
    "colab": {
     "base_uri": "https://localhost:8080/",
     "height": 298
    },
    "colab_type": "code",
    "executionInfo": {
     "elapsed": 724,
     "status": "ok",
     "timestamp": 1573483355295,
     "user": {
      "displayName": "Γιώργος Αλεξανδρίδης",
      "photoUrl": "https://lh3.googleusercontent.com/a-/AAuE7mAHgjbkpnVZpMkbe7ihkb3km8rd5_Hm0fOfRa_yBg=s64",
      "userId": "16422904839632337525"
     },
     "user_tz": -120
    },
    "id": "r7T4CZmTJK0-",
    "outputId": "9f7b735d-9ab2-4eca-f3f4-35115e1614ca"
   },
   "outputs": [
    {
     "name": "stdout",
     "output_type": "stream",
     "text": [
      "              precision    recall  f1-score   support\n",
      "\n",
      "           0       0.95      0.98      0.96        42\n",
      "           1       0.90      0.90      0.90        30\n",
      "           2       0.88      0.93      0.90        30\n",
      "           3       0.93      0.96      0.94        26\n",
      "           4       0.96      0.87      0.92        31\n",
      "\n",
      "   micro avg       0.93      0.93      0.93       159\n",
      "   macro avg       0.92      0.93      0.93       159\n",
      "weighted avg       0.93      0.93      0.93       159\n",
      " samples avg       0.92      0.93      0.92       159\n",
      "\n"
     ]
    },
    {
     "name": "stderr",
     "output_type": "stream",
     "text": [
      "/usr/local/lib/python3.6/dist-packages/sklearn/metrics/classification.py:1437: UndefinedMetricWarning: Precision and F-score are ill-defined and being set to 0.0 in samples with no predicted labels.\n",
      "  'precision', 'predicted', average, warn_for)\n"
     ]
    }
   ],
   "source": [
    "clf = MLPClassifier(solver='lbfgs', alpha=1e-5,\n",
    "                    hidden_layer_sizes=(5,), random_state=1)\n",
    "clf.fit(train_resampled, trainTargets_resampled)\n",
    "preds = clf.predict(test_scaled)\n",
    "print(classification_report(C_testDataTargets, preds))"
   ]
  },
  {
   "cell_type": "markdown",
   "metadata": {
    "colab_type": "text",
    "id": "6HzuJTw9Pk1o"
   },
   "source": [
    "Συμπέρασμα: ακόμα και χωρίς καμία βελτιστοποίηση των υπερπαραμέτρων του ταξινομητή, έχουμε πολύ μεγάλη βελτίωση στην απόδοση, απλά ακολουθώντας τις βέλτιστες πρακτικές στην προεπεξεργασία των δεδομένων."
   ]
  },
  {
   "cell_type": "markdown",
   "metadata": {
    "colab_type": "text",
    "id": "hPyBFR8XJK1U"
   },
   "source": [
    "## Μείωση της διαστατικότητας με εξαγωγή χαρακτηριστικών\n",
    "\n",
    "Όπως είπαμε και προηγουμένως για να μειώσουμε τις διαστάσεις των μεταβλητών μας μπορούμε να κάνουμε δύο πράγματα: vα αφαιρέσουμε κατηγορίες που δεν προσφέρουν *σημαντική πληροφορία*, δηλαδή να κάνουμε **επιλογή μεταβλητών (feature selection)**. Εναλλακτικά, μπορούμε να κάνουμε εξαγωγή νέων χαρακτηριστικών σε ένα χώρο μικρότερων διαστάσεων (**feature extraction**). Η βασικότερη τεχνική feature extraction είναι η **ανάλυση σε κύριες συνιστώσες (principal components analysis - PCA)** όπου αναλύουμε τα δεδομένα σε κύριες συνιστώσες και δουλέυουμε με τελείως νέες, γραμμικά ασυσχέτιστες μεταβλητές μικρότερης διαστατικότητας."
   ]
  },
  {
   "cell_type": "markdown",
   "metadata": {
    "colab_type": "text",
    "id": "UNgljy-eJK1X"
   },
   "source": [
    "## Ανάλυση σε κύριες συνιστώσες\n",
    "\n",
    "Η ανάλυση σε κύριες συνιστώσες (PCA) είναι η ευρέως διαδεδομένη μέθοδος μείωσης της διαστατικότητας. Ούτε εδώ θα εμβαθύνουμε, αλλά θα εξηγήσουμε περιγραφικά τις αρχές της μεθόδου. Αρχικά υπολογίζουμε τον πίνακα συσχέτισης (covariance matrix) των μεταβλητών που έχουμε στα δεδομένα. Από αυτόν τον πίνακα βρίσκουμε τις γραμμικώς συσχετισμένες μεταβλητές και βρίσκοντας τα ιδιοδιανύσματα του πίνακα μπορούμε να μετατρέψουμε τον πίνακα με έναν ορθογώνιο μετασχηματισμό και να βρούμε την βάση του νέου πίνακα. Αυτή η βάση του χώρου αποτελεί ένα νέο σύνολο μεταβλητών που είναι *γραμμικά ασυσχέτιστες* και ονομάζονται κύριες συνιστώσες.\n",
    "\n",
    "![alt text](https://i.imgur.com/s5CfXoy.png)\n",
    "\n",
    "\n",
    "[Ένα ωραίο online visual PCA demo](http://setosa.io/ev/principal-component-analysis/)\n",
    "\n",
    "Εκτός από τη μείωση της διαστατικότητας για καλύτερη ταξινόμηση, η PCA με 1 έως 3 συνιστώσες μπορεί να χρησιμοποιηθεί και για την οπτικοποίηση δεδομένων υψηλής διαστατικότητας. Περισσότερα για την PCA από το [indepth tutorial](https://jakevdp.github.io/PythonDataScienceHandbook/05.09-principal-component-analysis.html) του Python Data Science Handbook και το αντίστοιχο [jupyter notebook](https://github.com/jakevdp/PythonDataScienceHandbook/blob/master/notebooks/05.09-Principal-Component-Analysis.ipynb).\n"
   ]
  },
  {
   "cell_type": "code",
   "execution_count": 28,
   "metadata": {
    "colab": {
     "base_uri": "https://localhost:8080/",
     "height": 104
    },
    "colab_type": "code",
    "executionInfo": {
     "elapsed": 806,
     "status": "ok",
     "timestamp": 1573483617137,
     "user": {
      "displayName": "Γιώργος Αλεξανδρίδης",
      "photoUrl": "https://lh3.googleusercontent.com/a-/AAuE7mAHgjbkpnVZpMkbe7ihkb3km8rd5_Hm0fOfRa_yBg=s64",
      "userId": "16422904839632337525"
     },
     "user_tz": -120
    },
    "id": "v25p32l7JK1X",
    "outputId": "6891124e-5268-4be2-9d9e-ec189ae8d6d1"
   },
   "outputs": [
    {
     "name": "stdout",
     "output_type": "stream",
     "text": [
      "(850, 326)\n",
      "(850, 25)\n",
      "\n",
      "(159, 326)\n",
      "(159, 25)\n"
     ]
    }
   ],
   "source": [
    "from sklearn.decomposition import PCA\n",
    "\n",
    "# Ορίζουμε την PCA και τον τελικό αριθμό features - αριθμό κύριων συνιστωσών\n",
    "# είναι ακόμα μια υπερπαράμετρος με την οποία μπορούμε να πειραματιστούμε\n",
    "n = 25\n",
    "pca = PCA(n_components=n)\n",
    "\n",
    "# Εφαρμόζουμε στα δεδομένα εκπαίδευσης και ελέγχου τον *ΙΔΙΟ* μετασχηματισμό\n",
    "# Οι κύριες συνιστώσες υπολογίζονται στο train set\n",
    "# Στα train κάνουμε fit_transform στο test μόνο transform:\n",
    "trainPCA = pca.fit_transform(train_resampled)\n",
    "testPCA = pca.transform(test_scaled)\n",
    "\n",
    "print(train_resampled.shape)\n",
    "print(trainPCA.shape)\n",
    "print(\"\")\n",
    "print(test_scaled.shape)\n",
    "print(testPCA.shape)\n",
    "\n",
    "# πλεόν οι διαστάση των χαρακτηριστικών είναι 25"
   ]
  },
  {
   "cell_type": "markdown",
   "metadata": {
    "colab_type": "text",
    "id": "JMXmSWd1X_fx"
   },
   "source": [
    "\n",
    "Για να δούμε αν χάνεται πληροφοριά θα δούμε τι ποσοστό διακύμανσης εξηγείται σε συνάρτηση του αριθμού κύριων συνιστωσών"
   ]
  },
  {
   "cell_type": "code",
   "execution_count": 29,
   "metadata": {
    "colab": {
     "base_uri": "https://localhost:8080/",
     "height": 421
    },
    "colab_type": "code",
    "executionInfo": {
     "elapsed": 1112,
     "status": "ok",
     "timestamp": 1573483664760,
     "user": {
      "displayName": "Γιώργος Αλεξανδρίδης",
      "photoUrl": "https://lh3.googleusercontent.com/a-/AAuE7mAHgjbkpnVZpMkbe7ihkb3km8rd5_Hm0fOfRa_yBg=s64",
      "userId": "16422904839632337525"
     },
     "user_tz": -120
    },
    "id": "6X5ncGgRJK1f",
    "outputId": "97166c68-43ec-4608-8203-9170b675ce0c"
   },
   "outputs": [
    {
     "name": "stdout",
     "output_type": "stream",
     "text": [
      "[0.18346369 0.28526128 0.36421785 0.40983769 0.45212225 0.48773329\n",
      " 0.51733143 0.54167506 0.56196432 0.58111278 0.59745501 0.61353322\n",
      " 0.62869178 0.64277533 0.65565621 0.66826634 0.67926123 0.68921166\n",
      " 0.69841643 0.70712049 0.71534507 0.72335136 0.73108023 0.73831818\n",
      " 0.74536736]\n"
     ]
    },
    {
     "data": {
      "image/png": "[encoded data removed]",
      "text/plain": [
       "<Figure size 360x360 with 1 Axes>"
      ]
     },
     "metadata": {
      "tags": []
     },
     "output_type": "display_data"
    }
   ],
   "source": [
    "# Θα τυπωσουμε το συσσωρευτικό ποσοστό διασποράς που εξηγείται από τις κύριες συνιστώσες\n",
    "evar = pca.explained_variance_ratio_\n",
    "cum_evar = np.cumsum(evar)\n",
    "print(cum_evar)\n",
    "plt.figure(1, figsize=(5, 5))\n",
    "plt.xlabel(\"Principal Component number\")\n",
    "plt.ylabel('Cumulative Variance')\n",
    "plt.plot(cum_evar, linewidth=2)\n",
    "plt.show()"
   ]
  },
  {
   "cell_type": "markdown",
   "metadata": {
    "colab_type": "text",
    "id": "9nldk_DtJK1j"
   },
   "source": [
    "Με μόλις 15 κύριες συνιστώσες εξηγούμε 55% της διακύμανσης (πληροφορίας) του dataset, με 25 κοντά στο 70%.\n",
    "\n",
    "Τέλος, ας εφαρμόσουμε την PCA στα δεδομένα και ας ξανα\n",
    "πάρουμε τα metrics του MLP:"
   ]
  },
  {
   "cell_type": "code",
   "execution_count": 30,
   "metadata": {
    "colab": {
     "base_uri": "https://localhost:8080/",
     "height": 298
    },
    "colab_type": "code",
    "executionInfo": {
     "elapsed": 652,
     "status": "ok",
     "timestamp": 1573483757848,
     "user": {
      "displayName": "Γιώργος Αλεξανδρίδης",
      "photoUrl": "https://lh3.googleusercontent.com/a-/AAuE7mAHgjbkpnVZpMkbe7ihkb3km8rd5_Hm0fOfRa_yBg=s64",
      "userId": "16422904839632337525"
     },
     "user_tz": -120
    },
    "id": "H09_-588JK1b",
    "outputId": "6563bd19-7d34-492d-8d36-0ab46660a81a"
   },
   "outputs": [
    {
     "name": "stdout",
     "output_type": "stream",
     "text": [
      "              precision    recall  f1-score   support\n",
      "\n",
      "           0       0.89      0.95      0.92        42\n",
      "           1       0.86      0.80      0.83        30\n",
      "           2       0.76      0.83      0.79        30\n",
      "           3       0.95      0.69      0.80        26\n",
      "           4       0.96      0.74      0.84        31\n",
      "\n",
      "   micro avg       0.87      0.82      0.84       159\n",
      "   macro avg       0.88      0.80      0.84       159\n",
      "weighted avg       0.88      0.82      0.84       159\n",
      " samples avg       0.81      0.82      0.81       159\n",
      "\n"
     ]
    },
    {
     "name": "stderr",
     "output_type": "stream",
     "text": [
      "/usr/local/lib/python3.6/dist-packages/sklearn/metrics/classification.py:1437: UndefinedMetricWarning: Precision and F-score are ill-defined and being set to 0.0 in samples with no predicted labels.\n",
      "  'precision', 'predicted', average, warn_for)\n"
     ]
    }
   ],
   "source": [
    "clf = MLPClassifier(solver='lbfgs', alpha=1e-5,\n",
    "                    hidden_layer_sizes=(5,), random_state=1)\n",
    "clf.fit(trainPCA, trainTargets_resampled)\n",
    "preds = clf.predict(testPCA)\n",
    "print(classification_report(C_testDataTargets, preds))"
   ]
  },
  {
   "cell_type": "markdown",
   "metadata": {
    "colab_type": "text",
    "id": "8fXVEy-xL5l0"
   },
   "source": [
    "**ΠΑΡΑΤΗΡΗΣΕΙΣ**\n",
    "* Στο συγκεκριμένο παράδειγμα, το MLP δουλεύει καλύτερα γιατί εφαρμόσαμε 4 μετασχηματιστές επεξεργασίας (variance threshold, standard scaler, oversampling, pca). Πιθανότατα το καθοριστικότερο ήταν η μείωση της διαστατικότητας γιατί ο λόγος samples / number of features είναι αρκετά μικρός (τυπικά έχουμε πολλαπλάσια ή τάξη μεγέθους περισσότερα samples από features.\n",
    "* Το ποιους μετασχηματιστές προεπεξεργασίας θα εφαρμόσουμε και ποιες τιμές των παραμέτρων τους (variance threshold, αριθμός κυρίων συνιστωσών) θα αποδώσουν καλύτερα δεν το ξέρουμε από την αρχή, και μπορεί να είναι διαφορετικό ανάλογα τον ταξινομητή, ακόμα και στο ίδιο dataset. Έχουμε μόνο κάποιες εμπειρικές γνώσεις όπως ότι η κανονικοποίηση γενικά βοηθάει, ότι τα samples πρέπει να είναι αρκετά περισσότερα από τα features κλπ\n",
    "\n",
    "\n"
   ]
  }
 ],
 "metadata": {
  "colab": {
   "name": "2.1 Classification.ipynb",
   "provenance": []
  },
  "kernelspec": {
   "display_name": "Python 3",
   "language": "python",
   "name": "python3"
  },
  "language_info": {
   "codemirror_mode": {
    "name": "ipython",
    "version": 3
   },
   "file_extension": ".py",
   "mimetype": "text/x-python",
   "name": "python",
   "nbconvert_exporter": "python",
   "pygments_lexer": "ipython3",
   "version": "3.6.7"
  }
 },
 "nbformat": 4,
 "nbformat_minor": 1
}
