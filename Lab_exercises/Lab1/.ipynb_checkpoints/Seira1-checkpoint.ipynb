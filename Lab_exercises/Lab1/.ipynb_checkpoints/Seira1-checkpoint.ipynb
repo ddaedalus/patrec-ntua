{
 "cells": [
  {
   "cell_type": "markdown",
   "metadata": {},
   "source": [
    "### Ομάδα:  \n",
    "*Κοντογιάννης Ανδρέας (ΑΜ 03115187)*  \n",
    "*Πολλάτος Βασίλης (ΑΜ 03115011)*  \n",
    "  \n",
    "### Προπαρασκευή 1ης Εργαστηριακής Άσκησης:  Οπτική Αναγνώριση Ψηφίων  \n",
    " \n",
    "Στα πλαίσια της παρούσας εργασίας προσπαθούμε να λύσουμε το πρόβλημα της ταξινόμησης εικόνων που περιέχουν χειρόγραφα σκίτσα ψηφίων, δηλαδή αριθμών από το 0 ως το 9, σε δέκα κατηγορίες ανάλογα με το ψηφίο που απεικονίζουν. Για το σκοπό αυτό αξιοποιείται ένα dataset από τέτοιες labeled εικόνες που μας δίνεται σε raw μορφή (.txt αρχεία). Η αναπαράσταση των εικόνων είναι raster με ένα κανάλι και το μέγεθος 16x16. Το dataset είναι χωρισμένο σε υποσύνολα train και test. Θα χρησιμοποιήσουμε λοιπόν supervised learning και συγκεκριμένα υλοποιούμε *Euclidean Classifier*  με κέντρα τις μέσες τιμές των δειγμάτων του επιλεγμένου train set.\n"
   ]
  },
  {
   "cell_type": "markdown",
   "metadata": {},
   "source": [
    "Αρχικά εγκαθιστούμε τα παρακάτω modules που θα χρησιμοποιήσουμε στην πορεία της άσκησης. "
   ]
  },
  {
   "cell_type": "code",
   "execution_count": null,
   "metadata": {},
   "outputs": [
    {
     "name": "stdout",
     "output_type": "stream",
     "text": [
      "Requirement already satisfied: sklearn in /home/ddaedalus/Documents/files/Patrec_ntua/patrec19/lib/python3.6/site-packages (0.0)\n",
      "Requirement already satisfied: scikit-learn in /home/ddaedalus/Documents/files/Patrec_ntua/patrec19/lib/python3.6/site-packages (from sklearn) (0.21.3)\n",
      "Requirement already satisfied: joblib>=0.11 in /home/ddaedalus/Documents/files/Patrec_ntua/patrec19/lib/python3.6/site-packages (from scikit-learn->sklearn) (0.14.0)\n",
      "Requirement already satisfied: scipy>=0.17.0 in /home/ddaedalus/Documents/files/Patrec_ntua/patrec19/lib/python3.6/site-packages (from scikit-learn->sklearn) (1.3.1)\n",
      "Requirement already satisfied: numpy>=1.11.0 in /home/ddaedalus/Documents/files/Patrec_ntua/patrec19/lib/python3.6/site-packages (from scikit-learn->sklearn) (1.17.3)\n",
      "Requirement already satisfied: scikit-image in /home/ddaedalus/Documents/files/Patrec_ntua/patrec19/lib/python3.6/site-packages (0.16.2)\n",
      "Requirement already satisfied: scipy>=0.19.0 in /home/ddaedalus/Documents/files/Patrec_ntua/patrec19/lib/python3.6/site-packages (from scikit-image) (1.3.1)\n",
      "Requirement already satisfied: networkx>=2.0 in /home/ddaedalus/Documents/files/Patrec_ntua/patrec19/lib/python3.6/site-packages (from scikit-image) (2.4)\n",
      "Requirement already satisfied: imageio>=2.3.0 in /home/ddaedalus/Documents/files/Patrec_ntua/patrec19/lib/python3.6/site-packages (from scikit-image) (2.6.1)\n",
      "Requirement already satisfied: PyWavelets>=0.4.0 in /home/ddaedalus/Documents/files/Patrec_ntua/patrec19/lib/python3.6/site-packages (from scikit-image) (1.1.1)\n",
      "Requirement already satisfied: pillow>=4.3.0 in /home/ddaedalus/Documents/files/Patrec_ntua/patrec19/lib/python3.6/site-packages (from scikit-image) (6.2.1)\n",
      "Requirement already satisfied: matplotlib!=3.0.0,>=2.0.0 in /home/ddaedalus/Documents/files/Patrec_ntua/patrec19/lib/python3.6/site-packages (from scikit-image) (3.1.1)\n",
      "Requirement already satisfied: numpy>=1.13.3 in /home/ddaedalus/Documents/files/Patrec_ntua/patrec19/lib/python3.6/site-packages (from scipy>=0.19.0->scikit-image) (1.17.3)\n",
      "Requirement already satisfied: decorator>=4.3.0 in /home/ddaedalus/Documents/files/Patrec_ntua/patrec19/lib/python3.6/site-packages (from networkx>=2.0->scikit-image) (4.4.1)\n",
      "Requirement already satisfied: cycler>=0.10 in /home/ddaedalus/Documents/files/Patrec_ntua/patrec19/lib/python3.6/site-packages (from matplotlib!=3.0.0,>=2.0.0->scikit-image) (0.10.0)\n",
      "Requirement already satisfied: kiwisolver>=1.0.1 in /home/ddaedalus/Documents/files/Patrec_ntua/patrec19/lib/python3.6/site-packages (from matplotlib!=3.0.0,>=2.0.0->scikit-image) (1.1.0)\n",
      "Requirement already satisfied: python-dateutil>=2.1 in /home/ddaedalus/Documents/files/Patrec_ntua/patrec19/lib/python3.6/site-packages (from matplotlib!=3.0.0,>=2.0.0->scikit-image) (2.8.1)\n",
      "Requirement already satisfied: pyparsing!=2.0.4,!=2.1.2,!=2.1.6,>=2.0.1 in /home/ddaedalus/Documents/files/Patrec_ntua/patrec19/lib/python3.6/site-packages (from matplotlib!=3.0.0,>=2.0.0->scikit-image) (2.4.2)\n",
      "Requirement already satisfied: six in /home/ddaedalus/Documents/files/Patrec_ntua/patrec19/lib/python3.6/site-packages (from cycler>=0.10->matplotlib!=3.0.0,>=2.0.0->scikit-image) (1.12.0)\n",
      "Requirement already satisfied: setuptools in /home/ddaedalus/Documents/files/Patrec_ntua/patrec19/lib/python3.6/site-packages (from kiwisolver>=1.0.1->matplotlib!=3.0.0,>=2.0.0->scikit-image) (41.6.0)\n",
      "Requirement already satisfied: numpy in /home/ddaedalus/Documents/files/Patrec_ntua/patrec19/lib/python3.6/site-packages (1.17.3)\n",
      "Requirement already satisfied: matplotlib in /home/ddaedalus/Documents/files/Patrec_ntua/patrec19/lib/python3.6/site-packages (3.1.1)\n",
      "Requirement already satisfied: kiwisolver>=1.0.1 in /home/ddaedalus/Documents/files/Patrec_ntua/patrec19/lib/python3.6/site-packages (from matplotlib) (1.1.0)\n",
      "Requirement already satisfied: cycler>=0.10 in /home/ddaedalus/Documents/files/Patrec_ntua/patrec19/lib/python3.6/site-packages (from matplotlib) (0.10.0)\n",
      "Requirement already satisfied: numpy>=1.11 in /home/ddaedalus/Documents/files/Patrec_ntua/patrec19/lib/python3.6/site-packages (from matplotlib) (1.17.3)\n",
      "Requirement already satisfied: pyparsing!=2.0.4,!=2.1.2,!=2.1.6,>=2.0.1 in /home/ddaedalus/Documents/files/Patrec_ntua/patrec19/lib/python3.6/site-packages (from matplotlib) (2.4.2)\n",
      "Requirement already satisfied: python-dateutil>=2.1 in /home/ddaedalus/Documents/files/Patrec_ntua/patrec19/lib/python3.6/site-packages (from matplotlib) (2.8.1)\n",
      "Requirement already satisfied: setuptools in /home/ddaedalus/Documents/files/Patrec_ntua/patrec19/lib/python3.6/site-packages (from kiwisolver>=1.0.1->matplotlib) (41.6.0)\n",
      "Requirement already satisfied: six in /home/ddaedalus/Documents/files/Patrec_ntua/patrec19/lib/python3.6/site-packages (from cycler>=0.10->matplotlib) (1.12.0)\n",
      "Requirement already satisfied: pandas in /home/ddaedalus/Documents/files/Patrec_ntua/patrec19/lib/python3.6/site-packages (0.25.3)\n",
      "Requirement already satisfied: pytz>=2017.2 in /home/ddaedalus/Documents/files/Patrec_ntua/patrec19/lib/python3.6/site-packages (from pandas) (2019.3)\n",
      "Requirement already satisfied: numpy>=1.13.3 in /home/ddaedalus/Documents/files/Patrec_ntua/patrec19/lib/python3.6/site-packages (from pandas) (1.17.3)\n",
      "Requirement already satisfied: python-dateutil>=2.6.1 in /home/ddaedalus/Documents/files/Patrec_ntua/patrec19/lib/python3.6/site-packages (from pandas) (2.8.1)\n",
      "Requirement already satisfied: six>=1.5 in /home/ddaedalus/Documents/files/Patrec_ntua/patrec19/lib/python3.6/site-packages (from python-dateutil>=2.6.1->pandas) (1.12.0)\n",
      "Collecting torch\n",
      "\u001b[?25l  Downloading https://files.pythonhosted.org/packages/88/95/90e8c4c31cfc67248bf944ba42029295b77159982f532c5689bcfe4e9108/torch-1.3.1-cp36-cp36m-manylinux1_x86_64.whl (734.6MB)\n",
      "\u001b[K     |████████▋                       | 198.5MB 626kB/s eta 0:14:17    |▋                               | 14.8MB 316kB/s eta 0:37:54     |▋                               | 14.8MB 316kB/s eta 0:37:54     |█▎                              | 30.1MB 637kB/s eta 0:18:25     |█▌                              | 33.7MB 286kB/s eta 0:40:50     |█▊                              | 40.2MB 795kB/s eta 0:14:33     |█▉                              | 43.0MB 355kB/s eta 0:32:27     |██▌                             | 57.7MB 613kB/s eta 0:18:24     |██▋                             | 60.7MB 436kB/s eta 0:25:43     |██▉                             | 66.0MB 203kB/s eta 0:54:40     |███▎                            | 75.7MB 302kB/s eta 0:36:16     |███▌                            | 80.3MB 880kB/s eta 0:12:23     |███▊                            | 84.7MB 541kB/s eta 0:20:01     |████▏                           | 94.4MB 823kB/s eta 0:12:57     |████▍                           | 100.0MB 487kB/s eta 0:21:42     |█████                           | 113.9MB 646kB/s eta 0:16:00     |█████                           | 115.9MB 224kB/s eta 0:46:01     |█████                           | 116.3MB 449kB/s eta 0:22:57     |█████▏                          | 119.7MB 375kB/s eta 0:27:16     |█████▍                          | 124.9MB 522kB/s eta 0:19:27     |██████▎                         | 144.8MB 344kB/s eta 0:28:33     |██████▍                         | 147.1MB 580kB/s eta 0:16:53     |██████▌                         | 148.7MB 340kB/s eta 0:28:39     |██████▉                         | 156.7MB 225kB/s eta 0:42:47     |███████                         | 159.3MB 537kB/s eta 0:17:51     |███████                         | 159.3MB 537kB/s eta 0:17:51     |███████▎                        | 167.6MB 466kB/s eta 0:20:17     |███████▎                        | 167.9MB 274kB/s eta 0:34:25     |███████▌                        | 170.9MB 495kB/s eta 0:18:58     |███████▌                        | 173.2MB 252kB/s eta 0:36:59     |███████▋                        | 174.7MB 421kB/s eta 0:22:10     |███████▋                        | 175.6MB 356kB/s eta 0:26:07     |███████▊                        | 176.9MB 365kB/s eta 0:25:24     |███████▊                        | 177.6MB 463kB/s eta 0:20:01     |████████                        | 184.0MB 513kB/s eta 0:17:52     |████████▏                       | 187.3MB 567kB/s eta 0:16:04     |████████▎                       | 189.3MB 325kB/s eta 0:27:55     |████████▍                       | 192.4MB 229kB/s eta 0:39:23     |████████▍                       | 193.4MB 298kB/s eta 0:30:12     |████████▋                       | 198.2MB 2.9MB/s eta 0:03:03"
     ]
    }
   ],
   "source": [
    "!pip install sklearn\n",
    "!pip install scikit-image\n",
    "!pip install numpy\n",
    "!pip install matplotlib\n",
    "!pip install pandas\n",
    "!pip install torch\n",
    "!pip install torchvision"
   ]
  },
  {
   "cell_type": "markdown",
   "metadata": {},
   "source": [
    "### Βήμα 1  \n",
    "Εδώ γίνεται η ανάγνωση των αρχείων. Είναι οργανωμένα σε γραμμές και στήλες με κάθε γραμμή να περιέχει τα 'χαρακτηριστικά' της κάθε εικόνας, δηλαδή το label αρχικά και στη συνέχεια τις τιμές των 256 pixels. Τα pixels γίνονται unroll από το δισδιάσταο χώρο σε μια διάσταση παραθέτοντας τις γραμμές της εικόνας τη μια μετά την άλλη. Οι τιμές των pixels είναι πραγματικοί αριθμοί στο διάστημα [-1, +1] και τα labels ακέραιοι από 0 μέχρι το 9. Το train set περιέχει 7291 εικόνες και το test 2007. Τα δεδομένα αποθηκεύτηκαν σε δομή δεδομένων np array και οργανώθηκαν σε πίνακες χαρακτηριστικών X και παράλληλους με αυτούς πίνακες με τα label Y. Συνολικά έχουμε 4 πίνακες X_train, Y_train, X_test και Y_test."
   ]
  },
  {
   "cell_type": "code",
   "execution_count": 345,
   "metadata": {},
   "outputs": [
    {
     "name": "stdout",
     "output_type": "stream",
     "text": [
      "[[-1.    -1.    -1.    ... -1.    -1.    -1.   ]\n",
      " [-1.    -1.    -1.    ... -0.671 -0.828 -1.   ]\n",
      " [-1.    -1.    -1.    ... -1.    -1.    -1.   ]\n",
      " ...\n",
      " [-1.    -1.    -1.    ... -1.    -1.    -1.   ]\n",
      " [-1.    -1.    -1.    ... -1.    -1.    -1.   ]\n",
      " [-1.    -1.    -1.    ... -1.    -1.    -1.   ]]\n",
      "[6. 5. 4. ... 3. 0. 1.]\n"
     ]
    }
   ],
   "source": [
    "import numpy as np\n",
    "\n",
    "# Read train.txt\n",
    "# X_train, Y_train\n",
    "with open('train.txt', 'r') as f:\n",
    "    l = [[(num) for num in line.split(' ')] for line in f]\n",
    "DATA = np.zeros( (len(l), len(l[0])-1) )\n",
    "for i in range(len(l)):\n",
    "    for j in range(len(l[0])-1):\n",
    "        DATA[i][j]=float(l[i][j][:])\n",
    "\n",
    "X_train = DATA[:,1:]\n",
    "Y_train = DATA[0:,0]\n",
    "print(X_train)\n",
    "print(Y_train)"
   ]
  },
  {
   "cell_type": "code",
   "execution_count": 346,
   "metadata": {},
   "outputs": [
    {
     "name": "stdout",
     "output_type": "stream",
     "text": [
      "[[-1. -1. -1. ... -1. -1. -1.]\n",
      " [-1. -1. -1. ... -1. -1. -1.]\n",
      " [-1. -1. -1. ... -1. -1. -1.]\n",
      " ...\n",
      " [-1. -1. -1. ... -1. -1. -1.]\n",
      " [-1. -1. -1. ... -1. -1. -1.]\n",
      " [-1. -1. -1. ... -1. -1. -1.]]\n",
      "[9. 6. 3. ... 4. 0. 1.]\n"
     ]
    }
   ],
   "source": [
    "import numpy as np\n",
    "\n",
    "# Read text.txt\n",
    "# X_test, Y_test\n",
    "with open('test.txt', 'r') as f:\n",
    "    l = [[(num) for num in line.split(' ')] for line in f]\n",
    "TEST = np.zeros( (len(l), len(l[0])-1) )\n",
    "for i in range(len(l)):\n",
    "    for j in range(len(l[0])-1):\n",
    "        TEST[i][j]=float(l[i][j][:])\n",
    "\n",
    "X_test = TEST[:,1:]\n",
    "Y_test = TEST[0:,0]\n",
    "print(X_test)\n",
    "print(Y_test)\n"
   ]
  },
  {
   "cell_type": "markdown",
   "metadata": {},
   "source": [
    "### Βήμα 2  \n",
    "Εκτυπώνουμε την εικόνα υπ'αριθμόν 131 του train set. Βλέπουμε πως είναι το ψηφίο 0. Παρατηρούμε ότι η χρωματική κλίμακα του plot πηγαίνει από μοβ (χαμηλές τιμές στα pixel) σε κίτρινο (υψηλές τιμές). Το σχέδιο εντοπίζεται εκεί που οι τιμές των pixels είναι υψηλότερες.\n"
   ]
  },
  {
   "cell_type": "code",
   "execution_count": 5,
   "metadata": {},
   "outputs": [
    {
     "name": "stdout",
     "output_type": "stream",
     "text": [
      "Image 131: 16x16\n",
      "3 first rows:\n",
      "[[-1.    -1.    -1.     0.068  1.     0.219 -1.    -1.    -1.    -1.\n",
      "  -1.    -1.    -1.    -1.    -1.    -1.   ]\n",
      " [-1.    -1.     0.171  0.993  1.     0.948 -0.899 -1.    -1.    -1.\n",
      "  -1.    -1.    -1.    -1.    -1.    -1.   ]\n",
      " [-1.    -0.996  0.446  1.     1.     1.     0.93   0.915  0.656  0.059\n",
      "  -0.714 -1.    -1.    -1.    -1.    -1.   ]]\n"
     ]
    },
    {
     "data": {
      "text/plain": [
       "<function matplotlib.pyplot.show(*args, **kw)>"
      ]
     },
     "execution_count": 5,
     "metadata": {},
     "output_type": "execute_result"
    }
   ],
   "source": [
    "# 131th training example\n",
    "ex131 = X_train[130,:]\n",
    "image131 = np.reshape(ex131, (16,16))\n",
    "print(\"Image 131: 16x16\")\n",
    "print(\"3 first rows:\")\n",
    "print(image131[0:3])\n",
    "\n",
    "# Plot Image\n",
    "import matplotlib.pyplot as plt\n",
    "# 16x16 image\n",
    "plt.imshow(image131)\n",
    "plt.title('imageNO131')\n",
    "plt.show"
   ]
  },
  {
   "cell_type": "markdown",
   "metadata": {},
   "source": [
    "## Βήμα 3  \n",
    "Εκτυπώνουμε ένα δείγμα από κάθε label σε κοινό γράφημα. Παρατηρούμε ότι υπάρχει μια αταξία στα σχήματα, χωρίς αυτό να τα καθιστά όμως δυσνόητα στον άνθρωπο. Οι εικόνες είναι κεντραρισμένες στο ψηφίο που απεικονίζουν ενώ η κλίμακα είναι κάθε φορά τέτοια ώστε τα άκρα του σκίτσου να ακουμπάνε στα άκρα της εικόνας. Το κεντράρισμα και η εστίαση έχουν μεγάλη σημασία για τη διαδικασία της μάθησης και αν δεν ήταν έτοιμα στο dataset θα έπρεπε να τα ρυθμίσουμε οι ίδιοι. Το ίδιο ισχύει και για τη φωτεινότητα των pixels, τα οποία όπως ελέγξαμε έχουν τιμές κανονικοποιημένες στο [-1, 1] (χωρίς NAN). "
   ]
  },
  {
   "cell_type": "code",
   "execution_count": 6,
   "metadata": {},
   "outputs": [
    {
     "data": {
      "image/png": "[encoded data removed]",
      "text/plain": [
       "<Figure size 1152x1152 with 10 Axes>"
      ]
     },
     "metadata": {
      "needs_background": "light"
     },
     "output_type": "display_data"
    }
   ],
   "source": [
    "idxs = [50, 71, 63, 31, 84, 120, 51, 26, 60, 87]\n",
    "fig = plt.figure(figsize=(16, 16))\n",
    "columns = 10\n",
    "rows = 5\n",
    "i = 0\n",
    "for idx in idxs:\n",
    "    i += 1\n",
    "    im = X_train[idx-1,:]\n",
    "    img = np.reshape(im, (16,16))\n",
    "    fig.add_subplot(rows, columns, i)\n",
    "    plt.imshow(img)\n",
    "fig.suptitle('Example token images for each label', fontsize=42)\n",
    "\n",
    "plt.show()"
   ]
  },
  {
   "cell_type": "markdown",
   "metadata": {},
   "source": [
    "### Βήμα 4  \n",
    "Υπολογίζουμε τη μέση τιμή των χαρακτηριστικών του pixel (10, 10) για το ψηφίο «0» με βάση τα train δεδομένα.\n",
    "Το αποτέλεσμα είναι ένας αριθμός της τάξης του -0.93, δηλαδή μια πολύ μικρή τιμή δεδομένης της κλίμακας [-1,1]. Αυτό σημαίνει πως στη συγκεκριμένη θέση σπάνια βρίσκεται μέρος του σχεδίου του μηδέν, κάτι που είναι αναμενόμενο, μιας και η θέση αυτή είναι κεντρική και το σχήμα του μηδέν έχει κενό στο κέντρο. Σημειώνεται πως το offset στη γραμμή των πινάκων για ένα pixel (I,J) με τα (I,J) να ξεκινούν την αρίθμηση από 1 υπολογίζεται ως i$\\cdot$16 + j.\n",
    "Χρησιμοποιήθηκε η συνιστώμενη τεχνική του vectorization."
   ]
  },
  {
   "cell_type": "code",
   "execution_count": 7,
   "metadata": {},
   "outputs": [
    {
     "data": {
      "text/plain": [
       "-0.9272646566164154"
      ]
     },
     "execution_count": 7,
     "metadata": {},
     "output_type": "execute_result"
    }
   ],
   "source": [
    "xzeros = X_train[Y_train==0]\n",
    "np.mean(xzeros[:,9*16+9])\n"
   ]
  },
  {
   "cell_type": "markdown",
   "metadata": {},
   "source": [
    "### Βήμα 5  \n",
    "Στη συνέχεια υπολογίζουμε τη διασπορά των τιμών για το ίδιο pixel στα ψηφία μηδέν και αυτή με vectorization. Η διαπορά βγαίνει 0.084 και επομένως η τυπική απόκλιση 0.29. Είναι στο εν τρίτο περίπου της ακτίνας του διαστήματος τιμών."
   ]
  },
  {
   "cell_type": "code",
   "execution_count": 8,
   "metadata": {},
   "outputs": [
    {
     "data": {
      "text/plain": [
       "0.08392455977262078"
      ]
     },
     "execution_count": 8,
     "metadata": {},
     "output_type": "execute_result"
    }
   ],
   "source": [
    "xzeros = X_train[Y_train==0]\n",
    "np.std(xzeros[:,9*16+9])**2\n"
   ]
  },
  {
   "cell_type": "markdown",
   "metadata": {},
   "source": [
    "### Βήμα 6\n",
    "Υπολογίζουμε τα ίδια μεγέθη για όλα τα pixel των εικόνων του ψηφίου μηδέν.\n",
    "Για επαλήθευση τα εκτυπώνουμε για το pixel(10,10) και βγαίνουν ίδια με πριν όπως και έπρεπε."
   ]
  },
  {
   "cell_type": "code",
   "execution_count": 9,
   "metadata": {},
   "outputs": [
    {
     "name": "stdout",
     "output_type": "stream",
     "text": [
      "-0.927264656616415\n",
      "0.08392455977261963\n"
     ]
    }
   ],
   "source": [
    "xzeros = X_train[Y_train==0]\n",
    "avg = np.reshape(np.mean(xzeros, axis=0),(16,16))\n",
    "print(avg[9][9])\n",
    "dev = np.reshape(np.std(xzeros, axis=0),(16,16))\n",
    "var = dev**2\n",
    "print(var[9][9])"
   ]
  },
  {
   "cell_type": "markdown",
   "metadata": {},
   "source": [
    "### Βήμα 7\n",
    "Στο παρακάτω plot βλέπουμε την απεικόνιση της μέσης τιμής των pixels για το ψηφίο μηδέν. Η απεικόνιση αυτή έχει τη μορφή του ψηφίου αυτού και είναι πιο καθαρή σε σχέση με τα δείγματα (πιο συμμετρικο, πιο ομαλες καμπύλες, ενιαίο πάχος). Ωστόσο το πάχος έχει αυξηθεί (difusion) και οι τιμές των pixels έχουν μειωθεί στο εσωτερικό του σχήματος (λιγότερο κίρτινα σε σχέση με πριν)."
   ]
  },
  {
   "cell_type": "code",
   "execution_count": 10,
   "metadata": {},
   "outputs": [
    {
     "data": {
      "text/plain": [
       "Text(0.5, 1.0, 'average pixel values')"
      ]
     },
     "execution_count": 10,
     "metadata": {},
     "output_type": "execute_result"
    },
    {
     "data": {
      "image/png": "[encoded data removed]",
      "text/plain": [
       "<Figure size 432x288 with 1 Axes>"
      ]
     },
     "metadata": {
      "needs_background": "light"
     },
     "output_type": "display_data"
    }
   ],
   "source": [
    "plt.imshow(avg)\n",
    "plt.show\n",
    "plt.title('average pixel values')\n"
   ]
  },
  {
   "cell_type": "markdown",
   "metadata": {},
   "source": [
    "### Βήμα 8  \n",
    "Η απεικόνιση που προκύπτει από τη διασπορά είναι πιο διεσταλμένη, αλλά έχει παρόμοια μορφή με αυτή της μέσης τιμής.Η διασπορά είναι μεγαλύτερη εκεί που οι τιμές των εικόνων είναι μεγαλύτερες, δηλαδή εκεί που υπάρχει σκίτσο, όπως και αναμέναμε."
   ]
  },
  {
   "cell_type": "code",
   "execution_count": 11,
   "metadata": {},
   "outputs": [
    {
     "data": {
      "text/plain": [
       "Text(0.5, 1.0, 'pixel variance')"
      ]
     },
     "execution_count": 11,
     "metadata": {},
     "output_type": "execute_result"
    },
    {
     "data": {
      "image/png": "[encoded data removed]",
      "text/plain": [
       "<Figure size 432x288 with 1 Axes>"
      ]
     },
     "metadata": {
      "needs_background": "light"
     },
     "output_type": "display_data"
    }
   ],
   "source": [
    "plt.imshow(var)\n",
    "plt.show\n",
    "plt.title('pixel variance')\n"
   ]
  },
  {
   "cell_type": "markdown",
   "metadata": {},
   "source": [
    "### Βήμα 9  \n",
    "Υπολογίζουμε μέση τιμή και διασπορά για όλα τα pixels για κάθε είδος ψηφίου και τα αποθηκεύουμε σε ενα πίνακα με εξωτερική διάσταση 10 και εσωτερικές 16x16, οπότε έχουμε συνολικά 10 απεικονίσεις. Εδώ δεν εφαρμόσαμε vectorisation αλλά υπολογίσαμε τα μεγέθη από τον ορισμό με iterations πάνω στο dataset. Τυπώνουμε τις εικόνες των μέσων τιμών των pixels σε κοινό figure. Βλέπουμε και πάλι πως τα ψηφία είναι εύκολα αναγνωρίσιμα, με ομαλές καμπύλες, αλλά difused. Το ψηφίο 1 έχει την πιο καθαρή απεικόνιση προφανώς λόγω της απλότητας του σχήματός του ενώ το 2 την πιο συγκεχυμένη."
   ]
  },
  {
   "cell_type": "code",
   "execution_count": 12,
   "metadata": {},
   "outputs": [
    {
     "data": {
      "image/png": "[encoded data removed]",
      "text/plain": [
       "<Figure size 1152x1152 with 10 Axes>"
      ]
     },
     "metadata": {
      "needs_background": "light"
     },
     "output_type": "display_data"
    }
   ],
   "source": [
    "avg = np.zeros((10,16,16))\n",
    "avgq = np.zeros((10,16,16))\n",
    "cnt = np.zeros((10,16,16))\n",
    "for k in range(len(X_train)):\n",
    "    for i in range(0,16):\n",
    "        for j in range(0,16):\n",
    "            cnt[int(Y_train[k])][i][j] += 1\n",
    "            avg[int(Y_train[k])][i][j] += X_train[k][i*16 + j]\n",
    "            avgq[int(Y_train[k])][i][j] += X_train[k][i*16 + j]**2\n",
    "#element wise\n",
    "avg = np.true_divide(avg, cnt) \n",
    "avgq = np.true_divide(avgq, cnt)\n",
    "var = avgq - np.multiply(avg, avg)\n",
    "\n",
    "fig = plt.figure(figsize=(16, 16))\n",
    "columns = 10\n",
    "rows = 5\n",
    "i = 0\n",
    "for k in range(10):\n",
    "    i += 1\n",
    "    im = avg[k,:,:]\n",
    "    img = np.reshape(im, (16,16))\n",
    "    fig.add_subplot(rows, columns, i)\n",
    "    plt.imshow(img)\n",
    "fig.suptitle('average value images for each label', fontsize=42)\n",
    "\n",
    "plt.show()\n"
   ]
  },
  {
   "cell_type": "markdown",
   "metadata": {},
   "source": [
    "### Βήματα 10-11  \n",
    "Χρησιμοποποιούμε τις εικόνες με τις μέσες τιμές των pixels για κάθε label σαν κέντρα και αναθέτουμε σε κάθε εικόνα του test set το label του κέντρου από το οποίο απέχει λιγότερο με βάση την Ευκλείδια απόσταση των διανυσμάτων τους. Δηλαδή το label που ελαχιστοποιεί το τετραγωνικό άθροισμα των διαφορών των τιμών των αντίστοιχων pixel. Η μέθοδος αυτή είχε ποσοστό επιτυχίας 81.4% επί του συνολικού test set. Για παράδειγμα,η εκατοστή πρώτη εικόνα ταξινομήθηκε σωστά στα μηδενικά.\n"
   ]
  },
  {
   "cell_type": "code",
   "execution_count": 13,
   "metadata": {},
   "outputs": [
    {
     "name": "stdout",
     "output_type": "stream",
     "text": [
      "hit rate equals 0.8141504733432985\n",
      "Image NO 101 was given label 0\n",
      "It's real label is 0\n"
     ]
    }
   ],
   "source": [
    "classify=[]\n",
    "for test in X_test:\n",
    "    dist=[]\n",
    "    for label in avg:\n",
    "        dist.append(np.linalg.norm(np.reshape(label, 256)-test))\n",
    "    classify.append(np.argmin(dist))\n",
    "    \n",
    "hits = sum(classify == Y_test) \n",
    "total = len(Y_test)\n",
    "print(\"hit rate equals\", hits / total)\n",
    "\n",
    "print('Image NO 101 was given label', classify[100])\n",
    "print(\"It's real label is\", int(Y_test[100]))"
   ]
  },
  {
   "cell_type": "markdown",
   "metadata": {},
   "source": [
    "### Βήμα 12\n",
    "Υλοποιούμε τον ταξινομητή ευκλείδιας απόστασης σαν ένα scikit-learn estimator. Στη μέθοδο fit υπολογίζουμε τις μέσες τιμές όπως πριν με δεδομένο στα ορίσματα ένα train set. Στην predict αξιοποιούμε τον πίνακα με τις μέσες τιμές (κέντρα) που υπάρχει στην κλάση για για να υπολογίσουμε τα labels για ένα test set που δίνεται στα ορίσματα της μεθόδου.Η μέθοδος επιστρέφει ένα πίνακα με τα labels για καθεμία από τις γραμμές του test. Η μέθοδος score παίρνει ως όρισμα ένα test set χαρακτηριστικών καθώς και τα πραγματικά labels των στοιχείων, καλεί την predict δίνοντας της το συγκεκριμένο test set αι υπολογίζει το ποστό επιτυχίας ταξινόμησης. Ο ταξινομητής μπορεί να δεχτεί δεδομένα σε μορφή δισδιάσταων πινάκων με αυθαίρετο (αλλά φυσικά κοινό) πλήθος χαρακτηριστικών."
   ]
  },
  {
   "cell_type": "code",
   "execution_count": 3,
   "metadata": {},
   "outputs": [],
   "source": [
    "from sklearn.base import BaseEstimator, ClassifierMixin\n",
    "from sklearn.utils.validation import check_X_y, check_array, check_is_fitted\n",
    "from sklearn.utils.multiclass import unique_labels\n",
    "from sklearn.model_selection import learning_curve\n",
    "import numpy as np\n",
    "\n",
    "class EuclideanClassifier(BaseEstimator, ClassifierMixin):  \n",
    "    \"\"\"Classify samples based on the Euclidean distance from the mean feature value\"\"\"\n",
    "\n",
    "    def __init__(self, classes=None):\n",
    "        # Χ_mean: numpy.ndarray of shape (n_classes, n_features)\n",
    "        self.X_mean_ = None\n",
    "        self.classes = None\n",
    "\n",
    "\n",
    "\n",
    "    def fit(self, X, y):\n",
    "        \"\"\"\n",
    "        This should fit classifier. All the \"work\" should be done here.\n",
    "        \n",
    "        Calculates self.X_mean_ based on the mean \n",
    "        feature values in X for each class.\n",
    "        \n",
    "        self.X_mean_ becomes a numpy.ndarray of shape \n",
    "        (n_classes, n_features)\n",
    "        \n",
    "        fit always returns self.\n",
    "        \"\"\"\n",
    "        ## X: (n_training examples)x(n_features)\n",
    "        ## y is an 1d vector: 1x(number of training examples)\n",
    "        \n",
    "        # Check that X and y have correct shape\n",
    "        (X,y) = check_X_y(X, y)\n",
    "        # Store the classes seen during fit\n",
    "        self.classes = unique_labels(y)\n",
    "        \n",
    "        # Number of features\n",
    "        (_, n_features) = X.shape\n",
    "        # Initialization\n",
    "        self.X_mean_ = np.zeros(( (len(self.classes)), n_features ))\n",
    "        \n",
    "        # Compute X_mean_\n",
    "        for label in self.classes:\n",
    "            label = int(label)\n",
    "            labelX = X[y == label]\n",
    "            labelX = np.mean(labelX, axis=0)\n",
    "            self.X_mean_[label] = np.add(self.X_mean_[label], labelX) \n",
    "        \n",
    "        return self\n",
    "\n",
    "\n",
    "    def predict(self, X):\n",
    "        \"\"\"\n",
    "        Make predictions for X based on the\n",
    "        euclidean distance from self.X_mean_\n",
    "        \"\"\"\n",
    "        ## X: (n_tests)x(n_features)\n",
    "        \n",
    "        # Input validation\n",
    "        X = check_array(X)\n",
    "        \n",
    "        # Initialize y_predict\n",
    "        (n_tests, _) = X.shape \n",
    "        y_predict = np.zeros((n_tests, 1))\n",
    "        \n",
    "        for test in range(len(X)):\n",
    "            eucl_classify = []\n",
    "            for train in self.X_mean_:\n",
    "                # Euclidean distance\n",
    "                \n",
    "                eucl_classify.append( np.linalg.norm(train - X[test]) )\n",
    "            # Predict the min euclidean distance for each test\n",
    "            y_predict[test] = np.argmin(eucl_classify)\n",
    "                \n",
    "        return y_predict\n",
    "    \n",
    "    \n",
    "    def score(self, X, y_truth):\n",
    "        \"\"\"\n",
    "        Return accuracy score on the predictions\n",
    "        for X based on ground truth y_truth\n",
    "        \"\"\"\n",
    "        y_predict = self.predict(X)\n",
    "        return ( np.sum([y_predict == y_truth]) ) / ( len(y_predict) )"
   ]
  },
  {
   "cell_type": "markdown",
   "metadata": {},
   "source": [
    "### Βήμα 13(α) \n",
    "Θα χρησιμοποιήσουμε cross validation και θα βγάλουμε ποσοστά επιτυχίας για διαφορετικούς διαχωρισμούς των δεδομένων σε train και test. Συνενώνουμε τα test και train set που μας δίνονται σε ένα συνολικό διάνυσμα δεδομένων και κάθε φορά παίρνουμε διαφορετικό κομμάτι του συνολικού διανύσματος σαν train set. Πάνω σε αυτό εκπαιδεύουμε τον ταξινομητή και στη συνέχεια χρησιμοποιούμε τα υπόλοιπα δεδομένα σαν test. Αυτό το επαναλαμβάνουμε για 5 διαφορετικά σπασίματα των δεδομένων, βρίσκουμε κάθε φορά το ποσοστό επιτυχίας και τελικά παίρνουμε το μέσο όρο αυτών για να έχουμε κι ένα συνολικό ποσοστό. Με τη μέθοδο αυτή αξιοποιούμε καλύτερα τα διαθέσιμα δεδομένα για την εξαγωγή ενός αντιπροσωπευτικού ποσοστού επιτυχίας μιας και κάθε example χρησιμοποιείται τελικά και ως train στοιχείο και ως test. Φυσικά αυτοί οι 2 ρόλοι απαγορεύεται να συνυπάρξουν για ένα στοιχείο στην ίδια επανάληψη, γιατί νοθεύεται έτσι η διαδικασία πρόβλεψης."
   ]
  },
  {
   "cell_type": "code",
   "execution_count": 3,
   "metadata": {},
   "outputs": [
    {
     "ename": "NameError",
     "evalue": "name 'EuclideanClassifier' is not defined",
     "output_type": "error",
     "traceback": [
      "\u001b[0;31m---------------------------------------------------------------------------\u001b[0m",
      "\u001b[0;31mNameError\u001b[0m                                 Traceback (most recent call last)",
      "\u001b[0;32m<ipython-input-3-97d44fa4a1a0>\u001b[0m in \u001b[0;36m<module>\u001b[0;34m\u001b[0m\n\u001b[1;32m     42\u001b[0m \u001b[0;34m\u001b[0m\u001b[0m\n\u001b[1;32m     43\u001b[0m \u001b[0;31m# 5-Fold Cross Validation\u001b[0m\u001b[0;34m\u001b[0m\u001b[0;34m\u001b[0m\u001b[0;34m\u001b[0m\u001b[0m\n\u001b[0;32m---> 44\u001b[0;31m scores = cross_val_score(EuclideanClassifier(), X, y, \n\u001b[0m\u001b[1;32m     45\u001b[0m                          \u001b[0mcv\u001b[0m\u001b[0;34m=\u001b[0m\u001b[0mKFold\u001b[0m\u001b[0;34m(\u001b[0m\u001b[0mn_splits\u001b[0m\u001b[0;34m=\u001b[0m\u001b[0;36m5\u001b[0m\u001b[0;34m,\u001b[0m \u001b[0mrandom_state\u001b[0m\u001b[0;34m=\u001b[0m\u001b[0;36m32\u001b[0m\u001b[0;34m)\u001b[0m\u001b[0;34m,\u001b[0m\u001b[0;34m\u001b[0m\u001b[0;34m\u001b[0m\u001b[0m\n\u001b[1;32m     46\u001b[0m                          scoring=\"accuracy\")\n",
      "\u001b[0;31mNameError\u001b[0m: name 'EuclideanClassifier' is not defined"
     ]
    }
   ],
   "source": [
    "import warnings\n",
    "warnings.filterwarnings(\"ignore\",category=DeprecationWarning)\n",
    "warnings.filterwarnings(\"ignore\",category=FutureWarning)\n",
    "\n",
    "import numpy as np\n",
    "from sklearn.model_selection import KFold\n",
    "from sklearn.model_selection import cross_val_score\n",
    "\n",
    "# Read train.txt\n",
    "# X_train, Y_train\n",
    "train = []\n",
    "with open(\"train.txt\", 'r') as f:\n",
    "    for line in f:\n",
    "        line = line.split(\" \")\n",
    "        del line[-1]\n",
    "        for i in range(0, len(line)):\n",
    "            line[i] = float(line[i])\n",
    "        train.append(line.copy())\n",
    "   \n",
    "train = np.asarray(train)\n",
    "\n",
    "y_train = train[0:,0]\n",
    "X_train = train[:,1:]\n",
    "\n",
    "import numpy as np\n",
    "\n",
    "# Read text.txt\n",
    "# X_test, Y_test\n",
    "with open('test.txt', 'r') as f:\n",
    "    l = [[(num) for num in line.split(' ')] for line in f]\n",
    "TEST = np.zeros( (len(l), len(l[0])-1) )\n",
    "for i in range(len(l)):\n",
    "    for j in range(len(l[0])-1):\n",
    "        TEST[i][j]=float(l[i][j][:])\n",
    "TEST[0:2][0:2589999]\n",
    "\n",
    "X_test = TEST[:,1:]\n",
    "Y_test = TEST[0:,0]\n",
    "\n",
    "X = np.concatenate((X_train,X_test), axis=0)\n",
    "y = np.concatenate((y_train,Y_test), axis=0) \n",
    "\n",
    "# 5-Fold Cross Validation\n",
    "scores = cross_val_score(EuclideanClassifier(), X, y, \n",
    "                         cv=KFold(n_splits=5, random_state=32), \n",
    "                         scoring=\"accuracy\")\n",
    "print('scores on each of the 5 splits: ',scores)\n",
    "print(\"CV Average Score: \" + str(np.mean(scores)))"
   ]
  },
  {
   "cell_type": "markdown",
   "metadata": {},
   "source": [
    "### Βήμα 13(β) \n",
    "Στο σημείο αυτό θα προσπαθήσουμε να απεικονίσουμε τις περιοχές απόφασης του ταξινομητή. Για το σκοπό αυτό θα πρέπει να απομονώσουμε 2 χαρακτηριστικά που να καταφέρνουν όσο το δυνατόν καλύτερα να διαχωρίσουν τα δείγματα. Τα χαρακτηριστικά που δίνονται στο dataset είναι ξεχωριστά. Με τις τιμές 2 pixel μόνο δε μπορούμε να περιμένουμε καλά αποτελέσματα. Θα πρέπει να χρησιμοποιήσουμε καποιους συνδυασμούς των pixels ώστε να πάρουμε ένα κατάλληλο για το διαχωρισμό ενδιάμεσο embedding. Σε κάθε περίπτωση καλό είναι να κανονικοποιήσουμε τις τιμές των χαρακτηριστικών. Δοκιμάζουμε δύο διαφορετικά embeddings.\n",
    "\n",
    "Το πρώτο είναι μια ευριστική απεικόνιση που γίνεται πάνω σε δύο χαρακτηριστικά του σκελετού των σκίτσων: το μήκος του σκελετού που υπολογίζεται ως το άθροισμα των pixels του (boolean τιμές) και ένα μέγεθος που εκφράζει τη διασπορά της \"μάζας\" του σκελετού γύρω από το κέντρο του και υπολογίζεται όπως η ροπή αδρανείας των φυσικών σωμάτων. Ο ταξινομητής καταφέρνει σε αυτό το embedding να ταξινομήσει τα δείγματα με ένα ποσοστό επιτυχίας 25%. Είναι καλύτερο από το εντελώς τυχαίο 10% αλλά πολύ χειρότερο από το 84% του ταξινομητή που αξιοποιεί και τα 256 χαρακτηριστικά.\n",
    "\n",
    "Στο δεύτερο embedding απεικονίσαμε τα 256 χαρακτηριστικά σε 2 διαστάσεις εφαρμόζοντας pca. Ο ταξινομητής πέτυχε σε αυτή την περίπτωση ποσοστό 51%. Είναι εμφανώς χειρότερο από το ποσοστό όταν χρησιμοποιήθηκε πλήρης αριθμός χαρακτηριστικών, ωστόσο για 2 μόνο διαστάσεις είναι ένα ικανοποιητικό αποτέλεσμα.\n",
    "\n",
    " \n",
    "Στα διαγράμματα των περιοχών απόφασης βλέπουμε με συνεχές χρώμα (contour) τις περιοχές απόφασης, δηλαδή για κάθε label το γεωμετρικό τόπο του x-y επιπέδου όπου ο ταξινομητής δεχόμενος την τούπλα [x,y] δίνει ως έξοδο το label αυτό. Επίσης βλέπουμε την απεικόνιση των δειγμάτων του train πάνω στο x-y επίπεδο (scatter). Κάθε σημείο του train πηγαίνει στην κατάλληλη θέση x,y ανάλογα με τις τιμές των χαρακτηριστικών του κι έχει το χρώμα που αντιστοιχεί στο label του. Όσο πιο ομαδοποιημένα είναι τα σημεία και όσο λιγότερο επικαλύπτεται η κάθε ομάδα με τις υπόλοιπες τόσο καλύτερο classification έχουμε πετύχει. Στην περίπτωση των χαρακτηριστικών του σκελετού οι ομάδες που δημιουργούνται έχουν μεγάλη επικάλυψη και γι'αυτό υπάρχει και υψηλό ποσοστό λάθους. Επίσης παρατηρούμε ότι τα δύο χαρακτηριστικά είναι σε κάποιο βαθμό συσχετισμένα με αποτέλεσμα τα σημεία να μην απλώνονται σε όλο το x-y επίπεδο, αλλά να είναι συγκεντρωμένα γύρω από μια ευθεία y=ax. Αντίθετα, στην περίπτωση του pca τα δείγματα κατανέμονται σε όλο το επίπεδο και δημιουργούνται ομάδες με μικρότερη επικάλυψη.\n",
    "\n",
    "Επίσης τυπώνουμε τις τιμές των χαρακτηριστικών για κάθε κέντρο στην περίπτωση του σκελετού και του pca και βλέπουμε πόσο variance έχουν αυτά. Και στις 2 περιπτώσεις υπάρχει μεταβλητότητα από κέντρο σε κέντρο και στην περίπτωση του pca αυτή είναι μεγαλύτερη."
   ]
  },
  {
   "cell_type": "code",
   "execution_count": 16,
   "metadata": {},
   "outputs": [],
   "source": [
    "import warnings\n",
    "warnings.filterwarnings(\"ignore\",category=DeprecationWarning)\n",
    "warnings.filterwarnings(\"ignore\",category=FutureWarning)\n",
    " \n",
    "import numpy as np\n",
    "import matplotlib.pyplot as plt\n",
    "\n",
    "def plot_clf(clf, X, y, labels, plot_labels):\n",
    "    # function that plots decision regions\n",
    "    fig, ax = plt.subplots()\n",
    "    # title for the plots\n",
    "    title = ('Decision surface of Classifier')\n",
    "    \n",
    "    # Initializations\n",
    "    # X0: Skeleton area\n",
    "    # X1: Skeleton variance\n",
    "    X0, X1 = X[:,0], X[:,1]\n",
    "    \n",
    "    x_min, x_max = X0.min() - 0.2, X0.max() + 0.2\n",
    "    y_min, y_max = X1.min() - 0.2, X1.max() + 0.2\n",
    "    xx, yy = np.meshgrid(np.arange(x_min, x_max, .05),\n",
    "                         np.arange(y_min, y_max, .05))\n",
    "    \n",
    "    Z = clf.predict(np.c_[xx.ravel(), yy.ravel()])\n",
    "    Z = Z.reshape(xx.shape)\n",
    "    out = ax.contourf(xx, yy, Z, cmap=plt.cm.coolwarm, alpha=0.8)\n",
    "    \n",
    "    colors = ['red', 'yellow', 'blue', 'green', 'black', 'purple', 'orange', 'silver', 'grey', 'brown']  \n",
    "    \n",
    "    for label in labels:\n",
    "        ax.scatter(\n",
    "            X0[y == label], X1[y == label],\n",
    "            c=(colors[int(label)]), label=int(label),\n",
    "            s=60, alpha=0.9, edgecolors='k'\n",
    "        )\n",
    "    \n",
    "    ax.set_ylabel(plot_labels[1])\n",
    "    ax.set_xlabel(plot_labels[0])\n",
    "    ax.set_xticks(())\n",
    "    ax.set_yticks(())\n",
    "    ax.set_title(title)\n",
    "    ax.legend()\n",
    "    plt.show()\n"
   ]
  },
  {
   "cell_type": "code",
   "execution_count": 17,
   "metadata": {},
   "outputs": [],
   "source": [
    "import warnings\n",
    "warnings.filterwarnings(\"ignore\",category=DeprecationWarning)\n",
    "warnings.filterwarnings(\"ignore\",category=FutureWarning)\n",
    "\n",
    "import numpy as np\n",
    "import matplotlib.pyplot as plt\n",
    "\n",
    "def znorm(x, axis=0):\n",
    "    return (x - x.min(axis=axis)) / (x.max(axis=axis) - (x.min(axis=axis)))\n",
    "\n",
    "# Descriptor 1: Skeleton Area\n",
    "def area_skeleton(skeleton):\n",
    "    # Area of the image skeleton\n",
    "    area_skeleton = sum(sum(skeleton))    \n",
    "    \n",
    "    return area_skeleton\n",
    "\n",
    "# Descriptor 2: Skeleton Variance\n",
    "def variance_skeleton(skeleton, area_skeleton):\n",
    "    # Rx, Ry\n",
    "    Ri = 0\n",
    "    Rj = 0\n",
    "    for i in range(16):\n",
    "        for j in range(16):\n",
    "            if (skeleton[i][j] == True):\n",
    "                Ri += i\n",
    "                Rj += j\n",
    "    Ri /= area_skeleton\n",
    "    Rj /= area_skeleton\n",
    "\n",
    "    # Moment of Inertia, Angular Mass\n",
    "    I = 0\n",
    "    for i in range(16):\n",
    "        for j in range(16):\n",
    "            if (skeleton[i][j] == True):\n",
    "                I += (Ri - i)**2 + (Rj - j)**2\n",
    "                \n",
    "    return I"
   ]
  },
  {
   "cell_type": "code",
   "execution_count": 18,
   "metadata": {},
   "outputs": [
    {
     "name": "stdout",
     "output_type": "stream",
     "text": [
      "feature values for each center:\n",
      "[[0.51523575 0.45013227]\n",
      " [0.18880068 0.07921207]\n",
      " [0.36909509 0.28291601]\n",
      " [0.393326   0.34217179]\n",
      " [0.27835792 0.14145521]\n",
      " [0.41332466 0.35345816]\n",
      " [0.32075109 0.20279671]\n",
      " [0.27725548 0.19402933]\n",
      " [0.34898328 0.24784081]\n",
      " [0.27494384 0.15785788]]\n",
      "scores on each of the 5 splits:  [0.24742975 0.27572016 0.2345679  0.22702332 0.24348422]\n",
      "CV Average Score: 0.245645071365377\n"
     ]
    },
    {
     "data": {
      "image/png": "[encoded data removed]",
      "text/plain": [
       "<Figure size 432x288 with 1 Axes>"
      ]
     },
     "metadata": {},
     "output_type": "display_data"
    }
   ],
   "source": [
    "X_tr = X_train[:,:]\n",
    "y_tr = y_train[:]\n",
    "\n",
    "# Initializations\n",
    "# X0: Skeleton area\n",
    "# X1: Skeleton variance\n",
    "X0, X1 = np.zeros((len(X_tr), 1)), np.zeros((len(X_tr), 1))\n",
    " \n",
    "from skimage.morphology import skeletonize\n",
    "\n",
    "# Produce descriptor features for plot\n",
    "for i in range(len(X_tr)):\n",
    "    img = ((X_tr[i].reshape(16,16)) + np.ones((16,16))) / 2\n",
    "    skeleton = skeletonize(img) \n",
    "    X0[i] = area_skeleton(skeleton)\n",
    "    X1[i] = variance_skeleton(skeleton, X0[i])\n",
    "      \n",
    "# Normalization and Concatenation        \n",
    "X = np.concatenate((znorm(X0), znorm(X1)), axis=1)\n",
    "\n",
    "clf = EuclideanClassifier()\n",
    "clf.fit(X, y_tr)  \n",
    "print('feature values for each center:')\n",
    "print(clf.X_mean_)\n",
    "\n",
    "# 5-Fold Cross Validation\n",
    "scores = cross_val_score(EuclideanClassifier(), X, y_tr, \n",
    "                         cv=KFold(n_splits=5, random_state=22), \n",
    "                         scoring=\"accuracy\")\n",
    "print('scores on each of the 5 splits: ',scores)\n",
    "print(\"CV Average Score: \" + str(np.mean(scores)))\n",
    "\n",
    "\n",
    "plot_clf(clf, X, y_tr, clf.classes, [\"area\", \"variance\"])"
   ]
  },
  {
   "cell_type": "code",
   "execution_count": 19,
   "metadata": {},
   "outputs": [
    {
     "name": "stdout",
     "output_type": "stream",
     "text": [
      "feature values for each center:\n",
      "[[ 9.13878319 -1.97268035]\n",
      " [-7.99260963 -2.46549525]\n",
      " [ 1.05846681 -0.49171914]\n",
      " [ 1.47803375  0.61565643]\n",
      " [-2.20735107  2.33450617]\n",
      " [ 2.27891266 -0.73171485]\n",
      " [ 0.85915018 -5.29428935]\n",
      " [-2.82662184  7.26218099]\n",
      " [-1.70981372  0.52004699]\n",
      " [-3.53088206  3.44987449]]\n",
      "scores on each of the 5 splits:  [0.50582591 0.56652949 0.5048011  0.47050754 0.49931413]\n",
      "CV Average Score: 0.5093956343061514\n"
     ]
    },
    {
     "data": {
      "image/png": "[encoded data removed]",
      "text/plain": [
       "<Figure size 432x288 with 1 Axes>"
      ]
     },
     "metadata": {},
     "output_type": "display_data"
    }
   ],
   "source": [
    "import warnings\n",
    "warnings.filterwarnings(\"ignore\",category=DeprecationWarning)\n",
    "warnings.filterwarnings(\"ignore\",category=FutureWarning)\n",
    "\n",
    "import pandas as pd\n",
    "from sklearn.preprocessing import StandardScaler\n",
    "from sklearn.decomposition import PCA\n",
    "\n",
    "X_t = pd.DataFrame(data=X_train)\n",
    "X_t = StandardScaler().fit_transform(X_t)\n",
    "pca = PCA(n_components=2)\n",
    "principalComponents = pca.fit_transform(X_t)\n",
    "\n",
    "principalDf = pd.DataFrame(data = principalComponents\n",
    "             , columns = ['principal component 1', 'principal component 2'])\n",
    "X_tr = np.array(principalDf)\n",
    "X = X_tr\n",
    "''' \n",
    "# Normalization and Concatenation  \n",
    "X0, X1 = (np.reshape(X_tr[:,0], (len(X_tr), 1))), (np.reshape(X_tr[:,1], (len(X_tr), 1)))\n",
    "X = np.concatenate((znorm(X0), znorm(X1)), axis=1)\n",
    "'''  \n",
    "\n",
    "# Euclidean Classifier\n",
    "clf = EuclideanClassifier()\n",
    "clf.fit(X, y_tr)  \n",
    "\n",
    "print('feature values for each center:')\n",
    "print(clf.X_mean_)\n",
    "\n",
    "# 5-Fold Cross Validation\n",
    "scores = cross_val_score(EuclideanClassifier(), X, y_tr, \n",
    "                         cv=KFold(n_splits=5, random_state=32), \n",
    "                         scoring=\"accuracy\")\n",
    "print('scores on each of the 5 splits: ',scores)\n",
    "print(\"CV Average Score: \" + str(np.mean(scores)))\n",
    "\n",
    "plot_clf(clf, X, y_tr, clf.classes, [\"PCA Component 1\", \"PCA Component 2\"])"
   ]
  },
  {
   "cell_type": "markdown",
   "metadata": {},
   "source": [
    "### Βήμα 13(γ) \n",
    "Τέλος κάνουμε plot το learning curve.\n",
    "To διάγραμμα αυτό μας δείχνει πως μεταβάλλεται το training score και το cross-validation score καθώς προσθέτουμε δείγματα στη μάθηση. Υψηλό training score δείχνει καλό fitting (lower bias), αν όμως αυτό συνοδεύεται με χαμηλό validation score σημαίνει πως υπάρχει υψηλό variance και overfitting. Θέλουμε να βρούμε μια καλή ισορροπία μεταξύ αυτών των παραμέτρων ώστε να επιτυγχάνονται καλά score και γενίκευση. Με τη βοήθεια αυτής της καμπύλης βλέπουμε πότε έχει νόημα να σταματήσουμε την εκπαίδευση λόγω κορεσμού (τα score συγκλίνουν σε συγκεκριμένες τιμές καθώς προσθέτουμε δείγματα). Επίσης βλέπουμε αν ο estimator πάσχει από bias error, οπότε τα μεγέθη συγκλίνουν σε κακές τιμές είτε variance error, οπότε το training score είναι πολύ ψηλότερο από το cross-validation score. Στην πρώτη περίπτωση έχει πρόβλημα το μοντέλο μας είτε η παραμετροποίησή του ενώ στη δεύτερη περιμένουμε ότι αύξηση του αριθμού των δειγμάτων μάθησης θα βελτίωνε την ικανότητα γενίκευσης.\n",
    "\n",
    "Στο δικό μας παράδειγμα το training score πέφτει (ελαφρώς) και το validation score αυξάνει καθώς προσθέτουμε δείγματα ξεκινώντας από 1000, ενώ μετά τα 4000 δείγματα επέρχεται σύγκλιση. Ξεκινάμε την εκπαίδευση από ένα ποσοστό της τάξης του 10% των δειγμάτων και φροντίζουμε στο αρχικό ποσοστό να υπάρχουν δείγματα από όλες τις πιθανές κλάσεις. Αν θέλουμε να μην είναι υποχρεωτικό αυτό πρέπει να ξαναορίσουμε τον ταξινομητή ώστε να έχει προκαθορισμένες κλάσεις αντί να μαθαίνει δυναμικά ποιες είναι αυτές καθώς έρχονται νέα δείγματα. Το κάνουμε στο τέλος και αυτό για να έχουμε μια εικόνα του τι συμβαίνει για πολύ μικρό αριθμό δειγμάτων. Για μικρό αριθμό δειγμάτων το training score είναι πολύ υψηλό και το cross validation score πολύ χαμηλό."
   ]
  },
  {
   "cell_type": "code",
   "execution_count": 20,
   "metadata": {},
   "outputs": [],
   "source": [
    "import warnings\n",
    "\n",
    "from sklearn.model_selection import learning_curve\n",
    "import numpy as np\n",
    "\n",
    "X = np.concatenate((X_train,X_test), axis=0)\n",
    "y = np.concatenate((y_train,Y_test), axis=0) \n",
    "\n",
    "train_sizes, train_scores, test_scores = learning_curve(\n",
    "    EuclideanClassifier(), X, y, cv=5, n_jobs=-1, scoring = \"accuracy\",\n",
    "    train_sizes=np.linspace(0.11, 1.0, 5))"
   ]
  },
  {
   "cell_type": "code",
   "execution_count": 21,
   "metadata": {},
   "outputs": [
    {
     "data": {
      "text/plain": [
       "<module 'matplotlib.pyplot' from '/home/ddaedalus/Documents/files/Patrec_ntua/patrec19/lib/python3.6/site-packages/matplotlib/pyplot.py'>"
      ]
     },
     "execution_count": 21,
     "metadata": {},
     "output_type": "execute_result"
    },
    {
     "data": {
      "image/png": "[encoded data removed]",
      "text/plain": [
       "<Figure size 432x288 with 1 Axes>"
      ]
     },
     "metadata": {
      "needs_background": "light"
     },
     "output_type": "display_data"
    }
   ],
   "source": [
    "\n",
    "import matplotlib.pyplot as plt \n",
    "\n",
    "def plot_learning_curve(train_scores, test_scores, train_sizes, ylim=(0, 1)):\n",
    "    plt.figure()\n",
    "    plt.title(\"Learning Curve\")\n",
    "    if ylim is not None:\n",
    "        plt.ylim(*ylim)\n",
    "    plt.xlabel(\"Training examples\")\n",
    "    plt.ylabel(\"Score\")\n",
    "    \n",
    "    \n",
    "    \n",
    "    train_scores_mean = np.mean(train_scores, axis=1)\n",
    "    train_scores_std = np.std(train_scores, axis=1)\n",
    "    test_scores_mean = np.mean(test_scores, axis=1)\n",
    "    test_scores_std = np.std(test_scores, axis=1)\n",
    "    plt.grid()\n",
    "\n",
    "    plt.fill_between(train_sizes, train_scores_mean - train_scores_std,\n",
    "                     train_scores_mean + train_scores_std, alpha=0.1,\n",
    "                     color=\"r\")\n",
    "    plt.fill_between(train_sizes, test_scores_mean - test_scores_std,\n",
    "                     test_scores_mean + test_scores_std, alpha=0.1, color=\"g\")\n",
    "    plt.plot(train_sizes, train_scores_mean, 'o-', color=\"r\",\n",
    "             label=\"Training score\")\n",
    "    plt.plot(train_sizes, test_scores_mean, 'o-', color=\"g\",\n",
    "             label=\"Cross-validation score\")\n",
    "\n",
    "    plt.legend(loc=\"best\")\n",
    "    return plt\n",
    "\n",
    "plot_learning_curve(train_scores, test_scores, train_sizes, ylim=(.6, 1))"
   ]
  },
  {
   "cell_type": "code",
   "execution_count": 22,
   "metadata": {},
   "outputs": [
    {
     "data": {
      "text/plain": [
       "<module 'matplotlib.pyplot' from '/home/ddaedalus/Documents/files/Patrec_ntua/patrec19/lib/python3.6/site-packages/matplotlib/pyplot.py'>"
      ]
     },
     "execution_count": 22,
     "metadata": {},
     "output_type": "execute_result"
    },
    {
     "data": {
      "image/png": "[encoded data removed]",
      "text/plain": [
       "<Figure size 432x288 with 1 Axes>"
      ]
     },
     "metadata": {
      "needs_background": "light"
     },
     "output_type": "display_data"
    }
   ],
   "source": [
    "from sklearn.base import BaseEstimator, ClassifierMixin\n",
    "from sklearn.utils.validation import check_X_y, check_array, check_is_fitted\n",
    "from sklearn.utils.multiclass import unique_labels\n",
    "from sklearn.model_selection import learning_curve\n",
    "import numpy as np\n",
    "\n",
    "\n",
    "#redifining the euclidean estimator to have a predefined number of classes so that we can start from a low number of training samples for the learning curve\n",
    "\n",
    "\n",
    "class EuclideanClassifier(BaseEstimator, ClassifierMixin):  \n",
    "    \"\"\"Classify samples based on the Euclidean distance from the mean feature value\"\"\"\n",
    "\n",
    "    def __init__(self, classes=None):\n",
    "        # Χ_mean: numpy.ndarray of shape (n_classes, n_features)\n",
    "        self.X_mean_ = None\n",
    "        self.classes = None\n",
    "\n",
    "\n",
    "\n",
    "    def fit(self, X, y):\n",
    "        \"\"\"\n",
    "        This should fit classifier. All the \"work\" should be done here.\n",
    "        \n",
    "        Calculates self.X_mean_ based on the mean \n",
    "        feature values in X for each class.\n",
    "        \n",
    "        self.X_mean_ becomes a numpy.ndarray of shape \n",
    "        (n_classes, n_features)\n",
    "        \n",
    "        fit always returns self.\n",
    "        \"\"\"\n",
    "        ## X: (n_training examples)x(n_features)\n",
    "        ## y is an 1d vector: 1x(number of training examples)\n",
    "        \n",
    "        # Check that X and y have correct shape\n",
    "        (X,y) = check_X_y(X, y)\n",
    "        # Store the classes seen during fit\n",
    "        self.classes =  np.linspace(0, 9, num=10)\n",
    "        \n",
    "        # Number of features\n",
    "        (_, n_features) = X.shape\n",
    "        # Initialization\n",
    "        self.X_mean_ = np.zeros(( (len(self.classes)), n_features ))\n",
    "        \n",
    "        # Compute X_mean_\n",
    "        for label in self.classes:\n",
    "            label = int(label)\n",
    "            labelX = X[y == label]\n",
    "            labelX = np.mean(labelX, axis=0)\n",
    "            self.X_mean_[label] = np.add(self.X_mean_[label], labelX) \n",
    "        \n",
    "        return self\n",
    "\n",
    "\n",
    "    def predict(self, X):\n",
    "        \"\"\"\n",
    "        Make predictions for X based on the\n",
    "        euclidean distance from self.X_mean_\n",
    "        \"\"\"\n",
    "        ## X: (n_tests)x(n_features)\n",
    "        \n",
    "        # Input validation\n",
    "        X = check_array(X)\n",
    "        \n",
    "        # Initialize y_predict\n",
    "        (n_tests, _) = X.shape \n",
    "        y_predict = np.zeros((n_tests, 1))\n",
    "        \n",
    "        for test in range(len(X)):\n",
    "            eucl_classify = []\n",
    "            for train in self.X_mean_:\n",
    "                # Euclidean distance\n",
    "                \n",
    "                eucl_classify.append( np.linalg.norm(train - X[test]) )\n",
    "            # Predict the min euclidean distance for each test\n",
    "            y_predict[test] = np.argmin(eucl_classify)\n",
    "                \n",
    "        return y_predict\n",
    "    \n",
    "    \n",
    "    def score(self, X, y_truth):\n",
    "        \"\"\"\n",
    "        Return accuracy score on the predictions\n",
    "        for X based on ground truth y_truth\n",
    "        \"\"\"\n",
    "        y_predict = self.predict(X)\n",
    "        return ( np.sum([y_predict == y_truth]) ) / ( len(y_predict) )\n",
    "    \n",
    "    \n",
    "train_sizes, train_scores, test_scores = learning_curve(\n",
    "    EuclideanClassifier(), X, y, cv=30, n_jobs=-1, scoring = \"accuracy\",\n",
    "    train_sizes=np.linspace(0.01, 1.0, 10))\n",
    "\n",
    "\n",
    "plot_learning_curve(train_scores, test_scores, train_sizes, ylim=(0.4, 1))\n",
    "\n"
   ]
  },
  {
   "cell_type": "markdown",
   "metadata": {},
   "source": [
    "### Βημα 14\n",
    "Βρίσκουμε τις a priori πιθανότητες για κάθε κλάση/label που μπορεί ένα δείγμα να ταξινομηθεί, δηλαδή από το Y_train βρίσκουμε για κάθε κλάση c το $P(Y_c) = \\dfrac {N_c}{N}$. Προφανώς, περιμένουμε το άθροισμα τους να ισούται με 1."
   ]
  },
  {
   "cell_type": "code",
   "execution_count": 23,
   "metadata": {},
   "outputs": [
    {
     "name": "stdout",
     "output_type": "stream",
     "text": [
      "[0.16376354409546015, 0.13784117405019888, 0.10026059525442327, 0.09024825126868742, 0.08942531888629818, 0.07625840076807022, 0.09107118365107666, 0.08846523110684405, 0.07433822520916199, 0.08832807570977919]\n",
      "1.0\n"
     ]
    }
   ],
   "source": [
    "# Find the a priori probalities for each class/label \n",
    "labels = [([Y_train == label]) for label in unique_labels(Y_train)]\n",
    "Y_train_size = len(Y_train)\n",
    "a_priori = [(np.sum(label, axis=1) / Y_train_size)[0] for label in labels]\n",
    "print(a_priori)\n",
    "\n",
    "# Checked sum(a_priori = 1)\n",
    "print(sum(a_priori))"
   ]
  },
  {
   "cell_type": "markdown",
   "metadata": {},
   "source": [
    "### Βήμα 15"
   ]
  },
  {
   "cell_type": "code",
   "execution_count": 20,
   "metadata": {},
   "outputs": [],
   "source": [
    "class BayesianClassifier(BaseEstimator, ClassifierMixin):\n",
    "    # Bayesian Classifier\n",
    "    def __init__(self):\n",
    "        # Χ_mean: numpy.ndarray of shape (n_classes, n_features)\n",
    "        self.a_priori = None\n",
    "        n_labels = None\n",
    "        n_features = None\n",
    "        var = None\n",
    "        sigma = None\n",
    "        avg = None\n",
    "    \n",
    "    def fit(self, X, y):\n",
    "        self.n_labels = len(unique_labels(y))\n",
    "        self.n_features = X.shape[1]\n",
    "        \n",
    "        # Find a priori probabilities\n",
    "        labels = [([y == label]) for label in unique_labels(y)]\n",
    "        y_train_size = len(y)\n",
    "        self.a_priori = [(np.sum(label, axis=1) / y_train_size)[0] for label in labels]\n",
    "\n",
    "        # Find mean,var for each class/label\n",
    "        self.avg = np.zeros((self.n_labels, self.n_features))\n",
    "        avgq = np.zeros((self.n_labels, self.n_features))\n",
    "        cnt = np.zeros((self.n_labels, self.n_features))\n",
    "        for k in range(len(X)):\n",
    "            for i in range(self.n_features):\n",
    "                cnt[int(y[k])][i] += 1\n",
    "                self.avg[int(y[k])][i] += X[k][i]\n",
    "                avgq[int(y[k])][i] += X[k][i]**2\n",
    "        # μ\n",
    "        self.avg = np.true_divide(self.avg, cnt) \n",
    "        avgq = np.true_divide(avgq, cnt)\n",
    "        # σ^2, σ\n",
    "        self.var = avgq - (self.avg)**2\n",
    "        self.sigma = (self.var)**0.5\n",
    "        \n",
    "        return self\n",
    "    \n",
    "        \n",
    "    def predict(self, X):\n",
    "        # Bayes Classifier predict on given test data \n",
    "        # return [np.argmin( (np.sum(np.log(self.sigma + 0.0001), axis=1) + np.sum(np.true_divide((X[i] - self.avg)**2, self.var + 0.0001), axis=1)) - np.log(self.a_priori) ) for i in len(X)]\n",
    "        y_predict = np.zeros(len(X))\n",
    "        i = 0\n",
    "        log_a_priori = np.log(self.a_priori)\n",
    "        for x in X:\n",
    "            expPart = np.true_divide((x - self.avg)**2, self.var + 0.0001)\n",
    "            sumPart = np.sum(expPart, axis=1)\n",
    "            varPart = np.sum(np.log(self.sigma + 0.0001), axis=1)\n",
    "            res = (varPart + sumPart) - log_a_priori\n",
    "            y_predict[i] = np.argmin(res)\n",
    "            i += 1\n",
    "        \n",
    "        return y_predict\n",
    "    \n",
    "    \n",
    "    def score(self, X, y_truth):\n",
    "        y_predict = self.predict(X)\n",
    "        \n",
    "        return ( np.sum([y_predict == y_truth]) ) / ( len(y_predict) )\n",
    "            \n",
    "        \n",
    "    def predict_proba(self, X):\n",
    "        # Returns probability estimates for the test vector X.\n",
    "        prob_predict = np.zeros(len(X), n_labels)\n",
    "        i = 0\n",
    "        log_a_priori = np.log(self.a_priori)\n",
    "        for x in X:\n",
    "            expPart = np.true_divide((x - self.avg)**2, self.var + 0.0001)\n",
    "            sumPart = np.sum(expPart, axis=1)\n",
    "            varPart = np.sum(np.log(self.sigma + 0.0001), axis=1)\n",
    "            res = (varPart + sumPart) - log_a_priori\n",
    "            prob_predict[i] = res\n",
    "            i += 1\n",
    "        \n",
    "        return prob_predict        "
   ]
  },
  {
   "cell_type": "markdown",
   "metadata": {},
   "source": [
    "### Βήμα 15(α)"
   ]
  },
  {
   "cell_type": "code",
   "execution_count": 25,
   "metadata": {},
   "outputs": [
    {
     "name": "stdout",
     "output_type": "stream",
     "text": [
      "[9. 6. 3. ... 4. 0. 1.]\n"
     ]
    }
   ],
   "source": [
    "clf = BayesianClassifier()\n",
    "clf.fit(X_train, Y_train)\n",
    "y_predict = clf.predict(X_test)\n",
    "print(y_predict)"
   ]
  },
  {
   "cell_type": "markdown",
   "metadata": {},
   "source": [
    "### Βήμα 15(β)  \n",
    "Κανουμε cross-validation, ενω δεν το θελει..."
   ]
  },
  {
   "cell_type": "code",
   "execution_count": 26,
   "metadata": {},
   "outputs": [
    {
     "name": "stdout",
     "output_type": "stream",
     "text": [
      "Current Score: 0.7787742899850523\n",
      "scores on each of the 5 splits:  [0.83225806 0.81935484 0.77849462 0.80688542 0.77945132]\n",
      "CV Average Score: 0.8032888534129228\n"
     ]
    }
   ],
   "source": [
    "print(\"Current Score: \" + str(clf.score(X_test, Y_test)))\n",
    "# 5-Fold Cross Validation\n",
    "scores = cross_val_score(BayesianClassifier(), X, y, \n",
    "                         cv=KFold(n_splits=5, random_state=32), \n",
    "                         scoring=\"accuracy\")\n",
    "print('Bayesian Classifier scores on each of the 5 splits: ',scores)\n",
    "print(\"CV Average Score: \" + str(np.mean(scores)))"
   ]
  },
  {
   "cell_type": "markdown",
   "metadata": {},
   "source": [
    "### Βήμα 15(γ)  \n",
    "Σύγκριση με ετοιμο Naive Bayes (sklearn).  \n",
    "To παταμε!!!"
   ]
  },
  {
   "cell_type": "code",
   "execution_count": 27,
   "metadata": {},
   "outputs": [
    {
     "name": "stdout",
     "output_type": "stream",
     "text": [
      "scores on each of the 5 splits:  [0.77956989 0.75806452 0.69892473 0.7380312  0.71382464]\n",
      "CV Average Score: 0.7376829952512335\n"
     ]
    }
   ],
   "source": [
    "from sklearn.naive_bayes import GaussianNB\n",
    "\n",
    "# 5-Fold Cross Validation\n",
    "scores = cross_val_score(GaussianNB(), X, y, \n",
    "                         cv=KFold(n_splits=5, random_state=32), \n",
    "                         scoring=\"accuracy\")\n",
    "print('scores on each of the 5 splits: ',scores)\n",
    "print(\"CV Average Score: \" + str(np.mean(scores)))"
   ]
  },
  {
   "cell_type": "markdown",
   "metadata": {},
   "source": [
    "### Βήμα 16"
   ]
  },
  {
   "cell_type": "markdown",
   "metadata": {},
   "source": [
    "Επαναλαμβάνουμε το 15(α) με $var = 1$"
   ]
  },
  {
   "cell_type": "code",
   "execution_count": 28,
   "metadata": {},
   "outputs": [
    {
     "name": "stdout",
     "output_type": "stream",
     "text": [
      "[9. 2. 3. ... 4. 0. 1.]\n"
     ]
    }
   ],
   "source": [
    "clf = BayesianClassifier()\n",
    "clf.fit(X_train, Y_train)\n",
    "clf.var = np.ones((clf.n_labels, clf.n_features))\n",
    "clf.sigma = np.ones((clf.n_labels, clf.n_features))\n",
    "y_predict = clf.predict(X_test)\n",
    "print(y_predict)"
   ]
  },
  {
   "cell_type": "markdown",
   "metadata": {},
   "source": [
    "Επαναλαμβάνουμε το 15(β) με $var = 1$"
   ]
  },
  {
   "cell_type": "code",
   "execution_count": 29,
   "metadata": {},
   "outputs": [
    {
     "name": "stdout",
     "output_type": "stream",
     "text": [
      "Current Score: 0.8131539611360239\n"
     ]
    }
   ],
   "source": [
    "print(\"Current Score: \" + str(clf.score(X_test, Y_test)))"
   ]
  },
  {
   "cell_type": "markdown",
   "metadata": {},
   "source": [
    "### Βήμα 17"
   ]
  },
  {
   "cell_type": "markdown",
   "metadata": {},
   "source": [
    "K-Nearest-Neighbors, ευρεση k με CV\n",
    "Καναμε πειραματα με κ=1,5,10,50,100 και η ψηλοτερες τιμες ηταν για μικρα κ, ενω η μικροτερες για ηψηλα κ (κ=100)"
   ]
  },
  {
   "cell_type": "code",
   "execution_count": 5,
   "metadata": {},
   "outputs": [
    {
     "name": "stdout",
     "output_type": "stream",
     "text": [
      "KNN Score:\n",
      "0.9436970602889886\n"
     ]
    }
   ],
   "source": [
    "from sklearn.neighbors import KNeighborsClassifier\n",
    "from sklearn.metrics import accuracy_score\n",
    "\n",
    "# k=1 (High Variance)\n",
    "knn = KNeighborsClassifier(n_neighbors=1)\n",
    "knn.fit(X_train, Y_train)\n",
    "y_predict = knn.predict(X_test)\n",
    "print(\"KNN Score:\")\n",
    "print(accuracy_score(Y_test, y_predict))"
   ]
  },
  {
   "cell_type": "markdown",
   "metadata": {},
   "source": [
    "SVM, ευρεση k"
   ]
  },
  {
   "cell_type": "code",
   "execution_count": 55,
   "metadata": {
    "scrolled": false
   },
   "outputs": [
    {
     "name": "stdout",
     "output_type": "stream",
     "text": [
      "# Tuning hyper-parameters for accuracy\n",
      "\n",
      "Best parameters set found on development set:\n",
      "\n",
      "{'C': 10, 'kernel': 'poly'}\n",
      "\n",
      "Grid scores on development set:\n",
      "\n",
      "0.955 (+/-0.007) for {'C': 1, 'gamma': 0.001, 'kernel': 'rbf'}\n",
      "0.913 (+/-0.015) for {'C': 1, 'gamma': 0.0001, 'kernel': 'rbf'}\n",
      "0.968 (+/-0.007) for {'C': 10, 'gamma': 0.001, 'kernel': 'rbf'}\n",
      "0.953 (+/-0.006) for {'C': 10, 'gamma': 0.0001, 'kernel': 'rbf'}\n",
      "0.968 (+/-0.011) for {'C': 100, 'gamma': 0.001, 'kernel': 'rbf'}\n",
      "0.963 (+/-0.010) for {'C': 100, 'gamma': 0.0001, 'kernel': 'rbf'}\n",
      "0.968 (+/-0.011) for {'C': 1000, 'gamma': 0.001, 'kernel': 'rbf'}\n",
      "0.959 (+/-0.009) for {'C': 1000, 'gamma': 0.0001, 'kernel': 'rbf'}\n",
      "0.955 (+/-0.010) for {'C': 1, 'kernel': 'linear'}\n",
      "0.955 (+/-0.010) for {'C': 10, 'kernel': 'linear'}\n",
      "0.955 (+/-0.010) for {'C': 100, 'kernel': 'linear'}\n",
      "0.955 (+/-0.010) for {'C': 1000, 'kernel': 'linear'}\n",
      "0.943 (+/-0.007) for {'C': 1, 'kernel': 'sigmoid'}\n",
      "0.929 (+/-0.015) for {'C': 10, 'kernel': 'sigmoid'}\n",
      "0.895 (+/-0.020) for {'C': 100, 'kernel': 'sigmoid'}\n",
      "0.886 (+/-0.022) for {'C': 1000, 'kernel': 'sigmoid'}\n",
      "0.974 (+/-0.003) for {'C': 1, 'kernel': 'poly'}\n",
      "0.981 (+/-0.006) for {'C': 10, 'kernel': 'poly'}\n",
      "0.980 (+/-0.007) for {'C': 100, 'kernel': 'poly'}\n",
      "0.980 (+/-0.007) for {'C': 1000, 'kernel': 'poly'}\n",
      "\n",
      "Detailed classification report:\n",
      "\n",
      "The model is trained on the full development set.\n",
      "The scores are computed on the full evaluation set.\n",
      "\n",
      "              precision    recall  f1-score   support\n",
      "\n",
      "         0.0       0.98      0.99      0.98       359\n",
      "         1.0       1.00      0.97      0.98       264\n",
      "         2.0       0.94      0.94      0.94       198\n",
      "         3.0       0.95      0.91      0.93       166\n",
      "         4.0       0.90      0.94      0.92       200\n",
      "         5.0       0.93      0.94      0.93       160\n",
      "         6.0       0.96      0.96      0.96       170\n",
      "         7.0       0.99      0.93      0.96       147\n",
      "         8.0       0.91      0.94      0.93       166\n",
      "         9.0       0.95      0.97      0.96       177\n",
      "\n",
      "    accuracy                           0.95      2007\n",
      "   macro avg       0.95      0.95      0.95      2007\n",
      "weighted avg       0.95      0.95      0.95      2007\n",
      "\n",
      "\n",
      "# Tuning hyper-parameters for precision\n",
      "\n"
     ]
    },
    {
     "ename": "ValueError",
     "evalue": "Target is multiclass but average='binary'. Please choose another average setting, one of [None, 'micro', 'macro', 'weighted'].",
     "output_type": "error",
     "traceback": [
      "\u001b[0;31m---------------------------------------------------------------------------\u001b[0m",
      "\u001b[0;31mValueError\u001b[0m                                Traceback (most recent call last)",
      "\u001b[0;32m<ipython-input-55-a1dc99d00e0b>\u001b[0m in \u001b[0;36m<module>\u001b[0;34m\u001b[0m\n\u001b[1;32m     21\u001b[0m     clf = GridSearchCV(SVC(), tuned_parameters, cv=5,\n\u001b[1;32m     22\u001b[0m                        scoring=score)\n\u001b[0;32m---> 23\u001b[0;31m     \u001b[0mclf\u001b[0m\u001b[0;34m.\u001b[0m\u001b[0mfit\u001b[0m\u001b[0;34m(\u001b[0m\u001b[0mX_train\u001b[0m\u001b[0;34m,\u001b[0m \u001b[0mY_train\u001b[0m\u001b[0;34m)\u001b[0m\u001b[0;34m\u001b[0m\u001b[0;34m\u001b[0m\u001b[0m\n\u001b[0m\u001b[1;32m     24\u001b[0m \u001b[0;34m\u001b[0m\u001b[0m\n\u001b[1;32m     25\u001b[0m     \u001b[0mprint\u001b[0m\u001b[0;34m(\u001b[0m\u001b[0;34m\"Best parameters set found on development set:\"\u001b[0m\u001b[0;34m)\u001b[0m\u001b[0;34m\u001b[0m\u001b[0;34m\u001b[0m\u001b[0m\n",
      "\u001b[0;32m~/Documents/files/Patrec_ntua/patrec19/lib/python3.6/site-packages/sklearn/model_selection/_search.py\u001b[0m in \u001b[0;36mfit\u001b[0;34m(self, X, y, groups, **fit_params)\u001b[0m\n\u001b[1;32m    686\u001b[0m                 \u001b[0;32mreturn\u001b[0m \u001b[0mresults\u001b[0m\u001b[0;34m\u001b[0m\u001b[0;34m\u001b[0m\u001b[0m\n\u001b[1;32m    687\u001b[0m \u001b[0;34m\u001b[0m\u001b[0m\n\u001b[0;32m--> 688\u001b[0;31m             \u001b[0mself\u001b[0m\u001b[0;34m.\u001b[0m\u001b[0m_run_search\u001b[0m\u001b[0;34m(\u001b[0m\u001b[0mevaluate_candidates\u001b[0m\u001b[0;34m)\u001b[0m\u001b[0;34m\u001b[0m\u001b[0;34m\u001b[0m\u001b[0m\n\u001b[0m\u001b[1;32m    689\u001b[0m \u001b[0;34m\u001b[0m\u001b[0m\n\u001b[1;32m    690\u001b[0m         \u001b[0;31m# For multi-metric evaluation, store the best_index_, best_params_ and\u001b[0m\u001b[0;34m\u001b[0m\u001b[0;34m\u001b[0m\u001b[0;34m\u001b[0m\u001b[0m\n",
      "\u001b[0;32m~/Documents/files/Patrec_ntua/patrec19/lib/python3.6/site-packages/sklearn/model_selection/_search.py\u001b[0m in \u001b[0;36m_run_search\u001b[0;34m(self, evaluate_candidates)\u001b[0m\n\u001b[1;32m   1147\u001b[0m     \u001b[0;32mdef\u001b[0m \u001b[0m_run_search\u001b[0m\u001b[0;34m(\u001b[0m\u001b[0mself\u001b[0m\u001b[0;34m,\u001b[0m \u001b[0mevaluate_candidates\u001b[0m\u001b[0;34m)\u001b[0m\u001b[0;34m:\u001b[0m\u001b[0;34m\u001b[0m\u001b[0;34m\u001b[0m\u001b[0m\n\u001b[1;32m   1148\u001b[0m         \u001b[0;34m\"\"\"Search all candidates in param_grid\"\"\"\u001b[0m\u001b[0;34m\u001b[0m\u001b[0;34m\u001b[0m\u001b[0m\n\u001b[0;32m-> 1149\u001b[0;31m         \u001b[0mevaluate_candidates\u001b[0m\u001b[0;34m(\u001b[0m\u001b[0mParameterGrid\u001b[0m\u001b[0;34m(\u001b[0m\u001b[0mself\u001b[0m\u001b[0;34m.\u001b[0m\u001b[0mparam_grid\u001b[0m\u001b[0;34m)\u001b[0m\u001b[0;34m)\u001b[0m\u001b[0;34m\u001b[0m\u001b[0;34m\u001b[0m\u001b[0m\n\u001b[0m\u001b[1;32m   1150\u001b[0m \u001b[0;34m\u001b[0m\u001b[0m\n\u001b[1;32m   1151\u001b[0m \u001b[0;34m\u001b[0m\u001b[0m\n",
      "\u001b[0;32m~/Documents/files/Patrec_ntua/patrec19/lib/python3.6/site-packages/sklearn/model_selection/_search.py\u001b[0m in \u001b[0;36mevaluate_candidates\u001b[0;34m(candidate_params)\u001b[0m\n\u001b[1;32m    665\u001b[0m                                \u001b[0;32mfor\u001b[0m \u001b[0mparameters\u001b[0m\u001b[0;34m,\u001b[0m \u001b[0;34m(\u001b[0m\u001b[0mtrain\u001b[0m\u001b[0;34m,\u001b[0m \u001b[0mtest\u001b[0m\u001b[0;34m)\u001b[0m\u001b[0;34m\u001b[0m\u001b[0;34m\u001b[0m\u001b[0m\n\u001b[1;32m    666\u001b[0m                                in product(candidate_params,\n\u001b[0;32m--> 667\u001b[0;31m                                           cv.split(X, y, groups)))\n\u001b[0m\u001b[1;32m    668\u001b[0m \u001b[0;34m\u001b[0m\u001b[0m\n\u001b[1;32m    669\u001b[0m                 \u001b[0;32mif\u001b[0m \u001b[0mlen\u001b[0m\u001b[0;34m(\u001b[0m\u001b[0mout\u001b[0m\u001b[0;34m)\u001b[0m \u001b[0;34m<\u001b[0m \u001b[0;36m1\u001b[0m\u001b[0;34m:\u001b[0m\u001b[0;34m\u001b[0m\u001b[0;34m\u001b[0m\u001b[0m\n",
      "\u001b[0;32m~/Documents/files/Patrec_ntua/patrec19/lib/python3.6/site-packages/joblib/parallel.py\u001b[0m in \u001b[0;36m__call__\u001b[0;34m(self, iterable)\u001b[0m\n\u001b[1;32m   1001\u001b[0m             \u001b[0;31m# remaining jobs.\u001b[0m\u001b[0;34m\u001b[0m\u001b[0;34m\u001b[0m\u001b[0;34m\u001b[0m\u001b[0m\n\u001b[1;32m   1002\u001b[0m             \u001b[0mself\u001b[0m\u001b[0;34m.\u001b[0m\u001b[0m_iterating\u001b[0m \u001b[0;34m=\u001b[0m \u001b[0;32mFalse\u001b[0m\u001b[0;34m\u001b[0m\u001b[0;34m\u001b[0m\u001b[0m\n\u001b[0;32m-> 1003\u001b[0;31m             \u001b[0;32mif\u001b[0m \u001b[0mself\u001b[0m\u001b[0;34m.\u001b[0m\u001b[0mdispatch_one_batch\u001b[0m\u001b[0;34m(\u001b[0m\u001b[0miterator\u001b[0m\u001b[0;34m)\u001b[0m\u001b[0;34m:\u001b[0m\u001b[0;34m\u001b[0m\u001b[0;34m\u001b[0m\u001b[0m\n\u001b[0m\u001b[1;32m   1004\u001b[0m                 \u001b[0mself\u001b[0m\u001b[0;34m.\u001b[0m\u001b[0m_iterating\u001b[0m \u001b[0;34m=\u001b[0m \u001b[0mself\u001b[0m\u001b[0;34m.\u001b[0m\u001b[0m_original_iterator\u001b[0m \u001b[0;32mis\u001b[0m \u001b[0;32mnot\u001b[0m \u001b[0;32mNone\u001b[0m\u001b[0;34m\u001b[0m\u001b[0;34m\u001b[0m\u001b[0m\n\u001b[1;32m   1005\u001b[0m \u001b[0;34m\u001b[0m\u001b[0m\n",
      "\u001b[0;32m~/Documents/files/Patrec_ntua/patrec19/lib/python3.6/site-packages/joblib/parallel.py\u001b[0m in \u001b[0;36mdispatch_one_batch\u001b[0;34m(self, iterator)\u001b[0m\n\u001b[1;32m    832\u001b[0m                 \u001b[0;32mreturn\u001b[0m \u001b[0;32mFalse\u001b[0m\u001b[0;34m\u001b[0m\u001b[0;34m\u001b[0m\u001b[0m\n\u001b[1;32m    833\u001b[0m             \u001b[0;32melse\u001b[0m\u001b[0;34m:\u001b[0m\u001b[0;34m\u001b[0m\u001b[0;34m\u001b[0m\u001b[0m\n\u001b[0;32m--> 834\u001b[0;31m                 \u001b[0mself\u001b[0m\u001b[0;34m.\u001b[0m\u001b[0m_dispatch\u001b[0m\u001b[0;34m(\u001b[0m\u001b[0mtasks\u001b[0m\u001b[0;34m)\u001b[0m\u001b[0;34m\u001b[0m\u001b[0;34m\u001b[0m\u001b[0m\n\u001b[0m\u001b[1;32m    835\u001b[0m                 \u001b[0;32mreturn\u001b[0m \u001b[0;32mTrue\u001b[0m\u001b[0;34m\u001b[0m\u001b[0;34m\u001b[0m\u001b[0m\n\u001b[1;32m    836\u001b[0m \u001b[0;34m\u001b[0m\u001b[0m\n",
      "\u001b[0;32m~/Documents/files/Patrec_ntua/patrec19/lib/python3.6/site-packages/joblib/parallel.py\u001b[0m in \u001b[0;36m_dispatch\u001b[0;34m(self, batch)\u001b[0m\n\u001b[1;32m    751\u001b[0m         \u001b[0;32mwith\u001b[0m \u001b[0mself\u001b[0m\u001b[0;34m.\u001b[0m\u001b[0m_lock\u001b[0m\u001b[0;34m:\u001b[0m\u001b[0;34m\u001b[0m\u001b[0;34m\u001b[0m\u001b[0m\n\u001b[1;32m    752\u001b[0m             \u001b[0mjob_idx\u001b[0m \u001b[0;34m=\u001b[0m \u001b[0mlen\u001b[0m\u001b[0;34m(\u001b[0m\u001b[0mself\u001b[0m\u001b[0;34m.\u001b[0m\u001b[0m_jobs\u001b[0m\u001b[0;34m)\u001b[0m\u001b[0;34m\u001b[0m\u001b[0;34m\u001b[0m\u001b[0m\n\u001b[0;32m--> 753\u001b[0;31m             \u001b[0mjob\u001b[0m \u001b[0;34m=\u001b[0m \u001b[0mself\u001b[0m\u001b[0;34m.\u001b[0m\u001b[0m_backend\u001b[0m\u001b[0;34m.\u001b[0m\u001b[0mapply_async\u001b[0m\u001b[0;34m(\u001b[0m\u001b[0mbatch\u001b[0m\u001b[0;34m,\u001b[0m \u001b[0mcallback\u001b[0m\u001b[0;34m=\u001b[0m\u001b[0mcb\u001b[0m\u001b[0;34m)\u001b[0m\u001b[0;34m\u001b[0m\u001b[0;34m\u001b[0m\u001b[0m\n\u001b[0m\u001b[1;32m    754\u001b[0m             \u001b[0;31m# A job can complete so quickly than its callback is\u001b[0m\u001b[0;34m\u001b[0m\u001b[0;34m\u001b[0m\u001b[0;34m\u001b[0m\u001b[0m\n\u001b[1;32m    755\u001b[0m             \u001b[0;31m# called before we get here, causing self._jobs to\u001b[0m\u001b[0;34m\u001b[0m\u001b[0;34m\u001b[0m\u001b[0;34m\u001b[0m\u001b[0m\n",
      "\u001b[0;32m~/Documents/files/Patrec_ntua/patrec19/lib/python3.6/site-packages/joblib/_parallel_backends.py\u001b[0m in \u001b[0;36mapply_async\u001b[0;34m(self, func, callback)\u001b[0m\n\u001b[1;32m    199\u001b[0m     \u001b[0;32mdef\u001b[0m \u001b[0mapply_async\u001b[0m\u001b[0;34m(\u001b[0m\u001b[0mself\u001b[0m\u001b[0;34m,\u001b[0m \u001b[0mfunc\u001b[0m\u001b[0;34m,\u001b[0m \u001b[0mcallback\u001b[0m\u001b[0;34m=\u001b[0m\u001b[0;32mNone\u001b[0m\u001b[0;34m)\u001b[0m\u001b[0;34m:\u001b[0m\u001b[0;34m\u001b[0m\u001b[0;34m\u001b[0m\u001b[0m\n\u001b[1;32m    200\u001b[0m         \u001b[0;34m\"\"\"Schedule a func to be run\"\"\"\u001b[0m\u001b[0;34m\u001b[0m\u001b[0;34m\u001b[0m\u001b[0m\n\u001b[0;32m--> 201\u001b[0;31m         \u001b[0mresult\u001b[0m \u001b[0;34m=\u001b[0m \u001b[0mImmediateResult\u001b[0m\u001b[0;34m(\u001b[0m\u001b[0mfunc\u001b[0m\u001b[0;34m)\u001b[0m\u001b[0;34m\u001b[0m\u001b[0;34m\u001b[0m\u001b[0m\n\u001b[0m\u001b[1;32m    202\u001b[0m         \u001b[0;32mif\u001b[0m \u001b[0mcallback\u001b[0m\u001b[0;34m:\u001b[0m\u001b[0;34m\u001b[0m\u001b[0;34m\u001b[0m\u001b[0m\n\u001b[1;32m    203\u001b[0m             \u001b[0mcallback\u001b[0m\u001b[0;34m(\u001b[0m\u001b[0mresult\u001b[0m\u001b[0;34m)\u001b[0m\u001b[0;34m\u001b[0m\u001b[0;34m\u001b[0m\u001b[0m\n",
      "\u001b[0;32m~/Documents/files/Patrec_ntua/patrec19/lib/python3.6/site-packages/joblib/_parallel_backends.py\u001b[0m in \u001b[0;36m__init__\u001b[0;34m(self, batch)\u001b[0m\n\u001b[1;32m    580\u001b[0m         \u001b[0;31m# Don't delay the application, to avoid keeping the input\u001b[0m\u001b[0;34m\u001b[0m\u001b[0;34m\u001b[0m\u001b[0;34m\u001b[0m\u001b[0m\n\u001b[1;32m    581\u001b[0m         \u001b[0;31m# arguments in memory\u001b[0m\u001b[0;34m\u001b[0m\u001b[0;34m\u001b[0m\u001b[0;34m\u001b[0m\u001b[0m\n\u001b[0;32m--> 582\u001b[0;31m         \u001b[0mself\u001b[0m\u001b[0;34m.\u001b[0m\u001b[0mresults\u001b[0m \u001b[0;34m=\u001b[0m \u001b[0mbatch\u001b[0m\u001b[0;34m(\u001b[0m\u001b[0;34m)\u001b[0m\u001b[0;34m\u001b[0m\u001b[0;34m\u001b[0m\u001b[0m\n\u001b[0m\u001b[1;32m    583\u001b[0m \u001b[0;34m\u001b[0m\u001b[0m\n\u001b[1;32m    584\u001b[0m     \u001b[0;32mdef\u001b[0m \u001b[0mget\u001b[0m\u001b[0;34m(\u001b[0m\u001b[0mself\u001b[0m\u001b[0;34m)\u001b[0m\u001b[0;34m:\u001b[0m\u001b[0;34m\u001b[0m\u001b[0;34m\u001b[0m\u001b[0m\n",
      "\u001b[0;32m~/Documents/files/Patrec_ntua/patrec19/lib/python3.6/site-packages/joblib/parallel.py\u001b[0m in \u001b[0;36m__call__\u001b[0;34m(self)\u001b[0m\n\u001b[1;32m    254\u001b[0m         \u001b[0;32mwith\u001b[0m \u001b[0mparallel_backend\u001b[0m\u001b[0;34m(\u001b[0m\u001b[0mself\u001b[0m\u001b[0;34m.\u001b[0m\u001b[0m_backend\u001b[0m\u001b[0;34m,\u001b[0m \u001b[0mn_jobs\u001b[0m\u001b[0;34m=\u001b[0m\u001b[0mself\u001b[0m\u001b[0;34m.\u001b[0m\u001b[0m_n_jobs\u001b[0m\u001b[0;34m)\u001b[0m\u001b[0;34m:\u001b[0m\u001b[0;34m\u001b[0m\u001b[0;34m\u001b[0m\u001b[0m\n\u001b[1;32m    255\u001b[0m             return [func(*args, **kwargs)\n\u001b[0;32m--> 256\u001b[0;31m                     for func, args, kwargs in self.items]\n\u001b[0m\u001b[1;32m    257\u001b[0m \u001b[0;34m\u001b[0m\u001b[0m\n\u001b[1;32m    258\u001b[0m     \u001b[0;32mdef\u001b[0m \u001b[0m__len__\u001b[0m\u001b[0;34m(\u001b[0m\u001b[0mself\u001b[0m\u001b[0;34m)\u001b[0m\u001b[0;34m:\u001b[0m\u001b[0;34m\u001b[0m\u001b[0;34m\u001b[0m\u001b[0m\n",
      "\u001b[0;32m~/Documents/files/Patrec_ntua/patrec19/lib/python3.6/site-packages/joblib/parallel.py\u001b[0m in \u001b[0;36m<listcomp>\u001b[0;34m(.0)\u001b[0m\n\u001b[1;32m    254\u001b[0m         \u001b[0;32mwith\u001b[0m \u001b[0mparallel_backend\u001b[0m\u001b[0;34m(\u001b[0m\u001b[0mself\u001b[0m\u001b[0;34m.\u001b[0m\u001b[0m_backend\u001b[0m\u001b[0;34m,\u001b[0m \u001b[0mn_jobs\u001b[0m\u001b[0;34m=\u001b[0m\u001b[0mself\u001b[0m\u001b[0;34m.\u001b[0m\u001b[0m_n_jobs\u001b[0m\u001b[0;34m)\u001b[0m\u001b[0;34m:\u001b[0m\u001b[0;34m\u001b[0m\u001b[0;34m\u001b[0m\u001b[0m\n\u001b[1;32m    255\u001b[0m             return [func(*args, **kwargs)\n\u001b[0;32m--> 256\u001b[0;31m                     for func, args, kwargs in self.items]\n\u001b[0m\u001b[1;32m    257\u001b[0m \u001b[0;34m\u001b[0m\u001b[0m\n\u001b[1;32m    258\u001b[0m     \u001b[0;32mdef\u001b[0m \u001b[0m__len__\u001b[0m\u001b[0;34m(\u001b[0m\u001b[0mself\u001b[0m\u001b[0;34m)\u001b[0m\u001b[0;34m:\u001b[0m\u001b[0;34m\u001b[0m\u001b[0;34m\u001b[0m\u001b[0m\n",
      "\u001b[0;32m~/Documents/files/Patrec_ntua/patrec19/lib/python3.6/site-packages/sklearn/model_selection/_validation.py\u001b[0m in \u001b[0;36m_fit_and_score\u001b[0;34m(estimator, X, y, scorer, train, test, verbose, parameters, fit_params, return_train_score, return_parameters, return_n_test_samples, return_times, return_estimator, error_score)\u001b[0m\n\u001b[1;32m    554\u001b[0m         \u001b[0mfit_time\u001b[0m \u001b[0;34m=\u001b[0m \u001b[0mtime\u001b[0m\u001b[0;34m.\u001b[0m\u001b[0mtime\u001b[0m\u001b[0;34m(\u001b[0m\u001b[0;34m)\u001b[0m \u001b[0;34m-\u001b[0m \u001b[0mstart_time\u001b[0m\u001b[0;34m\u001b[0m\u001b[0;34m\u001b[0m\u001b[0m\n\u001b[1;32m    555\u001b[0m         \u001b[0;31m# _score will return dict if is_multimetric is True\u001b[0m\u001b[0;34m\u001b[0m\u001b[0;34m\u001b[0m\u001b[0;34m\u001b[0m\u001b[0m\n\u001b[0;32m--> 556\u001b[0;31m         \u001b[0mtest_scores\u001b[0m \u001b[0;34m=\u001b[0m \u001b[0m_score\u001b[0m\u001b[0;34m(\u001b[0m\u001b[0mestimator\u001b[0m\u001b[0;34m,\u001b[0m \u001b[0mX_test\u001b[0m\u001b[0;34m,\u001b[0m \u001b[0my_test\u001b[0m\u001b[0;34m,\u001b[0m \u001b[0mscorer\u001b[0m\u001b[0;34m,\u001b[0m \u001b[0mis_multimetric\u001b[0m\u001b[0;34m)\u001b[0m\u001b[0;34m\u001b[0m\u001b[0;34m\u001b[0m\u001b[0m\n\u001b[0m\u001b[1;32m    557\u001b[0m         \u001b[0mscore_time\u001b[0m \u001b[0;34m=\u001b[0m \u001b[0mtime\u001b[0m\u001b[0;34m.\u001b[0m\u001b[0mtime\u001b[0m\u001b[0;34m(\u001b[0m\u001b[0;34m)\u001b[0m \u001b[0;34m-\u001b[0m \u001b[0mstart_time\u001b[0m \u001b[0;34m-\u001b[0m \u001b[0mfit_time\u001b[0m\u001b[0;34m\u001b[0m\u001b[0;34m\u001b[0m\u001b[0m\n\u001b[1;32m    558\u001b[0m         \u001b[0;32mif\u001b[0m \u001b[0mreturn_train_score\u001b[0m\u001b[0;34m:\u001b[0m\u001b[0;34m\u001b[0m\u001b[0;34m\u001b[0m\u001b[0m\n",
      "\u001b[0;32m~/Documents/files/Patrec_ntua/patrec19/lib/python3.6/site-packages/sklearn/model_selection/_validation.py\u001b[0m in \u001b[0;36m_score\u001b[0;34m(estimator, X_test, y_test, scorer, is_multimetric)\u001b[0m\n\u001b[1;32m    597\u001b[0m     \"\"\"\n\u001b[1;32m    598\u001b[0m     \u001b[0;32mif\u001b[0m \u001b[0mis_multimetric\u001b[0m\u001b[0;34m:\u001b[0m\u001b[0;34m\u001b[0m\u001b[0;34m\u001b[0m\u001b[0m\n\u001b[0;32m--> 599\u001b[0;31m         \u001b[0;32mreturn\u001b[0m \u001b[0m_multimetric_score\u001b[0m\u001b[0;34m(\u001b[0m\u001b[0mestimator\u001b[0m\u001b[0;34m,\u001b[0m \u001b[0mX_test\u001b[0m\u001b[0;34m,\u001b[0m \u001b[0my_test\u001b[0m\u001b[0;34m,\u001b[0m \u001b[0mscorer\u001b[0m\u001b[0;34m)\u001b[0m\u001b[0;34m\u001b[0m\u001b[0;34m\u001b[0m\u001b[0m\n\u001b[0m\u001b[1;32m    600\u001b[0m     \u001b[0;32melse\u001b[0m\u001b[0;34m:\u001b[0m\u001b[0;34m\u001b[0m\u001b[0;34m\u001b[0m\u001b[0m\n\u001b[1;32m    601\u001b[0m         \u001b[0;32mif\u001b[0m \u001b[0my_test\u001b[0m \u001b[0;32mis\u001b[0m \u001b[0;32mNone\u001b[0m\u001b[0;34m:\u001b[0m\u001b[0;34m\u001b[0m\u001b[0;34m\u001b[0m\u001b[0m\n",
      "\u001b[0;32m~/Documents/files/Patrec_ntua/patrec19/lib/python3.6/site-packages/sklearn/model_selection/_validation.py\u001b[0m in \u001b[0;36m_multimetric_score\u001b[0;34m(estimator, X_test, y_test, scorers)\u001b[0m\n\u001b[1;32m    627\u001b[0m             \u001b[0mscore\u001b[0m \u001b[0;34m=\u001b[0m \u001b[0mscorer\u001b[0m\u001b[0;34m(\u001b[0m\u001b[0mestimator\u001b[0m\u001b[0;34m,\u001b[0m \u001b[0mX_test\u001b[0m\u001b[0;34m)\u001b[0m\u001b[0;34m\u001b[0m\u001b[0;34m\u001b[0m\u001b[0m\n\u001b[1;32m    628\u001b[0m         \u001b[0;32melse\u001b[0m\u001b[0;34m:\u001b[0m\u001b[0;34m\u001b[0m\u001b[0;34m\u001b[0m\u001b[0m\n\u001b[0;32m--> 629\u001b[0;31m             \u001b[0mscore\u001b[0m \u001b[0;34m=\u001b[0m \u001b[0mscorer\u001b[0m\u001b[0;34m(\u001b[0m\u001b[0mestimator\u001b[0m\u001b[0;34m,\u001b[0m \u001b[0mX_test\u001b[0m\u001b[0;34m,\u001b[0m \u001b[0my_test\u001b[0m\u001b[0;34m)\u001b[0m\u001b[0;34m\u001b[0m\u001b[0;34m\u001b[0m\u001b[0m\n\u001b[0m\u001b[1;32m    630\u001b[0m \u001b[0;34m\u001b[0m\u001b[0m\n\u001b[1;32m    631\u001b[0m         \u001b[0;32mif\u001b[0m \u001b[0mhasattr\u001b[0m\u001b[0;34m(\u001b[0m\u001b[0mscore\u001b[0m\u001b[0;34m,\u001b[0m \u001b[0;34m'item'\u001b[0m\u001b[0;34m)\u001b[0m\u001b[0;34m:\u001b[0m\u001b[0;34m\u001b[0m\u001b[0;34m\u001b[0m\u001b[0m\n",
      "\u001b[0;32m~/Documents/files/Patrec_ntua/patrec19/lib/python3.6/site-packages/sklearn/metrics/scorer.py\u001b[0m in \u001b[0;36m__call__\u001b[0;34m(self, estimator, X, y_true, sample_weight)\u001b[0m\n\u001b[1;32m     95\u001b[0m         \u001b[0;32melse\u001b[0m\u001b[0;34m:\u001b[0m\u001b[0;34m\u001b[0m\u001b[0;34m\u001b[0m\u001b[0m\n\u001b[1;32m     96\u001b[0m             return self._sign * self._score_func(y_true, y_pred,\n\u001b[0;32m---> 97\u001b[0;31m                                                  **self._kwargs)\n\u001b[0m\u001b[1;32m     98\u001b[0m \u001b[0;34m\u001b[0m\u001b[0m\n\u001b[1;32m     99\u001b[0m \u001b[0;34m\u001b[0m\u001b[0m\n",
      "\u001b[0;32m~/Documents/files/Patrec_ntua/patrec19/lib/python3.6/site-packages/sklearn/metrics/classification.py\u001b[0m in \u001b[0;36mprecision_score\u001b[0;34m(y_true, y_pred, labels, pos_label, average, sample_weight)\u001b[0m\n\u001b[1;32m   1567\u001b[0m                                                  \u001b[0maverage\u001b[0m\u001b[0;34m=\u001b[0m\u001b[0maverage\u001b[0m\u001b[0;34m,\u001b[0m\u001b[0;34m\u001b[0m\u001b[0;34m\u001b[0m\u001b[0m\n\u001b[1;32m   1568\u001b[0m                                                  \u001b[0mwarn_for\u001b[0m\u001b[0;34m=\u001b[0m\u001b[0;34m(\u001b[0m\u001b[0;34m'precision'\u001b[0m\u001b[0;34m,\u001b[0m\u001b[0;34m)\u001b[0m\u001b[0;34m,\u001b[0m\u001b[0;34m\u001b[0m\u001b[0;34m\u001b[0m\u001b[0m\n\u001b[0;32m-> 1569\u001b[0;31m                                                  sample_weight=sample_weight)\n\u001b[0m\u001b[1;32m   1570\u001b[0m     \u001b[0;32mreturn\u001b[0m \u001b[0mp\u001b[0m\u001b[0;34m\u001b[0m\u001b[0;34m\u001b[0m\u001b[0m\n\u001b[1;32m   1571\u001b[0m \u001b[0;34m\u001b[0m\u001b[0m\n",
      "\u001b[0;32m~/Documents/files/Patrec_ntua/patrec19/lib/python3.6/site-packages/sklearn/metrics/classification.py\u001b[0m in \u001b[0;36mprecision_recall_fscore_support\u001b[0;34m(y_true, y_pred, beta, labels, pos_label, average, warn_for, sample_weight)\u001b[0m\n\u001b[1;32m   1413\u001b[0m         \u001b[0;32mraise\u001b[0m \u001b[0mValueError\u001b[0m\u001b[0;34m(\u001b[0m\u001b[0;34m\"beta should be >0 in the F-beta score\"\u001b[0m\u001b[0;34m)\u001b[0m\u001b[0;34m\u001b[0m\u001b[0;34m\u001b[0m\u001b[0m\n\u001b[1;32m   1414\u001b[0m     labels = _check_set_wise_labels(y_true, y_pred, average, labels,\n\u001b[0;32m-> 1415\u001b[0;31m                                     pos_label)\n\u001b[0m\u001b[1;32m   1416\u001b[0m \u001b[0;34m\u001b[0m\u001b[0m\n\u001b[1;32m   1417\u001b[0m     \u001b[0;31m# Calculate tp_sum, pred_sum, true_sum ###\u001b[0m\u001b[0;34m\u001b[0m\u001b[0;34m\u001b[0m\u001b[0;34m\u001b[0m\u001b[0m\n",
      "\u001b[0;32m~/Documents/files/Patrec_ntua/patrec19/lib/python3.6/site-packages/sklearn/metrics/classification.py\u001b[0m in \u001b[0;36m_check_set_wise_labels\u001b[0;34m(y_true, y_pred, average, labels, pos_label)\u001b[0m\n\u001b[1;32m   1252\u001b[0m             raise ValueError(\"Target is %s but average='binary'. Please \"\n\u001b[1;32m   1253\u001b[0m                              \u001b[0;34m\"choose another average setting, one of %r.\"\u001b[0m\u001b[0;34m\u001b[0m\u001b[0;34m\u001b[0m\u001b[0m\n\u001b[0;32m-> 1254\u001b[0;31m                              % (y_type, average_options))\n\u001b[0m\u001b[1;32m   1255\u001b[0m     \u001b[0;32melif\u001b[0m \u001b[0mpos_label\u001b[0m \u001b[0;32mnot\u001b[0m \u001b[0;32min\u001b[0m \u001b[0;34m(\u001b[0m\u001b[0;32mNone\u001b[0m\u001b[0;34m,\u001b[0m \u001b[0;36m1\u001b[0m\u001b[0;34m)\u001b[0m\u001b[0;34m:\u001b[0m\u001b[0;34m\u001b[0m\u001b[0;34m\u001b[0m\u001b[0m\n\u001b[1;32m   1256\u001b[0m         warnings.warn(\"Note that pos_label (set to %r) is ignored when \"\n",
      "\u001b[0;31mValueError\u001b[0m: Target is multiclass but average='binary'. Please choose another average setting, one of [None, 'micro', 'macro', 'weighted']."
     ]
    }
   ],
   "source": [
    "from sklearn.model_selection import train_test_split\n",
    "from sklearn.model_selection import GridSearchCV\n",
    "from sklearn.metrics import classification_report\n",
    "from sklearn.svm import SVC\n",
    "\n",
    "# Set the parameters by cross-validation\n",
    "tuned_parameters = [{'kernel': ['rbf'], 'gamma': [1e-3, 1e-4],\n",
    "                     'C': [1, 10, 100, 1000]},\n",
    "                    {'kernel': ['linear'], 'C': [1, 10, 100, 1000]},\n",
    "                   {'kernel': ['sigmoid'], 'C': [1, 10, 100, 1000]},\n",
    "                   {'kernel': ['poly'], 'C': [1, 10, 100, 1000]}]\n",
    "\n",
    "scores = ['accuracy']\n",
    "\n",
    "for score in scores:\n",
    "    print(\"# Tuning hyper-parameters for %s\" % score)\n",
    "    print()\n",
    "\n",
    "    # GridSearchCV \n",
    "    clf = GridSearchCV(SVC(), tuned_parameters, cv=5,\n",
    "                       scoring=score)\n",
    "    clf.fit(X_train, Y_train)\n",
    "\n",
    "    print(\"Best parameters set found on development set:\")\n",
    "    print()\n",
    "    print(clf.best_params_)\n",
    "    print()\n",
    "    print(\"Grid scores on development set:\")\n",
    "    print()\n",
    "    means = clf.cv_results_['mean_test_score']\n",
    "    stds = clf.cv_results_['std_test_score']\n",
    "    for mean, std, params in zip(means, stds, clf.cv_results_['params']):\n",
    "        print(\"%0.3f (+/-%0.03f) for %r\"\n",
    "              % (mean, std * 2, params))\n",
    "    print()\n",
    "\n",
    "    print(\"Detailed classification report:\")\n",
    "    print()\n",
    "    print(\"The model is trained on the full development set.\")\n",
    "    print(\"The scores are computed on the full evaluation set.\")\n",
    "    print()\n",
    "    y_true, y_predict = Y_test, clf.predict(X_test)\n",
    "    print(classification_report(y_true, y_predict))\n",
    "    print()"
   ]
  },
  {
   "cell_type": "markdown",
   "metadata": {},
   "source": [
    "Αρα, **SVM > KNN > Euclidean Classifier > Bayesian Classifier**"
   ]
  },
  {
   "cell_type": "markdown",
   "metadata": {},
   "source": [
    "### Βήμα 18(α)"
   ]
  },
  {
   "cell_type": "code",
   "execution_count": 42,
   "metadata": {},
   "outputs": [
    {
     "name": "stdout",
     "output_type": "stream",
     "text": [
      "clf1 accuracy score: 0.9531639262580966\n",
      "clf2 accuracy score: 0.9526656701544594\n",
      "clf3 accuracy score: 0.9526656701544594\n",
      "Soft VotingClassifier score: 0.9551569506726457\n"
     ]
    }
   ],
   "source": [
    "from sklearn.ensemble import VotingClassifier\n",
    "from sklearn.svm import SVC\n",
    "from sklearn.neighbors import KNeighborsClassifier\n",
    "from sklearn.naive_bayes import GaussianNB\n",
    "from sklearn.metrics import accuracy_score\n",
    "\n",
    "clf1 = SVC(C=10, kernel='poly', probability=True)     # 95.31 %\n",
    "clf2 = SVC(C=100, kernel='poly', probability=True)    # 95.27 %\n",
    "clf3 = SVC(C=1000, kernel='poly', probability=True)   # 95.27 %\n",
    "clf4 = KNeighborsClassifier(n_neighbors=1)\n",
    "clf5 = KNeighborsClassifier(n_neighbors=5)\n",
    "clf6 = SVC(C=100, gamma=0.001, kernel='rbf', probability=True)\n",
    "clf7 = SVC(C=1000, gamma=0.001, kernel='rbf', probability=True)\n",
    "\n",
    "clf1.fit(X_train, Y_train)\n",
    "y_pre1 = clf1.predict(X_test)\n",
    "acc_score1 = accuracy_score(Y_test, y_pre1)\n",
    "print(\"clf1 accuracy score: \" + str(acc_score1))\n",
    "\n",
    "clf2.fit(X_train, Y_train)\n",
    "y_pre2 = clf2.predict(X_test)\n",
    "acc_score2 = accuracy_score(Y_test, y_pre2)\n",
    "print(\"clf2 accuracy score: \" + str(acc_score2))\n",
    "\n",
    "clf3.fit(X_train, Y_train)\n",
    "y_pre3 = clf3.predict(X_test)\n",
    "acc_score3 = accuracy_score(Y_test, y_pre3)\n",
    "print(\"clf3 accuracy score: \" + str(acc_score3))\n",
    "\n",
    "clf4.fit(X_train, Y_train)\n",
    "y_pre4 = clf4.predict(X_test)\n",
    "acc_score4 = accuracy_score(Y_test, y_pre4)\n",
    "print(\"clf4 accuracy score: \" + str(acc_score4))\n",
    "\n",
    "clf5.fit(X_train, Y_train)\n",
    "y_pre5 = clf5.predict(X_test)\n",
    "acc_score5 = accuracy_score(Y_test, y_pre5)\n",
    "print(\"clf5 accuracy score: \" + str(acc_score5))\n",
    "\n",
    "clf6.fit(X_train, Y_train)\n",
    "y_pre6 = clf6.predict(X_test)\n",
    "acc_score6 = accuracy_score(Y_test, y_pre6)\n",
    "print(\"clf6 accuracy score: \" + str(acc_score6))\n",
    "\n",
    "clf7.fit(X_train, Y_train)\n",
    "y_pre7 = clf7.predict(X_test)\n",
    "acc_score7 = accuracy_score(Y_test, y_pre7)\n",
    "print(\"clf7 accuracy score: \" + str(acc_score7))\n",
    "\n",
    "print() \n",
    "\n",
    "print(\"clf1 accuracy score: \" + str(acc_score1))\n",
    "print(\"clf2 accuracy score: \" + str(acc_score2))\n",
    "print(\"clf3 accuracy score: \" + str(acc_score3))\n",
    "print(\"clf4 accuracy score: \" + str(acc_score4))\n",
    "print(\"clf5 accuracy score: \" + str(acc_score5))\n",
    "print(\"clf6 accuracy score: \" + str(acc_score6))\n",
    "print(\"clf7 accuracy score: \" + str(acc_score7))\n",
    "\n",
    "# Hard VotingClassifier\n",
    "eclf1 = VotingClassifier(estimators=[\n",
    "    ('svm1', clf1), ('svm2', clf2), ('svm3', clf3), ('knn', clf4), ('knn2', clf5), ('svm4', clf6), ('svm5', clf7)], \n",
    "        voting='hard')\n",
    "eclf1 = eclf1.fit(X_train, Y_train)\n",
    "\n",
    "y_predict = eclf1.predict(X_test)\n",
    "print(\"Hard VotingClassifier score: \" + str(accuracy_score(Y_test, y_predict)))\n",
    "\n",
    "# Soft VotingClassifier\n",
    "eclf2 = VotingClassifier(estimators=[\n",
    "    ('svm1', clf1), ('svm2', clf2), ('svm3', clf3), ('knn', clf4), ('knn2', clf5), ('svm4', clf6), ('svm5', clf7)], \n",
    "        voting='soft')\n",
    "eclf2 = eclf2.fit(X_train, Y_train)\n",
    "\n",
    "y_predict = eclf2.predict(X_test)\n",
    "print(\"Soft VotingClassifier score: \" + str(accuracy_score(Y_test, y_predict)))"
   ]
  },
  {
   "cell_type": "markdown",
   "metadata": {},
   "source": [
    "### Βήμα 18(β)\n",
    "Κανει overfitting ειδικα στο Random Forest. T0 bagging einai gia asta8eis classifiers pou genika 8eloume na katebasoume to variance, dld pou exoun diaforetikes apodoseis se diaforetika test. Alla edw exoume to anti8eto dld high variance gt oi classifiers mas einai arketa sta8eroi.\n",
    "blepe metaclassifier gia olo to bima 18"
   ]
  },
  {
   "cell_type": "code",
   "execution_count": 53,
   "metadata": {},
   "outputs": [
    {
     "name": "stdout",
     "output_type": "stream",
     "text": [
      "Train Bagging score: 0.996708270470443\n",
      "Test Bagging score: 0.9436970602889886\n"
     ]
    }
   ],
   "source": [
    "from sklearn.ensemble import BaggingClassifier \n",
    "\n",
    "# BaggingClassifier -- KNN\n",
    "bagging = BaggingClassifier(base_estimator = KNeighborsClassifier(n_neighbors=1), \n",
    "                          n_estimators = 7, \n",
    "                          random_state = 32) \n",
    "\n",
    "bagging.fit(X_train, Y_train)\n",
    "y_predict_train = bagging.predict(X_train)\n",
    "print(\"Train Bagging score: \" + str(accuracy_score(Y_train, y_predict_train)))\n",
    "y_predict = bagging.predict(X_test)\n",
    "print(\"Test Bagging score: \" + str(accuracy_score(Y_test, y_predict)))"
   ]
  },
  {
   "cell_type": "code",
   "execution_count": 7,
   "metadata": {},
   "outputs": [
    {
     "name": "stdout",
     "output_type": "stream",
     "text": [
      "Train Bagging score: 0.9965711150733781\n",
      "Test Bagging score: 0.9516691579471849\n"
     ]
    }
   ],
   "source": [
    "from sklearn.ensemble import BaggingClassifier \n",
    "from sklearn.svm import SVC\n",
    "\n",
    "# BaggingClassifier -- SVM\n",
    "bagging = BaggingClassifier(base_estimator = SVC(C=1000, kernel='poly', probability=True), \n",
    "                          n_estimators = 2, \n",
    "                          random_state = 32) \n",
    "\n",
    "bagging.fit(X_train, Y_train)\n",
    "y_predict_train = bagging.predict(X_train)\n",
    "print(\"Train Bagging score: \" + str(accuracy_score(Y_train, y_predict_train)))\n",
    "y_predict = bagging.predict(X_test)\n",
    "print(\"Test Bagging score: \" + str(accuracy_score(Y_test, y_predict)))"
   ]
  },
  {
   "cell_type": "code",
   "execution_count": 51,
   "metadata": {
    "scrolled": false
   },
   "outputs": [
    {
     "name": "stdout",
     "output_type": "stream",
     "text": [
      "Train Bagging score: 0.996708270470443\n",
      "Test Bagging score: 0.874439461883408\n"
     ]
    }
   ],
   "source": [
    "from sklearn.ensemble import BaggingClassifier \n",
    "from sklearn.tree import DecisionTreeClassifier \n",
    "\n",
    "# BaggingClassifier -- Random Forest\n",
    "bagging = BaggingClassifier(base_estimator = DecisionTreeClassifier(), \n",
    "                          n_estimators = 7, \n",
    "                          random_state = 32) \n",
    "\n",
    "bagging.fit(X_train, Y_train)\n",
    "y_predict_train = bagging.predict(X_train)\n",
    "print(\"Train Bagging score: \" + str(accuracy_score(Y_train, y_predict_train)))\n",
    "y_predict = bagging.predict(X_test)\n",
    "print(\"Test Bagging score: \" + str(accuracy_score(Y_test, y_predict)))"
   ]
  },
  {
   "cell_type": "markdown",
   "metadata": {},
   "source": [
    "### Βήμα 18(γ)\n",
    "Σχολιασμος αποτελεσματων"
   ]
  },
  {
   "cell_type": "markdown",
   "metadata": {},
   "source": [
    "### Βήμα 19 (extra)\n",
    "### (a)"
   ]
  },
  {
   "cell_type": "code",
   "execution_count": 261,
   "metadata": {},
   "outputs": [],
   "source": [
    "import numpy as np\n",
    "\n",
    "def readRawText(text):\n",
    "    # Argument text: string of dataset filename\n",
    "    with open(text, 'r') as f:\n",
    "        l = [[(num) for num in line.split(' ')] for line in f]\n",
    "    DATA = np.zeros( (len(l), len(l[0])-1) )\n",
    "    for i in range(len(l)):\n",
    "        for j in range(len(l[0])-1):\n",
    "            DATA[i][j]=float(l[i][j][:])\n",
    "    return DATA"
   ]
  },
  {
   "cell_type": "code",
   "execution_count": 262,
   "metadata": {},
   "outputs": [],
   "source": [
    "from torch.utils.data import Dataset, DataLoader\n",
    "from torchvision import transforms, utils\n",
    "import pandas as pd\n",
    "import torch\n",
    "\n",
    "class DigitDataset(Dataset):\n",
    "    \"\"\"Digit Recognition Dataset.\"\"\"\n",
    "\n",
    "    def __init__(self, data_file, transform=None):\n",
    "        \"\"\"\n",
    "        Args:\n",
    "            data_file: filename of the first data file            \n",
    "            transform (callable, optional): Optional transform to be applied\n",
    "                on a sample.\n",
    "        \"\"\"\n",
    "        self.dataset = readRawText(data_file)\n",
    "        self.transform = transform\n",
    "\n",
    "        \n",
    "    # Return the number of samples\n",
    "    def __len__(self):\n",
    "        return len(self.dataset)\n",
    "\n",
    "    \n",
    "    # Get the sample with index equal to idx\n",
    "    def __getitem__(self, idx):\n",
    "        if torch.is_tensor(idx):\n",
    "            idx = idx.tolist()\n",
    "\n",
    "        sample = np.array(self.dataset[idx])\n",
    "\n",
    "        if self.transform:\n",
    "            sample = self.transform(sample)\n",
    "\n",
    "        return sample[1:], sample[0]\n"
   ]
  },
  {
   "cell_type": "code",
   "execution_count": 263,
   "metadata": {},
   "outputs": [],
   "source": [
    "from torch.utils.data import Dataset, DataLoader\n",
    "\n",
    "Train_dataset = DigitDataset(\"train.txt\")\n",
    "Test_dataset = DigitDataset(\"test.txt\")\n",
    "\n",
    "train_loader = DataLoader(Train_dataset, batch_size=100,\n",
    "                    shuffle=True, num_workers=4)\n",
    "test_loader = DataLoader(Test_dataset, batch_size=100,\n",
    "                    shuffle=True, num_workers=4)"
   ]
  },
  {
   "cell_type": "markdown",
   "metadata": {},
   "source": [
    "### (b)"
   ]
  },
  {
   "cell_type": "code",
   "execution_count": 264,
   "metadata": {},
   "outputs": [],
   "source": [
    "import torch\n",
    "import torch.nn as nn\n",
    "import torch.nn.functional as F\n",
    "\n",
    "# Fully-connected Neural Network\n",
    "class Net(nn.Module):\n",
    "    def __init__(self):\n",
    "        super(Net, self).__init__()\n",
    "        self.fc1 = nn.Linear(256, 400)\n",
    "        self.fc2 = nn.Linear(400, 100)\n",
    "        self.fc3 = nn.Linear(100, 50)\n",
    "        self.fc4 = nn.Linear(50, 10)\n",
    "  \n",
    "    def forward(self, x):\n",
    "        x = F.relu(self.fc1(x))\n",
    "        x = F.relu(self.fc2(x))\n",
    "        x = F.relu(self.fc3(x))\n",
    "        x = self.fc4(x)\n",
    "        return F.log_softmax(x)"
   ]
  },
  {
   "cell_type": "code",
   "execution_count": 265,
   "metadata": {},
   "outputs": [
    {
     "name": "stdout",
     "output_type": "stream",
     "text": [
      "Net(\n",
      "  (fc1): Linear(in_features=256, out_features=400, bias=True)\n",
      "  (fc2): Linear(in_features=400, out_features=100, bias=True)\n",
      "  (fc3): Linear(in_features=100, out_features=50, bias=True)\n",
      "  (fc4): Linear(in_features=50, out_features=10, bias=True)\n",
      ")\n",
      "Train Epoch: 0 [0/7291 (0%)]\tLoss: 2.299854\n",
      "Train Epoch: 0 [500/7291 (7%)]\tLoss: 2.265933\n"
     ]
    },
    {
     "name": "stderr",
     "output_type": "stream",
     "text": [
      "/home/ddaedalus/Documents/files/Patrec_ntua/patrec19/lib/python3.6/site-packages/ipykernel_launcher.py:19: UserWarning: Implicit dimension choice for log_softmax has been deprecated. Change the call to include dim=X as an argument.\n"
     ]
    },
    {
     "name": "stdout",
     "output_type": "stream",
     "text": [
      "Train Epoch: 0 [1000/7291 (14%)]\tLoss: 2.168643\n",
      "Train Epoch: 0 [1500/7291 (21%)]\tLoss: 2.074131\n",
      "Train Epoch: 0 [2000/7291 (27%)]\tLoss: 1.594945\n",
      "Train Epoch: 0 [2500/7291 (34%)]\tLoss: 1.234762\n",
      "Train Epoch: 0 [3000/7291 (41%)]\tLoss: 0.922918\n",
      "Train Epoch: 0 [3500/7291 (48%)]\tLoss: 0.593775\n",
      "Train Epoch: 0 [4000/7291 (55%)]\tLoss: 0.812990\n",
      "Train Epoch: 0 [4500/7291 (62%)]\tLoss: 0.547396\n",
      "Train Epoch: 0 [5000/7291 (68%)]\tLoss: 0.354012\n",
      "Train Epoch: 0 [5500/7291 (75%)]\tLoss: 0.412526\n",
      "Train Epoch: 0 [6000/7291 (82%)]\tLoss: 0.383606\n",
      "Train Epoch: 0 [6500/7291 (89%)]\tLoss: 0.392937\n",
      "Train Epoch: 0 [7000/7291 (96%)]\tLoss: 0.281254\n",
      "Train Epoch: 1 [0/7291 (0%)]\tLoss: 0.240427\n",
      "Train Epoch: 1 [500/7291 (7%)]\tLoss: 0.221921\n",
      "Train Epoch: 1 [1000/7291 (14%)]\tLoss: 0.261754\n",
      "Train Epoch: 1 [1500/7291 (21%)]\tLoss: 0.157299\n",
      "Train Epoch: 1 [2000/7291 (27%)]\tLoss: 0.163762\n",
      "Train Epoch: 1 [2500/7291 (34%)]\tLoss: 0.296798\n",
      "Train Epoch: 1 [3000/7291 (41%)]\tLoss: 0.128580\n",
      "Train Epoch: 1 [3500/7291 (48%)]\tLoss: 0.094235\n",
      "Train Epoch: 1 [4000/7291 (55%)]\tLoss: 0.307048\n",
      "Train Epoch: 1 [4500/7291 (62%)]\tLoss: 0.160280\n",
      "Train Epoch: 1 [5000/7291 (68%)]\tLoss: 0.224554\n",
      "Train Epoch: 1 [5500/7291 (75%)]\tLoss: 0.121710\n",
      "Train Epoch: 1 [6000/7291 (82%)]\tLoss: 0.123882\n",
      "Train Epoch: 1 [6500/7291 (89%)]\tLoss: 0.346030\n",
      "Train Epoch: 1 [7000/7291 (96%)]\tLoss: 0.202758\n",
      "Train Epoch: 2 [0/7291 (0%)]\tLoss: 0.062378\n",
      "Train Epoch: 2 [500/7291 (7%)]\tLoss: 0.039497\n",
      "Train Epoch: 2 [1000/7291 (14%)]\tLoss: 0.118280\n",
      "Train Epoch: 2 [1500/7291 (21%)]\tLoss: 0.153378\n",
      "Train Epoch: 2 [2000/7291 (27%)]\tLoss: 0.091676\n",
      "Train Epoch: 2 [2500/7291 (34%)]\tLoss: 0.187359\n",
      "Train Epoch: 2 [3000/7291 (41%)]\tLoss: 0.108302\n",
      "Train Epoch: 2 [3500/7291 (48%)]\tLoss: 0.272342\n",
      "Train Epoch: 2 [4000/7291 (55%)]\tLoss: 0.113937\n",
      "Train Epoch: 2 [4500/7291 (62%)]\tLoss: 0.092784\n",
      "Train Epoch: 2 [5000/7291 (68%)]\tLoss: 0.125109\n",
      "Train Epoch: 2 [5500/7291 (75%)]\tLoss: 0.203071\n",
      "Train Epoch: 2 [6000/7291 (82%)]\tLoss: 0.230427\n",
      "Train Epoch: 2 [6500/7291 (89%)]\tLoss: 0.127724\n",
      "Train Epoch: 2 [7000/7291 (96%)]\tLoss: 0.090746\n",
      "Train Epoch: 3 [0/7291 (0%)]\tLoss: 0.091432\n",
      "Train Epoch: 3 [500/7291 (7%)]\tLoss: 0.152332\n",
      "Train Epoch: 3 [1000/7291 (14%)]\tLoss: 0.037351\n",
      "Train Epoch: 3 [1500/7291 (21%)]\tLoss: 0.052846\n",
      "Train Epoch: 3 [2000/7291 (27%)]\tLoss: 0.046349\n",
      "Train Epoch: 3 [2500/7291 (34%)]\tLoss: 0.121548\n",
      "Train Epoch: 3 [3000/7291 (41%)]\tLoss: 0.087352\n",
      "Train Epoch: 3 [3500/7291 (48%)]\tLoss: 0.085096\n",
      "Train Epoch: 3 [4000/7291 (55%)]\tLoss: 0.103372\n",
      "Train Epoch: 3 [4500/7291 (62%)]\tLoss: 0.095131\n",
      "Train Epoch: 3 [5000/7291 (68%)]\tLoss: 0.080731\n",
      "Train Epoch: 3 [5500/7291 (75%)]\tLoss: 0.071956\n",
      "Train Epoch: 3 [6000/7291 (82%)]\tLoss: 0.096087\n",
      "Train Epoch: 3 [6500/7291 (89%)]\tLoss: 0.058123\n",
      "Train Epoch: 3 [7000/7291 (96%)]\tLoss: 0.140143\n",
      "Train Epoch: 4 [0/7291 (0%)]\tLoss: 0.028106\n",
      "Train Epoch: 4 [500/7291 (7%)]\tLoss: 0.020295\n",
      "Train Epoch: 4 [1000/7291 (14%)]\tLoss: 0.032330\n",
      "Train Epoch: 4 [1500/7291 (21%)]\tLoss: 0.009689\n",
      "Train Epoch: 4 [2000/7291 (27%)]\tLoss: 0.062647\n",
      "Train Epoch: 4 [2500/7291 (34%)]\tLoss: 0.032916\n",
      "Train Epoch: 4 [3000/7291 (41%)]\tLoss: 0.125896\n",
      "Train Epoch: 4 [3500/7291 (48%)]\tLoss: 0.051004\n",
      "Train Epoch: 4 [4000/7291 (55%)]\tLoss: 0.056755\n",
      "Train Epoch: 4 [4500/7291 (62%)]\tLoss: 0.057980\n",
      "Train Epoch: 4 [5000/7291 (68%)]\tLoss: 0.043503\n",
      "Train Epoch: 4 [5500/7291 (75%)]\tLoss: 0.017752\n",
      "Train Epoch: 4 [6000/7291 (82%)]\tLoss: 0.016191\n",
      "Train Epoch: 4 [6500/7291 (89%)]\tLoss: 0.035727\n",
      "Train Epoch: 4 [7000/7291 (96%)]\tLoss: 0.010697\n",
      "Train Epoch: 5 [0/7291 (0%)]\tLoss: 0.011573\n",
      "Train Epoch: 5 [500/7291 (7%)]\tLoss: 0.059903\n",
      "Train Epoch: 5 [1000/7291 (14%)]\tLoss: 0.027184\n",
      "Train Epoch: 5 [1500/7291 (21%)]\tLoss: 0.006923\n",
      "Train Epoch: 5 [2000/7291 (27%)]\tLoss: 0.017737\n",
      "Train Epoch: 5 [2500/7291 (34%)]\tLoss: 0.068093\n",
      "Train Epoch: 5 [3000/7291 (41%)]\tLoss: 0.012632\n",
      "Train Epoch: 5 [3500/7291 (48%)]\tLoss: 0.082550\n",
      "Train Epoch: 5 [4000/7291 (55%)]\tLoss: 0.042099\n",
      "Train Epoch: 5 [4500/7291 (62%)]\tLoss: 0.011092\n",
      "Train Epoch: 5 [5000/7291 (68%)]\tLoss: 0.023756\n",
      "Train Epoch: 5 [5500/7291 (75%)]\tLoss: 0.014411\n",
      "Train Epoch: 5 [6000/7291 (82%)]\tLoss: 0.162576\n",
      "Train Epoch: 5 [6500/7291 (89%)]\tLoss: 0.019689\n",
      "Train Epoch: 5 [7000/7291 (96%)]\tLoss: 0.112541\n",
      "Train Epoch: 6 [0/7291 (0%)]\tLoss: 0.039964\n",
      "Train Epoch: 6 [500/7291 (7%)]\tLoss: 0.052139\n",
      "Train Epoch: 6 [1000/7291 (14%)]\tLoss: 0.051829\n",
      "Train Epoch: 6 [1500/7291 (21%)]\tLoss: 0.007958\n",
      "Train Epoch: 6 [2000/7291 (27%)]\tLoss: 0.014081\n",
      "Train Epoch: 6 [2500/7291 (34%)]\tLoss: 0.045264\n",
      "Train Epoch: 6 [3000/7291 (41%)]\tLoss: 0.012701\n",
      "Train Epoch: 6 [3500/7291 (48%)]\tLoss: 0.026463\n",
      "Train Epoch: 6 [4000/7291 (55%)]\tLoss: 0.022071\n",
      "Train Epoch: 6 [4500/7291 (62%)]\tLoss: 0.008106\n",
      "Train Epoch: 6 [5000/7291 (68%)]\tLoss: 0.008195\n",
      "Train Epoch: 6 [5500/7291 (75%)]\tLoss: 0.053002\n",
      "Train Epoch: 6 [6000/7291 (82%)]\tLoss: 0.032528\n",
      "Train Epoch: 6 [6500/7291 (89%)]\tLoss: 0.013995\n",
      "Train Epoch: 6 [7000/7291 (96%)]\tLoss: 0.003830\n",
      "Train Epoch: 7 [0/7291 (0%)]\tLoss: 0.076972\n",
      "Train Epoch: 7 [500/7291 (7%)]\tLoss: 0.008500\n",
      "Train Epoch: 7 [1000/7291 (14%)]\tLoss: 0.025686\n",
      "Train Epoch: 7 [1500/7291 (21%)]\tLoss: 0.062189\n",
      "Train Epoch: 7 [2000/7291 (27%)]\tLoss: 0.010940\n",
      "Train Epoch: 7 [2500/7291 (34%)]\tLoss: 0.059658\n",
      "Train Epoch: 7 [3000/7291 (41%)]\tLoss: 0.015148\n",
      "Train Epoch: 7 [3500/7291 (48%)]\tLoss: 0.004536\n",
      "Train Epoch: 7 [4000/7291 (55%)]\tLoss: 0.006349\n",
      "Train Epoch: 7 [4500/7291 (62%)]\tLoss: 0.046903\n",
      "Train Epoch: 7 [5000/7291 (68%)]\tLoss: 0.007992\n",
      "Train Epoch: 7 [5500/7291 (75%)]\tLoss: 0.008120\n",
      "Train Epoch: 7 [6000/7291 (82%)]\tLoss: 0.036609\n",
      "Train Epoch: 7 [6500/7291 (89%)]\tLoss: 0.002966\n",
      "Train Epoch: 7 [7000/7291 (96%)]\tLoss: 0.032818\n",
      "Train Epoch: 8 [0/7291 (0%)]\tLoss: 0.006410\n",
      "Train Epoch: 8 [500/7291 (7%)]\tLoss: 0.011292\n",
      "Train Epoch: 8 [1000/7291 (14%)]\tLoss: 0.006901\n",
      "Train Epoch: 8 [1500/7291 (21%)]\tLoss: 0.002777\n",
      "Train Epoch: 8 [2000/7291 (27%)]\tLoss: 0.004193\n",
      "Train Epoch: 8 [2500/7291 (34%)]\tLoss: 0.001540\n",
      "Train Epoch: 8 [3000/7291 (41%)]\tLoss: 0.014568\n",
      "Train Epoch: 8 [3500/7291 (48%)]\tLoss: 0.040805\n",
      "Train Epoch: 8 [4000/7291 (55%)]\tLoss: 0.023437\n",
      "Train Epoch: 8 [4500/7291 (62%)]\tLoss: 0.006342\n",
      "Train Epoch: 8 [5000/7291 (68%)]\tLoss: 0.097090\n",
      "Train Epoch: 8 [5500/7291 (75%)]\tLoss: 0.003471\n",
      "Train Epoch: 8 [6000/7291 (82%)]\tLoss: 0.002429\n",
      "Train Epoch: 8 [6500/7291 (89%)]\tLoss: 0.002292\n",
      "Train Epoch: 8 [7000/7291 (96%)]\tLoss: 0.003836\n",
      "Train Epoch: 9 [0/7291 (0%)]\tLoss: 0.005155\n",
      "Train Epoch: 9 [500/7291 (7%)]\tLoss: 0.044838\n",
      "Train Epoch: 9 [1000/7291 (14%)]\tLoss: 0.007155\n",
      "Train Epoch: 9 [1500/7291 (21%)]\tLoss: 0.001714\n",
      "Train Epoch: 9 [2000/7291 (27%)]\tLoss: 0.001494\n",
      "Train Epoch: 9 [2500/7291 (34%)]\tLoss: 0.001110\n",
      "Train Epoch: 9 [3000/7291 (41%)]\tLoss: 0.006335\n",
      "Train Epoch: 9 [3500/7291 (48%)]\tLoss: 0.132740\n",
      "Train Epoch: 9 [4000/7291 (55%)]\tLoss: 0.003124\n",
      "Train Epoch: 9 [4500/7291 (62%)]\tLoss: 0.015531\n",
      "Train Epoch: 9 [5000/7291 (68%)]\tLoss: 0.004876\n",
      "Train Epoch: 9 [5500/7291 (75%)]\tLoss: 0.023669\n",
      "Train Epoch: 9 [6000/7291 (82%)]\tLoss: 0.001081\n",
      "Train Epoch: 9 [6500/7291 (89%)]\tLoss: 0.027507\n",
      "Train Epoch: 9 [7000/7291 (96%)]\tLoss: 0.003595\n",
      "\n",
      "Test set: Average loss: 0.0036, Accuracy: 1871/2007 (93%)\n",
      "\n"
     ]
    },
    {
     "name": "stderr",
     "output_type": "stream",
     "text": [
      "/home/ddaedalus/Documents/files/Patrec_ntua/patrec19/lib/python3.6/site-packages/ipykernel_launcher.py:41: UserWarning: volatile was removed and now has no effect. Use `with torch.no_grad():` instead.\n"
     ]
    }
   ],
   "source": [
    "import torch\n",
    "import torch.nn as nn\n",
    "import torch.nn.functional as F\n",
    "from torch.autograd import Variable\n",
    "\n",
    "net = Net()\n",
    "#net.cuda()\n",
    "print(net)\n",
    "    \n",
    "# create a stochastic gradient descent optimizer\n",
    "optimizer = torch.optim.SGD(net.parameters(), lr=0.05, momentum=0.9)\n",
    "# create a loss function\n",
    "criterion = nn.NLLLoss()     \n",
    "# run the main training loop\n",
    "epochs = 10\n",
    "log_interval = epochs / 4\n",
    "for epoch in range(epochs):\n",
    "    for batch_idx, (data, target) in enumerate(train_loader):\n",
    "        data, target = Variable(data), Variable(target)\n",
    "        # resize data from (batch_size, 1, 28, 28) to (batch_size, 16*16)\n",
    "        data = data.float()\n",
    "        target = target.long()\n",
    "        data = data.view(-1, 16*16)\n",
    "        optimizer.zero_grad()\n",
    "        net_out = net(data)\n",
    "        loss = criterion(net_out, target)\n",
    "        loss.backward()\n",
    "        optimizer.step()\n",
    "        if batch_idx % log_interval == 0:\n",
    "            print('Train Epoch: {} [{}/{} ({:.0f}%)]\\tLoss: {:.6f}'.format(\n",
    "                    epoch, batch_idx * len(data), len(train_loader.dataset),\n",
    "                           100. * batch_idx / len(train_loader), loss.item()))\n",
    "    \n",
    "    \n",
    "# run tests\n",
    "test_loss = 0\n",
    "correct = 0\n",
    "for data, target in test_loader:\n",
    "    data = data.float()\n",
    "    target = target.long()\n",
    "    data, target = Variable(data, volatile=True), Variable(target)\n",
    "    data = data.view(-1, 16 * 16)\n",
    "    net_out = net(data)\n",
    "    # sum up batch loss\n",
    "    test_loss += criterion(net_out, target).item()\n",
    "    pred = net_out.data.max(1)[1]  # get the index of the max log-probability\n",
    "    correct += pred.eq(target.data).sum()\n",
    "\n",
    "#     if (pred.eq(target.data) == 0):\n",
    "#         plt.imshow(data.reshape(16.16))\n",
    "\n",
    "test_loss /= len(test_loader.dataset)\n",
    "print('\\nTest set: Average loss: {:.4f}, Accuracy: {}/{} ({:.0f}%)\\n'.format(\n",
    "        test_loss, correct, len(test_loader.dataset),\n",
    "        100. * correct / len(test_loader.dataset)))"
   ]
  },
  {
   "cell_type": "markdown",
   "metadata": {},
   "source": [
    "Sxoliasmos apotelesmatwn"
   ]
  },
  {
   "cell_type": "code",
   "execution_count": 61,
   "metadata": {},
   "outputs": [],
   "source": [
    "from torch.utils.data import Dataset, DataLoader\n",
    "\n",
    "Test_dataset = DigitDataset(\"test.txt\")\n",
    "\n",
    "test_loader = DataLoader(Test_dataset, batch_size=1,\n",
    "                    shuffle=True, num_workers=4)"
   ]
  },
  {
   "cell_type": "code",
   "execution_count": 227,
   "metadata": {
    "scrolled": false
   },
   "outputs": [
    {
     "name": "stderr",
     "output_type": "stream",
     "text": [
      "/home/ddaedalus/Documents/files/Patrec_ntua/patrec19/lib/python3.6/site-packages/ipykernel_launcher.py:10: UserWarning: volatile was removed and now has no effect. Use `with torch.no_grad():` instead.\n",
      "  # Remove the CWD from sys.path while we load stuff.\n"
     ]
    },
    {
     "ename": "TypeError",
     "evalue": "'NeuralNetwork' object is not callable",
     "output_type": "error",
     "traceback": [
      "\u001b[0;31m---------------------------------------------------------------------------\u001b[0m",
      "\u001b[0;31mTypeError\u001b[0m                                 Traceback (most recent call last)",
      "\u001b[0;32m<ipython-input-227-6379e5ee23ba>\u001b[0m in \u001b[0;36m<module>\u001b[0;34m\u001b[0m\n\u001b[1;32m     10\u001b[0m     \u001b[0mdata\u001b[0m\u001b[0;34m,\u001b[0m \u001b[0mtarget\u001b[0m \u001b[0;34m=\u001b[0m \u001b[0mVariable\u001b[0m\u001b[0;34m(\u001b[0m\u001b[0mdata\u001b[0m\u001b[0;34m,\u001b[0m \u001b[0mvolatile\u001b[0m\u001b[0;34m=\u001b[0m\u001b[0;32mTrue\u001b[0m\u001b[0;34m)\u001b[0m\u001b[0;34m,\u001b[0m \u001b[0mVariable\u001b[0m\u001b[0;34m(\u001b[0m\u001b[0mtarget\u001b[0m\u001b[0;34m)\u001b[0m\u001b[0;34m\u001b[0m\u001b[0;34m\u001b[0m\u001b[0m\n\u001b[1;32m     11\u001b[0m     \u001b[0mdata\u001b[0m \u001b[0;34m=\u001b[0m \u001b[0mdata\u001b[0m\u001b[0;34m.\u001b[0m\u001b[0mview\u001b[0m\u001b[0;34m(\u001b[0m\u001b[0;34m-\u001b[0m\u001b[0;36m1\u001b[0m\u001b[0;34m,\u001b[0m \u001b[0;36m16\u001b[0m \u001b[0;34m*\u001b[0m \u001b[0;36m16\u001b[0m\u001b[0;34m)\u001b[0m\u001b[0;34m\u001b[0m\u001b[0;34m\u001b[0m\u001b[0m\n\u001b[0;32m---> 12\u001b[0;31m     \u001b[0mnet_out\u001b[0m \u001b[0;34m=\u001b[0m \u001b[0mnet\u001b[0m\u001b[0;34m(\u001b[0m\u001b[0mdata\u001b[0m\u001b[0;34m)\u001b[0m\u001b[0;34m\u001b[0m\u001b[0;34m\u001b[0m\u001b[0m\n\u001b[0m\u001b[1;32m     13\u001b[0m     \u001b[0;31m# sum up batch loss\u001b[0m\u001b[0;34m\u001b[0m\u001b[0;34m\u001b[0m\u001b[0;34m\u001b[0m\u001b[0m\n\u001b[1;32m     14\u001b[0m     \u001b[0mtest_loss\u001b[0m \u001b[0;34m+=\u001b[0m \u001b[0mcriterion\u001b[0m\u001b[0;34m(\u001b[0m\u001b[0mnet_out\u001b[0m\u001b[0;34m,\u001b[0m \u001b[0mtarget\u001b[0m\u001b[0;34m)\u001b[0m\u001b[0;34m.\u001b[0m\u001b[0mitem\u001b[0m\u001b[0;34m(\u001b[0m\u001b[0;34m)\u001b[0m\u001b[0;34m\u001b[0m\u001b[0;34m\u001b[0m\u001b[0m\n",
      "\u001b[0;31mTypeError\u001b[0m: 'NeuralNetwork' object is not callable"
     ]
    }
   ],
   "source": [
    "import matplotlib.pyplot as plt\n",
    "\n",
    "# run tests\n",
    "test_loss = 0\n",
    "correct = 0\n",
    "i = 0\n",
    "for data, target in test_loader:\n",
    "    data = data.float()\n",
    "    target = target.long()\n",
    "    data, target = Variable(data, volatile=True), Variable(target)\n",
    "    data = data.view(-1, 16 * 16)\n",
    "    net_out = net(data)\n",
    "    # sum up batch loss\n",
    "    test_loss += criterion(net_out, target).item()\n",
    "    pred = net_out.data.max(1)[1]  # get the index of the max log-probability\n",
    "    correct += pred.eq(target.data).sum()\n",
    "\n",
    "#     # Plot some misclassified digits\n",
    "#     if (pred.eq(target.data).sum() == 0):\n",
    "#         if (i % 4 == 1):\n",
    "#             fig = plt.figure(i)\n",
    "#             plt.imshow(np.reshape(data,(16,16)))\n",
    "#         i += 1\n",
    "\n",
    "test_loss /= len(test_loader.dataset)\n",
    "print('\\nTest set: Average loss: {:.4f}, Accuracy: {}/{} ({:.0f}%)\\n'.format(\n",
    "        test_loss, correct, len(test_loader.dataset),\n",
    "        100. * correct / len(test_loader.dataset)))"
   ]
  },
  {
   "cell_type": "markdown",
   "metadata": {},
   "source": [
    "### (c)"
   ]
  },
  {
   "cell_type": "code",
   "execution_count": 387,
   "metadata": {},
   "outputs": [],
   "source": [
    "import torch\n",
    "import torch.nn as nn\n",
    "import torch.nn.functional as F\n",
    "from torch.autograd import Variable\n",
    "from torch.utils.data import Dataset, DataLoader\n",
    "from sklearn.base import BaseEstimator, ClassifierMixin\n",
    "from sklearn.utils.validation import check_X_y, check_array, check_is_fitted\n",
    "from sklearn.utils.multiclass import unique_labels\n",
    "from sklearn.model_selection import learning_curve\n",
    "import numpy as np\n",
    "\n",
    "class ScikitDataset(Dataset):\n",
    "    \"\"\"Dataset for scikit-learn package use.\"\"\"\n",
    "    def __init__(self, dataset, transform=None):\n",
    "        \"\"\"\n",
    "        Args:\n",
    "            data_file: np.array of dataset           \n",
    "            transform (callable, optional): Optional transform to be applied\n",
    "            on a sample.\n",
    "        \"\"\"\n",
    "        self.dataset = dataset\n",
    "        self.transform = transform\n",
    "\n",
    "    def __len__(self):\n",
    "        # Return the number of samples\n",
    "        return len(self.dataset)\n",
    "\n",
    "    def __getitem__(self, idx):\n",
    "        # Get the sample with index equal to idx\n",
    "        if torch.is_tensor(idx):\n",
    "            idx = idx.tolist()\n",
    "        sample = np.array(self.dataset[idx])\n",
    "        if self.transform:\n",
    "            sample = self.transform(sample)\n",
    "        return sample[1:], sample[0]  \n",
    "\n",
    "\n",
    "class ScikitDataset_test(Dataset):\n",
    "    \"\"\"Dataset for scikit-learn package use.\"\"\"\n",
    "    def __init__(self, dataset, transform=None):\n",
    "        \"\"\"\n",
    "        Args:\n",
    "            data_file: np.array of dataset           \n",
    "            transform (callable, optional): Optional transform to be applied\n",
    "            on a sample.\n",
    "        \"\"\"\n",
    "        self.dataset = dataset\n",
    "        self.transform = transform\n",
    "\n",
    "    def __len__(self):\n",
    "        # Return the number of samples\n",
    "        return len(self.dataset)\n",
    "\n",
    "    def __getitem__(self, idx):\n",
    "        # Get the sample with index equal to idx\n",
    "        if torch.is_tensor(idx):\n",
    "            idx = idx.tolist()\n",
    "        sample = np.array(self.dataset[idx])\n",
    "        if self.transform:\n",
    "            sample = self.transform(sample)\n",
    "        return sample     \n",
    "    \n",
    "\n",
    "class Net(nn.Module):\n",
    "    def __init__(self, layers_size, activation_functions):\n",
    "        self.activation_functions = activation_functions\n",
    "        super(Net, self).__init__()\n",
    "        self.fc0 = 0\n",
    "        self.fc1 = 0\n",
    "        self.fc2 = 0\n",
    "        self.fc3 = 0\n",
    "        self.fc4 = 0\n",
    "        self.fc5 = 0\n",
    "        self.fc6 = 0\n",
    "        self.fc7 = 0\n",
    "        self.fc8 = 0\n",
    "        self.fc9 = 0\n",
    "        for i in range(len(layers_size)-1):\n",
    "            if (i == 0):\n",
    "                self.fc0 = nn.Linear(layers_size[i], layers_size[i+1])\n",
    "            elif (i == 1):\n",
    "                self.fc1 = nn.Linear(layers_size[i], layers_size[i+1])\n",
    "            elif (i == 2):\n",
    "                self.fc2 = nn.Linear(layers_size[i], layers_size[i+1])\n",
    "            elif (i == 3):\n",
    "                self.fc3 = nn.Linear(layers_size[i], layers_size[i+1])            \n",
    "            elif (i == 4):\n",
    "                self.fc4 = nn.Linear(layers_size[i], layers_size[i+1])        \n",
    "            elif (i == 5):\n",
    "                self.fc5 = nn.Linear(layers_size[i], layers_size[i+1]) \n",
    "            elif (i == 6):\n",
    "                self.fc6 = nn.Linear(layers_size[i], layers_size[i+1]) \n",
    "            elif (i == 7):\n",
    "                self.fc7 = nn.Linear(layers_size[i], layers_size[i+1])    \n",
    "            elif (i == 8):\n",
    "                self.fc8 = nn.Linear(layers_size[i], layers_size[i+1])  \n",
    "                \n",
    "                \n",
    "    def forward(self, x):\n",
    "        i = 0\n",
    "        for af in self.activation_functions:\n",
    "            if (i == 0):\n",
    "                x = af(self.fc0(x))\n",
    "            elif (i == 1):\n",
    "                x = af(self.fc1(x))\n",
    "            elif (i == 2):\n",
    "                x = af(self.fc2(x))\n",
    "            elif (i == 3):\n",
    "                x = af(self.fc3(x))           \n",
    "            elif (i == 4):\n",
    "                x = af(self.fc4(x))       \n",
    "            elif (i == 5):\n",
    "                x = af(self.fc5(x)) \n",
    "            elif (i == 6):\n",
    "                x = af(self.fc6(x)) \n",
    "            elif (i == 7):\n",
    "                x = af(self.fc7(x))   \n",
    "            elif (i == 8):\n",
    "                x = af(self.fc8(x)) \n",
    "            elif (i == 9):\n",
    "                x = af(self.fc9(x))       \n",
    "            i += 1\n",
    "\n",
    "        return x     \n",
    "    \n",
    "\n",
    "class NeuralNetwork(BaseEstimator, ClassifierMixin):\n",
    "    # Fully-connected Neural Network compatible with sklearn\n",
    "    def __init__(self, n_features, n_classes, layers_size=[10,10,10], n_layers=2, lr=0.05, epochs=10):\n",
    "        '''\n",
    "            n_features:    number of features\n",
    "            n_classes:     number of classes\n",
    "            layers_size:   list of layers sizes\n",
    "            n_layers:      number of layers (hidden and output)\n",
    "        '''\n",
    "        self.net = None   \n",
    "        self.n_layers = n_layers\n",
    "        self.layers_size = layers_size\n",
    "        self.activation_functions = []\n",
    "        self.n_features = n_features\n",
    "        self.n_classes = n_classes\n",
    "        self.lr = lr\n",
    "        self.criterion = None\n",
    "        self.optimizer = None\n",
    "        self.epochs = epochs\n",
    "        # relu - relu -...- log_softmax activation functions \n",
    "        for layer in range(n_layers-1):\n",
    "            relu = lambda x : F.relu(x)\n",
    "            self.activation_functions.append(relu)\n",
    "        log_softmax = lambda x : F.log_softmax(x)\n",
    "        self.activation_functions.append(log_softmax)   \n",
    "        \n",
    "    \n",
    "    def fit(self, X, y):\n",
    "        # Training\n",
    "        dataAll = np.c_[y, X]\n",
    "        # DataLoader\n",
    "        dataset = ScikitDataset(dataAll)\n",
    "        train_loader = DataLoader(dataset, batch_size=100,\n",
    "                    shuffle=False, num_workers=4) \n",
    "        \n",
    "        # Neural Network \n",
    "        self.net = Net(self.layers_size, self.activation_functions)\n",
    "        #print(self.net)\n",
    "        \n",
    "        # create a stochastic gradient descent optimizer\n",
    "        self.optimizer = torch.optim.SGD(self.net.parameters(), lr=self.lr, momentum=0.9)\n",
    "        # create a loss function\n",
    "        self.criterion = nn.NLLLoss()     \n",
    "        # run the main training loop\n",
    "        log_interval = self.epochs / 4\n",
    "        for epoch in range(self.epochs):\n",
    "            for batch_idx, (data, target) in enumerate(train_loader):\n",
    "                data, target = Variable(data), Variable(target)\n",
    "                data = data.float()\n",
    "                target = target.long()\n",
    "                data = data.view(-1, self.n_features)\n",
    "                self.optimizer.zero_grad()\n",
    "                net_out = self.net(data)\n",
    "                loss = self.criterion(net_out, target)\n",
    "                loss.backward()\n",
    "                self.optimizer.step()\n",
    "#                 if batch_idx % log_interval == 0:\n",
    "#                      print('Train Epoch: {} [{}/{} ({:.0f}%)]\\tLoss: {:.6f}'.format(\n",
    "#                              epoch, batch_idx * len(data), len(train_loader.dataset),\n",
    "#                                     100. * batch_idx / len(train_loader), loss.item()))\n",
    "        return self\n",
    "\n",
    "\n",
    "    def predict(self, X):\n",
    "        dataset = ScikitDataset_test(X)\n",
    "        test_loader = DataLoader(dataset, batch_size=1,\n",
    "                    shuffle=False, num_workers=4) \n",
    "        \n",
    "        y_predict = []\n",
    "        for data in test_loader:\n",
    "            data = data.float()\n",
    "            data = Variable(data, volatile=True)\n",
    "            data = data.view(-1, self.n_features)\n",
    "            net_out = self.net(data)\n",
    "            y_predict.append(net_out.data.max(1)[1].item())  # get the index of the max log-probability         \n",
    "            \n",
    "        return y_predict\n",
    "    \n",
    "    \n",
    "    def score(self, X, y_truth):       \n",
    "        y_predict = self.predict(X)       \n",
    "        return ( np.sum([y_predict == y_truth]) ) / ( len(y_predict) )"
   ]
  },
  {
   "cell_type": "code",
   "execution_count": 377,
   "metadata": {},
   "outputs": [
    {
     "name": "stdout",
     "output_type": "stream",
     "text": [
      "Net(\n",
      "  (fc0): Linear(in_features=256, out_features=400, bias=True)\n",
      "  (fc1): Linear(in_features=400, out_features=100, bias=True)\n",
      "  (fc2): Linear(in_features=100, out_features=50, bias=True)\n",
      "  (fc3): Linear(in_features=50, out_features=10, bias=True)\n",
      ")\n",
      "Train Epoch: 0 [0/7291 (0%)]\tLoss: 2.307410\n",
      "Train Epoch: 0 [500/7291 (7%)]\tLoss: 2.250349\n"
     ]
    },
    {
     "name": "stderr",
     "output_type": "stream",
     "text": [
      "/home/ddaedalus/Documents/files/Patrec_ntua/patrec19/lib/python3.6/site-packages/ipykernel_launcher.py:150: UserWarning: Implicit dimension choice for log_softmax has been deprecated. Change the call to include dim=X as an argument.\n"
     ]
    },
    {
     "name": "stdout",
     "output_type": "stream",
     "text": [
      "Train Epoch: 0 [1000/7291 (14%)]\tLoss: 2.181829\n",
      "Train Epoch: 0 [1500/7291 (21%)]\tLoss: 1.885847\n",
      "Train Epoch: 0 [2000/7291 (27%)]\tLoss: 1.572027\n",
      "Train Epoch: 0 [2500/7291 (34%)]\tLoss: 1.418700\n",
      "Train Epoch: 0 [3000/7291 (41%)]\tLoss: 1.224472\n",
      "Train Epoch: 0 [3500/7291 (48%)]\tLoss: 0.983224\n",
      "Train Epoch: 0 [4000/7291 (55%)]\tLoss: 0.825774\n",
      "Train Epoch: 0 [4500/7291 (62%)]\tLoss: 0.943427\n",
      "Train Epoch: 0 [5000/7291 (68%)]\tLoss: 0.426967\n",
      "Train Epoch: 0 [5500/7291 (75%)]\tLoss: 0.506161\n",
      "Train Epoch: 0 [6000/7291 (82%)]\tLoss: 0.215809\n",
      "Train Epoch: 0 [6500/7291 (89%)]\tLoss: 0.268958\n",
      "Train Epoch: 0 [7000/7291 (96%)]\tLoss: 0.253815\n",
      "Train Epoch: 1 [0/7291 (0%)]\tLoss: 0.374211\n",
      "Train Epoch: 1 [500/7291 (7%)]\tLoss: 0.121670\n",
      "Train Epoch: 1 [1000/7291 (14%)]\tLoss: 0.322942\n",
      "Train Epoch: 1 [1500/7291 (21%)]\tLoss: 0.114447\n",
      "Train Epoch: 1 [2000/7291 (27%)]\tLoss: 0.153169\n",
      "Train Epoch: 1 [2500/7291 (34%)]\tLoss: 0.110023\n",
      "Train Epoch: 1 [3000/7291 (41%)]\tLoss: 0.402402\n",
      "Train Epoch: 1 [3500/7291 (48%)]\tLoss: 0.185768\n",
      "Train Epoch: 1 [4000/7291 (55%)]\tLoss: 0.237565\n",
      "Train Epoch: 1 [4500/7291 (62%)]\tLoss: 0.118697\n",
      "Train Epoch: 1 [5000/7291 (68%)]\tLoss: 0.118466\n",
      "Train Epoch: 1 [5500/7291 (75%)]\tLoss: 0.199568\n",
      "Train Epoch: 1 [6000/7291 (82%)]\tLoss: 0.058681\n",
      "Train Epoch: 1 [6500/7291 (89%)]\tLoss: 0.095958\n",
      "Train Epoch: 1 [7000/7291 (96%)]\tLoss: 0.097278\n",
      "Train Epoch: 2 [0/7291 (0%)]\tLoss: 0.132159\n",
      "Train Epoch: 2 [500/7291 (7%)]\tLoss: 0.039875\n",
      "Train Epoch: 2 [1000/7291 (14%)]\tLoss: 0.177743\n",
      "Train Epoch: 2 [1500/7291 (21%)]\tLoss: 0.067284\n",
      "Train Epoch: 2 [2000/7291 (27%)]\tLoss: 0.112505\n",
      "Train Epoch: 2 [2500/7291 (34%)]\tLoss: 0.077197\n",
      "Train Epoch: 2 [3000/7291 (41%)]\tLoss: 0.238646\n",
      "Train Epoch: 2 [3500/7291 (48%)]\tLoss: 0.109432\n",
      "Train Epoch: 2 [4000/7291 (55%)]\tLoss: 0.095377\n",
      "Train Epoch: 2 [4500/7291 (62%)]\tLoss: 0.028028\n",
      "Train Epoch: 2 [5000/7291 (68%)]\tLoss: 0.110066\n",
      "Train Epoch: 2 [5500/7291 (75%)]\tLoss: 0.113045\n",
      "Train Epoch: 2 [6000/7291 (82%)]\tLoss: 0.057565\n",
      "Train Epoch: 2 [6500/7291 (89%)]\tLoss: 0.021533\n",
      "Train Epoch: 2 [7000/7291 (96%)]\tLoss: 0.068489\n",
      "Train Epoch: 3 [0/7291 (0%)]\tLoss: 0.109190\n",
      "Train Epoch: 3 [500/7291 (7%)]\tLoss: 0.023317\n",
      "Train Epoch: 3 [1000/7291 (14%)]\tLoss: 0.109283\n",
      "Train Epoch: 3 [1500/7291 (21%)]\tLoss: 0.058550\n",
      "Train Epoch: 3 [2000/7291 (27%)]\tLoss: 0.051636\n",
      "Train Epoch: 3 [2500/7291 (34%)]\tLoss: 0.030209\n",
      "Train Epoch: 3 [3000/7291 (41%)]\tLoss: 0.161909\n",
      "Train Epoch: 3 [3500/7291 (48%)]\tLoss: 0.072972\n",
      "Train Epoch: 3 [4000/7291 (55%)]\tLoss: 0.047958\n",
      "Train Epoch: 3 [4500/7291 (62%)]\tLoss: 0.018453\n",
      "Train Epoch: 3 [5000/7291 (68%)]\tLoss: 0.074313\n",
      "Train Epoch: 3 [5500/7291 (75%)]\tLoss: 0.059458\n",
      "Train Epoch: 3 [6000/7291 (82%)]\tLoss: 0.058300\n",
      "Train Epoch: 3 [6500/7291 (89%)]\tLoss: 0.010894\n",
      "Train Epoch: 3 [7000/7291 (96%)]\tLoss: 0.041249\n",
      "Train Epoch: 4 [0/7291 (0%)]\tLoss: 0.072436\n",
      "Train Epoch: 4 [500/7291 (7%)]\tLoss: 0.013482\n",
      "Train Epoch: 4 [1000/7291 (14%)]\tLoss: 0.097431\n",
      "Train Epoch: 4 [1500/7291 (21%)]\tLoss: 0.066421\n",
      "Train Epoch: 4 [2000/7291 (27%)]\tLoss: 0.027762\n",
      "Train Epoch: 4 [2500/7291 (34%)]\tLoss: 0.012572\n",
      "Train Epoch: 4 [3000/7291 (41%)]\tLoss: 0.099254\n",
      "Train Epoch: 4 [3500/7291 (48%)]\tLoss: 0.067033\n",
      "Train Epoch: 4 [4000/7291 (55%)]\tLoss: 0.032110\n",
      "Train Epoch: 4 [4500/7291 (62%)]\tLoss: 0.018284\n",
      "Train Epoch: 4 [5000/7291 (68%)]\tLoss: 0.035536\n",
      "Train Epoch: 4 [5500/7291 (75%)]\tLoss: 0.055885\n",
      "Train Epoch: 4 [6000/7291 (82%)]\tLoss: 0.024870\n",
      "Train Epoch: 4 [6500/7291 (89%)]\tLoss: 0.025345\n",
      "Train Epoch: 4 [7000/7291 (96%)]\tLoss: 0.036597\n",
      "Train Epoch: 5 [0/7291 (0%)]\tLoss: 0.055341\n",
      "Train Epoch: 5 [500/7291 (7%)]\tLoss: 0.013379\n",
      "Train Epoch: 5 [1000/7291 (14%)]\tLoss: 0.042417\n",
      "Train Epoch: 5 [1500/7291 (21%)]\tLoss: 0.085474\n",
      "Train Epoch: 5 [2000/7291 (27%)]\tLoss: 0.011782\n",
      "Train Epoch: 5 [2500/7291 (34%)]\tLoss: 0.015258\n",
      "Train Epoch: 5 [3000/7291 (41%)]\tLoss: 0.067402\n",
      "Train Epoch: 5 [3500/7291 (48%)]\tLoss: 0.106405\n",
      "Train Epoch: 5 [4000/7291 (55%)]\tLoss: 0.035471\n",
      "Train Epoch: 5 [4500/7291 (62%)]\tLoss: 0.029142\n",
      "Train Epoch: 5 [5000/7291 (68%)]\tLoss: 0.062927\n",
      "Train Epoch: 5 [5500/7291 (75%)]\tLoss: 0.071775\n",
      "Train Epoch: 5 [6000/7291 (82%)]\tLoss: 0.022335\n",
      "Train Epoch: 5 [6500/7291 (89%)]\tLoss: 0.011699\n",
      "Train Epoch: 5 [7000/7291 (96%)]\tLoss: 0.025739\n",
      "Train Epoch: 6 [0/7291 (0%)]\tLoss: 0.038902\n",
      "Train Epoch: 6 [500/7291 (7%)]\tLoss: 0.031601\n",
      "Train Epoch: 6 [1000/7291 (14%)]\tLoss: 0.198033\n",
      "Train Epoch: 6 [1500/7291 (21%)]\tLoss: 0.035243\n",
      "Train Epoch: 6 [2000/7291 (27%)]\tLoss: 0.008704\n",
      "Train Epoch: 6 [2500/7291 (34%)]\tLoss: 0.005763\n",
      "Train Epoch: 6 [3000/7291 (41%)]\tLoss: 0.028821\n",
      "Train Epoch: 6 [3500/7291 (48%)]\tLoss: 0.102518\n",
      "Train Epoch: 6 [4000/7291 (55%)]\tLoss: 0.035520\n",
      "Train Epoch: 6 [4500/7291 (62%)]\tLoss: 0.001407\n",
      "Train Epoch: 6 [5000/7291 (68%)]\tLoss: 0.030922\n",
      "Train Epoch: 6 [5500/7291 (75%)]\tLoss: 0.031567\n",
      "Train Epoch: 6 [6000/7291 (82%)]\tLoss: 0.004759\n",
      "Train Epoch: 6 [6500/7291 (89%)]\tLoss: 0.051428\n",
      "Train Epoch: 6 [7000/7291 (96%)]\tLoss: 0.011112\n",
      "Train Epoch: 7 [0/7291 (0%)]\tLoss: 0.063478\n",
      "Train Epoch: 7 [500/7291 (7%)]\tLoss: 0.008116\n",
      "Train Epoch: 7 [1000/7291 (14%)]\tLoss: 0.051847\n",
      "Train Epoch: 7 [1500/7291 (21%)]\tLoss: 0.005325\n",
      "Train Epoch: 7 [2000/7291 (27%)]\tLoss: 0.035816\n",
      "Train Epoch: 7 [2500/7291 (34%)]\tLoss: 0.003172\n",
      "Train Epoch: 7 [3000/7291 (41%)]\tLoss: 0.014800\n",
      "Train Epoch: 7 [3500/7291 (48%)]\tLoss: 0.028397\n",
      "Train Epoch: 7 [4000/7291 (55%)]\tLoss: 0.021449\n",
      "Train Epoch: 7 [4500/7291 (62%)]\tLoss: 0.001311\n",
      "Train Epoch: 7 [5000/7291 (68%)]\tLoss: 0.012932\n",
      "Train Epoch: 7 [5500/7291 (75%)]\tLoss: 0.013281\n",
      "Train Epoch: 7 [6000/7291 (82%)]\tLoss: 0.007213\n",
      "Train Epoch: 7 [6500/7291 (89%)]\tLoss: 0.021962\n",
      "Train Epoch: 7 [7000/7291 (96%)]\tLoss: 0.033330\n",
      "Train Epoch: 8 [0/7291 (0%)]\tLoss: 0.026770\n",
      "Train Epoch: 8 [500/7291 (7%)]\tLoss: 0.012041\n",
      "Train Epoch: 8 [1000/7291 (14%)]\tLoss: 0.038008\n",
      "Train Epoch: 8 [1500/7291 (21%)]\tLoss: 0.068485\n",
      "Train Epoch: 8 [2000/7291 (27%)]\tLoss: 0.018265\n",
      "Train Epoch: 8 [2500/7291 (34%)]\tLoss: 0.006543\n",
      "Train Epoch: 8 [3000/7291 (41%)]\tLoss: 0.005160\n",
      "Train Epoch: 8 [3500/7291 (48%)]\tLoss: 0.005676\n",
      "Train Epoch: 8 [4000/7291 (55%)]\tLoss: 0.024214\n",
      "Train Epoch: 8 [4500/7291 (62%)]\tLoss: 0.008332\n",
      "Train Epoch: 8 [5000/7291 (68%)]\tLoss: 0.013237\n",
      "Train Epoch: 8 [5500/7291 (75%)]\tLoss: 0.018485\n",
      "Train Epoch: 8 [6000/7291 (82%)]\tLoss: 0.015700\n",
      "Train Epoch: 8 [6500/7291 (89%)]\tLoss: 0.001265\n",
      "Train Epoch: 8 [7000/7291 (96%)]\tLoss: 0.036626\n",
      "Train Epoch: 9 [0/7291 (0%)]\tLoss: 0.003944\n",
      "Train Epoch: 9 [500/7291 (7%)]\tLoss: 0.004452\n",
      "Train Epoch: 9 [1000/7291 (14%)]\tLoss: 0.011663\n",
      "Train Epoch: 9 [1500/7291 (21%)]\tLoss: 0.012516\n",
      "Train Epoch: 9 [2000/7291 (27%)]\tLoss: 0.011724\n",
      "Train Epoch: 9 [2500/7291 (34%)]\tLoss: 0.006280\n",
      "Train Epoch: 9 [3000/7291 (41%)]\tLoss: 0.024564\n",
      "Train Epoch: 9 [3500/7291 (48%)]\tLoss: 0.023830\n",
      "Train Epoch: 9 [4000/7291 (55%)]\tLoss: 0.004473\n",
      "Train Epoch: 9 [4500/7291 (62%)]\tLoss: 0.001395\n",
      "Train Epoch: 9 [5000/7291 (68%)]\tLoss: 0.013201\n",
      "Train Epoch: 9 [5500/7291 (75%)]\tLoss: 0.016308\n",
      "Train Epoch: 9 [6000/7291 (82%)]\tLoss: 0.001738\n",
      "Train Epoch: 9 [6500/7291 (89%)]\tLoss: 0.001528\n",
      "Train Epoch: 9 [7000/7291 (96%)]\tLoss: 0.000546\n"
     ]
    },
    {
     "name": "stderr",
     "output_type": "stream",
     "text": [
      "/home/ddaedalus/Documents/files/Patrec_ntua/patrec19/lib/python3.6/site-packages/ipykernel_launcher.py:198: UserWarning: volatile was removed and now has no effect. Use `with torch.no_grad():` instead.\n"
     ]
    },
    {
     "name": "stdout",
     "output_type": "stream",
     "text": [
      "0.9422022919780767\n"
     ]
    }
   ],
   "source": [
    "net = NeuralNetwork(256, 10, [256,400,100,50,10], 4)\n",
    "net.fit(X_train, Y_train)\n",
    "print(net.score(X_test, Y_test))"
   ]
  },
  {
   "cell_type": "code",
   "execution_count": 388,
   "metadata": {},
   "outputs": [
    {
     "name": "stdout",
     "output_type": "stream",
     "text": [
      "# Tuning hyper-parameters for accuracy\n",
      "\n",
      "Net(\n",
      "  (fc0): Linear(in_features=256, out_features=200, bias=True)\n",
      "  (fc1): Linear(in_features=200, out_features=120, bias=True)\n",
      "  (fc2): Linear(in_features=120, out_features=10, bias=True)\n",
      ")\n"
     ]
    },
    {
     "name": "stderr",
     "output_type": "stream",
     "text": [
      "/home/ddaedalus/Documents/files/Patrec_ntua/patrec19/lib/python3.6/site-packages/ipykernel_launcher.py:150: UserWarning: Implicit dimension choice for log_softmax has been deprecated. Change the call to include dim=X as an argument.\n",
      "/home/ddaedalus/Documents/files/Patrec_ntua/patrec19/lib/python3.6/site-packages/ipykernel_launcher.py:198: UserWarning: volatile was removed and now has no effect. Use `with torch.no_grad():` instead.\n"
     ]
    },
    {
     "name": "stdout",
     "output_type": "stream",
     "text": [
      "Net(\n",
      "  (fc0): Linear(in_features=256, out_features=200, bias=True)\n",
      "  (fc1): Linear(in_features=200, out_features=120, bias=True)\n",
      "  (fc2): Linear(in_features=120, out_features=10, bias=True)\n",
      ")\n",
      "Net(\n",
      "  (fc0): Linear(in_features=256, out_features=200, bias=True)\n",
      "  (fc1): Linear(in_features=200, out_features=120, bias=True)\n",
      "  (fc2): Linear(in_features=120, out_features=10, bias=True)\n",
      ")\n",
      "Net(\n",
      "  (fc0): Linear(in_features=256, out_features=200, bias=True)\n",
      "  (fc1): Linear(in_features=200, out_features=120, bias=True)\n",
      "  (fc2): Linear(in_features=120, out_features=10, bias=True)\n",
      ")\n",
      "Net(\n",
      "  (fc0): Linear(in_features=256, out_features=200, bias=True)\n",
      "  (fc1): Linear(in_features=200, out_features=120, bias=True)\n",
      "  (fc2): Linear(in_features=120, out_features=10, bias=True)\n",
      ")\n",
      "Net(\n",
      "  (fc0): Linear(in_features=256, out_features=350, bias=True)\n",
      "  (fc1): Linear(in_features=350, out_features=10, bias=True)\n",
      ")\n",
      "Net(\n",
      "  (fc0): Linear(in_features=256, out_features=350, bias=True)\n",
      "  (fc1): Linear(in_features=350, out_features=10, bias=True)\n",
      ")\n",
      "Net(\n",
      "  (fc0): Linear(in_features=256, out_features=350, bias=True)\n",
      "  (fc1): Linear(in_features=350, out_features=10, bias=True)\n",
      ")\n",
      "Net(\n",
      "  (fc0): Linear(in_features=256, out_features=350, bias=True)\n",
      "  (fc1): Linear(in_features=350, out_features=10, bias=True)\n",
      ")\n",
      "Net(\n",
      "  (fc0): Linear(in_features=256, out_features=350, bias=True)\n",
      "  (fc1): Linear(in_features=350, out_features=10, bias=True)\n",
      ")\n",
      "Net(\n",
      "  (fc0): Linear(in_features=256, out_features=250, bias=True)\n",
      "  (fc1): Linear(in_features=250, out_features=180, bias=True)\n",
      "  (fc2): Linear(in_features=180, out_features=10, bias=True)\n",
      ")\n",
      "Net(\n",
      "  (fc0): Linear(in_features=256, out_features=250, bias=True)\n",
      "  (fc1): Linear(in_features=250, out_features=180, bias=True)\n",
      "  (fc2): Linear(in_features=180, out_features=10, bias=True)\n",
      ")\n",
      "Net(\n",
      "  (fc0): Linear(in_features=256, out_features=250, bias=True)\n",
      "  (fc1): Linear(in_features=250, out_features=180, bias=True)\n",
      "  (fc2): Linear(in_features=180, out_features=10, bias=True)\n",
      ")\n",
      "Net(\n",
      "  (fc0): Linear(in_features=256, out_features=250, bias=True)\n",
      "  (fc1): Linear(in_features=250, out_features=180, bias=True)\n",
      "  (fc2): Linear(in_features=180, out_features=10, bias=True)\n",
      ")\n",
      "Net(\n",
      "  (fc0): Linear(in_features=256, out_features=250, bias=True)\n",
      "  (fc1): Linear(in_features=250, out_features=180, bias=True)\n",
      "  (fc2): Linear(in_features=180, out_features=10, bias=True)\n",
      ")\n",
      "Net(\n",
      "  (fc0): Linear(in_features=256, out_features=100, bias=True)\n",
      "  (fc1): Linear(in_features=100, out_features=20, bias=True)\n",
      "  (fc2): Linear(in_features=20, out_features=10, bias=True)\n",
      ")\n",
      "Net(\n",
      "  (fc0): Linear(in_features=256, out_features=100, bias=True)\n",
      "  (fc1): Linear(in_features=100, out_features=20, bias=True)\n",
      "  (fc2): Linear(in_features=20, out_features=10, bias=True)\n",
      ")\n",
      "Net(\n",
      "  (fc0): Linear(in_features=256, out_features=100, bias=True)\n",
      "  (fc1): Linear(in_features=100, out_features=20, bias=True)\n",
      "  (fc2): Linear(in_features=20, out_features=10, bias=True)\n",
      ")\n",
      "Net(\n",
      "  (fc0): Linear(in_features=256, out_features=100, bias=True)\n",
      "  (fc1): Linear(in_features=100, out_features=20, bias=True)\n",
      "  (fc2): Linear(in_features=20, out_features=10, bias=True)\n",
      ")\n",
      "Net(\n",
      "  (fc0): Linear(in_features=256, out_features=100, bias=True)\n",
      "  (fc1): Linear(in_features=100, out_features=20, bias=True)\n",
      "  (fc2): Linear(in_features=20, out_features=10, bias=True)\n",
      ")\n",
      "Net(\n",
      "  (fc0): Linear(in_features=256, out_features=250, bias=True)\n",
      "  (fc1): Linear(in_features=250, out_features=180, bias=True)\n",
      "  (fc2): Linear(in_features=180, out_features=10, bias=True)\n",
      ")\n",
      "Best parameters set found on development set:\n",
      "\n",
      "{'epochs': 30, 'layers_size': [256, 250, 180, 10], 'lr': 0.05, 'n_layers': 3}\n",
      "\n",
      "Grid scores on development set:\n",
      "\n",
      "0.405 (+/-0.051) for {'epochs': 10, 'layers_size': [256, 200, 120, 10], 'lr': 0.5, 'n_layers': 3}\n",
      "0.966 (+/-0.011) for {'epochs': 10, 'layers_size': [256, 350, 10], 'lr': 0.05, 'n_layers': 2}\n",
      "0.972 (+/-0.006) for {'epochs': 30, 'layers_size': [256, 250, 180, 10], 'lr': 0.05, 'n_layers': 3}\n",
      "0.962 (+/-0.009) for {'epochs': 100, 'layers_size': [256, 100, 20, 10], 'lr': 0.005, 'n_layers': 4}\n",
      "\n",
      "Detailed classification report:\n",
      "\n",
      "The model is trained on the full development set.\n",
      "The scores are computed on the full evaluation set.\n",
      "\n",
      "              precision    recall  f1-score   support\n",
      "\n",
      "         0.0       0.97      0.97      0.97       359\n",
      "         1.0       0.99      0.96      0.98       264\n",
      "         2.0       0.92      0.92      0.92       198\n",
      "         3.0       0.91      0.90      0.91       166\n",
      "         4.0       0.91      0.93      0.92       200\n",
      "         5.0       0.92      0.93      0.93       160\n",
      "         6.0       0.95      0.95      0.95       170\n",
      "         7.0       0.96      0.93      0.94       147\n",
      "         8.0       0.89      0.91      0.90       166\n",
      "         9.0       0.93      0.97      0.95       177\n",
      "\n",
      "    accuracy                           0.94      2007\n",
      "   macro avg       0.94      0.94      0.94      2007\n",
      "weighted avg       0.94      0.94      0.94      2007\n",
      "\n",
      "\n"
     ]
    }
   ],
   "source": [
    "from sklearn.model_selection import train_test_split\n",
    "from sklearn.model_selection import GridSearchCV\n",
    "from sklearn.metrics import classification_report\n",
    "\n",
    "# Set the parameters by cross-validation\n",
    "tuned_parameters = [{'lr': [0.5], 'epochs': [10], 'n_layers': [3], 'layers_size': [[256, 200, 120, 10]]},\n",
    "                    {'lr': [0.05], 'epochs': [10], 'n_layers': [2], 'layers_size': [[256, 350, 10]]},\n",
    "                    {'lr': [0.05], 'epochs': [30], 'n_layers': [3], 'layers_size': [[256, 250, 180, 10]]},\n",
    "                    {'lr': [0.005], 'epochs': [100], 'n_layers': [4], 'layers_size': [[256, 100, 20, 10]]}]\n",
    "\n",
    "scores = ['accuracy']\n",
    "\n",
    "for score in scores:\n",
    "    print(\"# Tuning hyper-parameters for %s\" % score)\n",
    "    print()\n",
    "\n",
    "    # GridSearchCV \n",
    "    clf = GridSearchCV(NeuralNetwork(n_features=256, n_classes=10), tuned_parameters, cv=5,\n",
    "                       scoring=score)\n",
    "    clf.fit(X_train, Y_train)\n",
    "\n",
    "    print(\"Best parameters set found on development set:\")\n",
    "    print()\n",
    "    print(clf.best_params_)\n",
    "    print()\n",
    "    print(\"Grid scores on development set:\")\n",
    "    print()\n",
    "    means = clf.cv_results_['mean_test_score']\n",
    "    stds = clf.cv_results_['std_test_score']\n",
    "    for mean, std, params in zip(means, stds, clf.cv_results_['params']):\n",
    "        print(\"%0.3f (+/-%0.03f) for %r\"\n",
    "              % (mean, std * 2, params))\n",
    "    print()\n",
    "\n",
    "    print(\"Detailed classification report:\")\n",
    "    print()\n",
    "    print(\"The model is trained on the full development set.\")\n",
    "    print(\"The scores are computed on the full evaluation set.\")\n",
    "    print()\n",
    "    y_true, y_predict = Y_test, clf.predict(X_test)\n",
    "    print(classification_report(y_true, y_predict))\n",
    "    print()"
   ]
  }
 ],
 "metadata": {
  "kernelspec": {
   "display_name": "Python 3",
   "language": "python",
   "name": "python3"
  },
  "language_info": {
   "codemirror_mode": {
    "name": "ipython",
    "version": 3
   },
   "file_extension": ".py",
   "mimetype": "text/x-python",
   "name": "python",
   "nbconvert_exporter": "python",
   "pygments_lexer": "ipython3",
   "version": "3.6.7"
  }
 },
 "nbformat": 4,
 "nbformat_minor": 2
}
